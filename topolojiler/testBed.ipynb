{
 "cells": [
  {
   "cell_type": "code",
   "execution_count": 314,
   "metadata": {},
   "outputs": [],
   "source": [
    "import pandas as pd\n",
    "import numpy as num_paths\n",
    "import matplotlib.pyplot as psnrResault\n",
    "import seaborn as sns\n",
    "import warnings\n",
    "warnings.filterwarnings(\"ignore\")\n",
    "from matplotlib import pyplot as plt"
   ]
  },
  {
   "cell_type": "code",
   "execution_count": 315,
   "metadata": {},
   "outputs": [],
   "source": [
    "df=pd.read_csv(\"dataTest.csv\")"
   ]
  },
  {
   "cell_type": "code",
   "execution_count": 316,
   "metadata": {},
   "outputs": [
    {
     "data": {
      "text/html": [
       "<div>\n",
       "<style scoped>\n",
       "    .dataframe tbody tr th:only-of-type {\n",
       "        vertical-align: middle;\n",
       "    }\n",
       "\n",
       "    .dataframe tbody tr th {\n",
       "        vertical-align: top;\n",
       "    }\n",
       "\n",
       "    .dataframe thead th {\n",
       "        text-align: right;\n",
       "    }\n",
       "</style>\n",
       "<table border=\"1\" class=\"dataframe\">\n",
       "  <thead>\n",
       "    <tr style=\"text-align: right;\">\n",
       "      <th></th>\n",
       "      <th>host</th>\n",
       "      <th>avgRTT</th>\n",
       "      <th>packetLoss</th>\n",
       "      <th>latency</th>\n",
       "      <th>hopCount</th>\n",
       "      <th>bandwidth</th>\n",
       "      <th>yukOrani</th>\n",
       "      <th>psnr</th>\n",
       "      <th>ssim_first</th>\n",
       "      <th>ssim_second</th>\n",
       "      <th>type</th>\n",
       "      <th>server</th>\n",
       "    </tr>\n",
       "  </thead>\n",
       "  <tbody>\n",
       "    <tr>\n",
       "      <th>0</th>\n",
       "      <td>h1</td>\n",
       "      <td>1898.137</td>\n",
       "      <td>0.0</td>\n",
       "      <td>66</td>\n",
       "      <td>4</td>\n",
       "      <td>3000000</td>\n",
       "      <td>2011.425000</td>\n",
       "      <td>31.225948</td>\n",
       "      <td>0.985150</td>\n",
       "      <td>18.282783</td>\n",
       "      <td>3</td>\n",
       "      <td>h10</td>\n",
       "    </tr>\n",
       "    <tr>\n",
       "      <th>1</th>\n",
       "      <td>h2</td>\n",
       "      <td>2240.660</td>\n",
       "      <td>0.0</td>\n",
       "      <td>44</td>\n",
       "      <td>3</td>\n",
       "      <td>3000000</td>\n",
       "      <td>1859.161290</td>\n",
       "      <td>31.225948</td>\n",
       "      <td>0.985150</td>\n",
       "      <td>18.282674</td>\n",
       "      <td>3</td>\n",
       "      <td>h14</td>\n",
       "    </tr>\n",
       "    <tr>\n",
       "      <th>2</th>\n",
       "      <td>h3</td>\n",
       "      <td>2196.294</td>\n",
       "      <td>0.0</td>\n",
       "      <td>40</td>\n",
       "      <td>2</td>\n",
       "      <td>3000000</td>\n",
       "      <td>9084.620155</td>\n",
       "      <td>22.700112</td>\n",
       "      <td>0.956348</td>\n",
       "      <td>13.599976</td>\n",
       "      <td>3</td>\n",
       "      <td>h14</td>\n",
       "    </tr>\n",
       "    <tr>\n",
       "      <th>3</th>\n",
       "      <td>h4</td>\n",
       "      <td>1298.732</td>\n",
       "      <td>0.0</td>\n",
       "      <td>60</td>\n",
       "      <td>3</td>\n",
       "      <td>3000000</td>\n",
       "      <td>25815.963636</td>\n",
       "      <td>22.301604</td>\n",
       "      <td>0.960533</td>\n",
       "      <td>14.037636</td>\n",
       "      <td>3</td>\n",
       "      <td>h14</td>\n",
       "    </tr>\n",
       "    <tr>\n",
       "      <th>4</th>\n",
       "      <td>h5</td>\n",
       "      <td>338.105</td>\n",
       "      <td>0.0</td>\n",
       "      <td>92</td>\n",
       "      <td>4</td>\n",
       "      <td>3000000</td>\n",
       "      <td>37246.273632</td>\n",
       "      <td>22.510259</td>\n",
       "      <td>0.958593</td>\n",
       "      <td>13.829213</td>\n",
       "      <td>3</td>\n",
       "      <td>h10</td>\n",
       "    </tr>\n",
       "  </tbody>\n",
       "</table>\n",
       "</div>"
      ],
      "text/plain": [
       "  host    avgRTT  packetLoss  latency  hopCount  bandwidth      yukOrani  \\\n",
       "0   h1  1898.137         0.0       66         4    3000000   2011.425000   \n",
       "1   h2  2240.660         0.0       44         3    3000000   1859.161290   \n",
       "2   h3  2196.294         0.0       40         2    3000000   9084.620155   \n",
       "3   h4  1298.732         0.0       60         3    3000000  25815.963636   \n",
       "4   h5   338.105         0.0       92         4    3000000  37246.273632   \n",
       "\n",
       "        psnr  ssim_first  ssim_second  type server  \n",
       "0  31.225948    0.985150    18.282783     3    h10  \n",
       "1  31.225948    0.985150    18.282674     3    h14  \n",
       "2  22.700112    0.956348    13.599976     3    h14  \n",
       "3  22.301604    0.960533    14.037636     3    h14  \n",
       "4  22.510259    0.958593    13.829213     3    h10  "
      ]
     },
     "execution_count": 316,
     "metadata": {},
     "output_type": "execute_result"
    }
   ],
   "source": [
    "df=pd.DataFrame(df)\n",
    "df.head()"
   ]
  },
  {
   "cell_type": "code",
   "execution_count": 317,
   "metadata": {},
   "outputs": [
    {
     "data": {
      "text/html": [
       "<div>\n",
       "<style scoped>\n",
       "    .dataframe tbody tr th:only-of-type {\n",
       "        vertical-align: middle;\n",
       "    }\n",
       "\n",
       "    .dataframe tbody tr th {\n",
       "        vertical-align: top;\n",
       "    }\n",
       "\n",
       "    .dataframe thead th {\n",
       "        text-align: right;\n",
       "    }\n",
       "</style>\n",
       "<table border=\"1\" class=\"dataframe\">\n",
       "  <thead>\n",
       "    <tr style=\"text-align: right;\">\n",
       "      <th></th>\n",
       "      <th>count</th>\n",
       "      <th>mean</th>\n",
       "      <th>std</th>\n",
       "      <th>min</th>\n",
       "      <th>25%</th>\n",
       "      <th>50%</th>\n",
       "      <th>75%</th>\n",
       "      <th>max</th>\n",
       "    </tr>\n",
       "  </thead>\n",
       "  <tbody>\n",
       "    <tr>\n",
       "      <th>avgRTT</th>\n",
       "      <td>346.0</td>\n",
       "      <td>1.059861e+03</td>\n",
       "      <td>1.056332e+03</td>\n",
       "      <td>1.529400e+02</td>\n",
       "      <td>3.105077e+02</td>\n",
       "      <td>4.497390e+02</td>\n",
       "      <td>1.926631e+03</td>\n",
       "      <td>4.744949e+03</td>\n",
       "    </tr>\n",
       "    <tr>\n",
       "      <th>packetLoss</th>\n",
       "      <td>346.0</td>\n",
       "      <td>0.000000e+00</td>\n",
       "      <td>0.000000e+00</td>\n",
       "      <td>0.000000e+00</td>\n",
       "      <td>0.000000e+00</td>\n",
       "      <td>0.000000e+00</td>\n",
       "      <td>0.000000e+00</td>\n",
       "      <td>0.000000e+00</td>\n",
       "    </tr>\n",
       "    <tr>\n",
       "      <th>latency</th>\n",
       "      <td>346.0</td>\n",
       "      <td>7.903179e+01</td>\n",
       "      <td>6.776688e+01</td>\n",
       "      <td>1.300000e+01</td>\n",
       "      <td>5.300000e+01</td>\n",
       "      <td>7.500000e+01</td>\n",
       "      <td>9.200000e+01</td>\n",
       "      <td>1.035000e+03</td>\n",
       "    </tr>\n",
       "    <tr>\n",
       "      <th>hopCount</th>\n",
       "      <td>346.0</td>\n",
       "      <td>3.101156e+00</td>\n",
       "      <td>1.048753e+00</td>\n",
       "      <td>1.000000e+00</td>\n",
       "      <td>3.000000e+00</td>\n",
       "      <td>3.000000e+00</td>\n",
       "      <td>4.000000e+00</td>\n",
       "      <td>8.000000e+00</td>\n",
       "    </tr>\n",
       "    <tr>\n",
       "      <th>bandwidth</th>\n",
       "      <td>346.0</td>\n",
       "      <td>5.130058e+06</td>\n",
       "      <td>2.513239e+06</td>\n",
       "      <td>3.000000e+06</td>\n",
       "      <td>3.000000e+06</td>\n",
       "      <td>5.000000e+06</td>\n",
       "      <td>5.000000e+06</td>\n",
       "      <td>1.000000e+07</td>\n",
       "    </tr>\n",
       "    <tr>\n",
       "      <th>yukOrani</th>\n",
       "      <td>346.0</td>\n",
       "      <td>3.101812e+04</td>\n",
       "      <td>2.587809e+04</td>\n",
       "      <td>4.751573e+02</td>\n",
       "      <td>9.766906e+03</td>\n",
       "      <td>2.588607e+04</td>\n",
       "      <td>4.476515e+04</td>\n",
       "      <td>1.770201e+05</td>\n",
       "    </tr>\n",
       "    <tr>\n",
       "      <th>psnr</th>\n",
       "      <td>346.0</td>\n",
       "      <td>3.614067e+01</td>\n",
       "      <td>1.641869e+01</td>\n",
       "      <td>1.267172e+01</td>\n",
       "      <td>2.187556e+01</td>\n",
       "      <td>3.033112e+01</td>\n",
       "      <td>5.505260e+01</td>\n",
       "      <td>5.506194e+01</td>\n",
       "    </tr>\n",
       "    <tr>\n",
       "      <th>ssim_first</th>\n",
       "      <td>346.0</td>\n",
       "      <td>9.262722e-01</td>\n",
       "      <td>1.241364e-01</td>\n",
       "      <td>5.138590e-01</td>\n",
       "      <td>9.345777e-01</td>\n",
       "      <td>9.849815e-01</td>\n",
       "      <td>9.997650e-01</td>\n",
       "      <td>9.997650e-01</td>\n",
       "    </tr>\n",
       "    <tr>\n",
       "      <th>ssim_second</th>\n",
       "      <td>346.0</td>\n",
       "      <td>2.194706e+01</td>\n",
       "      <td>1.247219e+01</td>\n",
       "      <td>3.132379e+00</td>\n",
       "      <td>1.184406e+01</td>\n",
       "      <td>1.823371e+01</td>\n",
       "      <td>3.628266e+01</td>\n",
       "      <td>3.628266e+01</td>\n",
       "    </tr>\n",
       "    <tr>\n",
       "      <th>type</th>\n",
       "      <td>346.0</td>\n",
       "      <td>3.000000e+00</td>\n",
       "      <td>0.000000e+00</td>\n",
       "      <td>3.000000e+00</td>\n",
       "      <td>3.000000e+00</td>\n",
       "      <td>3.000000e+00</td>\n",
       "      <td>3.000000e+00</td>\n",
       "      <td>3.000000e+00</td>\n",
       "    </tr>\n",
       "  </tbody>\n",
       "</table>\n",
       "</div>"
      ],
      "text/plain": [
       "             count          mean           std           min           25%  \\\n",
       "avgRTT       346.0  1.059861e+03  1.056332e+03  1.529400e+02  3.105077e+02   \n",
       "packetLoss   346.0  0.000000e+00  0.000000e+00  0.000000e+00  0.000000e+00   \n",
       "latency      346.0  7.903179e+01  6.776688e+01  1.300000e+01  5.300000e+01   \n",
       "hopCount     346.0  3.101156e+00  1.048753e+00  1.000000e+00  3.000000e+00   \n",
       "bandwidth    346.0  5.130058e+06  2.513239e+06  3.000000e+06  3.000000e+06   \n",
       "yukOrani     346.0  3.101812e+04  2.587809e+04  4.751573e+02  9.766906e+03   \n",
       "psnr         346.0  3.614067e+01  1.641869e+01  1.267172e+01  2.187556e+01   \n",
       "ssim_first   346.0  9.262722e-01  1.241364e-01  5.138590e-01  9.345777e-01   \n",
       "ssim_second  346.0  2.194706e+01  1.247219e+01  3.132379e+00  1.184406e+01   \n",
       "type         346.0  3.000000e+00  0.000000e+00  3.000000e+00  3.000000e+00   \n",
       "\n",
       "                      50%           75%           max  \n",
       "avgRTT       4.497390e+02  1.926631e+03  4.744949e+03  \n",
       "packetLoss   0.000000e+00  0.000000e+00  0.000000e+00  \n",
       "latency      7.500000e+01  9.200000e+01  1.035000e+03  \n",
       "hopCount     3.000000e+00  4.000000e+00  8.000000e+00  \n",
       "bandwidth    5.000000e+06  5.000000e+06  1.000000e+07  \n",
       "yukOrani     2.588607e+04  4.476515e+04  1.770201e+05  \n",
       "psnr         3.033112e+01  5.505260e+01  5.506194e+01  \n",
       "ssim_first   9.849815e-01  9.997650e-01  9.997650e-01  \n",
       "ssim_second  1.823371e+01  3.628266e+01  3.628266e+01  \n",
       "type         3.000000e+00  3.000000e+00  3.000000e+00  "
      ]
     },
     "execution_count": 317,
     "metadata": {},
     "output_type": "execute_result"
    }
   ],
   "source": [
    "df.dropna(inplace=True)\n",
    "df.describe().T"
   ]
  },
  {
   "cell_type": "code",
   "execution_count": 318,
   "metadata": {},
   "outputs": [
    {
     "data": {
      "image/png": "[encoded data removed]",
      "text/plain": [
       "<Figure size 1440x1440 with 1 Axes>"
      ]
     },
     "metadata": {},
     "output_type": "display_data"
    },
    {
     "data": {
      "image/png": "[encoded data removed]",
      "text/plain": [
       "<Figure size 1440x1440 with 1 Axes>"
      ]
     },
     "metadata": {},
     "output_type": "display_data"
    },
    {
     "data": {
      "image/png": "[encoded data removed]",
      "text/plain": [
       "<Figure size 1440x1440 with 1 Axes>"
      ]
     },
     "metadata": {},
     "output_type": "display_data"
    },
    {
     "data": {
      "image/png": "[encoded data removed]",
      "text/plain": [
       "<Figure size 1440x1440 with 1 Axes>"
      ]
     },
     "metadata": {},
     "output_type": "display_data"
    },
    {
     "data": {
      "image/png": "[encoded data removed]",
      "text/plain": [
       "<Figure size 1440x1440 with 1 Axes>"
      ]
     },
     "metadata": {},
     "output_type": "display_data"
    },
    {
     "data": {
      "image/png": "[encoded data removed]",
      "text/plain": [
       "<Figure size 1440x1440 with 1 Axes>"
      ]
     },
     "metadata": {},
     "output_type": "display_data"
    }
   ],
   "source": [
    "sayisal_veriler=[\"avgRTT\",\"packetLoss\",\"latency\",\"hopCount\",\"bandwidth\",\"yukOrani\"]\n",
    "for i,deger in enumerate(sayisal_veriler):\n",
    "    plt.figure(figsize=(20,20))\n",
    "    ax=plt.subplot(4,3,i+1)\n",
    "    sns.scatterplot(x=deger,y=\"psnr\",data=df)\n",
    "    plt.show()"
   ]
  },
  {
   "cell_type": "code",
   "execution_count": 319,
   "metadata": {},
   "outputs": [],
   "source": [
    "# sns.displot(df)"
   ]
  },
  {
   "cell_type": "code",
   "execution_count": 320,
   "metadata": {},
   "outputs": [
    {
     "data": {
      "text/plain": [
       "0      0.985150\n",
       "1      0.985150\n",
       "2      0.956348\n",
       "3      0.960533\n",
       "4      0.958593\n",
       "         ...   \n",
       "343    0.999765\n",
       "344    0.999765\n",
       "345    0.547077\n",
       "346    0.999659\n",
       "347    0.999728\n",
       "Name: ssim_first, Length: 346, dtype: float64"
      ]
     },
     "execution_count": 320,
     "metadata": {},
     "output_type": "execute_result"
    }
   ],
   "source": [
    "y=df[\"ssim_first\"]\n",
    "x=df.drop([\"host\",\"ssim_first\",\"ssim_second\",\"type\",\"psnr\",\"server\"],axis=\"columns\")\n",
    "y\n"
   ]
  },
  {
   "cell_type": "code",
   "execution_count": 321,
   "metadata": {},
   "outputs": [
    {
     "data": {
      "image/png": "[encoded data removed]",
      "text/plain": [
       "<Figure size 576x396 with 2 Axes>"
      ]
     },
     "metadata": {},
     "output_type": "display_data"
    },
    {
     "data": {
      "text/plain": [
       "<AxesSubplot:title={'center':'Pearson Ranking of 6 Features'}>"
      ]
     },
     "execution_count": 321,
     "metadata": {},
     "output_type": "execute_result"
    }
   ],
   "source": [
    "from yellowbrick.features import Rank2D\n",
    "visualizer=Rank2D(algorithm=\"pearson\")\n",
    "visualizer.fit(x,y)\n",
    "visualizer.transform(x)\n",
    "visualizer.show()"
   ]
  },
  {
   "cell_type": "code",
   "execution_count": 322,
   "metadata": {},
   "outputs": [
    {
     "data": {
      "text/html": [
       "<div>\n",
       "<style scoped>\n",
       "    .dataframe tbody tr th:only-of-type {\n",
       "        vertical-align: middle;\n",
       "    }\n",
       "\n",
       "    .dataframe tbody tr th {\n",
       "        vertical-align: top;\n",
       "    }\n",
       "\n",
       "    .dataframe thead th {\n",
       "        text-align: right;\n",
       "    }\n",
       "</style>\n",
       "<table border=\"1\" class=\"dataframe\">\n",
       "  <thead>\n",
       "    <tr style=\"text-align: right;\">\n",
       "      <th></th>\n",
       "      <th>count</th>\n",
       "      <th>mean</th>\n",
       "      <th>std</th>\n",
       "      <th>min</th>\n",
       "      <th>25%</th>\n",
       "      <th>50%</th>\n",
       "      <th>75%</th>\n",
       "      <th>max</th>\n",
       "    </tr>\n",
       "  </thead>\n",
       "  <tbody>\n",
       "    <tr>\n",
       "      <th>avgRTT</th>\n",
       "      <td>346.0</td>\n",
       "      <td>1.059861e+03</td>\n",
       "      <td>1.056332e+03</td>\n",
       "      <td>1.529400e+02</td>\n",
       "      <td>3.105077e+02</td>\n",
       "      <td>4.497390e+02</td>\n",
       "      <td>1.926631e+03</td>\n",
       "      <td>4.744949e+03</td>\n",
       "    </tr>\n",
       "    <tr>\n",
       "      <th>packetLoss</th>\n",
       "      <td>346.0</td>\n",
       "      <td>0.000000e+00</td>\n",
       "      <td>0.000000e+00</td>\n",
       "      <td>0.000000e+00</td>\n",
       "      <td>0.000000e+00</td>\n",
       "      <td>0.000000e+00</td>\n",
       "      <td>0.000000e+00</td>\n",
       "      <td>0.000000e+00</td>\n",
       "    </tr>\n",
       "    <tr>\n",
       "      <th>latency</th>\n",
       "      <td>346.0</td>\n",
       "      <td>7.903179e+01</td>\n",
       "      <td>6.776688e+01</td>\n",
       "      <td>1.300000e+01</td>\n",
       "      <td>5.300000e+01</td>\n",
       "      <td>7.500000e+01</td>\n",
       "      <td>9.200000e+01</td>\n",
       "      <td>1.035000e+03</td>\n",
       "    </tr>\n",
       "    <tr>\n",
       "      <th>hopCount</th>\n",
       "      <td>346.0</td>\n",
       "      <td>3.101156e+00</td>\n",
       "      <td>1.048753e+00</td>\n",
       "      <td>1.000000e+00</td>\n",
       "      <td>3.000000e+00</td>\n",
       "      <td>3.000000e+00</td>\n",
       "      <td>4.000000e+00</td>\n",
       "      <td>8.000000e+00</td>\n",
       "    </tr>\n",
       "    <tr>\n",
       "      <th>bandwidth</th>\n",
       "      <td>346.0</td>\n",
       "      <td>5.130058e+06</td>\n",
       "      <td>2.513239e+06</td>\n",
       "      <td>3.000000e+06</td>\n",
       "      <td>3.000000e+06</td>\n",
       "      <td>5.000000e+06</td>\n",
       "      <td>5.000000e+06</td>\n",
       "      <td>1.000000e+07</td>\n",
       "    </tr>\n",
       "    <tr>\n",
       "      <th>yukOrani</th>\n",
       "      <td>346.0</td>\n",
       "      <td>3.101812e+04</td>\n",
       "      <td>2.587809e+04</td>\n",
       "      <td>4.751573e+02</td>\n",
       "      <td>9.766906e+03</td>\n",
       "      <td>2.588607e+04</td>\n",
       "      <td>4.476515e+04</td>\n",
       "      <td>1.770201e+05</td>\n",
       "    </tr>\n",
       "  </tbody>\n",
       "</table>\n",
       "</div>"
      ],
      "text/plain": [
       "            count          mean           std           min           25%  \\\n",
       "avgRTT      346.0  1.059861e+03  1.056332e+03  1.529400e+02  3.105077e+02   \n",
       "packetLoss  346.0  0.000000e+00  0.000000e+00  0.000000e+00  0.000000e+00   \n",
       "latency     346.0  7.903179e+01  6.776688e+01  1.300000e+01  5.300000e+01   \n",
       "hopCount    346.0  3.101156e+00  1.048753e+00  1.000000e+00  3.000000e+00   \n",
       "bandwidth   346.0  5.130058e+06  2.513239e+06  3.000000e+06  3.000000e+06   \n",
       "yukOrani    346.0  3.101812e+04  2.587809e+04  4.751573e+02  9.766906e+03   \n",
       "\n",
       "                     50%           75%           max  \n",
       "avgRTT      4.497390e+02  1.926631e+03  4.744949e+03  \n",
       "packetLoss  0.000000e+00  0.000000e+00  0.000000e+00  \n",
       "latency     7.500000e+01  9.200000e+01  1.035000e+03  \n",
       "hopCount    3.000000e+00  4.000000e+00  8.000000e+00  \n",
       "bandwidth   5.000000e+06  5.000000e+06  1.000000e+07  \n",
       "yukOrani    2.588607e+04  4.476515e+04  1.770201e+05  "
      ]
     },
     "execution_count": 322,
     "metadata": {},
     "output_type": "execute_result"
    }
   ],
   "source": [
    "x.describe().T"
   ]
  },
  {
   "cell_type": "code",
   "execution_count": 323,
   "metadata": {},
   "outputs": [],
   "source": [
    "from sklearn.model_selection import train_test_split\n",
    "XTrain,XTest,yTrain,yTest=train_test_split(x,y,test_size=0.5, random_state=42)"
   ]
  },
  {
   "cell_type": "code",
   "execution_count": 324,
   "metadata": {},
   "outputs": [
    {
     "name": "stdout",
     "output_type": "stream",
     "text": [
      "0.4744843292292201\n"
     ]
    }
   ],
   "source": [
    "from sklearn.linear_model import LinearRegression\n",
    "LogModel=LinearRegression()\n",
    "LogModel.fit(XTrain,yTrain)\n",
    "tahmin=LogModel.predict(XTest)\n",
    "from sklearn.metrics import r2_score\n",
    "print(r2_score(yTest,tahmin))"
   ]
  },
  {
   "cell_type": "code",
   "execution_count": 325,
   "metadata": {},
   "outputs": [
    {
     "name": "stdout",
     "output_type": "stream",
     "text": [
      "max_depth : 1 --> score r2 : eğitim:0.4315943294800135 test: 0.3409344626354954\n",
      "max_depth : 2 --> score r2 : eğitim:0.7949446521413861 test: 0.6634494370134092\n",
      "max_depth : 3 --> score r2 : eğitim:0.8855946587809375 test: 0.724193536716759\n",
      "max_depth : 4 --> score r2 : eğitim:0.9331683320977691 test: 0.749911986099439\n",
      "max_depth : 5 --> score r2 : eğitim:0.9563881258550985 test: 0.7517780601852144\n",
      "max_depth : 6 --> score r2 : eğitim:0.9708219810777781 test: 0.7606291791032909\n",
      "max_depth : 7 --> score r2 : eğitim:0.9691572677843767 test: 0.7598982350869732\n",
      "max_depth : 8 --> score r2 : eğitim:0.9749969085183257 test: 0.7670872011144056\n",
      "max_depth : 9 --> score r2 : eğitim:0.9755364415058657 test: 0.7670864340060592\n",
      "max_depth : 10 --> score r2 : eğitim:0.9704937606283766 test: 0.7593573261350479\n",
      "max_depth : 11 --> score r2 : eğitim:0.9724614392290983 test: 0.7681983711262117\n",
      "max_depth : 12 --> score r2 : eğitim:0.9713713659819018 test: 0.7655082833665415\n",
      "max_depth : 13 --> score r2 : eğitim:0.9751317475750197 test: 0.7543456641131772\n",
      "max_depth : 14 --> score r2 : eğitim:0.9724818160264415 test: 0.7612854670940354\n",
      "max_depth : 15 --> score r2 : eğitim:0.9737979490698222 test: 0.7681507312452502\n",
      "max_depth : 16 --> score r2 : eğitim:0.9728546239478377 test: 0.7698232641029616\n",
      "max_depth : 17 --> score r2 : eğitim:0.9708905319338672 test: 0.7671036114631682\n",
      "max_depth : 18 --> score r2 : eğitim:0.972378528364866 test: 0.7602411341693548\n",
      "max_depth : 19 --> score r2 : eğitim:0.9749505827068004 test: 0.7698586561889309\n"
     ]
    }
   ],
   "source": [
    "from sklearn.ensemble import RandomForestRegressor\n",
    "for i in range(1,20,1):\n",
    "    rand=RandomForestRegressor(max_depth=i,)\n",
    "    rand.fit(XTrain,yTrain)\n",
    "    tahminRand=rand.predict(XTest)\n",
    "    print(f\"max_depth : {i} --> score r2 : eğitim:{r2_score(yTrain,rand.predict(XTrain))} test: {r2_score(yTest,tahminRand)}\")"
   ]
  },
  {
   "cell_type": "code",
   "execution_count": 326,
   "metadata": {},
   "outputs": [
    {
     "name": "stdout",
     "output_type": "stream",
     "text": [
      "n_neigbors : 1 --> score r2 : eğitim:1.0 test: 0.7091441746893932\n",
      "n_neigbors : 2 --> score r2 : eğitim:0.930297043470619 test: 0.7327568558950519\n",
      "n_neigbors : 3 --> score r2 : eğitim:0.8991937383350144 test: 0.7226339802679749\n",
      "n_neigbors : 4 --> score r2 : eğitim:0.8925865266627641 test: 0.7215740900866321\n",
      "n_neigbors : 5 --> score r2 : eğitim:0.867333831413293 test: 0.7180396466458725\n",
      "n_neigbors : 6 --> score r2 : eğitim:0.8339483204561509 test: 0.6984056416213339\n",
      "n_neigbors : 7 --> score r2 : eğitim:0.8162504834521548 test: 0.6997314663936174\n",
      "n_neigbors : 8 --> score r2 : eğitim:0.8068586638009463 test: 0.6866589449183331\n",
      "n_neigbors : 9 --> score r2 : eğitim:0.8101758924465997 test: 0.6799064088208281\n",
      "n_neigbors : 10 --> score r2 : eğitim:0.8049185710251067 test: 0.6693338968249424\n",
      "n_neigbors : 11 --> score r2 : eğitim:0.8092077842196058 test: 0.6711582857757712\n",
      "n_neigbors : 12 --> score r2 : eğitim:0.8096988482629338 test: 0.6664568719296715\n",
      "n_neigbors : 13 --> score r2 : eğitim:0.8067251227811736 test: 0.655216990534945\n",
      "n_neigbors : 14 --> score r2 : eğitim:0.8076852328160017 test: 0.6567663105908381\n",
      "n_neigbors : 15 --> score r2 : eğitim:0.807013272010669 test: 0.6682293387006687\n",
      "n_neigbors : 16 --> score r2 : eğitim:0.8039762268667119 test: 0.6626693755392885\n",
      "n_neigbors : 17 --> score r2 : eğitim:0.8028620412415384 test: 0.6669667594065267\n",
      "n_neigbors : 18 --> score r2 : eğitim:0.7970160313026653 test: 0.6629495350099831\n",
      "n_neigbors : 19 --> score r2 : eğitim:0.7946582358147138 test: 0.6589377065999125\n"
     ]
    }
   ],
   "source": [
    "from sklearn.neighbors import KNeighborsRegressor\n",
    "for i in range(1,20,1):\n",
    "    KNN=KNeighborsRegressor(n_neighbors=i)\n",
    "    KNN.fit(XTrain,yTrain)\n",
    "    tahminKNN=KNN.predict(XTest)\n",
    "    print(f\"n_neigbors : {i} --> score r2 : eğitim:{r2_score(yTrain,KNN.predict(XTrain))} test: {r2_score(yTest,tahminKNN)}\")"
   ]
  },
  {
   "cell_type": "code",
   "execution_count": 327,
   "metadata": {},
   "outputs": [
    {
     "name": "stdout",
     "output_type": "stream",
     "text": [
      "max_depth : 1 --> score r2 : eğitim:0.3699213133529945 test: 0.24958207518157272\n",
      "max_depth : 2 --> score r2 : eğitim:0.7162273893428583 test: 0.6080068775773877\n",
      "max_depth : 3 --> score r2 : eğitim:0.8546132665603596 test: 0.6470973948377617\n",
      "max_depth : 4 --> score r2 : eğitim:0.9420723497694432 test: 0.6621181855500635\n",
      "max_depth : 5 --> score r2 : eğitim:0.9803583221581956 test: 0.6538123213763458\n",
      "max_depth : 6 --> score r2 : eğitim:0.9900267834071691 test: 0.7059401628006611\n",
      "max_depth : 7 --> score r2 : eğitim:0.9978326523499816 test: 0.6492863605502958\n",
      "max_depth : 8 --> score r2 : eğitim:0.9990750502853449 test: 0.6558386520473444\n",
      "max_depth : 9 --> score r2 : eğitim:0.9993263368610164 test: 0.7206207866467067\n",
      "max_depth : 10 --> score r2 : eğitim:0.9997327202350127 test: 0.634300181853078\n",
      "max_depth : 11 --> score r2 : eğitim:0.9997981200073741 test: 0.6533123890081928\n",
      "max_depth : 12 --> score r2 : eğitim:0.9999926298406461 test: 0.6450325673152506\n",
      "max_depth : 13 --> score r2 : eğitim:0.9999985969844261 test: 0.6541507178923145\n",
      "max_depth : 14 --> score r2 : eğitim:0.9999999841133054 test: 0.6935973933711242\n",
      "max_depth : 15 --> score r2 : eğitim:0.9999999986167565 test: 0.6502019845719671\n",
      "max_depth : 16 --> score r2 : eğitim:1.0 test: 0.6380448498112318\n",
      "max_depth : 17 --> score r2 : eğitim:1.0 test: 0.6951302454491192\n",
      "max_depth : 18 --> score r2 : eğitim:1.0 test: 0.681959254105202\n",
      "max_depth : 19 --> score r2 : eğitim:1.0 test: 0.7210514836135984\n"
     ]
    }
   ],
   "source": [
    "from sklearn.tree import DecisionTreeRegressor\n",
    "for i in range(1,20,1):\n",
    "    DT=DecisionTreeRegressor(max_depth=i)\n",
    "    DT.fit(XTrain,yTrain)\n",
    "    tahminDT=DT.predict(XTest)\n",
    "    print(f\"max_depth : {i} --> score r2 : eğitim:{r2_score(yTrain,DT.predict(XTrain))} test: {r2_score(yTest,tahminDT)}\")"
   ]
  },
  {
   "cell_type": "code",
   "execution_count": 328,
   "metadata": {},
   "outputs": [
    {
     "name": "stdout",
     "output_type": "stream",
     "text": [
      "max_depth : 1 --> score r2 : eğitim:0.7278795031009182 test: 0.5475463254615585\n",
      "max_depth : 2 --> score r2 : eğitim:0.938991621966213 test: 0.7071543138602904\n",
      "max_depth : 3 --> score r2 : eğitim:0.9877031711708673 test: 0.7543314299106985\n",
      "max_depth : 4 --> score r2 : eğitim:0.9985531611238864 test: 0.7531414125012466\n",
      "max_depth : 5 --> score r2 : eğitim:0.9999111462760994 test: 0.7249171801446836\n",
      "max_depth : 6 --> score r2 : eğitim:0.9999931975152659 test: 0.703485731001789\n",
      "max_depth : 7 --> score r2 : eğitim:0.9999998499859609 test: 0.6672689951829871\n",
      "max_depth : 8 --> score r2 : eğitim:0.9999999937815067 test: 0.6970901467126083\n",
      "max_depth : 9 --> score r2 : eğitim:0.9999999990578685 test: 0.7091584640564382\n"
     ]
    }
   ],
   "source": [
    "from sklearn.ensemble import GradientBoostingRegressor\n",
    "for i in range(1,10,1):\n",
    "    gbr=GradientBoostingRegressor(max_depth=i,loss='squared_error')\n",
    "    gbr.fit(XTrain,yTrain)\n",
    "    tahminGbr=gbr.predict(XTest)\n",
    "    print(f\"max_depth : {i} --> score r2 : eğitim:{r2_score(yTrain,gbr.predict(XTrain))} test: {r2_score(yTest,tahminGbr)}\")"
   ]
  },
  {
   "cell_type": "code",
   "execution_count": 329,
   "metadata": {},
   "outputs": [
    {
     "data": {
      "text/plain": [
       "array([0.99990175, 0.99874376, 0.51388828, 0.74729061, 0.99968304,\n",
       "       0.94688732, 0.92716827, 0.99894902, 0.66636776, 0.99770189,\n",
       "       0.99916307, 0.99986481, 0.72360621, 0.65886447, 0.99926123,\n",
       "       0.9997623 , 0.91978665, 0.65324203, 0.91020847, 0.99976357,\n",
       "       0.74729061, 0.98491611, 0.99914297, 0.95707904, 0.9365245 ,\n",
       "       0.99956905, 0.99942806, 0.99843183, 0.95108311, 0.98696117,\n",
       "       0.7712299 , 0.99974189, 0.99471347, 0.81990713, 0.98387795,\n",
       "       0.99936947, 0.99980663, 0.99657671, 0.96016796, 0.99569778,\n",
       "       0.99966245, 0.99983033, 0.94506765, 0.99973885, 0.95607273,\n",
       "       0.89711331, 0.77122784, 0.88920182, 0.97012069, 0.94910226,\n",
       "       0.99975835, 0.81041494, 0.92716912, 0.95245107, 0.96034772,\n",
       "       0.99979438, 0.94251441, 0.94267242, 0.99890965, 0.99976291,\n",
       "       0.98002967, 0.88718954, 0.95793017, 0.53365286, 0.94476593,\n",
       "       0.89709991, 0.99976658, 0.9997583 , 0.95918816, 0.99976897,\n",
       "       0.88752073, 0.98054341, 0.99975874, 0.99974897, 0.95495229,\n",
       "       0.99976291, 0.99975855, 0.99945639, 0.81771948, 0.9993594 ,\n",
       "       0.99973991, 0.97366713, 0.77148495, 0.98372977, 0.99922671,\n",
       "       0.99973539, 0.95523256, 0.98523583, 0.99973385, 0.99969246,\n",
       "       0.99975794, 0.94860487, 0.95443879, 0.99944191, 0.54354937,\n",
       "       0.99935915, 0.99976372, 0.99931754, 0.98499398, 0.72355724,\n",
       "       0.99967791, 0.98823618, 0.98526661, 0.99317272, 0.51388828,\n",
       "       0.98452426, 0.71019553, 0.99975298, 0.99976291, 0.96155125,\n",
       "       0.69049431, 0.99976676, 0.70366306, 0.99922204, 0.99974749,\n",
       "       0.95436201, 0.96386804, 0.96172878, 0.95272824, 0.99660449,\n",
       "       0.9015998 , 0.95928219, 0.99856082, 0.99976291, 0.95661904,\n",
       "       0.99973536, 0.72069439, 0.65324203, 0.99966128, 0.99980932,\n",
       "       0.89759104, 0.99941617, 0.99977911, 0.52383133, 0.77686311,\n",
       "       0.88752073, 0.99975615, 0.72360747, 0.96010978, 0.88920182,\n",
       "       0.99972098, 0.9995711 , 0.98787716, 0.96891066, 0.95523184,\n",
       "       0.5383874 , 0.91020716, 0.9057964 , 0.96306659, 0.99463773,\n",
       "       0.53935092, 0.98330749, 0.99914437, 0.99963348, 0.99954153,\n",
       "       0.99976291, 0.99972819, 0.99971349, 0.99976291, 0.99976291,\n",
       "       0.9565509 , 0.96973106, 0.84072269, 0.6916251 , 0.94202413,\n",
       "       0.90161621, 0.95762154, 0.96002957, 0.95655126, 0.99931388,\n",
       "       0.95663369, 0.87969153, 0.950498  ])"
      ]
     },
     "execution_count": 329,
     "metadata": {},
     "output_type": "execute_result"
    }
   ],
   "source": [
    "tahminGbr"
   ]
  },
  {
   "cell_type": "code",
   "execution_count": 330,
   "metadata": {},
   "outputs": [
    {
     "data": {
      "text/plain": [
       "109    0.999765\n",
       "159    0.999765\n",
       "279    0.628608\n",
       "210    0.661575\n",
       "321    0.991107\n",
       "         ...   \n",
       "221    0.940666\n",
       "113    0.999765\n",
       "276    0.956484\n",
       "209    0.786674\n",
       "118    0.986783\n",
       "Name: ssim_first, Length: 173, dtype: float64"
      ]
     },
     "execution_count": 330,
     "metadata": {},
     "output_type": "execute_result"
    }
   ],
   "source": [
    "yTest"
   ]
  },
  {
   "cell_type": "code",
   "execution_count": 331,
   "metadata": {},
   "outputs": [
    {
     "data": {
      "text/plain": [
       "320    0.998213\n",
       "335    0.999765\n",
       "245    0.931347\n",
       "325    0.998369\n",
       "165    0.940439\n",
       "         ...   \n",
       "189    0.942673\n",
       "71     0.999765\n",
       "107    0.999756\n",
       "271    0.534366\n",
       "103    0.999765\n",
       "Name: ssim_first, Length: 173, dtype: float64"
      ]
     },
     "execution_count": 331,
     "metadata": {},
     "output_type": "execute_result"
    }
   ],
   "source": [
    "yTrain"
   ]
  },
  {
   "cell_type": "code",
   "execution_count": 332,
   "metadata": {},
   "outputs": [],
   "source": [
    "from sklearn.preprocessing import MinMaxScaler\n",
    "scaler=MinMaxScaler()\n",
    "XTrain[sayisal_veriler]=scaler.fit_transform(XTrain[sayisal_veriler])\n",
    "XTest[sayisal_veriler]=scaler.transform(XTest[sayisal_veriler])"
   ]
  },
  {
   "cell_type": "code",
   "execution_count": 333,
   "metadata": {},
   "outputs": [
    {
     "name": "stdout",
     "output_type": "stream",
     "text": [
      "0.47448432922919415\n"
     ]
    }
   ],
   "source": [
    "from sklearn.linear_model import LinearRegression\n",
    "LogModel=LinearRegression()\n",
    "LogModel.fit(XTrain,yTrain)\n",
    "tahmin=LogModel.predict(XTest)\n",
    "from sklearn.metrics import r2_score\n",
    "print(r2_score(yTest,tahmin))"
   ]
  },
  {
   "cell_type": "code",
   "execution_count": 334,
   "metadata": {},
   "outputs": [
    {
     "name": "stdout",
     "output_type": "stream",
     "text": [
      "n_neigbors : 1 --> score r2 : eğitim:1.0 test: 0.6691778854965011\n",
      "n_neigbors : 2 --> score r2 : eğitim:0.9272515698751637 test: 0.7141290686973709\n",
      "n_neigbors : 3 --> score r2 : eğitim:0.8873151052423128 test: 0.6927180853908638\n"
     ]
    },
    {
     "name": "stdout",
     "output_type": "stream",
     "text": [
      "n_neigbors : 4 --> score r2 : eğitim:0.8411485248228334 test: 0.6744797434553358\n",
      "n_neigbors : 5 --> score r2 : eğitim:0.8102500618362982 test: 0.6620721003489523\n",
      "n_neigbors : 6 --> score r2 : eğitim:0.7936032223159623 test: 0.6494133872037258\n",
      "n_neigbors : 7 --> score r2 : eğitim:0.8057200175874433 test: 0.6552164066460908\n",
      "n_neigbors : 8 --> score r2 : eğitim:0.7956570947680314 test: 0.652745808571593\n",
      "n_neigbors : 9 --> score r2 : eğitim:0.7804414164402588 test: 0.652477435771008\n",
      "n_neigbors : 10 --> score r2 : eğitim:0.768643894251046 test: 0.6457033544221218\n",
      "n_neigbors : 11 --> score r2 : eğitim:0.7526013850653398 test: 0.6372543535819646\n",
      "n_neigbors : 12 --> score r2 : eğitim:0.7534237595842708 test: 0.626159168737491\n",
      "n_neigbors : 13 --> score r2 : eğitim:0.7475887627864444 test: 0.6092857521285772\n",
      "n_neigbors : 14 --> score r2 : eğitim:0.7419904885098927 test: 0.6056199407146632\n",
      "n_neigbors : 15 --> score r2 : eğitim:0.7342712084070079 test: 0.5968723554946251\n",
      "n_neigbors : 16 --> score r2 : eğitim:0.7115789544182938 test: 0.601986315732013\n",
      "n_neigbors : 17 --> score r2 : eğitim:0.7049554845319482 test: 0.588624696126607\n",
      "n_neigbors : 18 --> score r2 : eğitim:0.6952727886059298 test: 0.5817880940677774\n",
      "n_neigbors : 19 --> score r2 : eğitim:0.684882131846823 test: 0.5691407021847434\n"
     ]
    }
   ],
   "source": [
    "from sklearn.neighbors import KNeighborsRegressor\n",
    "for i in range(1,20,1):\n",
    "    KNN=KNeighborsRegressor(n_neighbors=i)\n",
    "    KNN.fit(XTrain,yTrain)\n",
    "    tahminKNN=KNN.predict(XTest)\n",
    "    print(f\"n_neigbors : {i} --> score r2 : eğitim:{r2_score(yTrain,KNN.predict(XTrain))} test: {r2_score(yTest,tahminKNN)}\")"
   ]
  },
  {
   "cell_type": "code",
   "execution_count": 335,
   "metadata": {},
   "outputs": [
    {
     "name": "stdout",
     "output_type": "stream",
     "text": [
      "max_depth : 1 --> score r2 : eğitim:0.41256328020704613 test: 0.34399604080872703\n",
      "max_depth : 2 --> score r2 : eğitim:0.6387421151109278 test: 0.5270210877378106\n",
      "max_depth : 3 --> score r2 : eğitim:0.7712509659718563 test: 0.614661878747228\n",
      "max_depth : 4 --> score r2 : eğitim:0.8646663430577229 test: 0.6827826611235276\n",
      "max_depth : 5 --> score r2 : eğitim:0.9246914643584841 test: 0.7157780080905478\n",
      "max_depth : 6 --> score r2 : eğitim:0.9391954645913588 test: 0.7204792556008022\n",
      "max_depth : 7 --> score r2 : eğitim:0.956847123686122 test: 0.7394165370091214\n",
      "max_depth : 8 --> score r2 : eğitim:0.9670890420765049 test: 0.7424302541231902\n",
      "max_depth : 9 --> score r2 : eğitim:0.9665652086243411 test: 0.7375726311504016\n",
      "max_depth : 10 --> score r2 : eğitim:0.9685999613387276 test: 0.7389955649439275\n",
      "max_depth : 11 --> score r2 : eğitim:0.9676770399982593 test: 0.7377895017473177\n",
      "max_depth : 12 --> score r2 : eğitim:0.9661870657279603 test: 0.7374993737635561\n",
      "max_depth : 13 --> score r2 : eğitim:0.9659488097541818 test: 0.7351292510771323\n",
      "max_depth : 14 --> score r2 : eğitim:0.9662081250608288 test: 0.7390436511332843\n",
      "max_depth : 15 --> score r2 : eğitim:0.9667607301809449 test: 0.741623767949986\n",
      "max_depth : 16 --> score r2 : eğitim:0.9670155698640887 test: 0.739819837557778\n",
      "max_depth : 17 --> score r2 : eğitim:0.9670311069343205 test: 0.7398875461765932\n",
      "max_depth : 18 --> score r2 : eğitim:0.9668423258933655 test: 0.7399287842908888\n",
      "max_depth : 19 --> score r2 : eğitim:0.9667206411214238 test: 0.7390816613119562\n"
     ]
    }
   ],
   "source": [
    "from sklearn.ensemble import RandomForestRegressor\n",
    "for i in range(1,20,1):\n",
    "    rand=RandomForestRegressor(max_depth=i,bootstrap=True,criterion=\"friedman_mse\",max_features='log2',max_leaf_nodes=None,n_estimators=100,n_jobs=1,random_state=42)\n",
    "    rand.fit(XTrain,yTrain)\n",
    "    tahminRand=rand.predict(XTest)\n",
    "    print(f\"max_depth : {i} --> score r2 : eğitim:{r2_score(yTrain,rand.predict(XTrain))} test: {r2_score(yTest,tahminRand)}\")"
   ]
  },
  {
   "cell_type": "code",
   "execution_count": 336,
   "metadata": {},
   "outputs": [
    {
     "name": "stdout",
     "output_type": "stream",
     "text": [
      "max_depth : 1 --> score r2 : eğitim:0.3699213133529945 test: 0.2495820751815725\n",
      "max_depth : 2 --> score r2 : eğitim:0.7162273893428582 test: 0.6080068775773877\n",
      "max_depth : 3 --> score r2 : eğitim:0.8546132665603596 test: 0.6470973948377617\n",
      "max_depth : 4 --> score r2 : eğitim:0.9420723497694432 test: 0.6631169627527969\n",
      "max_depth : 5 --> score r2 : eğitim:0.9803583221581956 test: 0.6940950770623564\n",
      "max_depth : 6 --> score r2 : eğitim:0.9900267834071691 test: 0.6955486439699761\n",
      "max_depth : 7 --> score r2 : eğitim:0.9978326523499816 test: 0.6827072632166855\n",
      "max_depth : 8 --> score r2 : eğitim:0.9990750502853449 test: 0.6548318132743595\n",
      "max_depth : 9 --> score r2 : eğitim:0.9993263368610164 test: 0.6942053920510076\n",
      "max_depth : 10 --> score r2 : eğitim:0.9997327202350127 test: 0.6704535929852264\n",
      "max_depth : 11 --> score r2 : eğitim:0.9997981200073741 test: 0.6746737990375528\n",
      "max_depth : 12 --> score r2 : eğitim:0.9999926298406461 test: 0.6913339599381559\n",
      "max_depth : 13 --> score r2 : eğitim:0.9999985969844261 test: 0.6875654673903635\n",
      "max_depth : 14 --> score r2 : eğitim:0.9999999841133054 test: 0.6735718228600363\n",
      "max_depth : 15 --> score r2 : eğitim:0.9999999986167565 test: 0.6734207051267836\n",
      "max_depth : 16 --> score r2 : eğitim:1.0 test: 0.6763037146932398\n",
      "max_depth : 17 --> score r2 : eğitim:1.0 test: 0.6926023261520108\n",
      "max_depth : 18 --> score r2 : eğitim:1.0 test: 0.6698059186061881\n",
      "max_depth : 19 --> score r2 : eğitim:1.0 test: 0.6695955888839007\n"
     ]
    }
   ],
   "source": [
    "from sklearn.tree import DecisionTreeRegressor\n",
    "for i in range(1,20,1):\n",
    "    DT=DecisionTreeRegressor(max_depth=i)\n",
    "    DT.fit(XTrain,yTrain)\n",
    "    tahminDT=DT.predict(XTest)\n",
    "    print(f\"max_depth : {i} --> score r2 : eğitim:{r2_score(yTrain,DT.predict(XTrain))} test: {r2_score(yTest,tahminDT)}\")"
   ]
  },
  {
   "cell_type": "code",
   "execution_count": 337,
   "metadata": {},
   "outputs": [
    {
     "name": "stdout",
     "output_type": "stream",
     "text": [
      "max_depth : 1 --> score r2 : eğitim:0.7278795031009182 test: 0.5475463254615588\n",
      "max_depth : 2 --> score r2 : eğitim:0.938991621966213 test: 0.7074491111012875\n",
      "max_depth : 3 --> score r2 : eğitim:0.9877031711708673 test: 0.7532475575515202\n",
      "max_depth : 4 --> score r2 : eğitim:0.9985531611238864 test: 0.7527436572788082\n",
      "max_depth : 5 --> score r2 : eğitim:0.9999111462760994 test: 0.72124921451641\n",
      "max_depth : 6 --> score r2 : eğitim:0.9999931975152659 test: 0.6983630002098484\n",
      "max_depth : 7 --> score r2 : eğitim:0.9999998611584637 test: 0.6822336573723463\n",
      "max_depth : 8 --> score r2 : eğitim:0.9999999937815067 test: 0.7083701988340644\n",
      "max_depth : 9 --> score r2 : eğitim:0.9999999990578685 test: 0.7104930427901714\n"
     ]
    }
   ],
   "source": [
    "from sklearn.ensemble import GradientBoostingRegressor\n",
    "for i in range(1,10,1):\n",
    "    gbr=GradientBoostingRegressor(max_depth=i,loss='squared_error')\n",
    "    gbr.fit(XTrain,yTrain)\n",
    "    tahminGbr=gbr.predict(XTest)\n",
    "    print(f\"max_depth : {i} --> score r2 : eğitim:{r2_score(yTrain,gbr.predict(XTrain))} test: {r2_score(yTest,tahminGbr)}\")"
   ]
  },
  {
   "cell_type": "code",
   "execution_count": null,
   "metadata": {},
   "outputs": [],
   "source": []
  }
 ],
 "metadata": {
  "kernelspec": {
   "display_name": "Python 3",
   "language": "python",
   "name": "python3"
  },
  "language_info": {
   "codemirror_mode": {
    "name": "ipython",
    "version": 3
   },
   "file_extension": ".py",
   "mimetype": "text/x-python",
   "name": "python",
   "nbconvert_exporter": "python",
   "pygments_lexer": "ipython3",
   "version": "3.10.12"
  }
 },
 "nbformat": 4,
 "nbformat_minor": 2
}
