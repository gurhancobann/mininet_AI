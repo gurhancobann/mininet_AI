{
 "cells": [
  {
   "cell_type": "code",
   "execution_count": 379,
   "metadata": {},
   "outputs": [],
   "source": [
    "import pandas as pd\n",
    "import numpy as num_paths\n",
    "import matplotlib.pyplot as psnrResault\n",
    "import seaborn as sns\n",
    "import warnings\n",
    "warnings.filterwarnings(\"ignore\")\n",
    "from matplotlib import pyplot as plt"
   ]
  },
  {
   "cell_type": "code",
   "execution_count": 380,
   "metadata": {},
   "outputs": [],
   "source": [
    "df=pd.read_csv(\"dataTest.csv\")"
   ]
  },
  {
   "cell_type": "code",
   "execution_count": 381,
   "metadata": {},
   "outputs": [
    {
     "data": {
      "text/html": [
       "<div>\n",
       "<style scoped>\n",
       "    .dataframe tbody tr th:only-of-type {\n",
       "        vertical-align: middle;\n",
       "    }\n",
       "\n",
       "    .dataframe tbody tr th {\n",
       "        vertical-align: top;\n",
       "    }\n",
       "\n",
       "    .dataframe thead th {\n",
       "        text-align: right;\n",
       "    }\n",
       "</style>\n",
       "<table border=\"1\" class=\"dataframe\">\n",
       "  <thead>\n",
       "    <tr style=\"text-align: right;\">\n",
       "      <th></th>\n",
       "      <th>host</th>\n",
       "      <th>avgRTT</th>\n",
       "      <th>packetLoss</th>\n",
       "      <th>latency</th>\n",
       "      <th>hopCount</th>\n",
       "      <th>bandwidth</th>\n",
       "      <th>yukOrani</th>\n",
       "      <th>psnr</th>\n",
       "      <th>ssim_first</th>\n",
       "      <th>ssim_second</th>\n",
       "      <th>type</th>\n",
       "      <th>server</th>\n",
       "    </tr>\n",
       "  </thead>\n",
       "  <tbody>\n",
       "    <tr>\n",
       "      <th>0</th>\n",
       "      <td>h1</td>\n",
       "      <td>1898.137</td>\n",
       "      <td>0.0</td>\n",
       "      <td>66</td>\n",
       "      <td>4</td>\n",
       "      <td>3000000</td>\n",
       "      <td>2011.425000</td>\n",
       "      <td>31.225948</td>\n",
       "      <td>0.985150</td>\n",
       "      <td>18.282783</td>\n",
       "      <td>3</td>\n",
       "      <td>h10</td>\n",
       "    </tr>\n",
       "    <tr>\n",
       "      <th>1</th>\n",
       "      <td>h2</td>\n",
       "      <td>2240.660</td>\n",
       "      <td>0.0</td>\n",
       "      <td>44</td>\n",
       "      <td>3</td>\n",
       "      <td>3000000</td>\n",
       "      <td>1859.161290</td>\n",
       "      <td>31.225948</td>\n",
       "      <td>0.985150</td>\n",
       "      <td>18.282674</td>\n",
       "      <td>3</td>\n",
       "      <td>h14</td>\n",
       "    </tr>\n",
       "    <tr>\n",
       "      <th>2</th>\n",
       "      <td>h3</td>\n",
       "      <td>2196.294</td>\n",
       "      <td>0.0</td>\n",
       "      <td>40</td>\n",
       "      <td>2</td>\n",
       "      <td>3000000</td>\n",
       "      <td>9084.620155</td>\n",
       "      <td>22.700112</td>\n",
       "      <td>0.956348</td>\n",
       "      <td>13.599976</td>\n",
       "      <td>3</td>\n",
       "      <td>h14</td>\n",
       "    </tr>\n",
       "    <tr>\n",
       "      <th>3</th>\n",
       "      <td>h4</td>\n",
       "      <td>1298.732</td>\n",
       "      <td>0.0</td>\n",
       "      <td>60</td>\n",
       "      <td>3</td>\n",
       "      <td>3000000</td>\n",
       "      <td>25815.963636</td>\n",
       "      <td>22.301604</td>\n",
       "      <td>0.960533</td>\n",
       "      <td>14.037636</td>\n",
       "      <td>3</td>\n",
       "      <td>h14</td>\n",
       "    </tr>\n",
       "    <tr>\n",
       "      <th>4</th>\n",
       "      <td>h5</td>\n",
       "      <td>338.105</td>\n",
       "      <td>0.0</td>\n",
       "      <td>92</td>\n",
       "      <td>4</td>\n",
       "      <td>3000000</td>\n",
       "      <td>37246.273632</td>\n",
       "      <td>22.510259</td>\n",
       "      <td>0.958593</td>\n",
       "      <td>13.829213</td>\n",
       "      <td>3</td>\n",
       "      <td>h10</td>\n",
       "    </tr>\n",
       "  </tbody>\n",
       "</table>\n",
       "</div>"
      ],
      "text/plain": [
       "  host    avgRTT  packetLoss  latency  hopCount  bandwidth      yukOrani  \\\n",
       "0   h1  1898.137         0.0       66         4    3000000   2011.425000   \n",
       "1   h2  2240.660         0.0       44         3    3000000   1859.161290   \n",
       "2   h3  2196.294         0.0       40         2    3000000   9084.620155   \n",
       "3   h4  1298.732         0.0       60         3    3000000  25815.963636   \n",
       "4   h5   338.105         0.0       92         4    3000000  37246.273632   \n",
       "\n",
       "        psnr  ssim_first  ssim_second  type server  \n",
       "0  31.225948    0.985150    18.282783     3    h10  \n",
       "1  31.225948    0.985150    18.282674     3    h14  \n",
       "2  22.700112    0.956348    13.599976     3    h14  \n",
       "3  22.301604    0.960533    14.037636     3    h14  \n",
       "4  22.510259    0.958593    13.829213     3    h10  "
      ]
     },
     "execution_count": 381,
     "metadata": {},
     "output_type": "execute_result"
    }
   ],
   "source": [
    "df=pd.DataFrame(df)\n",
    "df.head()"
   ]
  },
  {
   "cell_type": "code",
   "execution_count": 382,
   "metadata": {},
   "outputs": [
    {
     "data": {
      "text/html": [
       "<div>\n",
       "<style scoped>\n",
       "    .dataframe tbody tr th:only-of-type {\n",
       "        vertical-align: middle;\n",
       "    }\n",
       "\n",
       "    .dataframe tbody tr th {\n",
       "        vertical-align: top;\n",
       "    }\n",
       "\n",
       "    .dataframe thead th {\n",
       "        text-align: right;\n",
       "    }\n",
       "</style>\n",
       "<table border=\"1\" class=\"dataframe\">\n",
       "  <thead>\n",
       "    <tr style=\"text-align: right;\">\n",
       "      <th></th>\n",
       "      <th>count</th>\n",
       "      <th>mean</th>\n",
       "      <th>std</th>\n",
       "      <th>min</th>\n",
       "      <th>25%</th>\n",
       "      <th>50%</th>\n",
       "      <th>75%</th>\n",
       "      <th>max</th>\n",
       "    </tr>\n",
       "  </thead>\n",
       "  <tbody>\n",
       "    <tr>\n",
       "      <th>avgRTT</th>\n",
       "      <td>492.0</td>\n",
       "      <td>8.343111e+02</td>\n",
       "      <td>9.619482e+02</td>\n",
       "      <td>1.520560e+02</td>\n",
       "      <td>2.643825e+02</td>\n",
       "      <td>3.402140e+02</td>\n",
       "      <td>8.015897e+02</td>\n",
       "      <td>4.744949e+03</td>\n",
       "    </tr>\n",
       "    <tr>\n",
       "      <th>packetLoss</th>\n",
       "      <td>492.0</td>\n",
       "      <td>2.303523e+00</td>\n",
       "      <td>6.117817e+00</td>\n",
       "      <td>0.000000e+00</td>\n",
       "      <td>0.000000e+00</td>\n",
       "      <td>0.000000e+00</td>\n",
       "      <td>0.000000e+00</td>\n",
       "      <td>4.444444e+01</td>\n",
       "    </tr>\n",
       "    <tr>\n",
       "      <th>latency</th>\n",
       "      <td>492.0</td>\n",
       "      <td>8.019512e+01</td>\n",
       "      <td>5.996848e+01</td>\n",
       "      <td>1.300000e+01</td>\n",
       "      <td>5.600000e+01</td>\n",
       "      <td>7.600000e+01</td>\n",
       "      <td>9.400000e+01</td>\n",
       "      <td>1.035000e+03</td>\n",
       "    </tr>\n",
       "    <tr>\n",
       "      <th>hopCount</th>\n",
       "      <td>492.0</td>\n",
       "      <td>3.085366e+00</td>\n",
       "      <td>1.017579e+00</td>\n",
       "      <td>1.000000e+00</td>\n",
       "      <td>3.000000e+00</td>\n",
       "      <td>3.000000e+00</td>\n",
       "      <td>4.000000e+00</td>\n",
       "      <td>8.000000e+00</td>\n",
       "    </tr>\n",
       "    <tr>\n",
       "      <th>bandwidth</th>\n",
       "      <td>492.0</td>\n",
       "      <td>6.575203e+06</td>\n",
       "      <td>3.065549e+06</td>\n",
       "      <td>3.000000e+06</td>\n",
       "      <td>3.000000e+06</td>\n",
       "      <td>5.000000e+06</td>\n",
       "      <td>1.000000e+07</td>\n",
       "      <td>1.000000e+07</td>\n",
       "    </tr>\n",
       "    <tr>\n",
       "      <th>yukOrani</th>\n",
       "      <td>492.0</td>\n",
       "      <td>2.728751e+04</td>\n",
       "      <td>2.435523e+04</td>\n",
       "      <td>2.242926e+02</td>\n",
       "      <td>7.715098e+03</td>\n",
       "      <td>2.185979e+04</td>\n",
       "      <td>4.177688e+04</td>\n",
       "      <td>1.770201e+05</td>\n",
       "    </tr>\n",
       "    <tr>\n",
       "      <th>psnr</th>\n",
       "      <td>492.0</td>\n",
       "      <td>3.119863e+01</td>\n",
       "      <td>1.684782e+01</td>\n",
       "      <td>1.187769e+01</td>\n",
       "      <td>1.637717e+01</td>\n",
       "      <td>2.235940e+01</td>\n",
       "      <td>5.505260e+01</td>\n",
       "      <td>5.506194e+01</td>\n",
       "    </tr>\n",
       "    <tr>\n",
       "      <th>ssim_first</th>\n",
       "      <td>492.0</td>\n",
       "      <td>8.663380e-01</td>\n",
       "      <td>1.503713e-01</td>\n",
       "      <td>4.735960e-01</td>\n",
       "      <td>7.113947e-01</td>\n",
       "      <td>9.549805e-01</td>\n",
       "      <td>9.997650e-01</td>\n",
       "      <td>9.997650e-01</td>\n",
       "    </tr>\n",
       "    <tr>\n",
       "      <th>ssim_second</th>\n",
       "      <td>492.0</td>\n",
       "      <td>1.781643e+01</td>\n",
       "      <td>1.313828e+01</td>\n",
       "      <td>2.786809e+00</td>\n",
       "      <td>5.396959e+00</td>\n",
       "      <td>1.346600e+01</td>\n",
       "      <td>3.628070e+01</td>\n",
       "      <td>3.628266e+01</td>\n",
       "    </tr>\n",
       "    <tr>\n",
       "      <th>type</th>\n",
       "      <td>492.0</td>\n",
       "      <td>3.000000e+00</td>\n",
       "      <td>0.000000e+00</td>\n",
       "      <td>3.000000e+00</td>\n",
       "      <td>3.000000e+00</td>\n",
       "      <td>3.000000e+00</td>\n",
       "      <td>3.000000e+00</td>\n",
       "      <td>3.000000e+00</td>\n",
       "    </tr>\n",
       "  </tbody>\n",
       "</table>\n",
       "</div>"
      ],
      "text/plain": [
       "             count          mean           std           min           25%  \\\n",
       "avgRTT       492.0  8.343111e+02  9.619482e+02  1.520560e+02  2.643825e+02   \n",
       "packetLoss   492.0  2.303523e+00  6.117817e+00  0.000000e+00  0.000000e+00   \n",
       "latency      492.0  8.019512e+01  5.996848e+01  1.300000e+01  5.600000e+01   \n",
       "hopCount     492.0  3.085366e+00  1.017579e+00  1.000000e+00  3.000000e+00   \n",
       "bandwidth    492.0  6.575203e+06  3.065549e+06  3.000000e+06  3.000000e+06   \n",
       "yukOrani     492.0  2.728751e+04  2.435523e+04  2.242926e+02  7.715098e+03   \n",
       "psnr         492.0  3.119863e+01  1.684782e+01  1.187769e+01  1.637717e+01   \n",
       "ssim_first   492.0  8.663380e-01  1.503713e-01  4.735960e-01  7.113947e-01   \n",
       "ssim_second  492.0  1.781643e+01  1.313828e+01  2.786809e+00  5.396959e+00   \n",
       "type         492.0  3.000000e+00  0.000000e+00  3.000000e+00  3.000000e+00   \n",
       "\n",
       "                      50%           75%           max  \n",
       "avgRTT       3.402140e+02  8.015897e+02  4.744949e+03  \n",
       "packetLoss   0.000000e+00  0.000000e+00  4.444444e+01  \n",
       "latency      7.600000e+01  9.400000e+01  1.035000e+03  \n",
       "hopCount     3.000000e+00  4.000000e+00  8.000000e+00  \n",
       "bandwidth    5.000000e+06  1.000000e+07  1.000000e+07  \n",
       "yukOrani     2.185979e+04  4.177688e+04  1.770201e+05  \n",
       "psnr         2.235940e+01  5.505260e+01  5.506194e+01  \n",
       "ssim_first   9.549805e-01  9.997650e-01  9.997650e-01  \n",
       "ssim_second  1.346600e+01  3.628070e+01  3.628266e+01  \n",
       "type         3.000000e+00  3.000000e+00  3.000000e+00  "
      ]
     },
     "execution_count": 382,
     "metadata": {},
     "output_type": "execute_result"
    }
   ],
   "source": [
    "df.dropna(inplace=True)\n",
    "df.describe().T"
   ]
  },
  {
   "cell_type": "code",
   "execution_count": 383,
   "metadata": {},
   "outputs": [
    {
     "data": {
      "image/png": "[encoded data removed]",
      "text/plain": [
       "<Figure size 1440x1440 with 1 Axes>"
      ]
     },
     "metadata": {},
     "output_type": "display_data"
    },
    {
     "data": {
      "image/png": "[encoded data removed]",
      "text/plain": [
       "<Figure size 1440x1440 with 1 Axes>"
      ]
     },
     "metadata": {},
     "output_type": "display_data"
    },
    {
     "data": {
      "image/png": "[encoded data removed]",
      "text/plain": [
       "<Figure size 1440x1440 with 1 Axes>"
      ]
     },
     "metadata": {},
     "output_type": "display_data"
    },
    {
     "data": {
      "image/png": "[encoded data removed]",
      "text/plain": [
       "<Figure size 1440x1440 with 1 Axes>"
      ]
     },
     "metadata": {},
     "output_type": "display_data"
    },
    {
     "data": {
      "image/png": "[encoded data removed]",
      "text/plain": [
       "<Figure size 1440x1440 with 1 Axes>"
      ]
     },
     "metadata": {},
     "output_type": "display_data"
    },
    {
     "data": {
      "image/png": "[encoded data removed]",
      "text/plain": [
       "<Figure size 1440x1440 with 1 Axes>"
      ]
     },
     "metadata": {},
     "output_type": "display_data"
    }
   ],
   "source": [
    "sayisal_veriler=[\"avgRTT\",\"packetLoss\",\"latency\",\"hopCount\",\"bandwidth\",\"yukOrani\"]\n",
    "for i,deger in enumerate(sayisal_veriler):\n",
    "    plt.figure(figsize=(20,20))\n",
    "    ax=plt.subplot(4,3,i+1)\n",
    "    sns.scatterplot(x=deger,y=\"psnr\",data=df)\n",
    "    plt.show()"
   ]
  },
  {
   "cell_type": "code",
   "execution_count": 384,
   "metadata": {},
   "outputs": [],
   "source": [
    "# sns.displot(df)"
   ]
  },
  {
   "cell_type": "code",
   "execution_count": 385,
   "metadata": {},
   "outputs": [
    {
     "data": {
      "text/plain": [
       "0      0.985150\n",
       "1      0.985150\n",
       "2      0.956348\n",
       "3      0.960533\n",
       "4      0.958593\n",
       "         ...   \n",
       "489    0.755503\n",
       "490    0.680385\n",
       "491    0.816703\n",
       "492    0.736152\n",
       "493    0.697046\n",
       "Name: ssim_first, Length: 492, dtype: float64"
      ]
     },
     "execution_count": 385,
     "metadata": {},
     "output_type": "execute_result"
    }
   ],
   "source": [
    "y=df[\"ssim_first\"]\n",
    "x=df.drop([\"host\",\"ssim_first\",\"ssim_second\",\"type\",\"psnr\",\"server\"],axis=\"columns\")\n",
    "y\n"
   ]
  },
  {
   "cell_type": "code",
   "execution_count": 386,
   "metadata": {},
   "outputs": [
    {
     "data": {
      "image/png": "[encoded data removed]",
      "text/plain": [
       "<Figure size 576x396 with 2 Axes>"
      ]
     },
     "metadata": {},
     "output_type": "display_data"
    },
    {
     "data": {
      "text/plain": [
       "<AxesSubplot:title={'center':'Pearson Ranking of 6 Features'}>"
      ]
     },
     "execution_count": 386,
     "metadata": {},
     "output_type": "execute_result"
    }
   ],
   "source": [
    "from yellowbrick.features import Rank2D\n",
    "visualizer=Rank2D(algorithm=\"pearson\")\n",
    "visualizer.fit(x,y)\n",
    "visualizer.transform(x)\n",
    "visualizer.show()"
   ]
  },
  {
   "cell_type": "code",
   "execution_count": 387,
   "metadata": {},
   "outputs": [
    {
     "data": {
      "text/html": [
       "<div>\n",
       "<style scoped>\n",
       "    .dataframe tbody tr th:only-of-type {\n",
       "        vertical-align: middle;\n",
       "    }\n",
       "\n",
       "    .dataframe tbody tr th {\n",
       "        vertical-align: top;\n",
       "    }\n",
       "\n",
       "    .dataframe thead th {\n",
       "        text-align: right;\n",
       "    }\n",
       "</style>\n",
       "<table border=\"1\" class=\"dataframe\">\n",
       "  <thead>\n",
       "    <tr style=\"text-align: right;\">\n",
       "      <th></th>\n",
       "      <th>count</th>\n",
       "      <th>mean</th>\n",
       "      <th>std</th>\n",
       "      <th>min</th>\n",
       "      <th>25%</th>\n",
       "      <th>50%</th>\n",
       "      <th>75%</th>\n",
       "      <th>max</th>\n",
       "    </tr>\n",
       "  </thead>\n",
       "  <tbody>\n",
       "    <tr>\n",
       "      <th>avgRTT</th>\n",
       "      <td>492.0</td>\n",
       "      <td>8.343111e+02</td>\n",
       "      <td>9.619482e+02</td>\n",
       "      <td>1.520560e+02</td>\n",
       "      <td>2.643825e+02</td>\n",
       "      <td>3.402140e+02</td>\n",
       "      <td>8.015897e+02</td>\n",
       "      <td>4.744949e+03</td>\n",
       "    </tr>\n",
       "    <tr>\n",
       "      <th>packetLoss</th>\n",
       "      <td>492.0</td>\n",
       "      <td>2.303523e+00</td>\n",
       "      <td>6.117817e+00</td>\n",
       "      <td>0.000000e+00</td>\n",
       "      <td>0.000000e+00</td>\n",
       "      <td>0.000000e+00</td>\n",
       "      <td>0.000000e+00</td>\n",
       "      <td>4.444444e+01</td>\n",
       "    </tr>\n",
       "    <tr>\n",
       "      <th>latency</th>\n",
       "      <td>492.0</td>\n",
       "      <td>8.019512e+01</td>\n",
       "      <td>5.996848e+01</td>\n",
       "      <td>1.300000e+01</td>\n",
       "      <td>5.600000e+01</td>\n",
       "      <td>7.600000e+01</td>\n",
       "      <td>9.400000e+01</td>\n",
       "      <td>1.035000e+03</td>\n",
       "    </tr>\n",
       "    <tr>\n",
       "      <th>hopCount</th>\n",
       "      <td>492.0</td>\n",
       "      <td>3.085366e+00</td>\n",
       "      <td>1.017579e+00</td>\n",
       "      <td>1.000000e+00</td>\n",
       "      <td>3.000000e+00</td>\n",
       "      <td>3.000000e+00</td>\n",
       "      <td>4.000000e+00</td>\n",
       "      <td>8.000000e+00</td>\n",
       "    </tr>\n",
       "    <tr>\n",
       "      <th>bandwidth</th>\n",
       "      <td>492.0</td>\n",
       "      <td>6.575203e+06</td>\n",
       "      <td>3.065549e+06</td>\n",
       "      <td>3.000000e+06</td>\n",
       "      <td>3.000000e+06</td>\n",
       "      <td>5.000000e+06</td>\n",
       "      <td>1.000000e+07</td>\n",
       "      <td>1.000000e+07</td>\n",
       "    </tr>\n",
       "    <tr>\n",
       "      <th>yukOrani</th>\n",
       "      <td>492.0</td>\n",
       "      <td>2.728751e+04</td>\n",
       "      <td>2.435523e+04</td>\n",
       "      <td>2.242926e+02</td>\n",
       "      <td>7.715098e+03</td>\n",
       "      <td>2.185979e+04</td>\n",
       "      <td>4.177688e+04</td>\n",
       "      <td>1.770201e+05</td>\n",
       "    </tr>\n",
       "  </tbody>\n",
       "</table>\n",
       "</div>"
      ],
      "text/plain": [
       "            count          mean           std           min           25%  \\\n",
       "avgRTT      492.0  8.343111e+02  9.619482e+02  1.520560e+02  2.643825e+02   \n",
       "packetLoss  492.0  2.303523e+00  6.117817e+00  0.000000e+00  0.000000e+00   \n",
       "latency     492.0  8.019512e+01  5.996848e+01  1.300000e+01  5.600000e+01   \n",
       "hopCount    492.0  3.085366e+00  1.017579e+00  1.000000e+00  3.000000e+00   \n",
       "bandwidth   492.0  6.575203e+06  3.065549e+06  3.000000e+06  3.000000e+06   \n",
       "yukOrani    492.0  2.728751e+04  2.435523e+04  2.242926e+02  7.715098e+03   \n",
       "\n",
       "                     50%           75%           max  \n",
       "avgRTT      3.402140e+02  8.015897e+02  4.744949e+03  \n",
       "packetLoss  0.000000e+00  0.000000e+00  4.444444e+01  \n",
       "latency     7.600000e+01  9.400000e+01  1.035000e+03  \n",
       "hopCount    3.000000e+00  4.000000e+00  8.000000e+00  \n",
       "bandwidth   5.000000e+06  1.000000e+07  1.000000e+07  \n",
       "yukOrani    2.185979e+04  4.177688e+04  1.770201e+05  "
      ]
     },
     "execution_count": 387,
     "metadata": {},
     "output_type": "execute_result"
    }
   ],
   "source": [
    "x.describe().T"
   ]
  },
  {
   "cell_type": "code",
   "execution_count": 388,
   "metadata": {},
   "outputs": [],
   "source": [
    "from sklearn.model_selection import train_test_split\n",
    "XTrain,XTest,yTrain,yTest=train_test_split(x,y,test_size=0.5, random_state=42)"
   ]
  },
  {
   "cell_type": "code",
   "execution_count": 389,
   "metadata": {},
   "outputs": [
    {
     "name": "stdout",
     "output_type": "stream",
     "text": [
      "0.3117844095095007\n"
     ]
    }
   ],
   "source": [
    "from sklearn.linear_model import LinearRegression\n",
    "LinModel=LinearRegression()\n",
    "LinModel.fit(XTrain,yTrain)\n",
    "tahmin=LinModel.predict(XTest)\n",
    "from sklearn.metrics import r2_score\n",
    "print(r2_score(yTest,tahmin))"
   ]
  },
  {
   "cell_type": "code",
   "execution_count": 390,
   "metadata": {},
   "outputs": [
    {
     "name": "stdout",
     "output_type": "stream",
     "text": [
      "max_depth : 1 --> score r2 : eğitim:0.26774463052241293 test: 0.2692584279508845\n",
      "max_depth : 2 --> score r2 : eğitim:0.4478330605787112 test: 0.36326300481818163\n",
      "max_depth : 3 --> score r2 : eğitim:0.5784549599392176 test: 0.46154115553991604\n",
      "max_depth : 4 --> score r2 : eğitim:0.6511925917793904 test: 0.484609623506689\n",
      "max_depth : 5 --> score r2 : eğitim:0.755116670140946 test: 0.5287151914061814\n",
      "max_depth : 6 --> score r2 : eğitim:0.8260755152538057 test: 0.5346462097324206\n",
      "max_depth : 7 --> score r2 : eğitim:0.8766114014548194 test: 0.5235640114410893\n",
      "max_depth : 8 --> score r2 : eğitim:0.9193197570536561 test: 0.516303260749591\n",
      "max_depth : 9 --> score r2 : eğitim:0.9391065870265888 test: 0.4991837828551481\n",
      "max_depth : 10 --> score r2 : eğitim:0.9469641848970239 test: 0.5039066773189596\n",
      "max_depth : 11 --> score r2 : eğitim:0.9502601487931926 test: 0.48787305495804345\n",
      "max_depth : 12 --> score r2 : eğitim:0.9519069437613624 test: 0.4782229317090517\n",
      "max_depth : 13 --> score r2 : eğitim:0.957146544693003 test: 0.4819001569770206\n",
      "max_depth : 14 --> score r2 : eğitim:0.9577817227046138 test: 0.4970380401892388\n",
      "max_depth : 15 --> score r2 : eğitim:0.9550163087645989 test: 0.48528660355204156\n",
      "max_depth : 16 --> score r2 : eğitim:0.9524304975732254 test: 0.5016971256577809\n",
      "max_depth : 17 --> score r2 : eğitim:0.9499250089484673 test: 0.48701966426800025\n",
      "max_depth : 18 --> score r2 : eğitim:0.9551743117512072 test: 0.48418761315943903\n",
      "max_depth : 19 --> score r2 : eğitim:0.9545872649487896 test: 0.48917247745893666\n"
     ]
    }
   ],
   "source": [
    "from sklearn.ensemble import RandomForestRegressor\n",
    "for i in range(1,20,1):\n",
    "    rand=RandomForestRegressor(max_depth=i,)\n",
    "    rand.fit(XTrain,yTrain)\n",
    "    tahminRand=rand.predict(XTest)\n",
    "    print(f\"max_depth : {i} --> score r2 : eğitim:{r2_score(yTrain,rand.predict(XTrain))} test: {r2_score(yTest,tahminRand)}\")"
   ]
  },
  {
   "cell_type": "code",
   "execution_count": 391,
   "metadata": {},
   "outputs": [
    {
     "name": "stdout",
     "output_type": "stream",
     "text": [
      "n_neigbors : 1 --> score r2 : eğitim:1.0 test: -0.1548803225826012\n",
      "n_neigbors : 2 --> score r2 : eğitim:0.7379764812966731 test: 0.19839227446821994\n",
      "n_neigbors : 3 --> score r2 : eğitim:0.6393201188615494 test: 0.25417540135538963\n",
      "n_neigbors : 4 --> score r2 : eğitim:0.6020976437409653 test: 0.3038050921338197\n",
      "n_neigbors : 5 --> score r2 : eğitim:0.5977916336512749 test: 0.32423243834726445\n",
      "n_neigbors : 6 --> score r2 : eğitim:0.582321110807358 test: 0.34855376376823966\n",
      "n_neigbors : 7 --> score r2 : eğitim:0.5731800279718604 test: 0.3497847176125106\n",
      "n_neigbors : 8 --> score r2 : eğitim:0.5653071688794153 test: 0.3642444776946372\n",
      "n_neigbors : 9 --> score r2 : eğitim:0.542731580113001 test: 0.36618657104304986\n",
      "n_neigbors : 10 --> score r2 : eğitim:0.5404299495205089 test: 0.3723012962349682\n",
      "n_neigbors : 11 --> score r2 : eğitim:0.5523398444404031 test: 0.3815719445817163\n",
      "n_neigbors : 12 --> score r2 : eğitim:0.5423834358093469 test: 0.3746828687630087\n",
      "n_neigbors : 13 --> score r2 : eğitim:0.5379335307787515 test: 0.38319336579424934\n",
      "n_neigbors : 14 --> score r2 : eğitim:0.5309333902267666 test: 0.3883753519054989\n",
      "n_neigbors : 15 --> score r2 : eğitim:0.5351781263985441 test: 0.3834365306276034\n",
      "n_neigbors : 16 --> score r2 : eğitim:0.532013212385732 test: 0.38313609928464076\n",
      "n_neigbors : 17 --> score r2 : eğitim:0.5232570617937997 test: 0.3896916965376397\n",
      "n_neigbors : 18 --> score r2 : eğitim:0.5223667421976643 test: 0.38680046507930177\n",
      "n_neigbors : 19 --> score r2 : eğitim:0.5143502283531134 test: 0.39896877033156475\n"
     ]
    }
   ],
   "source": [
    "from sklearn.neighbors import KNeighborsRegressor\n",
    "for i in range(1,20,1):\n",
    "    KNN=KNeighborsRegressor(n_neighbors=i)\n",
    "    KNN.fit(XTrain,yTrain)\n",
    "    tahminKNN=KNN.predict(XTest)\n",
    "    print(f\"n_neigbors : {i} --> score r2 : eğitim:{r2_score(yTrain,KNN.predict(XTrain))} test: {r2_score(yTest,tahminKNN)}\")"
   ]
  },
  {
   "cell_type": "code",
   "execution_count": 392,
   "metadata": {},
   "outputs": [
    {
     "name": "stdout",
     "output_type": "stream",
     "text": [
      "max_depth : 1 --> score r2 : eğitim:0.25400484622576047 test: 0.263429312023464\n"
     ]
    },
    {
     "name": "stdout",
     "output_type": "stream",
     "text": [
      "max_depth : 2 --> score r2 : eğitim:0.4060333796873429 test: 0.23850460533255857\n",
      "max_depth : 3 --> score r2 : eğitim:0.49450526033505493 test: 0.4101867036945527\n",
      "max_depth : 4 --> score r2 : eğitim:0.6497748118727547 test: 0.5051792289658911\n",
      "max_depth : 5 --> score r2 : eğitim:0.7389043482166614 test: 0.3727771195505819\n",
      "max_depth : 6 --> score r2 : eğitim:0.821255662602485 test: 0.4135020614437229\n",
      "max_depth : 7 --> score r2 : eğitim:0.8761846961574423 test: 0.4195226629652401\n",
      "max_depth : 8 --> score r2 : eğitim:0.9097951991113545 test: 0.35560346494990835\n",
      "max_depth : 9 --> score r2 : eğitim:0.9546943195062423 test: 0.28627625051917316\n",
      "max_depth : 10 --> score r2 : eğitim:0.976977568666778 test: 0.2950702725025257\n",
      "max_depth : 11 --> score r2 : eğitim:0.9907673765169206 test: 0.24462900073528804\n",
      "max_depth : 12 --> score r2 : eğitim:0.9995661139610573 test: 0.21925031628299463\n",
      "max_depth : 13 --> score r2 : eğitim:0.9999110948177423 test: 0.1952518479760572\n",
      "max_depth : 14 --> score r2 : eğitim:0.999993695789988 test: 0.2238805971413773\n",
      "max_depth : 15 --> score r2 : eğitim:0.9999971015460947 test: 0.22142130385985914\n",
      "max_depth : 16 --> score r2 : eğitim:0.9999995592124039 test: 0.25229205286589873\n",
      "max_depth : 17 --> score r2 : eğitim:0.9999999079305578 test: 0.2726771347356203\n",
      "max_depth : 18 --> score r2 : eğitim:0.9999999943687227 test: 0.23432105532408665\n",
      "max_depth : 19 --> score r2 : eğitim:1.0 test: 0.24491121818546235\n"
     ]
    }
   ],
   "source": [
    "from sklearn.tree import DecisionTreeRegressor\n",
    "for i in range(1,20,1):\n",
    "    DT=DecisionTreeRegressor(max_depth=i)\n",
    "    DT.fit(XTrain,yTrain)\n",
    "    tahminDT=DT.predict(XTest)\n",
    "    print(f\"max_depth : {i} --> score r2 : eğitim:{r2_score(yTrain,DT.predict(XTrain))} test: {r2_score(yTest,tahminDT)}\")"
   ]
  },
  {
   "cell_type": "code",
   "execution_count": 393,
   "metadata": {},
   "outputs": [
    {
     "name": "stdout",
     "output_type": "stream",
     "text": [
      "max_depth : 1 --> score r2 : eğitim:0.537888125197576 test: 0.3927000537607821\n",
      "max_depth : 2 --> score r2 : eğitim:0.7962640817801152 test: 0.49194764247367107\n",
      "max_depth : 3 --> score r2 : eğitim:0.9027947024380659 test: 0.5037514851057314\n",
      "max_depth : 4 --> score r2 : eğitim:0.9665124135262546 test: 0.5012040098252204\n",
      "max_depth : 5 --> score r2 : eğitim:0.9916497050050475 test: 0.5023340126617293\n",
      "max_depth : 6 --> score r2 : eğitim:0.9981831049683099 test: 0.4662178973609242\n",
      "max_depth : 7 --> score r2 : eğitim:0.9996499783047634 test: 0.4594760774796971\n",
      "max_depth : 8 --> score r2 : eğitim:0.9999535545962706 test: 0.4012459907388747\n",
      "max_depth : 9 --> score r2 : eğitim:0.9999942174876842 test: 0.33148075332392013\n"
     ]
    }
   ],
   "source": [
    "from sklearn.ensemble import GradientBoostingRegressor\n",
    "for i in range(1,10,1):\n",
    "    gbr=GradientBoostingRegressor(max_depth=i,loss='squared_error')\n",
    "    gbr.fit(XTrain,yTrain)\n",
    "    tahminGbr=gbr.predict(XTest)\n",
    "    print(f\"max_depth : {i} --> score r2 : eğitim:{r2_score(yTrain,gbr.predict(XTrain))} test: {r2_score(yTest,tahminGbr)}\")"
   ]
  },
  {
   "cell_type": "code",
   "execution_count": 394,
   "metadata": {},
   "outputs": [
    {
     "name": "stdout",
     "output_type": "stream",
     "text": [
      "0.4772592841982557\n"
     ]
    }
   ],
   "source": [
    "from xgboost import XGBRegressor\n",
    "xgb=XGBRegressor()\n",
    "xgb.fit(XTrain,yTrain)\n",
    "tahminXGB=xgb.predict(XTest)\n",
    "print(r2_score(yTest,tahminXGB))"
   ]
  },
  {
   "cell_type": "code",
   "execution_count": 395,
   "metadata": {},
   "outputs": [
    {
     "name": "stdout",
     "output_type": "stream",
     "text": [
      "ransac -> 0.5031824130809641\n"
     ]
    }
   ],
   "source": [
    "from sklearn.linear_model import RANSACRegressor\n",
    "ransac=RandomForestRegressor(random_state=42)\n",
    "ransac.fit(XTrain,yTrain)\n",
    "tahminRansac=ransac.predict(XTest)\n",
    "print(f\"ransac -> {r2_score(yTest,tahminRansac)}\")"
   ]
  },
  {
   "cell_type": "code",
   "execution_count": 396,
   "metadata": {},
   "outputs": [
    {
     "name": "stdout",
     "output_type": "stream",
     "text": [
      "max_depth : 1 --> score r2 : eğitim:0.21574362730177565 test: 0.21331132638587802\n",
      "max_depth : 2 --> score r2 : eğitim:0.3949290166727176 test: 0.34750520905512416\n",
      "max_depth : 3 --> score r2 : eğitim:0.5042245570856099 test: 0.41412235100548045\n",
      "max_depth : 4 --> score r2 : eğitim:0.6272820207482693 test: 0.5008269218171246\n",
      "max_depth : 5 --> score r2 : eğitim:0.729654709691441 test: 0.5428999638361509\n",
      "max_depth : 6 --> score r2 : eğitim:0.7772014369731035 test: 0.5390253497990726\n",
      "max_depth : 7 --> score r2 : eğitim:0.8307416413187483 test: 0.5349344902952765\n",
      "max_depth : 8 --> score r2 : eğitim:0.8862847208276254 test: 0.5291579808295142\n",
      "max_depth : 9 --> score r2 : eğitim:0.9140302229798472 test: 0.5327806390187412\n"
     ]
    }
   ],
   "source": [
    "from sklearn.ensemble import ExtraTreesRegressor\n",
    "for i in range(1,10,1):\n",
    "    exTree=ExtraTreesRegressor(max_depth=i)\n",
    "    exTree.fit(XTrain,yTrain)\n",
    "    tahminExTree=exTree.predict(XTest)\n",
    "    print(f\"max_depth : {i} --> score r2 : eğitim:{r2_score(yTrain,exTree.predict(XTrain))} test: {r2_score(yTest,tahminExTree)}\")"
   ]
  },
  {
   "cell_type": "code",
   "execution_count": 397,
   "metadata": {},
   "outputs": [
    {
     "data": {
      "text/plain": [
       "array([0.98561018, 0.93993902, 0.91686089, 0.9997457 , 0.99630069,\n",
       "       0.88771781, 0.92380934, 0.91810088, 0.97616447, 1.0068351 ,\n",
       "       0.94869668, 0.95864948, 1.00038406, 0.85667432, 0.97616471,\n",
       "       0.9959367 , 0.99780732, 0.9784795 , 0.99718075, 0.69642472,\n",
       "       0.65953161, 0.9653554 , 0.66232403, 0.65831476, 0.99345108,\n",
       "       0.71305257, 0.69439137, 1.00393747, 0.97641682, 0.93284698,\n",
       "       0.99461829, 0.80016713, 0.55756036, 1.00388971, 0.95509552,\n",
       "       0.92540808, 0.98600886, 0.74156394, 1.00094308, 0.70054286,\n",
       "       1.00670121, 0.99832803, 0.99946888, 0.98808622, 0.92847257,\n",
       "       0.88475091, 0.98669396, 0.6736083 , 0.99078284, 0.980621  ,\n",
       "       0.99594642, 0.99859243, 0.55799297, 0.98114263, 1.00440097,\n",
       "       1.00332883, 0.94806731, 0.93718006, 0.86784803, 0.95908327,\n",
       "       0.53891525, 0.70165634, 0.98781001, 0.84489419, 0.93216697,\n",
       "       0.96106572, 0.66727337, 0.68064001, 1.00333489, 0.95960953,\n",
       "       1.0026889 , 0.95765457, 0.71990966, 0.93564535, 0.99993226,\n",
       "       0.99749999, 0.9941392 , 0.51905211, 0.99469089, 1.00435672,\n",
       "       0.95728662, 0.94109102, 1.00510249, 0.99601709, 0.95779377,\n",
       "       0.99087348, 0.99198526, 0.98650125, 0.99735685, 0.71282395,\n",
       "       0.95546408, 0.94617138, 0.65534514, 0.98311042, 0.97087894,\n",
       "       0.71026544, 0.96265235, 0.94360273, 0.84333238, 0.9930319 ,\n",
       "       0.87275873, 1.00597673, 0.93112611, 0.9190949 , 0.98542344,\n",
       "       0.7070549 , 0.68168031, 0.99016027, 0.87343255, 0.95302731,\n",
       "       0.81517739, 0.88303757, 0.98873776, 0.64039275, 0.9268188 ,\n",
       "       0.95809845, 1.00132152, 0.64488709, 0.97904933, 0.97323564,\n",
       "       0.9999927 , 0.95173101, 0.98568293, 0.95712193, 0.94682072,\n",
       "       0.99110092, 0.98546824, 0.99663362, 0.78275285, 0.9578318 ,\n",
       "       0.9863568 , 0.96100685, 0.658387  , 0.98858347, 0.97961299,\n",
       "       1.00614602, 1.00628425, 0.74822306, 0.50179805, 0.95434023,\n",
       "       0.97156148, 0.91477523, 0.66870439, 0.65918805, 0.88748196,\n",
       "       0.59681687, 0.96584201, 0.69719264, 0.95465795, 0.95544189,\n",
       "       0.71798409, 0.94820548, 1.00234186, 0.87806713, 0.99420719,\n",
       "       0.83780404, 0.66169029, 0.98122856, 0.83685421, 0.96520992,\n",
       "       0.95343825, 0.99580797, 1.00999505, 0.6396517 , 1.00045357,\n",
       "       0.69918786, 0.92407674, 0.97679811, 0.66747407, 0.77416084,\n",
       "       1.00180107, 0.69069584, 0.71576082, 0.69358436, 0.96445239,\n",
       "       0.75500377, 0.71246158, 0.99469917, 0.67393377, 0.98385818,\n",
       "       1.00188295, 0.97330864, 0.7192412 , 0.59327848, 0.85789868,\n",
       "       0.9528412 , 0.96281724, 1.01151212, 0.98560844, 0.99952516,\n",
       "       0.88765982, 0.91958017, 0.98436662, 0.65611184, 0.88259499,\n",
       "       0.70020265, 0.55770545, 0.96263264, 0.99994022, 0.9738942 ,\n",
       "       0.56982157, 0.97056383, 0.51890582, 0.99749269, 0.97197335,\n",
       "       0.9999706 , 0.68550972, 0.97726252, 0.61128   , 0.65718401,\n",
       "       0.73606438, 0.70770823, 0.94862467, 1.00584892, 0.84221812,\n",
       "       0.98862229, 0.71478878, 0.66771441, 0.70850849, 0.99749914,\n",
       "       0.95040449, 0.72119643, 0.95999848, 0.85052963, 0.95743967,\n",
       "       0.95787768, 0.98689583, 0.87513033, 0.99577468, 0.97125053,\n",
       "       0.99500771, 0.55922529, 0.91681898, 0.7187271 , 1.00026306,\n",
       "       1.00513339, 0.92413919, 0.99085235, 0.98761311, 0.66270707,\n",
       "       0.98335261, 0.97680455, 0.79353051, 0.99131015, 0.97554716,\n",
       "       0.87250656])"
      ]
     },
     "execution_count": 397,
     "metadata": {},
     "output_type": "execute_result"
    }
   ],
   "source": [
    "tahminGbr"
   ]
  },
  {
   "cell_type": "code",
   "execution_count": 398,
   "metadata": {},
   "outputs": [
    {
     "data": {
      "text/plain": [
       "79     0.999765\n",
       "55     0.956700\n",
       "273    0.916340\n",
       "287    0.999765\n",
       "63     0.999765\n",
       "         ...   \n",
       "290    0.999765\n",
       "199    0.802060\n",
       "483    0.750866\n",
       "388    0.710734\n",
       "249    0.778932\n",
       "Name: ssim_first, Length: 246, dtype: float64"
      ]
     },
     "execution_count": 398,
     "metadata": {},
     "output_type": "execute_result"
    }
   ],
   "source": [
    "yTest"
   ]
  },
  {
   "cell_type": "code",
   "execution_count": 399,
   "metadata": {},
   "outputs": [
    {
     "data": {
      "text/plain": [
       "195    0.952839\n",
       "90     0.999765\n",
       "147    0.999765\n",
       "164    0.969434\n",
       "349    0.999765\n",
       "         ...   \n",
       "107    0.999756\n",
       "271    0.534366\n",
       "350    0.999765\n",
       "437    0.680401\n",
       "103    0.999765\n",
       "Name: ssim_first, Length: 246, dtype: float64"
      ]
     },
     "execution_count": 399,
     "metadata": {},
     "output_type": "execute_result"
    }
   ],
   "source": [
    "yTrain"
   ]
  },
  {
   "cell_type": "code",
   "execution_count": 400,
   "metadata": {},
   "outputs": [],
   "source": [
    "from sklearn.preprocessing import MinMaxScaler\n",
    "scaler=MinMaxScaler()\n",
    "XTrain[sayisal_veriler]=scaler.fit_transform(XTrain[sayisal_veriler])\n",
    "XTest[sayisal_veriler]=scaler.transform(XTest[sayisal_veriler])"
   ]
  },
  {
   "cell_type": "code",
   "execution_count": 401,
   "metadata": {},
   "outputs": [
    {
     "name": "stdout",
     "output_type": "stream",
     "text": [
      "0.31178440949356634\n"
     ]
    }
   ],
   "source": [
    "from sklearn.linear_model import LinearRegression\n",
    "LogModel=LinearRegression()\n",
    "LogModel.fit(XTrain,yTrain)\n",
    "tahmin=LogModel.predict(XTest)\n",
    "from sklearn.metrics import r2_score\n",
    "print(r2_score(yTest,tahmin))"
   ]
  },
  {
   "cell_type": "code",
   "execution_count": 402,
   "metadata": {},
   "outputs": [
    {
     "name": "stdout",
     "output_type": "stream",
     "text": [
      "n_neigbors : 1 --> score r2 : eğitim:1.0 test: 0.13107704508419693\n",
      "n_neigbors : 2 --> score r2 : eğitim:0.8583230659519907 test: 0.32700695153592774\n",
      "n_neigbors : 3 --> score r2 : eğitim:0.8118487474907485 test: 0.3825682780293569\n",
      "n_neigbors : 4 --> score r2 : eğitim:0.7639201556107341 test: 0.377594515307889\n",
      "n_neigbors : 5 --> score r2 : eğitim:0.7603734488692415 test: 0.39137679572813966\n",
      "n_neigbors : 6 --> score r2 : eğitim:0.7426451901314068 test: 0.42164219832545824\n",
      "n_neigbors : 7 --> score r2 : eğitim:0.7185020475667423 test: 0.44001869753261247\n",
      "n_neigbors : 8 --> score r2 : eğitim:0.7001599470223397 test: 0.4441661858167023\n",
      "n_neigbors : 9 --> score r2 : eğitim:0.6802891509669455 test: 0.44344367750903735\n",
      "n_neigbors : 10 --> score r2 : eğitim:0.6605825999345523 test: 0.4464344283056886\n",
      "n_neigbors : 11 --> score r2 : eğitim:0.6541889820201996 test: 0.4449884731426894\n",
      "n_neigbors : 12 --> score r2 : eğitim:0.6518656283310946 test: 0.44638035829238776\n",
      "n_neigbors : 13 --> score r2 : eğitim:0.6466186736915962 test: 0.46114894633960424\n",
      "n_neigbors : 14 --> score r2 : eğitim:0.6298546134640922 test: 0.460496466943612\n"
     ]
    },
    {
     "name": "stdout",
     "output_type": "stream",
     "text": [
      "n_neigbors : 15 --> score r2 : eğitim:0.6212851669741525 test: 0.4752585960222607\n",
      "n_neigbors : 16 --> score r2 : eğitim:0.6270923650642446 test: 0.4769580241928336\n",
      "n_neigbors : 17 --> score r2 : eğitim:0.6180629771408144 test: 0.4843611040214728\n",
      "n_neigbors : 18 --> score r2 : eğitim:0.6078724106841237 test: 0.4884508839617109\n",
      "n_neigbors : 19 --> score r2 : eğitim:0.5996436641616587 test: 0.4840191974233313\n"
     ]
    }
   ],
   "source": [
    "from sklearn.neighbors import KNeighborsRegressor\n",
    "for i in range(1,20,1):\n",
    "    KNN=KNeighborsRegressor(n_neighbors=i)\n",
    "    KNN.fit(XTrain,yTrain)\n",
    "    tahminKNN=KNN.predict(XTest)\n",
    "    print(f\"n_neigbors : {i} --> score r2 : eğitim:{r2_score(yTrain,KNN.predict(XTrain))} test: {r2_score(yTest,tahminKNN)}\")"
   ]
  },
  {
   "cell_type": "code",
   "execution_count": 403,
   "metadata": {},
   "outputs": [
    {
     "name": "stdout",
     "output_type": "stream",
     "text": [
      "max_depth : 1 --> score r2 : eğitim:0.2346178504546358 test: 0.21677217638640023\n",
      "max_depth : 2 --> score r2 : eğitim:0.43696985488371076 test: 0.3715388691314222\n",
      "max_depth : 3 --> score r2 : eğitim:0.5790283878700428 test: 0.4684449777457098\n",
      "max_depth : 4 --> score r2 : eğitim:0.6942065830845565 test: 0.5259766804678981\n",
      "max_depth : 5 --> score r2 : eğitim:0.7742183085412203 test: 0.5451446469809218\n",
      "max_depth : 6 --> score r2 : eğitim:0.8324228734203984 test: 0.5560077895320815\n",
      "max_depth : 7 --> score r2 : eğitim:0.8837748034144219 test: 0.5637729143995136\n",
      "max_depth : 8 --> score r2 : eğitim:0.9140609430907303 test: 0.5408348297497052\n",
      "max_depth : 9 --> score r2 : eğitim:0.9333129473299961 test: 0.5296843027322421\n",
      "max_depth : 10 --> score r2 : eğitim:0.9477333010217952 test: 0.5319491524414035\n",
      "max_depth : 11 --> score r2 : eğitim:0.9540030061170953 test: 0.5407738575968453\n",
      "max_depth : 12 --> score r2 : eğitim:0.9569315279929701 test: 0.5163335694503006\n",
      "max_depth : 13 --> score r2 : eğitim:0.9581605809540229 test: 0.5264339688931776\n",
      "max_depth : 14 --> score r2 : eğitim:0.9577351985768627 test: 0.5243185077662693\n",
      "max_depth : 15 --> score r2 : eğitim:0.9575255940477074 test: 0.5306152702106193\n",
      "max_depth : 16 --> score r2 : eğitim:0.9571694650539234 test: 0.527490381988786\n",
      "max_depth : 17 --> score r2 : eğitim:0.9575081746592722 test: 0.5257613892387283\n",
      "max_depth : 18 --> score r2 : eğitim:0.9574992051879295 test: 0.5260919437673155\n",
      "max_depth : 19 --> score r2 : eğitim:0.957415196243432 test: 0.5264798716910912\n"
     ]
    }
   ],
   "source": [
    "from sklearn.ensemble import RandomForestRegressor\n",
    "for i in range(1,20,1):\n",
    "    rand=RandomForestRegressor(max_depth=i,bootstrap=True,criterion=\"friedman_mse\",max_features='log2',max_leaf_nodes=None,n_estimators=100,n_jobs=1,random_state=42)\n",
    "    rand.fit(XTrain,yTrain)\n",
    "    tahminRand=rand.predict(XTest)\n",
    "    print(f\"max_depth : {i} --> score r2 : eğitim:{r2_score(yTrain,rand.predict(XTrain))} test: {r2_score(yTest,tahminRand)}\")"
   ]
  },
  {
   "cell_type": "code",
   "execution_count": 404,
   "metadata": {},
   "outputs": [
    {
     "name": "stdout",
     "output_type": "stream",
     "text": [
      "max_depth : 1 --> score r2 : eğitim:0.25400484622576047 test: 0.2634293120234642\n",
      "max_depth : 2 --> score r2 : eğitim:0.4060333796873429 test: 0.23850460533255857\n",
      "max_depth : 3 --> score r2 : eğitim:0.49450526033505493 test: 0.41018670369455257\n"
     ]
    },
    {
     "name": "stdout",
     "output_type": "stream",
     "text": [
      "max_depth : 4 --> score r2 : eğitim:0.6497748118727547 test: 0.5028493125165744\n",
      "max_depth : 5 --> score r2 : eğitim:0.7389043482166613 test: 0.3708540847150904\n",
      "max_depth : 6 --> score r2 : eğitim:0.821255662602485 test: 0.41930650661062063\n",
      "max_depth : 7 --> score r2 : eğitim:0.8761846961574423 test: 0.3801876517268139\n",
      "max_depth : 8 --> score r2 : eğitim:0.9097951991113545 test: 0.33512478616308206\n",
      "max_depth : 9 --> score r2 : eğitim:0.9546943195062423 test: 0.2950036653159508\n",
      "max_depth : 10 --> score r2 : eğitim:0.976977568666778 test: 0.2505007685641575\n",
      "max_depth : 11 --> score r2 : eğitim:0.9907673765169206 test: 0.24394030519478938\n",
      "max_depth : 12 --> score r2 : eğitim:0.9995661139610573 test: 0.1875509554733733\n",
      "max_depth : 13 --> score r2 : eğitim:0.9999110948177423 test: 0.22934377842132614\n",
      "max_depth : 14 --> score r2 : eğitim:0.999993695789988 test: 0.18915629630139064\n",
      "max_depth : 15 --> score r2 : eğitim:0.9999971015460947 test: 0.23070003246859905\n",
      "max_depth : 16 --> score r2 : eğitim:0.9999995592124039 test: 0.1914724233648456\n",
      "max_depth : 17 --> score r2 : eğitim:0.9999999079305578 test: 0.2443632080346202\n",
      "max_depth : 18 --> score r2 : eğitim:0.9999999943687227 test: 0.23863695108622351\n",
      "max_depth : 19 --> score r2 : eğitim:1.0 test: 0.2138092343666652\n"
     ]
    }
   ],
   "source": [
    "from sklearn.tree import DecisionTreeRegressor\n",
    "for i in range(1,20,1):\n",
    "    DT=DecisionTreeRegressor(max_depth=i)\n",
    "    DT.fit(XTrain,yTrain)\n",
    "    tahminDT=DT.predict(XTest)\n",
    "    print(f\"max_depth : {i} --> score r2 : eğitim:{r2_score(yTrain,DT.predict(XTrain))} test: {r2_score(yTest,tahminDT)}\")"
   ]
  },
  {
   "cell_type": "code",
   "execution_count": 405,
   "metadata": {},
   "outputs": [
    {
     "name": "stdout",
     "output_type": "stream",
     "text": [
      "max_depth : 1 --> score r2 : eğitim:0.5378881251975762 test: 0.3927000537607822\n",
      "max_depth : 2 --> score r2 : eğitim:0.7962640817801152 test: 0.49261553329720653\n",
      "max_depth : 3 --> score r2 : eğitim:0.9027947024380658 test: 0.5043887170182006\n",
      "max_depth : 4 --> score r2 : eğitim:0.9665124135262546 test: 0.4994077845204554\n",
      "max_depth : 5 --> score r2 : eğitim:0.9916497050050475 test: 0.5064097759557803\n",
      "max_depth : 6 --> score r2 : eğitim:0.9981831049683099 test: 0.45562585596424976\n",
      "max_depth : 7 --> score r2 : eğitim:0.9996499783047634 test: 0.45781764598624985\n",
      "max_depth : 8 --> score r2 : eğitim:0.9999535545962706 test: 0.39380647406043834\n",
      "max_depth : 9 --> score r2 : eğitim:0.9999942174876842 test: 0.3393643591531733\n"
     ]
    }
   ],
   "source": [
    "from sklearn.ensemble import GradientBoostingRegressor\n",
    "for i in range(1,10,1):\n",
    "    gbr=GradientBoostingRegressor(max_depth=i,loss='squared_error')\n",
    "    gbr.fit(XTrain,yTrain)\n",
    "    tahminGbr=gbr.predict(XTest)\n",
    "    print(f\"max_depth : {i} --> score r2 : eğitim:{r2_score(yTrain,gbr.predict(XTrain))} test: {r2_score(yTest,tahminGbr)}\")"
   ]
  },
  {
   "cell_type": "code",
   "execution_count": null,
   "metadata": {},
   "outputs": [],
   "source": []
  }
 ],
 "metadata": {
  "kernelspec": {
   "display_name": "Python 3",
   "language": "python",
   "name": "python3"
  },
  "language_info": {
   "codemirror_mode": {
    "name": "ipython",
    "version": 3
   },
   "file_extension": ".py",
   "mimetype": "text/x-python",
   "name": "python",
   "nbconvert_exporter": "python",
   "pygments_lexer": "ipython3",
   "version": "3.10.12"
  }
 },
 "nbformat": 4,
 "nbformat_minor": 2
}
