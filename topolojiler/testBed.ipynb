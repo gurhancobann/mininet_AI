{
 "cells": [
  {
   "cell_type": "code",
   "execution_count": 35,
   "metadata": {},
   "outputs": [],
   "source": [
    "import pandas as pd\n",
    "import numpy as num_paths\n",
    "import matplotlib.pyplot as psnrResault\n",
    "import seaborn as sns\n",
    "import warnings\n",
    "warnings.filterwarnings(\"ignore\")\n",
    "from matplotlib import pyplot as plt"
   ]
  },
  {
   "cell_type": "code",
   "execution_count": 36,
   "metadata": {},
   "outputs": [],
   "source": [
    "df=pd.read_csv(\"dataTest.csv\")"
   ]
  },
  {
   "cell_type": "code",
   "execution_count": 37,
   "metadata": {},
   "outputs": [
    {
     "data": {
      "text/html": [
       "<div>\n",
       "<style scoped>\n",
       "    .dataframe tbody tr th:only-of-type {\n",
       "        vertical-align: middle;\n",
       "    }\n",
       "\n",
       "    .dataframe tbody tr th {\n",
       "        vertical-align: top;\n",
       "    }\n",
       "\n",
       "    .dataframe thead th {\n",
       "        text-align: right;\n",
       "    }\n",
       "</style>\n",
       "<table border=\"1\" class=\"dataframe\">\n",
       "  <thead>\n",
       "    <tr style=\"text-align: right;\">\n",
       "      <th></th>\n",
       "      <th>host</th>\n",
       "      <th>avgRTT</th>\n",
       "      <th>packetLoss</th>\n",
       "      <th>latency</th>\n",
       "      <th>hopCount</th>\n",
       "      <th>bandwidth</th>\n",
       "      <th>yukOrani</th>\n",
       "      <th>psnr</th>\n",
       "      <th>ssim_first</th>\n",
       "      <th>ssim_second</th>\n",
       "      <th>type</th>\n",
       "      <th>server</th>\n",
       "    </tr>\n",
       "  </thead>\n",
       "  <tbody>\n",
       "    <tr>\n",
       "      <th>0</th>\n",
       "      <td>h1</td>\n",
       "      <td>1898.137</td>\n",
       "      <td>0.0</td>\n",
       "      <td>66</td>\n",
       "      <td>4</td>\n",
       "      <td>3000000</td>\n",
       "      <td>2011.425000</td>\n",
       "      <td>31.225948</td>\n",
       "      <td>0.985150</td>\n",
       "      <td>18.282783</td>\n",
       "      <td>3</td>\n",
       "      <td>h10</td>\n",
       "    </tr>\n",
       "    <tr>\n",
       "      <th>1</th>\n",
       "      <td>h2</td>\n",
       "      <td>2240.660</td>\n",
       "      <td>0.0</td>\n",
       "      <td>44</td>\n",
       "      <td>3</td>\n",
       "      <td>3000000</td>\n",
       "      <td>1859.161290</td>\n",
       "      <td>31.225948</td>\n",
       "      <td>0.985150</td>\n",
       "      <td>18.282674</td>\n",
       "      <td>3</td>\n",
       "      <td>h14</td>\n",
       "    </tr>\n",
       "    <tr>\n",
       "      <th>2</th>\n",
       "      <td>h3</td>\n",
       "      <td>2196.294</td>\n",
       "      <td>0.0</td>\n",
       "      <td>40</td>\n",
       "      <td>2</td>\n",
       "      <td>3000000</td>\n",
       "      <td>9084.620155</td>\n",
       "      <td>22.700112</td>\n",
       "      <td>0.956348</td>\n",
       "      <td>13.599976</td>\n",
       "      <td>3</td>\n",
       "      <td>h14</td>\n",
       "    </tr>\n",
       "    <tr>\n",
       "      <th>3</th>\n",
       "      <td>h4</td>\n",
       "      <td>1298.732</td>\n",
       "      <td>0.0</td>\n",
       "      <td>60</td>\n",
       "      <td>3</td>\n",
       "      <td>3000000</td>\n",
       "      <td>25815.963636</td>\n",
       "      <td>22.301604</td>\n",
       "      <td>0.960533</td>\n",
       "      <td>14.037636</td>\n",
       "      <td>3</td>\n",
       "      <td>h14</td>\n",
       "    </tr>\n",
       "    <tr>\n",
       "      <th>4</th>\n",
       "      <td>h5</td>\n",
       "      <td>338.105</td>\n",
       "      <td>0.0</td>\n",
       "      <td>92</td>\n",
       "      <td>4</td>\n",
       "      <td>3000000</td>\n",
       "      <td>37246.273632</td>\n",
       "      <td>22.510259</td>\n",
       "      <td>0.958593</td>\n",
       "      <td>13.829213</td>\n",
       "      <td>3</td>\n",
       "      <td>h10</td>\n",
       "    </tr>\n",
       "  </tbody>\n",
       "</table>\n",
       "</div>"
      ],
      "text/plain": [
       "  host    avgRTT  packetLoss  latency  hopCount  bandwidth      yukOrani  \\\n",
       "0   h1  1898.137         0.0       66         4    3000000   2011.425000   \n",
       "1   h2  2240.660         0.0       44         3    3000000   1859.161290   \n",
       "2   h3  2196.294         0.0       40         2    3000000   9084.620155   \n",
       "3   h4  1298.732         0.0       60         3    3000000  25815.963636   \n",
       "4   h5   338.105         0.0       92         4    3000000  37246.273632   \n",
       "\n",
       "        psnr  ssim_first  ssim_second  type server  \n",
       "0  31.225948    0.985150    18.282783     3    h10  \n",
       "1  31.225948    0.985150    18.282674     3    h14  \n",
       "2  22.700112    0.956348    13.599976     3    h14  \n",
       "3  22.301604    0.960533    14.037636     3    h14  \n",
       "4  22.510259    0.958593    13.829213     3    h10  "
      ]
     },
     "execution_count": 37,
     "metadata": {},
     "output_type": "execute_result"
    }
   ],
   "source": [
    "df=pd.DataFrame(df)\n",
    "df.head()"
   ]
  },
  {
   "cell_type": "code",
   "execution_count": 38,
   "metadata": {},
   "outputs": [
    {
     "data": {
      "text/html": [
       "<div>\n",
       "<style scoped>\n",
       "    .dataframe tbody tr th:only-of-type {\n",
       "        vertical-align: middle;\n",
       "    }\n",
       "\n",
       "    .dataframe tbody tr th {\n",
       "        vertical-align: top;\n",
       "    }\n",
       "\n",
       "    .dataframe thead th {\n",
       "        text-align: right;\n",
       "    }\n",
       "</style>\n",
       "<table border=\"1\" class=\"dataframe\">\n",
       "  <thead>\n",
       "    <tr style=\"text-align: right;\">\n",
       "      <th></th>\n",
       "      <th>count</th>\n",
       "      <th>mean</th>\n",
       "      <th>std</th>\n",
       "      <th>min</th>\n",
       "      <th>25%</th>\n",
       "      <th>50%</th>\n",
       "      <th>75%</th>\n",
       "      <th>max</th>\n",
       "    </tr>\n",
       "  </thead>\n",
       "  <tbody>\n",
       "    <tr>\n",
       "      <th>avgRTT</th>\n",
       "      <td>281.0</td>\n",
       "      <td>1.232612e+03</td>\n",
       "      <td>1.101779e+03</td>\n",
       "      <td>1.529400e+02</td>\n",
       "      <td>3.240470e+02</td>\n",
       "      <td>5.744900e+02</td>\n",
       "      <td>2.205335e+03</td>\n",
       "      <td>4.744949e+03</td>\n",
       "    </tr>\n",
       "    <tr>\n",
       "      <th>packetLoss</th>\n",
       "      <td>281.0</td>\n",
       "      <td>0.000000e+00</td>\n",
       "      <td>0.000000e+00</td>\n",
       "      <td>0.000000e+00</td>\n",
       "      <td>0.000000e+00</td>\n",
       "      <td>0.000000e+00</td>\n",
       "      <td>0.000000e+00</td>\n",
       "      <td>0.000000e+00</td>\n",
       "    </tr>\n",
       "    <tr>\n",
       "      <th>latency</th>\n",
       "      <td>281.0</td>\n",
       "      <td>7.437011e+01</td>\n",
       "      <td>3.445243e+01</td>\n",
       "      <td>1.300000e+01</td>\n",
       "      <td>5.300000e+01</td>\n",
       "      <td>7.400000e+01</td>\n",
       "      <td>9.000000e+01</td>\n",
       "      <td>3.580000e+02</td>\n",
       "    </tr>\n",
       "    <tr>\n",
       "      <th>hopCount</th>\n",
       "      <td>281.0</td>\n",
       "      <td>3.071174e+00</td>\n",
       "      <td>1.032640e+00</td>\n",
       "      <td>1.000000e+00</td>\n",
       "      <td>3.000000e+00</td>\n",
       "      <td>3.000000e+00</td>\n",
       "      <td>4.000000e+00</td>\n",
       "      <td>8.000000e+00</td>\n",
       "    </tr>\n",
       "    <tr>\n",
       "      <th>bandwidth</th>\n",
       "      <td>281.0</td>\n",
       "      <td>4.003559e+06</td>\n",
       "      <td>1.001778e+06</td>\n",
       "      <td>3.000000e+06</td>\n",
       "      <td>3.000000e+06</td>\n",
       "      <td>5.000000e+06</td>\n",
       "      <td>5.000000e+06</td>\n",
       "      <td>5.000000e+06</td>\n",
       "    </tr>\n",
       "    <tr>\n",
       "      <th>yukOrani</th>\n",
       "      <td>281.0</td>\n",
       "      <td>3.127766e+04</td>\n",
       "      <td>2.685228e+04</td>\n",
       "      <td>4.751573e+02</td>\n",
       "      <td>9.002323e+03</td>\n",
       "      <td>2.581596e+04</td>\n",
       "      <td>4.484714e+04</td>\n",
       "      <td>1.770201e+05</td>\n",
       "    </tr>\n",
       "    <tr>\n",
       "      <th>psnr</th>\n",
       "      <td>281.0</td>\n",
       "      <td>3.302203e+01</td>\n",
       "      <td>1.619637e+01</td>\n",
       "      <td>1.267172e+01</td>\n",
       "      <td>2.124576e+01</td>\n",
       "      <td>2.279840e+01</td>\n",
       "      <td>5.505260e+01</td>\n",
       "      <td>5.506194e+01</td>\n",
       "    </tr>\n",
       "    <tr>\n",
       "      <th>ssim_first</th>\n",
       "      <td>281.0</td>\n",
       "      <td>9.112046e-01</td>\n",
       "      <td>1.305980e-01</td>\n",
       "      <td>5.138590e-01</td>\n",
       "      <td>9.014280e-01</td>\n",
       "      <td>9.607070e-01</td>\n",
       "      <td>9.997650e-01</td>\n",
       "      <td>9.997650e-01</td>\n",
       "    </tr>\n",
       "    <tr>\n",
       "      <th>ssim_second</th>\n",
       "      <td>281.0</td>\n",
       "      <td>1.961919e+01</td>\n",
       "      <td>1.235517e+01</td>\n",
       "      <td>3.132379e+00</td>\n",
       "      <td>1.006246e+01</td>\n",
       "      <td>1.405682e+01</td>\n",
       "      <td>3.628266e+01</td>\n",
       "      <td>3.628266e+01</td>\n",
       "    </tr>\n",
       "    <tr>\n",
       "      <th>type</th>\n",
       "      <td>281.0</td>\n",
       "      <td>3.000000e+00</td>\n",
       "      <td>0.000000e+00</td>\n",
       "      <td>3.000000e+00</td>\n",
       "      <td>3.000000e+00</td>\n",
       "      <td>3.000000e+00</td>\n",
       "      <td>3.000000e+00</td>\n",
       "      <td>3.000000e+00</td>\n",
       "    </tr>\n",
       "  </tbody>\n",
       "</table>\n",
       "</div>"
      ],
      "text/plain": [
       "             count          mean           std           min           25%  \\\n",
       "avgRTT       281.0  1.232612e+03  1.101779e+03  1.529400e+02  3.240470e+02   \n",
       "packetLoss   281.0  0.000000e+00  0.000000e+00  0.000000e+00  0.000000e+00   \n",
       "latency      281.0  7.437011e+01  3.445243e+01  1.300000e+01  5.300000e+01   \n",
       "hopCount     281.0  3.071174e+00  1.032640e+00  1.000000e+00  3.000000e+00   \n",
       "bandwidth    281.0  4.003559e+06  1.001778e+06  3.000000e+06  3.000000e+06   \n",
       "yukOrani     281.0  3.127766e+04  2.685228e+04  4.751573e+02  9.002323e+03   \n",
       "psnr         281.0  3.302203e+01  1.619637e+01  1.267172e+01  2.124576e+01   \n",
       "ssim_first   281.0  9.112046e-01  1.305980e-01  5.138590e-01  9.014280e-01   \n",
       "ssim_second  281.0  1.961919e+01  1.235517e+01  3.132379e+00  1.006246e+01   \n",
       "type         281.0  3.000000e+00  0.000000e+00  3.000000e+00  3.000000e+00   \n",
       "\n",
       "                      50%           75%           max  \n",
       "avgRTT       5.744900e+02  2.205335e+03  4.744949e+03  \n",
       "packetLoss   0.000000e+00  0.000000e+00  0.000000e+00  \n",
       "latency      7.400000e+01  9.000000e+01  3.580000e+02  \n",
       "hopCount     3.000000e+00  4.000000e+00  8.000000e+00  \n",
       "bandwidth    5.000000e+06  5.000000e+06  5.000000e+06  \n",
       "yukOrani     2.581596e+04  4.484714e+04  1.770201e+05  \n",
       "psnr         2.279840e+01  5.505260e+01  5.506194e+01  \n",
       "ssim_first   9.607070e-01  9.997650e-01  9.997650e-01  \n",
       "ssim_second  1.405682e+01  3.628266e+01  3.628266e+01  \n",
       "type         3.000000e+00  3.000000e+00  3.000000e+00  "
      ]
     },
     "execution_count": 38,
     "metadata": {},
     "output_type": "execute_result"
    }
   ],
   "source": [
    "df.dropna(inplace=True)\n",
    "df.describe().T"
   ]
  },
  {
   "cell_type": "code",
   "execution_count": 39,
   "metadata": {},
   "outputs": [
    {
     "data": {
      "image/png": "[encoded data removed]",
      "text/plain": [
       "<Figure size 1440x1440 with 1 Axes>"
      ]
     },
     "metadata": {},
     "output_type": "display_data"
    },
    {
     "data": {
      "image/png": "[encoded data removed]",
      "text/plain": [
       "<Figure size 1440x1440 with 1 Axes>"
      ]
     },
     "metadata": {},
     "output_type": "display_data"
    },
    {
     "data": {
      "image/png": "[encoded data removed]",
      "text/plain": [
       "<Figure size 1440x1440 with 1 Axes>"
      ]
     },
     "metadata": {},
     "output_type": "display_data"
    },
    {
     "data": {
      "image/png": "[encoded data removed]",
      "text/plain": [
       "<Figure size 1440x1440 with 1 Axes>"
      ]
     },
     "metadata": {},
     "output_type": "display_data"
    },
    {
     "data": {
      "image/png": "[encoded data removed]",
      "text/plain": [
       "<Figure size 1440x1440 with 1 Axes>"
      ]
     },
     "metadata": {},
     "output_type": "display_data"
    },
    {
     "data": {
      "image/png": "[encoded data removed]",
      "text/plain": [
       "<Figure size 1440x1440 with 1 Axes>"
      ]
     },
     "metadata": {},
     "output_type": "display_data"
    }
   ],
   "source": [
    "sayisal_veriler=[\"avgRTT\",\"packetLoss\",\"latency\",\"hopCount\",\"bandwidth\",\"yukOrani\"]\n",
    "for i,deger in enumerate(sayisal_veriler):\n",
    "    plt.figure(figsize=(20,20))\n",
    "    ax=plt.subplot(4,3,i+1)\n",
    "    sns.scatterplot(x=deger,y=\"psnr\",data=df)\n",
    "    plt.show()"
   ]
  },
  {
   "cell_type": "code",
   "execution_count": 40,
   "metadata": {},
   "outputs": [],
   "source": [
    "# sns.displot(df)"
   ]
  },
  {
   "cell_type": "code",
   "execution_count": 41,
   "metadata": {},
   "outputs": [
    {
     "data": {
      "text/plain": [
       "0      0.985150\n",
       "1      0.985150\n",
       "2      0.956348\n",
       "3      0.960533\n",
       "4      0.958593\n",
       "         ...   \n",
       "277    0.723552\n",
       "278    0.619543\n",
       "279    0.628608\n",
       "280    0.579837\n",
       "281    0.552046\n",
       "Name: ssim_first, Length: 281, dtype: float64"
      ]
     },
     "execution_count": 41,
     "metadata": {},
     "output_type": "execute_result"
    }
   ],
   "source": [
    "y=df[\"ssim_first\"]\n",
    "x=df.drop([\"host\",\"ssim_first\",\"ssim_second\",\"type\",\"psnr\",\"server\"],axis=\"columns\")\n",
    "y\n"
   ]
  },
  {
   "cell_type": "code",
   "execution_count": 42,
   "metadata": {},
   "outputs": [
    {
     "data": {
      "image/png": "[encoded data removed]",
      "text/plain": [
       "<Figure size 576x396 with 2 Axes>"
      ]
     },
     "metadata": {},
     "output_type": "display_data"
    },
    {
     "data": {
      "text/plain": [
       "<AxesSubplot:title={'center':'Pearson Ranking of 6 Features'}>"
      ]
     },
     "execution_count": 42,
     "metadata": {},
     "output_type": "execute_result"
    }
   ],
   "source": [
    "from yellowbrick.features import Rank2D\n",
    "visualizer=Rank2D(algorithm=\"pearson\")\n",
    "visualizer.fit(x,y)\n",
    "visualizer.transform(x)\n",
    "visualizer.show()"
   ]
  },
  {
   "cell_type": "code",
   "execution_count": 43,
   "metadata": {},
   "outputs": [
    {
     "data": {
      "text/html": [
       "<div>\n",
       "<style scoped>\n",
       "    .dataframe tbody tr th:only-of-type {\n",
       "        vertical-align: middle;\n",
       "    }\n",
       "\n",
       "    .dataframe tbody tr th {\n",
       "        vertical-align: top;\n",
       "    }\n",
       "\n",
       "    .dataframe thead th {\n",
       "        text-align: right;\n",
       "    }\n",
       "</style>\n",
       "<table border=\"1\" class=\"dataframe\">\n",
       "  <thead>\n",
       "    <tr style=\"text-align: right;\">\n",
       "      <th></th>\n",
       "      <th>count</th>\n",
       "      <th>mean</th>\n",
       "      <th>std</th>\n",
       "      <th>min</th>\n",
       "      <th>25%</th>\n",
       "      <th>50%</th>\n",
       "      <th>75%</th>\n",
       "      <th>max</th>\n",
       "    </tr>\n",
       "  </thead>\n",
       "  <tbody>\n",
       "    <tr>\n",
       "      <th>avgRTT</th>\n",
       "      <td>281.0</td>\n",
       "      <td>1.232612e+03</td>\n",
       "      <td>1.101779e+03</td>\n",
       "      <td>1.529400e+02</td>\n",
       "      <td>3.240470e+02</td>\n",
       "      <td>5.744900e+02</td>\n",
       "      <td>2.205335e+03</td>\n",
       "      <td>4.744949e+03</td>\n",
       "    </tr>\n",
       "    <tr>\n",
       "      <th>packetLoss</th>\n",
       "      <td>281.0</td>\n",
       "      <td>0.000000e+00</td>\n",
       "      <td>0.000000e+00</td>\n",
       "      <td>0.000000e+00</td>\n",
       "      <td>0.000000e+00</td>\n",
       "      <td>0.000000e+00</td>\n",
       "      <td>0.000000e+00</td>\n",
       "      <td>0.000000e+00</td>\n",
       "    </tr>\n",
       "    <tr>\n",
       "      <th>latency</th>\n",
       "      <td>281.0</td>\n",
       "      <td>7.437011e+01</td>\n",
       "      <td>3.445243e+01</td>\n",
       "      <td>1.300000e+01</td>\n",
       "      <td>5.300000e+01</td>\n",
       "      <td>7.400000e+01</td>\n",
       "      <td>9.000000e+01</td>\n",
       "      <td>3.580000e+02</td>\n",
       "    </tr>\n",
       "    <tr>\n",
       "      <th>hopCount</th>\n",
       "      <td>281.0</td>\n",
       "      <td>3.071174e+00</td>\n",
       "      <td>1.032640e+00</td>\n",
       "      <td>1.000000e+00</td>\n",
       "      <td>3.000000e+00</td>\n",
       "      <td>3.000000e+00</td>\n",
       "      <td>4.000000e+00</td>\n",
       "      <td>8.000000e+00</td>\n",
       "    </tr>\n",
       "    <tr>\n",
       "      <th>bandwidth</th>\n",
       "      <td>281.0</td>\n",
       "      <td>4.003559e+06</td>\n",
       "      <td>1.001778e+06</td>\n",
       "      <td>3.000000e+06</td>\n",
       "      <td>3.000000e+06</td>\n",
       "      <td>5.000000e+06</td>\n",
       "      <td>5.000000e+06</td>\n",
       "      <td>5.000000e+06</td>\n",
       "    </tr>\n",
       "    <tr>\n",
       "      <th>yukOrani</th>\n",
       "      <td>281.0</td>\n",
       "      <td>3.127766e+04</td>\n",
       "      <td>2.685228e+04</td>\n",
       "      <td>4.751573e+02</td>\n",
       "      <td>9.002323e+03</td>\n",
       "      <td>2.581596e+04</td>\n",
       "      <td>4.484714e+04</td>\n",
       "      <td>1.770201e+05</td>\n",
       "    </tr>\n",
       "  </tbody>\n",
       "</table>\n",
       "</div>"
      ],
      "text/plain": [
       "            count          mean           std           min           25%  \\\n",
       "avgRTT      281.0  1.232612e+03  1.101779e+03  1.529400e+02  3.240470e+02   \n",
       "packetLoss  281.0  0.000000e+00  0.000000e+00  0.000000e+00  0.000000e+00   \n",
       "latency     281.0  7.437011e+01  3.445243e+01  1.300000e+01  5.300000e+01   \n",
       "hopCount    281.0  3.071174e+00  1.032640e+00  1.000000e+00  3.000000e+00   \n",
       "bandwidth   281.0  4.003559e+06  1.001778e+06  3.000000e+06  3.000000e+06   \n",
       "yukOrani    281.0  3.127766e+04  2.685228e+04  4.751573e+02  9.002323e+03   \n",
       "\n",
       "                     50%           75%           max  \n",
       "avgRTT      5.744900e+02  2.205335e+03  4.744949e+03  \n",
       "packetLoss  0.000000e+00  0.000000e+00  0.000000e+00  \n",
       "latency     7.400000e+01  9.000000e+01  3.580000e+02  \n",
       "hopCount    3.000000e+00  4.000000e+00  8.000000e+00  \n",
       "bandwidth   5.000000e+06  5.000000e+06  5.000000e+06  \n",
       "yukOrani    2.581596e+04  4.484714e+04  1.770201e+05  "
      ]
     },
     "execution_count": 43,
     "metadata": {},
     "output_type": "execute_result"
    }
   ],
   "source": [
    "x.describe().T"
   ]
  },
  {
   "cell_type": "code",
   "execution_count": 59,
   "metadata": {},
   "outputs": [],
   "source": [
    "from sklearn.model_selection import train_test_split\n",
    "XTrain,XTest,yTrain,yTest=train_test_split(x,y,test_size=0.4, random_state=42)"
   ]
  },
  {
   "cell_type": "code",
   "execution_count": 60,
   "metadata": {},
   "outputs": [
    {
     "name": "stdout",
     "output_type": "stream",
     "text": [
      "0.5868136109271902\n"
     ]
    }
   ],
   "source": [
    "from sklearn.linear_model import LinearRegression\n",
    "LogModel=LinearRegression()\n",
    "LogModel.fit(XTrain,yTrain)\n",
    "tahmin=LogModel.predict(XTest)\n",
    "from sklearn.metrics import r2_score\n",
    "print(r2_score(yTest,tahmin))"
   ]
  },
  {
   "cell_type": "code",
   "execution_count": 61,
   "metadata": {},
   "outputs": [
    {
     "name": "stdout",
     "output_type": "stream",
     "text": [
      "max_depth : 1 --> score r2 : eğitim:0.4816961613687937 test: 0.5050727816961719\n"
     ]
    },
    {
     "name": "stdout",
     "output_type": "stream",
     "text": [
      "max_depth : 2 --> score r2 : eğitim:0.7812097763155446 test: 0.7744008593166033\n",
      "max_depth : 3 --> score r2 : eğitim:0.8746600850425642 test: 0.8224655767142445\n",
      "max_depth : 4 --> score r2 : eğitim:0.9279123825979811 test: 0.8397074604837961\n",
      "max_depth : 5 --> score r2 : eğitim:0.9513754153470417 test: 0.8476554132867956\n",
      "max_depth : 6 --> score r2 : eğitim:0.9592938971452897 test: 0.8457195098453768\n",
      "max_depth : 7 --> score r2 : eğitim:0.9704884661972801 test: 0.8481203286497827\n",
      "max_depth : 8 --> score r2 : eğitim:0.9698929580865917 test: 0.847282546621819\n",
      "max_depth : 9 --> score r2 : eğitim:0.9739388365563211 test: 0.8490250597048588\n",
      "max_depth : 10 --> score r2 : eğitim:0.97186369396131 test: 0.8488785252950062\n",
      "max_depth : 11 --> score r2 : eğitim:0.9696379872373058 test: 0.8372154076997755\n",
      "max_depth : 12 --> score r2 : eğitim:0.9697607704705334 test: 0.8453657421279314\n",
      "max_depth : 13 --> score r2 : eğitim:0.9728064583434867 test: 0.8472656358570885\n",
      "max_depth : 14 --> score r2 : eğitim:0.9731662791967017 test: 0.845113541151595\n",
      "max_depth : 15 --> score r2 : eğitim:0.9724577394846875 test: 0.8376249735267276\n",
      "max_depth : 16 --> score r2 : eğitim:0.9713354288965974 test: 0.8437018265310886\n",
      "max_depth : 17 --> score r2 : eğitim:0.9724352305091855 test: 0.8469346916671032\n",
      "max_depth : 18 --> score r2 : eğitim:0.9703188733250768 test: 0.8487906454117211\n",
      "max_depth : 19 --> score r2 : eğitim:0.973654996857024 test: 0.8478787463409869\n"
     ]
    }
   ],
   "source": [
    "from sklearn.ensemble import RandomForestRegressor\n",
    "for i in range(1,20,1):\n",
    "    rand=RandomForestRegressor(max_depth=i,)\n",
    "    rand.fit(XTrain,yTrain)\n",
    "    tahminRand=rand.predict(XTest)\n",
    "    print(f\"max_depth : {i} --> score r2 : eğitim:{r2_score(yTrain,rand.predict(XTrain))} test: {r2_score(yTest,tahminRand)}\")"
   ]
  },
  {
   "cell_type": "code",
   "execution_count": 62,
   "metadata": {},
   "outputs": [
    {
     "name": "stdout",
     "output_type": "stream",
     "text": [
      "n_neigbors : 1 --> score r2 : eğitim:1.0 test: 0.7107357547106885\n",
      "n_neigbors : 2 --> score r2 : eğitim:0.9291761509312387 test: 0.7696253333358398\n",
      "n_neigbors : 3 --> score r2 : eğitim:0.9023598244415716 test: 0.790201353187124\n",
      "n_neigbors : 4 --> score r2 : eğitim:0.8867064091349236 test: 0.7960209615288862\n",
      "n_neigbors : 5 --> score r2 : eğitim:0.8817381843027408 test: 0.7883167011874967\n",
      "n_neigbors : 6 --> score r2 : eğitim:0.8595213489982758 test: 0.8015126852125668\n",
      "n_neigbors : 7 --> score r2 : eğitim:0.8338007678156172 test: 0.8008974740915391\n",
      "n_neigbors : 8 --> score r2 : eğitim:0.8087802184104175 test: 0.7971397480626442\n",
      "n_neigbors : 9 --> score r2 : eğitim:0.7954149491028581 test: 0.7947498533501631\n",
      "n_neigbors : 10 --> score r2 : eğitim:0.780162752254761 test: 0.7860636578292409\n",
      "n_neigbors : 11 --> score r2 : eğitim:0.7706308240976758 test: 0.7807264343590861\n",
      "n_neigbors : 12 --> score r2 : eğitim:0.7685595471577645 test: 0.7854616663998816\n",
      "n_neigbors : 13 --> score r2 : eğitim:0.7668590240026216 test: 0.7805664672793813\n",
      "n_neigbors : 14 --> score r2 : eğitim:0.761405126871966 test: 0.7911508473337552\n",
      "n_neigbors : 15 --> score r2 : eğitim:0.766281138494779 test: 0.7911282999147272\n",
      "n_neigbors : 16 --> score r2 : eğitim:0.7608238238899261 test: 0.7902759426956278\n",
      "n_neigbors : 17 --> score r2 : eğitim:0.7583233415749665 test: 0.789956297279353\n",
      "n_neigbors : 18 --> score r2 : eğitim:0.7592249598384262 test: 0.7839306647734757\n",
      "n_neigbors : 19 --> score r2 : eğitim:0.7504141037363901 test: 0.7788518116024505\n"
     ]
    }
   ],
   "source": [
    "from sklearn.neighbors import KNeighborsRegressor\n",
    "for i in range(1,20,1):\n",
    "    KNN=KNeighborsRegressor(n_neighbors=i)\n",
    "    KNN.fit(XTrain,yTrain)\n",
    "    tahminKNN=KNN.predict(XTest)\n",
    "    print(f\"n_neigbors : {i} --> score r2 : eğitim:{r2_score(yTrain,KNN.predict(XTrain))} test: {r2_score(yTest,tahminKNN)}\")"
   ]
  },
  {
   "cell_type": "code",
   "execution_count": 63,
   "metadata": {},
   "outputs": [
    {
     "name": "stdout",
     "output_type": "stream",
     "text": [
      "max_depth : 1 --> score r2 : eğitim:0.42326012144639313 test: 0.43911814536705684\n",
      "max_depth : 2 --> score r2 : eğitim:0.7024917273728105 test: 0.7136249830191417\n",
      "max_depth : 3 --> score r2 : eğitim:0.8220201850067621 test: 0.7617284533605586\n",
      "max_depth : 4 --> score r2 : eğitim:0.9131717994172831 test: 0.7975464228086504\n",
      "max_depth : 5 --> score r2 : eğitim:0.9496396695142569 test: 0.7733222422023409\n",
      "max_depth : 6 --> score r2 : eğitim:0.9763931692052094 test: 0.7692218918402902\n",
      "max_depth : 7 --> score r2 : eğitim:0.9890171038351631 test: 0.7645507282892546\n",
      "max_depth : 8 --> score r2 : eğitim:0.9966372260942374 test: 0.7676228947616368\n",
      "max_depth : 9 --> score r2 : eğitim:0.9984372684186715 test: 0.7712561566735074\n",
      "max_depth : 10 --> score r2 : eğitim:0.9992006505897939 test: 0.7714092759087969\n",
      "max_depth : 11 --> score r2 : eğitim:0.9994794396561276 test: 0.7715777663850139\n",
      "max_depth : 12 --> score r2 : eğitim:0.9998065793265758 test: 0.7697575874489629\n",
      "max_depth : 13 --> score r2 : eğitim:0.9999655906852829 test: 0.768817764798924\n",
      "max_depth : 14 --> score r2 : eğitim:0.9999792039825944 test: 0.7674694336017667\n",
      "max_depth : 15 --> score r2 : eğitim:0.999991089457716 test: 0.765188638612202\n",
      "max_depth : 16 --> score r2 : eğitim:0.9999955423659265 test: 0.7679284941323152\n",
      "max_depth : 17 --> score r2 : eğitim:0.9999978228068663 test: 0.7673410367571265\n",
      "max_depth : 18 --> score r2 : eğitim:0.9999984796151653 test: 0.7713579825180487\n",
      "max_depth : 19 --> score r2 : eğitim:0.9999992571975547 test: 0.7702901623493209\n"
     ]
    }
   ],
   "source": [
    "from sklearn.tree import DecisionTreeRegressor\n",
    "for i in range(1,20,1):\n",
    "    DT=DecisionTreeRegressor(max_depth=i)\n",
    "    DT.fit(XTrain,yTrain)\n",
    "    tahminDT=DT.predict(XTest)\n",
    "    print(f\"max_depth : {i} --> score r2 : eğitim:{r2_score(yTrain,DT.predict(XTrain))} test: {r2_score(yTest,tahminDT)}\")"
   ]
  },
  {
   "cell_type": "code",
   "execution_count": 64,
   "metadata": {},
   "outputs": [
    {
     "name": "stdout",
     "output_type": "stream",
     "text": [
      "max_depth : 1 --> score r2 : eğitim:0.7483782443785649 test: 0.6709591425706846\n",
      "max_depth : 2 --> score r2 : eğitim:0.9270736176706169 test: 0.8101646151676629\n",
      "max_depth : 3 --> score r2 : eğitim:0.9827033929754131 test: 0.8162488813830207\n",
      "max_depth : 4 --> score r2 : eğitim:0.998170767276798 test: 0.820798028968383\n",
      "max_depth : 5 --> score r2 : eğitim:0.9998201354487684 test: 0.8082845360508009\n",
      "max_depth : 6 --> score r2 : eğitim:0.999990376919615 test: 0.7999286724329959\n",
      "max_depth : 7 --> score r2 : eğitim:0.9999995539834141 test: 0.8011599137335812\n",
      "max_depth : 8 --> score r2 : eğitim:0.9999999644584011 test: 0.785175325931153\n",
      "max_depth : 9 --> score r2 : eğitim:0.9999999985084617 test: 0.7814664953780887\n"
     ]
    }
   ],
   "source": [
    "from sklearn.ensemble import GradientBoostingRegressor\n",
    "for i in range(1,10,1):\n",
    "    gbr=GradientBoostingRegressor(max_depth=i,loss='squared_error')\n",
    "    gbr.fit(XTrain,yTrain)\n",
    "    tahminGbr=gbr.predict(XTest)\n",
    "    print(f\"max_depth : {i} --> score r2 : eğitim:{r2_score(yTrain,gbr.predict(XTrain))} test: {r2_score(yTest,tahminGbr)}\")"
   ]
  },
  {
   "cell_type": "code",
   "execution_count": 65,
   "metadata": {},
   "outputs": [
    {
     "data": {
      "text/plain": [
       "array([0.96344842, 0.98882374, 0.72962542, 0.63616642, 0.96818879,\n",
       "       0.90543863, 0.97925858, 0.98400284, 0.99608005, 0.98862132,\n",
       "       0.96825363, 0.98882374, 0.766901  , 0.99608005, 0.87795674,\n",
       "       0.72962542, 0.96434837, 0.96825363, 0.96825363, 0.98837742,\n",
       "       0.96978942, 0.98837742, 0.99608063, 0.78305189, 0.96100274,\n",
       "       0.97505268, 0.96089132, 0.97861547, 0.89183305, 0.91505916,\n",
       "       0.65264721, 0.97866437, 0.96434837, 0.96417374, 0.98836447,\n",
       "       0.96417374, 0.85677847, 0.96978942, 0.80856221, 0.96825363,\n",
       "       0.993398  , 0.98862132, 0.79253842, 0.97765632, 0.64732137,\n",
       "       0.78305189, 0.98508158, 0.96216568, 0.67861037, 0.96216568,\n",
       "       0.95233379, 0.93400358, 0.96978942, 0.99608005, 0.97678132,\n",
       "       0.96978942, 0.98882374, 0.993398  , 0.97925858, 0.78305189,\n",
       "       0.98836447, 0.96157874, 0.99608063, 0.94792789, 0.96406926,\n",
       "       0.80856221, 0.64732137, 0.64732137, 0.85677847, 0.98836447,\n",
       "       0.63616642, 0.96434837, 0.89183305, 0.96825363, 0.98836447,\n",
       "       0.88322853, 0.96818879, 0.89814816, 0.96978942, 0.91941295,\n",
       "       0.99608063, 0.97678132, 0.98836447, 0.98862132, 0.99608053,\n",
       "       0.95875416, 0.93473784, 0.94222121, 0.96978942, 0.72565426,\n",
       "       0.98836447, 0.80856221, 0.993398  , 0.98862132, 0.89814816,\n",
       "       0.98508158, 0.97217305, 0.64732137, 0.97753111, 0.98400284,\n",
       "       0.99608053, 0.96381305, 0.89814816, 0.96216568, 0.96409837,\n",
       "       0.99608005, 0.95039353, 0.98836447, 0.87795674, 0.97328489,\n",
       "       0.96216568, 0.98862132, 0.97861547])"
      ]
     },
     "execution_count": 65,
     "metadata": {},
     "output_type": "execute_result"
    }
   ],
   "source": [
    "tahminKNN"
   ]
  },
  {
   "cell_type": "code",
   "execution_count": 66,
   "metadata": {},
   "outputs": [
    {
     "data": {
      "text/plain": [
       "33     0.961455\n",
       "159    0.999765\n",
       "250    0.666361\n",
       "261    0.536677\n",
       "102    0.999765\n",
       "         ...   \n",
       "69     0.960238\n",
       "173    0.958657\n",
       "2      0.956348\n",
       "105    0.999765\n",
       "77     0.999765\n",
       "Name: ssim_first, Length: 113, dtype: float64"
      ]
     },
     "execution_count": 66,
     "metadata": {},
     "output_type": "execute_result"
    }
   ],
   "source": [
    "yTest"
   ]
  },
  {
   "cell_type": "code",
   "execution_count": 67,
   "metadata": {},
   "outputs": [
    {
     "data": {
      "text/plain": [
       "118    0.986783\n",
       "225    0.784194\n",
       "155    0.999765\n",
       "97     0.999765\n",
       "125    0.882939\n",
       "         ...   \n",
       "189    0.942673\n",
       "71     0.999765\n",
       "107    0.999756\n",
       "271    0.534366\n",
       "103    0.999765\n",
       "Name: ssim_first, Length: 168, dtype: float64"
      ]
     },
     "execution_count": 67,
     "metadata": {},
     "output_type": "execute_result"
    }
   ],
   "source": [
    "yTrain"
   ]
  },
  {
   "cell_type": "code",
   "execution_count": 68,
   "metadata": {},
   "outputs": [],
   "source": [
    "from sklearn.preprocessing import MinMaxScaler\n",
    "scaler=MinMaxScaler()\n",
    "XTrain[sayisal_veriler]=scaler.fit_transform(XTrain[sayisal_veriler])\n",
    "XTest[sayisal_veriler]=scaler.transform(XTest[sayisal_veriler])"
   ]
  },
  {
   "cell_type": "code",
   "execution_count": 69,
   "metadata": {},
   "outputs": [
    {
     "name": "stdout",
     "output_type": "stream",
     "text": [
      "0.5868136109271895\n"
     ]
    }
   ],
   "source": [
    "from sklearn.linear_model import LinearRegression\n",
    "LogModel=LinearRegression()\n",
    "LogModel.fit(XTrain,yTrain)\n",
    "tahmin=LogModel.predict(XTest)\n",
    "from sklearn.metrics import r2_score\n",
    "print(r2_score(yTest,tahmin))"
   ]
  },
  {
   "cell_type": "code",
   "execution_count": 70,
   "metadata": {},
   "outputs": [
    {
     "name": "stdout",
     "output_type": "stream",
     "text": [
      "n_neigbors : 1 --> score r2 : eğitim:1.0 test: 0.610340979913662\n",
      "n_neigbors : 2 --> score r2 : eğitim:0.9062834425443039 test: 0.6967163261789662\n",
      "n_neigbors : 3 --> score r2 : eğitim:0.8803609518088775 test: 0.7431058969143329\n",
      "n_neigbors : 4 --> score r2 : eğitim:0.8547853469532382 test: 0.772023205638825\n",
      "n_neigbors : 5 --> score r2 : eğitim:0.8030726885746466 test: 0.7139559624945279\n"
     ]
    },
    {
     "name": "stdout",
     "output_type": "stream",
     "text": [
      "n_neigbors : 6 --> score r2 : eğitim:0.7786706203015187 test: 0.7003149382596641\n",
      "n_neigbors : 7 --> score r2 : eğitim:0.7493488054852131 test: 0.7053643174336393\n",
      "n_neigbors : 8 --> score r2 : eğitim:0.7373430789317916 test: 0.6861894275476137\n",
      "n_neigbors : 9 --> score r2 : eğitim:0.7218914715094604 test: 0.713011891458341\n",
      "n_neigbors : 10 --> score r2 : eğitim:0.7254961801705082 test: 0.695377677690433\n",
      "n_neigbors : 11 --> score r2 : eğitim:0.7127519615146815 test: 0.7002097266389302\n",
      "n_neigbors : 12 --> score r2 : eğitim:0.6981637080155612 test: 0.6784588721635048\n",
      "n_neigbors : 13 --> score r2 : eğitim:0.7008108347968693 test: 0.652730444593137\n",
      "n_neigbors : 14 --> score r2 : eğitim:0.6869273946012697 test: 0.6407913878819231\n",
      "n_neigbors : 15 --> score r2 : eğitim:0.6730796419532523 test: 0.637002704352566\n",
      "n_neigbors : 16 --> score r2 : eğitim:0.659420743547565 test: 0.6382965559939715\n",
      "n_neigbors : 17 --> score r2 : eğitim:0.6505229325100437 test: 0.6358558622564705\n",
      "n_neigbors : 18 --> score r2 : eğitim:0.6259470512441505 test: 0.6247002989365418\n",
      "n_neigbors : 19 --> score r2 : eğitim:0.6118942233270139 test: 0.6031459017380886\n"
     ]
    }
   ],
   "source": [
    "from sklearn.neighbors import KNeighborsRegressor\n",
    "for i in range(1,20,1):\n",
    "    KNN=KNeighborsRegressor(n_neighbors=i)\n",
    "    KNN.fit(XTrain,yTrain)\n",
    "    tahminKNN=KNN.predict(XTest)\n",
    "    print(f\"n_neigbors : {i} --> score r2 : eğitim:{r2_score(yTrain,KNN.predict(XTrain))} test: {r2_score(yTest,tahminKNN)}\")"
   ]
  },
  {
   "cell_type": "code",
   "execution_count": 71,
   "metadata": {},
   "outputs": [
    {
     "name": "stdout",
     "output_type": "stream",
     "text": [
      "max_depth : 1 --> score r2 : eğitim:0.3996480648562173 test: 0.3727826810712678\n",
      "max_depth : 2 --> score r2 : eğitim:0.633009936242821 test: 0.5843446452878307\n",
      "max_depth : 3 --> score r2 : eğitim:0.763551874171202 test: 0.699221495303479\n",
      "max_depth : 4 --> score r2 : eğitim:0.8532530687125384 test: 0.7745707754068791\n",
      "max_depth : 5 --> score r2 : eğitim:0.9015766781309849 test: 0.7938749073804899\n",
      "max_depth : 6 --> score r2 : eğitim:0.9327009420354219 test: 0.8103685792205245\n",
      "max_depth : 7 --> score r2 : eğitim:0.9458512998164534 test: 0.8086924486040374\n",
      "max_depth : 8 --> score r2 : eğitim:0.9591360105042563 test: 0.8147328136648129\n",
      "max_depth : 9 --> score r2 : eğitim:0.9627145177200811 test: 0.8171102455877262\n",
      "max_depth : 10 --> score r2 : eğitim:0.9653655633909637 test: 0.8235672593436185\n",
      "max_depth : 11 --> score r2 : eğitim:0.9646293090979663 test: 0.8160094013464758\n",
      "max_depth : 12 --> score r2 : eğitim:0.9676488190271019 test: 0.8188133764901828\n",
      "max_depth : 13 --> score r2 : eğitim:0.9662965528398686 test: 0.8160965636048206\n",
      "max_depth : 14 --> score r2 : eğitim:0.9664025096061029 test: 0.8150995492542563\n",
      "max_depth : 15 --> score r2 : eğitim:0.9670675565195124 test: 0.8205549305539575\n",
      "max_depth : 16 --> score r2 : eğitim:0.9669539670918433 test: 0.8182537476919625\n",
      "max_depth : 17 --> score r2 : eğitim:0.9668053076792288 test: 0.8177803241328161\n",
      "max_depth : 18 --> score r2 : eğitim:0.9668053076792288 test: 0.8177803241328161\n",
      "max_depth : 19 --> score r2 : eğitim:0.9668053076792288 test: 0.8177803241328161\n"
     ]
    }
   ],
   "source": [
    "from sklearn.ensemble import RandomForestRegressor\n",
    "for i in range(1,20,1):\n",
    "    rand=RandomForestRegressor(max_depth=i,bootstrap=True,criterion=\"friedman_mse\",max_features='log2',max_leaf_nodes=None,n_estimators=100,n_jobs=1,random_state=42)\n",
    "    rand.fit(XTrain,yTrain)\n",
    "    tahminRand=rand.predict(XTest)\n",
    "    print(f\"max_depth : {i} --> score r2 : eğitim:{r2_score(yTrain,rand.predict(XTrain))} test: {r2_score(yTest,tahminRand)}\")"
   ]
  },
  {
   "cell_type": "code",
   "execution_count": 72,
   "metadata": {},
   "outputs": [
    {
     "name": "stdout",
     "output_type": "stream",
     "text": [
      "max_depth : 1 --> score r2 : eğitim:0.423260121446393 test: 0.43911814536705684\n",
      "max_depth : 2 --> score r2 : eğitim:0.7024917273728105 test: 0.7136249830191417\n"
     ]
    },
    {
     "name": "stdout",
     "output_type": "stream",
     "text": [
      "max_depth : 3 --> score r2 : eğitim:0.8220201850067621 test: 0.7617284533605587\n",
      "max_depth : 4 --> score r2 : eğitim:0.9131717994172831 test: 0.7975464228086504\n",
      "max_depth : 5 --> score r2 : eğitim:0.9496396695142569 test: 0.7713786773136923\n",
      "max_depth : 6 --> score r2 : eğitim:0.9763931692052094 test: 0.7711350911845257\n",
      "max_depth : 7 --> score r2 : eğitim:0.9890171038351631 test: 0.7607137627465086\n",
      "max_depth : 8 --> score r2 : eğitim:0.9966372260942374 test: 0.7689734158702475\n",
      "max_depth : 9 --> score r2 : eğitim:0.9984372684186715 test: 0.7645463260535169\n",
      "max_depth : 10 --> score r2 : eğitim:0.9992006505897939 test: 0.7668755932471838\n",
      "max_depth : 11 --> score r2 : eğitim:0.9994794396561276 test: 0.7746732693838227\n",
      "max_depth : 12 --> score r2 : eğitim:0.9998065793265758 test: 0.7744984295123026\n",
      "max_depth : 13 --> score r2 : eğitim:0.9999655906852829 test: 0.7716060665946651\n",
      "max_depth : 14 --> score r2 : eğitim:0.9999792039825944 test: 0.7712599078355508\n",
      "max_depth : 15 --> score r2 : eğitim:0.999991089457716 test: 0.7665389874162256\n",
      "max_depth : 16 --> score r2 : eğitim:0.9999955423659265 test: 0.7666560160553552\n",
      "max_depth : 17 --> score r2 : eğitim:0.9999978228068663 test: 0.7692243681061912\n",
      "max_depth : 18 --> score r2 : eğitim:0.9999984796151653 test: 0.7725112650475986\n",
      "max_depth : 19 --> score r2 : eğitim:0.9999992571975547 test: 0.7679712778917638\n"
     ]
    }
   ],
   "source": [
    "from sklearn.tree import DecisionTreeRegressor\n",
    "for i in range(1,20,1):\n",
    "    DT=DecisionTreeRegressor(max_depth=i)\n",
    "    DT.fit(XTrain,yTrain)\n",
    "    tahminDT=DT.predict(XTest)\n",
    "    print(f\"max_depth : {i} --> score r2 : eğitim:{r2_score(yTrain,DT.predict(XTrain))} test: {r2_score(yTest,tahminDT)}\")"
   ]
  },
  {
   "cell_type": "code",
   "execution_count": 73,
   "metadata": {},
   "outputs": [
    {
     "name": "stdout",
     "output_type": "stream",
     "text": [
      "max_depth : 1 --> score r2 : eğitim:0.7483782443785649 test: 0.6709591425706845\n",
      "max_depth : 2 --> score r2 : eğitim:0.9270736176706169 test: 0.8115120723390594\n",
      "max_depth : 3 --> score r2 : eğitim:0.9827033929754131 test: 0.8186792536387099\n",
      "max_depth : 4 --> score r2 : eğitim:0.998170767276798 test: 0.8194409350206071\n",
      "max_depth : 5 --> score r2 : eğitim:0.9998201354487684 test: 0.8103260929303528\n",
      "max_depth : 6 --> score r2 : eğitim:0.999990376919615 test: 0.8014665424112468\n",
      "max_depth : 7 --> score r2 : eğitim:0.9999995539834141 test: 0.8006428922644725\n",
      "max_depth : 8 --> score r2 : eğitim:0.9999999644584011 test: 0.7843116232410302\n",
      "max_depth : 9 --> score r2 : eğitim:0.9999999985084617 test: 0.7801524084278139\n"
     ]
    }
   ],
   "source": [
    "from sklearn.ensemble import GradientBoostingRegressor\n",
    "for i in range(1,10,1):\n",
    "    gbr=GradientBoostingRegressor(max_depth=i,loss='squared_error')\n",
    "    gbr.fit(XTrain,yTrain)\n",
    "    tahminGbr=gbr.predict(XTest)\n",
    "    print(f\"max_depth : {i} --> score r2 : eğitim:{r2_score(yTrain,gbr.predict(XTrain))} test: {r2_score(yTest,tahminGbr)}\")"
   ]
  },
  {
   "cell_type": "code",
   "execution_count": null,
   "metadata": {},
   "outputs": [],
   "source": []
  }
 ],
 "metadata": {
  "kernelspec": {
   "display_name": "Python 3",
   "language": "python",
   "name": "python3"
  },
  "language_info": {
   "codemirror_mode": {
    "name": "ipython",
    "version": 3
   },
   "file_extension": ".py",
   "mimetype": "text/x-python",
   "name": "python",
   "nbconvert_exporter": "python",
   "pygments_lexer": "ipython3",
   "version": "3.10.12"
  }
 },
 "nbformat": 4,
 "nbformat_minor": 2
}
