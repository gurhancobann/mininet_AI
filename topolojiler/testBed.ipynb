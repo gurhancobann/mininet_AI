{
 "cells": [
  {
   "cell_type": "code",
   "execution_count": 121,
   "metadata": {},
   "outputs": [],
   "source": [
    "import pandas as pd\n",
    "import numpy as num_paths\n",
    "import matplotlib.pyplot as psnrResault\n",
    "import seaborn as sns\n",
    "import warnings\n",
    "warnings.filterwarnings(\"ignore\")\n",
    "from matplotlib import pyplot as plt"
   ]
  },
  {
   "cell_type": "code",
   "execution_count": 122,
   "metadata": {},
   "outputs": [],
   "source": [
    "df=pd.read_csv(\"dataTest.csv\")"
   ]
  },
  {
   "cell_type": "code",
   "execution_count": 123,
   "metadata": {},
   "outputs": [
    {
     "data": {
      "text/html": [
       "<div>\n",
       "<style scoped>\n",
       "    .dataframe tbody tr th:only-of-type {\n",
       "        vertical-align: middle;\n",
       "    }\n",
       "\n",
       "    .dataframe tbody tr th {\n",
       "        vertical-align: top;\n",
       "    }\n",
       "\n",
       "    .dataframe thead th {\n",
       "        text-align: right;\n",
       "    }\n",
       "</style>\n",
       "<table border=\"1\" class=\"dataframe\">\n",
       "  <thead>\n",
       "    <tr style=\"text-align: right;\">\n",
       "      <th></th>\n",
       "      <th>host</th>\n",
       "      <th>avgRTT</th>\n",
       "      <th>packetLoss</th>\n",
       "      <th>latency</th>\n",
       "      <th>hopCount</th>\n",
       "      <th>bandwidth</th>\n",
       "      <th>yukOrani</th>\n",
       "      <th>psnr</th>\n",
       "      <th>ssim_first</th>\n",
       "      <th>ssim_second</th>\n",
       "      <th>type</th>\n",
       "      <th>server</th>\n",
       "    </tr>\n",
       "  </thead>\n",
       "  <tbody>\n",
       "    <tr>\n",
       "      <th>0</th>\n",
       "      <td>h1</td>\n",
       "      <td>1898.137</td>\n",
       "      <td>0.0</td>\n",
       "      <td>66</td>\n",
       "      <td>4</td>\n",
       "      <td>3000000</td>\n",
       "      <td>2011.425000</td>\n",
       "      <td>31.225948</td>\n",
       "      <td>0.985150</td>\n",
       "      <td>18.282783</td>\n",
       "      <td>3</td>\n",
       "      <td>h10</td>\n",
       "    </tr>\n",
       "    <tr>\n",
       "      <th>1</th>\n",
       "      <td>h2</td>\n",
       "      <td>2240.660</td>\n",
       "      <td>0.0</td>\n",
       "      <td>44</td>\n",
       "      <td>3</td>\n",
       "      <td>3000000</td>\n",
       "      <td>1859.161290</td>\n",
       "      <td>31.225948</td>\n",
       "      <td>0.985150</td>\n",
       "      <td>18.282674</td>\n",
       "      <td>3</td>\n",
       "      <td>h14</td>\n",
       "    </tr>\n",
       "    <tr>\n",
       "      <th>2</th>\n",
       "      <td>h3</td>\n",
       "      <td>2196.294</td>\n",
       "      <td>0.0</td>\n",
       "      <td>40</td>\n",
       "      <td>2</td>\n",
       "      <td>3000000</td>\n",
       "      <td>9084.620155</td>\n",
       "      <td>22.700112</td>\n",
       "      <td>0.956348</td>\n",
       "      <td>13.599976</td>\n",
       "      <td>3</td>\n",
       "      <td>h14</td>\n",
       "    </tr>\n",
       "    <tr>\n",
       "      <th>3</th>\n",
       "      <td>h4</td>\n",
       "      <td>1298.732</td>\n",
       "      <td>0.0</td>\n",
       "      <td>60</td>\n",
       "      <td>3</td>\n",
       "      <td>3000000</td>\n",
       "      <td>25815.963636</td>\n",
       "      <td>22.301604</td>\n",
       "      <td>0.960533</td>\n",
       "      <td>14.037636</td>\n",
       "      <td>3</td>\n",
       "      <td>h14</td>\n",
       "    </tr>\n",
       "    <tr>\n",
       "      <th>4</th>\n",
       "      <td>h5</td>\n",
       "      <td>338.105</td>\n",
       "      <td>0.0</td>\n",
       "      <td>92</td>\n",
       "      <td>4</td>\n",
       "      <td>3000000</td>\n",
       "      <td>37246.273632</td>\n",
       "      <td>22.510259</td>\n",
       "      <td>0.958593</td>\n",
       "      <td>13.829213</td>\n",
       "      <td>3</td>\n",
       "      <td>h10</td>\n",
       "    </tr>\n",
       "  </tbody>\n",
       "</table>\n",
       "</div>"
      ],
      "text/plain": [
       "  host    avgRTT  packetLoss  latency  hopCount  bandwidth      yukOrani  \\\n",
       "0   h1  1898.137         0.0       66         4    3000000   2011.425000   \n",
       "1   h2  2240.660         0.0       44         3    3000000   1859.161290   \n",
       "2   h3  2196.294         0.0       40         2    3000000   9084.620155   \n",
       "3   h4  1298.732         0.0       60         3    3000000  25815.963636   \n",
       "4   h5   338.105         0.0       92         4    3000000  37246.273632   \n",
       "\n",
       "        psnr  ssim_first  ssim_second  type server  \n",
       "0  31.225948    0.985150    18.282783     3    h10  \n",
       "1  31.225948    0.985150    18.282674     3    h14  \n",
       "2  22.700112    0.956348    13.599976     3    h14  \n",
       "3  22.301604    0.960533    14.037636     3    h14  \n",
       "4  22.510259    0.958593    13.829213     3    h10  "
      ]
     },
     "execution_count": 123,
     "metadata": {},
     "output_type": "execute_result"
    }
   ],
   "source": [
    "df=pd.DataFrame(df)\n",
    "df.head()"
   ]
  },
  {
   "cell_type": "code",
   "execution_count": 124,
   "metadata": {},
   "outputs": [
    {
     "data": {
      "text/html": [
       "<div>\n",
       "<style scoped>\n",
       "    .dataframe tbody tr th:only-of-type {\n",
       "        vertical-align: middle;\n",
       "    }\n",
       "\n",
       "    .dataframe tbody tr th {\n",
       "        vertical-align: top;\n",
       "    }\n",
       "\n",
       "    .dataframe thead th {\n",
       "        text-align: right;\n",
       "    }\n",
       "</style>\n",
       "<table border=\"1\" class=\"dataframe\">\n",
       "  <thead>\n",
       "    <tr style=\"text-align: right;\">\n",
       "      <th></th>\n",
       "      <th>count</th>\n",
       "      <th>mean</th>\n",
       "      <th>std</th>\n",
       "      <th>min</th>\n",
       "      <th>25%</th>\n",
       "      <th>50%</th>\n",
       "      <th>75%</th>\n",
       "      <th>max</th>\n",
       "    </tr>\n",
       "  </thead>\n",
       "  <tbody>\n",
       "    <tr>\n",
       "      <th>avgRTT</th>\n",
       "      <td>372.0</td>\n",
       "      <td>1.013924e+03</td>\n",
       "      <td>1.044463e+03</td>\n",
       "      <td>1.529400e+02</td>\n",
       "      <td>3.080392e+02</td>\n",
       "      <td>4.165060e+02</td>\n",
       "      <td>1.816610e+03</td>\n",
       "      <td>4.744949e+03</td>\n",
       "    </tr>\n",
       "    <tr>\n",
       "      <th>packetLoss</th>\n",
       "      <td>372.0</td>\n",
       "      <td>3.584229e-01</td>\n",
       "      <td>2.681804e+00</td>\n",
       "      <td>0.000000e+00</td>\n",
       "      <td>0.000000e+00</td>\n",
       "      <td>0.000000e+00</td>\n",
       "      <td>0.000000e+00</td>\n",
       "      <td>3.333333e+01</td>\n",
       "    </tr>\n",
       "    <tr>\n",
       "      <th>latency</th>\n",
       "      <td>372.0</td>\n",
       "      <td>7.887634e+01</td>\n",
       "      <td>6.582584e+01</td>\n",
       "      <td>1.300000e+01</td>\n",
       "      <td>5.300000e+01</td>\n",
       "      <td>7.500000e+01</td>\n",
       "      <td>9.125000e+01</td>\n",
       "      <td>1.035000e+03</td>\n",
       "    </tr>\n",
       "    <tr>\n",
       "      <th>hopCount</th>\n",
       "      <td>372.0</td>\n",
       "      <td>3.110215e+00</td>\n",
       "      <td>1.056977e+00</td>\n",
       "      <td>1.000000e+00</td>\n",
       "      <td>3.000000e+00</td>\n",
       "      <td>3.000000e+00</td>\n",
       "      <td>4.000000e+00</td>\n",
       "      <td>8.000000e+00</td>\n",
       "    </tr>\n",
       "    <tr>\n",
       "      <th>bandwidth</th>\n",
       "      <td>372.0</td>\n",
       "      <td>5.470430e+06</td>\n",
       "      <td>2.723896e+06</td>\n",
       "      <td>3.000000e+06</td>\n",
       "      <td>3.000000e+06</td>\n",
       "      <td>5.000000e+06</td>\n",
       "      <td>5.000000e+06</td>\n",
       "      <td>1.000000e+07</td>\n",
       "    </tr>\n",
       "    <tr>\n",
       "      <th>yukOrani</th>\n",
       "      <td>372.0</td>\n",
       "      <td>3.003598e+04</td>\n",
       "      <td>2.546959e+04</td>\n",
       "      <td>4.751573e+02</td>\n",
       "      <td>8.831790e+03</td>\n",
       "      <td>2.561418e+04</td>\n",
       "      <td>4.423177e+04</td>\n",
       "      <td>1.770201e+05</td>\n",
       "    </tr>\n",
       "    <tr>\n",
       "      <th>psnr</th>\n",
       "      <td>372.0</td>\n",
       "      <td>3.612166e+01</td>\n",
       "      <td>1.659998e+01</td>\n",
       "      <td>1.267172e+01</td>\n",
       "      <td>2.171745e+01</td>\n",
       "      <td>3.042446e+01</td>\n",
       "      <td>5.505260e+01</td>\n",
       "      <td>5.506194e+01</td>\n",
       "    </tr>\n",
       "    <tr>\n",
       "      <th>ssim_first</th>\n",
       "      <td>372.0</td>\n",
       "      <td>9.219058e-01</td>\n",
       "      <td>1.270834e-01</td>\n",
       "      <td>5.138590e-01</td>\n",
       "      <td>9.203712e-01</td>\n",
       "      <td>9.850165e-01</td>\n",
       "      <td>9.997650e-01</td>\n",
       "      <td>9.997650e-01</td>\n",
       "    </tr>\n",
       "    <tr>\n",
       "      <th>ssim_second</th>\n",
       "      <td>372.0</td>\n",
       "      <td>2.188350e+01</td>\n",
       "      <td>1.266005e+01</td>\n",
       "      <td>3.132379e+00</td>\n",
       "      <td>1.099111e+01</td>\n",
       "      <td>1.824384e+01</td>\n",
       "      <td>3.628266e+01</td>\n",
       "      <td>3.628266e+01</td>\n",
       "    </tr>\n",
       "    <tr>\n",
       "      <th>type</th>\n",
       "      <td>372.0</td>\n",
       "      <td>3.000000e+00</td>\n",
       "      <td>0.000000e+00</td>\n",
       "      <td>3.000000e+00</td>\n",
       "      <td>3.000000e+00</td>\n",
       "      <td>3.000000e+00</td>\n",
       "      <td>3.000000e+00</td>\n",
       "      <td>3.000000e+00</td>\n",
       "    </tr>\n",
       "  </tbody>\n",
       "</table>\n",
       "</div>"
      ],
      "text/plain": [
       "             count          mean           std           min           25%  \\\n",
       "avgRTT       372.0  1.013924e+03  1.044463e+03  1.529400e+02  3.080392e+02   \n",
       "packetLoss   372.0  3.584229e-01  2.681804e+00  0.000000e+00  0.000000e+00   \n",
       "latency      372.0  7.887634e+01  6.582584e+01  1.300000e+01  5.300000e+01   \n",
       "hopCount     372.0  3.110215e+00  1.056977e+00  1.000000e+00  3.000000e+00   \n",
       "bandwidth    372.0  5.470430e+06  2.723896e+06  3.000000e+06  3.000000e+06   \n",
       "yukOrani     372.0  3.003598e+04  2.546959e+04  4.751573e+02  8.831790e+03   \n",
       "psnr         372.0  3.612166e+01  1.659998e+01  1.267172e+01  2.171745e+01   \n",
       "ssim_first   372.0  9.219058e-01  1.270834e-01  5.138590e-01  9.203712e-01   \n",
       "ssim_second  372.0  2.188350e+01  1.266005e+01  3.132379e+00  1.099111e+01   \n",
       "type         372.0  3.000000e+00  0.000000e+00  3.000000e+00  3.000000e+00   \n",
       "\n",
       "                      50%           75%           max  \n",
       "avgRTT       4.165060e+02  1.816610e+03  4.744949e+03  \n",
       "packetLoss   0.000000e+00  0.000000e+00  3.333333e+01  \n",
       "latency      7.500000e+01  9.125000e+01  1.035000e+03  \n",
       "hopCount     3.000000e+00  4.000000e+00  8.000000e+00  \n",
       "bandwidth    5.000000e+06  5.000000e+06  1.000000e+07  \n",
       "yukOrani     2.561418e+04  4.423177e+04  1.770201e+05  \n",
       "psnr         3.042446e+01  5.505260e+01  5.506194e+01  \n",
       "ssim_first   9.850165e-01  9.997650e-01  9.997650e-01  \n",
       "ssim_second  1.824384e+01  3.628266e+01  3.628266e+01  \n",
       "type         3.000000e+00  3.000000e+00  3.000000e+00  "
      ]
     },
     "execution_count": 124,
     "metadata": {},
     "output_type": "execute_result"
    }
   ],
   "source": [
    "df.dropna(inplace=True)\n",
    "df.describe().T"
   ]
  },
  {
   "cell_type": "code",
   "execution_count": 125,
   "metadata": {},
   "outputs": [
    {
     "data": {
      "image/png": "[encoded data removed]",
      "text/plain": [
       "<Figure size 1440x1440 with 1 Axes>"
      ]
     },
     "metadata": {},
     "output_type": "display_data"
    },
    {
     "data": {
      "image/png": "[encoded data removed]",
      "text/plain": [
       "<Figure size 1440x1440 with 1 Axes>"
      ]
     },
     "metadata": {},
     "output_type": "display_data"
    },
    {
     "data": {
      "image/png": "[encoded data removed]",
      "text/plain": [
       "<Figure size 1440x1440 with 1 Axes>"
      ]
     },
     "metadata": {},
     "output_type": "display_data"
    },
    {
     "data": {
      "image/png": "[encoded data removed]",
      "text/plain": [
       "<Figure size 1440x1440 with 1 Axes>"
      ]
     },
     "metadata": {},
     "output_type": "display_data"
    },
    {
     "data": {
      "image/png": "[encoded data removed]",
      "text/plain": [
       "<Figure size 1440x1440 with 1 Axes>"
      ]
     },
     "metadata": {},
     "output_type": "display_data"
    },
    {
     "data": {
      "image/png": "[encoded data removed]",
      "text/plain": [
       "<Figure size 1440x1440 with 1 Axes>"
      ]
     },
     "metadata": {},
     "output_type": "display_data"
    }
   ],
   "source": [
    "sayisal_veriler=[\"avgRTT\",\"packetLoss\",\"latency\",\"hopCount\",\"bandwidth\",\"yukOrani\"]\n",
    "for i,deger in enumerate(sayisal_veriler):\n",
    "    plt.figure(figsize=(20,20))\n",
    "    ax=plt.subplot(4,3,i+1)\n",
    "    sns.scatterplot(x=deger,y=\"psnr\",data=df)\n",
    "    plt.show()"
   ]
  },
  {
   "cell_type": "code",
   "execution_count": 126,
   "metadata": {},
   "outputs": [],
   "source": [
    "# sns.displot(df)"
   ]
  },
  {
   "cell_type": "code",
   "execution_count": 127,
   "metadata": {},
   "outputs": [
    {
     "data": {
      "text/plain": [
       "0      31.225948\n",
       "1      31.225948\n",
       "2      22.700112\n",
       "3      22.301604\n",
       "4      22.510259\n",
       "         ...    \n",
       "369    17.547052\n",
       "370    16.075879\n",
       "371    19.543094\n",
       "372    13.477160\n",
       "373    15.480775\n",
       "Name: psnr, Length: 372, dtype: float64"
      ]
     },
     "execution_count": 127,
     "metadata": {},
     "output_type": "execute_result"
    }
   ],
   "source": [
    "y=df[\"ssim_first\"]\n",
    "x=df.drop([\"host\",\"ssim_first\",\"ssim_second\",\"type\",\"psnr\",\"server\"],axis=\"columns\")\n",
    "y\n"
   ]
  },
  {
   "cell_type": "code",
   "execution_count": 128,
   "metadata": {},
   "outputs": [
    {
     "data": {
      "image/png": "[encoded data removed]",
      "text/plain": [
       "<Figure size 576x396 with 2 Axes>"
      ]
     },
     "metadata": {},
     "output_type": "display_data"
    },
    {
     "data": {
      "text/plain": [
       "<AxesSubplot:title={'center':'Pearson Ranking of 6 Features'}>"
      ]
     },
     "execution_count": 128,
     "metadata": {},
     "output_type": "execute_result"
    }
   ],
   "source": [
    "from yellowbrick.features import Rank2D\n",
    "visualizer=Rank2D(algorithm=\"pearson\")\n",
    "visualizer.fit(x,y)\n",
    "visualizer.transform(x)\n",
    "visualizer.show()"
   ]
  },
  {
   "cell_type": "code",
   "execution_count": 129,
   "metadata": {},
   "outputs": [
    {
     "data": {
      "text/html": [
       "<div>\n",
       "<style scoped>\n",
       "    .dataframe tbody tr th:only-of-type {\n",
       "        vertical-align: middle;\n",
       "    }\n",
       "\n",
       "    .dataframe tbody tr th {\n",
       "        vertical-align: top;\n",
       "    }\n",
       "\n",
       "    .dataframe thead th {\n",
       "        text-align: right;\n",
       "    }\n",
       "</style>\n",
       "<table border=\"1\" class=\"dataframe\">\n",
       "  <thead>\n",
       "    <tr style=\"text-align: right;\">\n",
       "      <th></th>\n",
       "      <th>count</th>\n",
       "      <th>mean</th>\n",
       "      <th>std</th>\n",
       "      <th>min</th>\n",
       "      <th>25%</th>\n",
       "      <th>50%</th>\n",
       "      <th>75%</th>\n",
       "      <th>max</th>\n",
       "    </tr>\n",
       "  </thead>\n",
       "  <tbody>\n",
       "    <tr>\n",
       "      <th>avgRTT</th>\n",
       "      <td>372.0</td>\n",
       "      <td>1.013924e+03</td>\n",
       "      <td>1.044463e+03</td>\n",
       "      <td>1.529400e+02</td>\n",
       "      <td>3.080392e+02</td>\n",
       "      <td>4.165060e+02</td>\n",
       "      <td>1.816610e+03</td>\n",
       "      <td>4.744949e+03</td>\n",
       "    </tr>\n",
       "    <tr>\n",
       "      <th>packetLoss</th>\n",
       "      <td>372.0</td>\n",
       "      <td>3.584229e-01</td>\n",
       "      <td>2.681804e+00</td>\n",
       "      <td>0.000000e+00</td>\n",
       "      <td>0.000000e+00</td>\n",
       "      <td>0.000000e+00</td>\n",
       "      <td>0.000000e+00</td>\n",
       "      <td>3.333333e+01</td>\n",
       "    </tr>\n",
       "    <tr>\n",
       "      <th>latency</th>\n",
       "      <td>372.0</td>\n",
       "      <td>7.887634e+01</td>\n",
       "      <td>6.582584e+01</td>\n",
       "      <td>1.300000e+01</td>\n",
       "      <td>5.300000e+01</td>\n",
       "      <td>7.500000e+01</td>\n",
       "      <td>9.125000e+01</td>\n",
       "      <td>1.035000e+03</td>\n",
       "    </tr>\n",
       "    <tr>\n",
       "      <th>hopCount</th>\n",
       "      <td>372.0</td>\n",
       "      <td>3.110215e+00</td>\n",
       "      <td>1.056977e+00</td>\n",
       "      <td>1.000000e+00</td>\n",
       "      <td>3.000000e+00</td>\n",
       "      <td>3.000000e+00</td>\n",
       "      <td>4.000000e+00</td>\n",
       "      <td>8.000000e+00</td>\n",
       "    </tr>\n",
       "    <tr>\n",
       "      <th>bandwidth</th>\n",
       "      <td>372.0</td>\n",
       "      <td>5.470430e+06</td>\n",
       "      <td>2.723896e+06</td>\n",
       "      <td>3.000000e+06</td>\n",
       "      <td>3.000000e+06</td>\n",
       "      <td>5.000000e+06</td>\n",
       "      <td>5.000000e+06</td>\n",
       "      <td>1.000000e+07</td>\n",
       "    </tr>\n",
       "    <tr>\n",
       "      <th>yukOrani</th>\n",
       "      <td>372.0</td>\n",
       "      <td>3.003598e+04</td>\n",
       "      <td>2.546959e+04</td>\n",
       "      <td>4.751573e+02</td>\n",
       "      <td>8.831790e+03</td>\n",
       "      <td>2.561418e+04</td>\n",
       "      <td>4.423177e+04</td>\n",
       "      <td>1.770201e+05</td>\n",
       "    </tr>\n",
       "  </tbody>\n",
       "</table>\n",
       "</div>"
      ],
      "text/plain": [
       "            count          mean           std           min           25%  \\\n",
       "avgRTT      372.0  1.013924e+03  1.044463e+03  1.529400e+02  3.080392e+02   \n",
       "packetLoss  372.0  3.584229e-01  2.681804e+00  0.000000e+00  0.000000e+00   \n",
       "latency     372.0  7.887634e+01  6.582584e+01  1.300000e+01  5.300000e+01   \n",
       "hopCount    372.0  3.110215e+00  1.056977e+00  1.000000e+00  3.000000e+00   \n",
       "bandwidth   372.0  5.470430e+06  2.723896e+06  3.000000e+06  3.000000e+06   \n",
       "yukOrani    372.0  3.003598e+04  2.546959e+04  4.751573e+02  8.831790e+03   \n",
       "\n",
       "                     50%           75%           max  \n",
       "avgRTT      4.165060e+02  1.816610e+03  4.744949e+03  \n",
       "packetLoss  0.000000e+00  0.000000e+00  3.333333e+01  \n",
       "latency     7.500000e+01  9.125000e+01  1.035000e+03  \n",
       "hopCount    3.000000e+00  4.000000e+00  8.000000e+00  \n",
       "bandwidth   5.000000e+06  5.000000e+06  1.000000e+07  \n",
       "yukOrani    2.561418e+04  4.423177e+04  1.770201e+05  "
      ]
     },
     "execution_count": 129,
     "metadata": {},
     "output_type": "execute_result"
    }
   ],
   "source": [
    "x.describe().T"
   ]
  },
  {
   "cell_type": "code",
   "execution_count": 130,
   "metadata": {},
   "outputs": [],
   "source": [
    "from sklearn.model_selection import train_test_split\n",
    "XTrain,XTest,yTrain,yTest=train_test_split(x,y,test_size=0.5, random_state=42)"
   ]
  },
  {
   "cell_type": "code",
   "execution_count": 131,
   "metadata": {},
   "outputs": [
    {
     "name": "stdout",
     "output_type": "stream",
     "text": [
      "0.4128720475553962\n"
     ]
    }
   ],
   "source": [
    "from sklearn.linear_model import LinearRegression\n",
    "LogModel=LinearRegression()\n",
    "LogModel.fit(XTrain,yTrain)\n",
    "tahmin=LogModel.predict(XTest)\n",
    "from sklearn.metrics import r2_score\n",
    "print(r2_score(yTest,tahmin))"
   ]
  },
  {
   "cell_type": "code",
   "execution_count": 132,
   "metadata": {},
   "outputs": [
    {
     "name": "stdout",
     "output_type": "stream",
     "text": [
      "max_depth : 1 --> score r2 : eğitim:0.39187223841180363 test: 0.2644541287036115\n",
      "max_depth : 2 --> score r2 : eğitim:0.5701863410747096 test: 0.41613979391615874\n",
      "max_depth : 3 --> score r2 : eğitim:0.6855158701424733 test: 0.5782677415203394\n",
      "max_depth : 4 --> score r2 : eğitim:0.7577372979200198 test: 0.6204707852879896\n",
      "max_depth : 5 --> score r2 : eğitim:0.8161952671430979 test: 0.6743101149172688\n",
      "max_depth : 6 --> score r2 : eğitim:0.870405793169744 test: 0.68344538974606\n",
      "max_depth : 7 --> score r2 : eğitim:0.9062818484545043 test: 0.6965812013542565\n",
      "max_depth : 8 --> score r2 : eğitim:0.9329127337222325 test: 0.6804973756388807\n",
      "max_depth : 9 --> score r2 : eğitim:0.9469846395868652 test: 0.6726691314379687\n",
      "max_depth : 10 --> score r2 : eğitim:0.951658916429206 test: 0.6810545776928574\n",
      "max_depth : 11 --> score r2 : eğitim:0.9546346637905669 test: 0.6705814790006408\n",
      "max_depth : 12 --> score r2 : eğitim:0.9542683452408459 test: 0.6825265894263999\n",
      "max_depth : 13 --> score r2 : eğitim:0.9581893044994257 test: 0.6836505057471542\n",
      "max_depth : 14 --> score r2 : eğitim:0.9563040875182391 test: 0.6681464884918984\n",
      "max_depth : 15 --> score r2 : eğitim:0.9539567413732046 test: 0.6770216064306918\n",
      "max_depth : 16 --> score r2 : eğitim:0.9546586949177469 test: 0.6808444778955571\n",
      "max_depth : 17 --> score r2 : eğitim:0.9526046566905221 test: 0.6813701012485799\n",
      "max_depth : 18 --> score r2 : eğitim:0.9540989481555346 test: 0.6576367011981801\n",
      "max_depth : 19 --> score r2 : eğitim:0.957012634642375 test: 0.6541266012449032\n"
     ]
    }
   ],
   "source": [
    "from sklearn.ensemble import RandomForestRegressor\n",
    "for i in range(1,20,1):\n",
    "    rand=RandomForestRegressor(max_depth=i,)\n",
    "    rand.fit(XTrain,yTrain)\n",
    "    tahminRand=rand.predict(XTest)\n",
    "    print(f\"max_depth : {i} --> score r2 : eğitim:{r2_score(yTrain,rand.predict(XTrain))} test: {r2_score(yTest,tahminRand)}\")"
   ]
  },
  {
   "cell_type": "code",
   "execution_count": 133,
   "metadata": {},
   "outputs": [
    {
     "name": "stdout",
     "output_type": "stream",
     "text": [
      "n_neigbors : 1 --> score r2 : eğitim:1.0 test: 0.4577904372948881\n",
      "n_neigbors : 2 --> score r2 : eğitim:0.837064981857266 test: 0.5773859698504779\n",
      "n_neigbors : 3 --> score r2 : eğitim:0.7767177217865807 test: 0.5887409861964886\n",
      "n_neigbors : 4 --> score r2 : eğitim:0.7285223851925864 test: 0.576359110278633\n",
      "n_neigbors : 5 --> score r2 : eğitim:0.6796245772923183 test: 0.5832739258645949\n",
      "n_neigbors : 6 --> score r2 : eğitim:0.6498863353289728 test: 0.5680514398655299\n",
      "n_neigbors : 7 --> score r2 : eğitim:0.6136292447125284 test: 0.5627771429714197\n",
      "n_neigbors : 8 --> score r2 : eğitim:0.60203599224809 test: 0.5415866699011291\n",
      "n_neigbors : 9 --> score r2 : eğitim:0.5976819964464644 test: 0.5344167775326905\n",
      "n_neigbors : 10 --> score r2 : eğitim:0.6046866343875478 test: 0.5284241224545054\n",
      "n_neigbors : 11 --> score r2 : eğitim:0.5936699096739633 test: 0.5397734748790832\n",
      "n_neigbors : 12 --> score r2 : eğitim:0.5914243751526316 test: 0.5503613343091706\n",
      "n_neigbors : 13 --> score r2 : eğitim:0.5874640941559942 test: 0.5578352531822243\n",
      "n_neigbors : 14 --> score r2 : eğitim:0.5831126137655911 test: 0.5638287952877358\n",
      "n_neigbors : 15 --> score r2 : eğitim:0.5802260386729199 test: 0.5737283492833279\n",
      "n_neigbors : 16 --> score r2 : eğitim:0.5690338343446011 test: 0.5681472289134382\n",
      "n_neigbors : 17 --> score r2 : eğitim:0.5634432631440857 test: 0.5663813402431148\n",
      "n_neigbors : 18 --> score r2 : eğitim:0.5592499297008167 test: 0.5652982092922392\n",
      "n_neigbors : 19 --> score r2 : eğitim:0.5607960358639635 test: 0.5582559979744461\n"
     ]
    }
   ],
   "source": [
    "from sklearn.neighbors import KNeighborsRegressor\n",
    "for i in range(1,20,1):\n",
    "    KNN=KNeighborsRegressor(n_neighbors=i)\n",
    "    KNN.fit(XTrain,yTrain)\n",
    "    tahminKNN=KNN.predict(XTest)\n",
    "    print(f\"n_neigbors : {i} --> score r2 : eğitim:{r2_score(yTrain,KNN.predict(XTrain))} test: {r2_score(yTest,tahminKNN)}\")"
   ]
  },
  {
   "cell_type": "code",
   "execution_count": 134,
   "metadata": {},
   "outputs": [
    {
     "name": "stdout",
     "output_type": "stream",
     "text": [
      "max_depth : 1 --> score r2 : eğitim:0.3685115680733253 test: 0.23301992770699553\n",
      "max_depth : 2 --> score r2 : eğitim:0.5334633337721316 test: 0.32468394240929543\n"
     ]
    },
    {
     "name": "stdout",
     "output_type": "stream",
     "text": [
      "max_depth : 3 --> score r2 : eğitim:0.6759867820325877 test: 0.5157849087788942\n",
      "max_depth : 4 --> score r2 : eğitim:0.7205932111633101 test: 0.5689461993576337\n",
      "max_depth : 5 --> score r2 : eğitim:0.7901932028696739 test: 0.694849550397127\n",
      "max_depth : 6 --> score r2 : eğitim:0.8381322252943437 test: 0.6414683272788906\n",
      "max_depth : 7 --> score r2 : eğitim:0.9028934547361893 test: 0.46229242351190036\n",
      "max_depth : 8 --> score r2 : eğitim:0.936609216469246 test: 0.4326793914489975\n",
      "max_depth : 9 --> score r2 : eğitim:0.9661932304386569 test: 0.43382970333213067\n",
      "max_depth : 10 --> score r2 : eğitim:0.9843199994484936 test: 0.4941809632137162\n",
      "max_depth : 11 --> score r2 : eğitim:0.9948506651045438 test: 0.36901253478107565\n",
      "max_depth : 12 --> score r2 : eğitim:0.9991434239158481 test: 0.4644553349393403\n",
      "max_depth : 13 --> score r2 : eğitim:0.9996267557826837 test: 0.3850761820157069\n",
      "max_depth : 14 --> score r2 : eğitim:1.0 test: 0.35759322769444934\n",
      "max_depth : 15 --> score r2 : eğitim:1.0 test: 0.3856248111453885\n",
      "max_depth : 16 --> score r2 : eğitim:1.0 test: 0.3473116054667944\n",
      "max_depth : 17 --> score r2 : eğitim:1.0 test: 0.3238761899958231\n",
      "max_depth : 18 --> score r2 : eğitim:1.0 test: 0.3663002236888081\n",
      "max_depth : 19 --> score r2 : eğitim:1.0 test: 0.45655649310511637\n"
     ]
    }
   ],
   "source": [
    "from sklearn.tree import DecisionTreeRegressor\n",
    "for i in range(1,20,1):\n",
    "    DT=DecisionTreeRegressor(max_depth=i)\n",
    "    DT.fit(XTrain,yTrain)\n",
    "    tahminDT=DT.predict(XTest)\n",
    "    print(f\"max_depth : {i} --> score r2 : eğitim:{r2_score(yTrain,DT.predict(XTrain))} test: {r2_score(yTest,tahminDT)}\")"
   ]
  },
  {
   "cell_type": "code",
   "execution_count": 135,
   "metadata": {},
   "outputs": [
    {
     "name": "stdout",
     "output_type": "stream",
     "text": [
      "max_depth : 1 --> score r2 : eğitim:0.6703394663497464 test: 0.5737112289822885\n",
      "max_depth : 2 --> score r2 : eğitim:0.8546346892711005 test: 0.6362766084576486\n",
      "max_depth : 3 --> score r2 : eğitim:0.9571682682370374 test: 0.6463114419043305\n",
      "max_depth : 4 --> score r2 : eğitim:0.9885579803557539 test: 0.6155735362201238\n",
      "max_depth : 5 --> score r2 : eğitim:0.9974926256078 test: 0.5797032535327833\n",
      "max_depth : 6 --> score r2 : eğitim:0.9995525348305263 test: 0.5782276809794907\n",
      "max_depth : 7 --> score r2 : eğitim:0.9999769074028085 test: 0.6270755102445787\n",
      "max_depth : 8 --> score r2 : eğitim:0.9999964265866661 test: 0.6058633803345921\n",
      "max_depth : 9 --> score r2 : eğitim:0.9999999765961022 test: 0.5913916147335274\n"
     ]
    }
   ],
   "source": [
    "from sklearn.ensemble import GradientBoostingRegressor\n",
    "for i in range(1,10,1):\n",
    "    gbr=GradientBoostingRegressor(max_depth=i,loss='squared_error')\n",
    "    gbr.fit(XTrain,yTrain)\n",
    "    tahminGbr=gbr.predict(XTest)\n",
    "    print(f\"max_depth : {i} --> score r2 : eğitim:{r2_score(yTrain,gbr.predict(XTrain))} test: {r2_score(yTest,tahminGbr)}\")"
   ]
  },
  {
   "cell_type": "code",
   "execution_count": 136,
   "metadata": {},
   "outputs": [
    {
     "data": {
      "text/plain": [
       "array([39.68650984, 24.00598377, 22.09110912, 55.05027276, 18.46163807,\n",
       "       25.88073254, 51.71629137, 31.55920278, 31.14450503, 54.67828364,\n",
       "       15.02759533, 31.23724642, 54.28652695, 22.60095839, 56.51905888,\n",
       "       13.47283968, 29.31924133, 25.99012997, 39.8882438 , 50.06746469,\n",
       "       22.17436252, 23.46972356, 52.69399123, 22.28496984, 25.73606354,\n",
       "       45.18897765, 13.28762338, 36.46030464, 55.1182266 , 27.21092646,\n",
       "       29.36446035, 54.91314329, 22.49221347, 43.13337794, 35.93840982,\n",
       "       22.7896537 , 54.2028987 , 25.82590584, 52.02712238, 50.0983383 ,\n",
       "       14.91707079, 44.32548599, 31.23205891, 21.61934526, 32.85998894,\n",
       "       15.68881214, 22.28877173, 21.91466155, 24.91295431, 14.81790606,\n",
       "       48.42904616, 53.95846931, 47.29115646, 21.62068943, 15.37385624,\n",
       "       50.56616812, 55.04882591, 22.35908023, 48.88312916, 54.48941635,\n",
       "       49.6720636 , 47.26808462, 55.36059799, 30.2433289 , 28.94329075,\n",
       "       45.68424455, 22.55176016, 47.27581089, 21.64953319, 51.22850306,\n",
       "       36.98521798, 21.7685262 , 46.55396667, 29.63469005, 49.33587873,\n",
       "       29.01043175, 54.55861708, 22.40722567, 40.72183077, 26.82411388,\n",
       "       51.8856639 , 37.56175083, 22.55156935, 21.24507441, 20.92671741,\n",
       "       49.0249154 , 47.95378906, 23.29350983, 21.7857079 , 49.9698866 ,\n",
       "       47.78123799, 54.75080554, 55.02715423, 54.90121195, 22.58271241,\n",
       "       14.84410045, 53.63145589, 24.87596982, 22.59253699, 29.36513005,\n",
       "       51.59683914, 55.0940485 , 15.67757037, 13.29378671, 51.46430847,\n",
       "       52.81344722, 16.51579721, 19.66951704, 51.73981128, 52.86110411,\n",
       "       13.25411042, 39.22103844, 21.97358006, 31.22449498, 46.49858124,\n",
       "       49.01044851, 55.25048877, 29.26082994, 20.95040729, 54.83811731,\n",
       "       55.06788563, 26.35671989, 20.57089261, 29.13033644, 22.28135142,\n",
       "       53.80668045, 29.97633884, 30.14336218, 50.47612502, 54.63739266,\n",
       "       51.72167345, 29.95372415, 16.53130011, 34.23215063, 55.31976685,\n",
       "       22.5395007 , 31.22012308, 28.97443767, 18.05690375, 22.61660568,\n",
       "       53.84720965, 55.32720948, 19.66740047, 25.77325335, 21.80638001,\n",
       "       50.68268577, 45.06196196, 47.19170649, 52.43178785, 50.17016028,\n",
       "       54.7958595 , 22.52518301, 49.77130963, 22.39170559, 51.4475474 ,\n",
       "       36.28239376, 54.17980169, 47.65729616, 22.63197987, 26.63157224,\n",
       "       14.84420546, 54.96270188, 21.49243182, 22.65284527, 21.71742855,\n",
       "       28.69932021, 54.08030185, 22.14808034, 43.2908903 , 54.85335622,\n",
       "       20.12790946, 55.01854392, 41.39664801, 22.00429202, 16.24197591,\n",
       "       51.45709833, 13.21293181, 16.51160236, 29.17790483, 40.9733091 ,\n",
       "       13.37519045, 21.76831316, 31.23546019, 18.17958975, 22.57126072,\n",
       "       55.08491812])"
      ]
     },
     "execution_count": 136,
     "metadata": {},
     "output_type": "execute_result"
    }
   ],
   "source": [
    "tahminGbr"
   ]
  },
  {
   "cell_type": "code",
   "execution_count": 137,
   "metadata": {},
   "outputs": [
    {
     "data": {
      "text/plain": [
       "328    51.225906\n",
       "33     22.276804\n",
       "15     22.521780\n",
       "315    46.164110\n",
       "57     19.163203\n",
       "         ...    \n",
       "130    29.250679\n",
       "38     23.636383\n",
       "11     22.557653\n",
       "246    18.965389\n",
       "186    55.052599\n",
       "Name: psnr, Length: 186, dtype: float64"
      ]
     },
     "execution_count": 137,
     "metadata": {},
     "output_type": "execute_result"
    }
   ],
   "source": [
    "yTest"
   ]
  },
  {
   "cell_type": "code",
   "execution_count": 138,
   "metadata": {},
   "outputs": [
    {
     "data": {
      "text/plain": [
       "305    55.052599\n",
       "113    55.052599\n",
       "180    23.043545\n",
       "245    25.032794\n",
       "233    18.441527\n",
       "         ...    \n",
       "71     55.052599\n",
       "107    54.959859\n",
       "271    12.671715\n",
       "350    55.052599\n",
       "103    55.052599\n",
       "Name: psnr, Length: 186, dtype: float64"
      ]
     },
     "execution_count": 138,
     "metadata": {},
     "output_type": "execute_result"
    }
   ],
   "source": [
    "yTrain"
   ]
  },
  {
   "cell_type": "code",
   "execution_count": 139,
   "metadata": {},
   "outputs": [],
   "source": [
    "from sklearn.preprocessing import MinMaxScaler\n",
    "scaler=MinMaxScaler()\n",
    "XTrain[sayisal_veriler]=scaler.fit_transform(XTrain[sayisal_veriler])\n",
    "XTest[sayisal_veriler]=scaler.transform(XTest[sayisal_veriler])"
   ]
  },
  {
   "cell_type": "code",
   "execution_count": 140,
   "metadata": {},
   "outputs": [
    {
     "name": "stdout",
     "output_type": "stream",
     "text": [
      "0.41287204750897877\n"
     ]
    }
   ],
   "source": [
    "from sklearn.linear_model import LinearRegression\n",
    "LogModel=LinearRegression()\n",
    "LogModel.fit(XTrain,yTrain)\n",
    "tahmin=LogModel.predict(XTest)\n",
    "from sklearn.metrics import r2_score\n",
    "print(r2_score(yTest,tahmin))"
   ]
  },
  {
   "cell_type": "code",
   "execution_count": 141,
   "metadata": {},
   "outputs": [
    {
     "name": "stdout",
     "output_type": "stream",
     "text": [
      "n_neigbors : 1 --> score r2 : eğitim:1.0 test: 0.5031056170861302\n",
      "n_neigbors : 2 --> score r2 : eğitim:0.8482166220496423 test: 0.650401090239277\n",
      "n_neigbors : 3 --> score r2 : eğitim:0.770013619995499 test: 0.7158559699744665\n",
      "n_neigbors : 4 --> score r2 : eğitim:0.7121366848451339 test: 0.7209542804680866\n",
      "n_neigbors : 5 --> score r2 : eğitim:0.6809535477543657 test: 0.6895907888782908\n",
      "n_neigbors : 6 --> score r2 : eğitim:0.6612915724525599 test: 0.6656959254357988\n",
      "n_neigbors : 7 --> score r2 : eğitim:0.6605530998119438 test: 0.6582823267154236\n",
      "n_neigbors : 8 --> score r2 : eğitim:0.6633036761358757 test: 0.6550336914220047\n",
      "n_neigbors : 9 --> score r2 : eğitim:0.6656699343466086 test: 0.6340825001588355\n",
      "n_neigbors : 10 --> score r2 : eğitim:0.6406261727517046 test: 0.6212409040973896\n",
      "n_neigbors : 11 --> score r2 : eğitim:0.6375537677016435 test: 0.6213697230573407\n",
      "n_neigbors : 12 --> score r2 : eğitim:0.6226356172520763 test: 0.6102090024430322\n",
      "n_neigbors : 13 --> score r2 : eğitim:0.6186671206878395 test: 0.6072493285173671\n",
      "n_neigbors : 14 --> score r2 : eğitim:0.6096662570823179 test: 0.6008747787796659\n",
      "n_neigbors : 15 --> score r2 : eğitim:0.6012867006354254 test: 0.5896397377076857\n",
      "n_neigbors : 16 --> score r2 : eğitim:0.6006127225831271 test: 0.5782099735996464\n",
      "n_neigbors : 17 --> score r2 : eğitim:0.5969449953795063 test: 0.5767932165394799\n",
      "n_neigbors : 18 --> score r2 : eğitim:0.6007429912311205 test: 0.5805379087709256\n",
      "n_neigbors : 19 --> score r2 : eğitim:0.5979383621494335 test: 0.5868901695132265\n"
     ]
    }
   ],
   "source": [
    "from sklearn.neighbors import KNeighborsRegressor\n",
    "for i in range(1,20,1):\n",
    "    KNN=KNeighborsRegressor(n_neighbors=i)\n",
    "    KNN.fit(XTrain,yTrain)\n",
    "    tahminKNN=KNN.predict(XTest)\n",
    "    print(f\"n_neigbors : {i} --> score r2 : eğitim:{r2_score(yTrain,KNN.predict(XTrain))} test: {r2_score(yTest,tahminKNN)}\")"
   ]
  },
  {
   "cell_type": "code",
   "execution_count": 142,
   "metadata": {},
   "outputs": [
    {
     "name": "stdout",
     "output_type": "stream",
     "text": [
      "max_depth : 1 --> score r2 : eğitim:0.37538348735133265 test: 0.3097678015195854\n",
      "max_depth : 2 --> score r2 : eğitim:0.5250491907064068 test: 0.4405158867859992\n",
      "max_depth : 3 --> score r2 : eğitim:0.6311291257302387 test: 0.5383395487291632\n",
      "max_depth : 4 --> score r2 : eğitim:0.710996171749198 test: 0.5885100470319934\n",
      "max_depth : 5 --> score r2 : eğitim:0.7853851708932815 test: 0.6226661973133305\n",
      "max_depth : 6 --> score r2 : eğitim:0.83332845400794 test: 0.6460356956527737\n",
      "max_depth : 7 --> score r2 : eğitim:0.8756916521774112 test: 0.6623406568210695\n",
      "max_depth : 8 --> score r2 : eğitim:0.9054942377156564 test: 0.6656686809415392\n",
      "max_depth : 9 --> score r2 : eğitim:0.9263416084712164 test: 0.6559641091213018\n",
      "max_depth : 10 --> score r2 : eğitim:0.9378521886553107 test: 0.6625041852125976\n",
      "max_depth : 11 --> score r2 : eğitim:0.9405500485620159 test: 0.6595025490565256\n",
      "max_depth : 12 --> score r2 : eğitim:0.9467191705185898 test: 0.6586648122117242\n",
      "max_depth : 13 --> score r2 : eğitim:0.9474465644452613 test: 0.6464964651591045\n",
      "max_depth : 14 --> score r2 : eğitim:0.9486751605191401 test: 0.6465967861216803\n",
      "max_depth : 15 --> score r2 : eğitim:0.9492861939928636 test: 0.6482036625518777\n",
      "max_depth : 16 --> score r2 : eğitim:0.9491843044016812 test: 0.646785835707026\n",
      "max_depth : 17 --> score r2 : eğitim:0.9491627140351065 test: 0.647096931593998\n",
      "max_depth : 18 --> score r2 : eğitim:0.9491627140351065 test: 0.647096931593998\n",
      "max_depth : 19 --> score r2 : eğitim:0.9491627140351065 test: 0.647096931593998\n"
     ]
    }
   ],
   "source": [
    "from sklearn.ensemble import RandomForestRegressor\n",
    "for i in range(1,20,1):\n",
    "    rand=RandomForestRegressor(max_depth=i,bootstrap=True,criterion=\"friedman_mse\",max_features='log2',max_leaf_nodes=None,n_estimators=100,n_jobs=1,random_state=42)\n",
    "    rand.fit(XTrain,yTrain)\n",
    "    tahminRand=rand.predict(XTest)\n",
    "    print(f\"max_depth : {i} --> score r2 : eğitim:{r2_score(yTrain,rand.predict(XTrain))} test: {r2_score(yTest,tahminRand)}\")"
   ]
  },
  {
   "cell_type": "code",
   "execution_count": 143,
   "metadata": {},
   "outputs": [
    {
     "name": "stdout",
     "output_type": "stream",
     "text": [
      "max_depth : 1 --> score r2 : eğitim:0.3685115680733253 test: 0.23301992770699564\n",
      "max_depth : 2 --> score r2 : eğitim:0.5334633337721315 test: 0.3246839424092953\n",
      "max_depth : 3 --> score r2 : eğitim:0.6759867820325877 test: 0.5157849087788942\n",
      "max_depth : 4 --> score r2 : eğitim:0.7205932111633101 test: 0.5749458903902582\n",
      "max_depth : 5 --> score r2 : eğitim:0.7901932028696739 test: 0.694849550397127\n",
      "max_depth : 6 --> score r2 : eğitim:0.8381322252943437 test: 0.6587144094760325\n",
      "max_depth : 7 --> score r2 : eğitim:0.9028934547361893 test: 0.4553195626247786\n",
      "max_depth : 8 --> score r2 : eğitim:0.9366092164692459 test: 0.444236469652491\n",
      "max_depth : 9 --> score r2 : eğitim:0.9598940511534069 test: 0.5026105916931799\n",
      "max_depth : 10 --> score r2 : eğitim:0.9806714388751385 test: 0.4071192624913429\n",
      "max_depth : 11 --> score r2 : eğitim:0.9951209433978953 test: 0.47038472696907774\n",
      "max_depth : 12 --> score r2 : eğitim:0.9991434239158481 test: 0.4768638904291953\n",
      "max_depth : 13 --> score r2 : eğitim:0.9996267557826837 test: 0.4757143458988512\n",
      "max_depth : 14 --> score r2 : eğitim:1.0 test: 0.40150732477054685\n",
      "max_depth : 15 --> score r2 : eğitim:1.0 test: 0.38959134425035125\n",
      "max_depth : 16 --> score r2 : eğitim:1.0 test: 0.3785989467525859\n",
      "max_depth : 17 --> score r2 : eğitim:1.0 test: 0.38032337180706755\n",
      "max_depth : 18 --> score r2 : eğitim:1.0 test: 0.3612194067542809\n",
      "max_depth : 19 --> score r2 : eğitim:1.0 test: 0.3853534871966875\n"
     ]
    }
   ],
   "source": [
    "from sklearn.tree import DecisionTreeRegressor\n",
    "for i in range(1,20,1):\n",
    "    DT=DecisionTreeRegressor(max_depth=i)\n",
    "    DT.fit(XTrain,yTrain)\n",
    "    tahminDT=DT.predict(XTest)\n",
    "    print(f\"max_depth : {i} --> score r2 : eğitim:{r2_score(yTrain,DT.predict(XTrain))} test: {r2_score(yTest,tahminDT)}\")"
   ]
  },
  {
   "cell_type": "code",
   "execution_count": 144,
   "metadata": {},
   "outputs": [
    {
     "name": "stdout",
     "output_type": "stream",
     "text": [
      "max_depth : 1 --> score r2 : eğitim:0.6703394663497464 test: 0.5737112289822885\n",
      "max_depth : 2 --> score r2 : eğitim:0.8546346892711005 test: 0.6375203112546761\n",
      "max_depth : 3 --> score r2 : eğitim:0.9571682682370374 test: 0.6459598003001976\n",
      "max_depth : 4 --> score r2 : eğitim:0.9885579803557539 test: 0.6147684021266651\n",
      "max_depth : 5 --> score r2 : eğitim:0.9974926256078 test: 0.5792489429519848\n",
      "max_depth : 6 --> score r2 : eğitim:0.9996943490367755 test: 0.5883459964004236\n",
      "max_depth : 7 --> score r2 : eğitim:0.9999769074028085 test: 0.6286748716533385\n",
      "max_depth : 8 --> score r2 : eğitim:0.9999977745324855 test: 0.6204833218347507\n",
      "max_depth : 9 --> score r2 : eğitim:0.9999998881473201 test: 0.5882995056641833\n"
     ]
    }
   ],
   "source": [
    "from sklearn.ensemble import GradientBoostingRegressor\n",
    "for i in range(1,10,1):\n",
    "    gbr=GradientBoostingRegressor(max_depth=i,loss='squared_error')\n",
    "    gbr.fit(XTrain,yTrain)\n",
    "    tahminGbr=gbr.predict(XTest)\n",
    "    print(f\"max_depth : {i} --> score r2 : eğitim:{r2_score(yTrain,gbr.predict(XTrain))} test: {r2_score(yTest,tahminGbr)}\")"
   ]
  },
  {
   "cell_type": "code",
   "execution_count": null,
   "metadata": {},
   "outputs": [],
   "source": []
  }
 ],
 "metadata": {
  "kernelspec": {
   "display_name": "Python 3",
   "language": "python",
   "name": "python3"
  },
  "language_info": {
   "codemirror_mode": {
    "name": "ipython",
    "version": 3
   },
   "file_extension": ".py",
   "mimetype": "text/x-python",
   "name": "python",
   "nbconvert_exporter": "python",
   "pygments_lexer": "ipython3",
   "version": "3.10.12"
  }
 },
 "nbformat": 4,
 "nbformat_minor": 2
}
