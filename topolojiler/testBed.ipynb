{
 "cells": [
  {
   "cell_type": "code",
   "execution_count": 1,
   "metadata": {},
   "outputs": [
    {
     "name": "stderr",
     "output_type": "stream",
     "text": [
      "/home/gurhancoban/.local/lib/python3.10/site-packages/pandas/core/arrays/masked.py:62: UserWarning: Pandas requires version '1.3.4' or newer of 'bottleneck' (version '1.3.2' currently installed).\n",
      "  from pandas.core import (\n",
      "/usr/lib/python3/dist-packages/scipy/__init__.py:146: UserWarning: A NumPy version >=1.17.3 and <1.25.0 is required for this version of SciPy (detected version 1.26.2\n",
      "  warnings.warn(f\"A NumPy version >={np_minversion} and <{np_maxversion}\"\n"
     ]
    }
   ],
   "source": [
    "import pandas as pd\n",
    "import numpy as num_paths\n",
    "import matplotlib.pyplot as psnrResault\n",
    "import seaborn as sns\n",
    "import warnings\n",
    "warnings.filterwarnings(\"ignore\")\n",
    "from matplotlib import pyplot as plt"
   ]
  },
  {
   "cell_type": "code",
   "execution_count": 2,
   "metadata": {},
   "outputs": [],
   "source": [
    "df=pd.read_csv(\"dataTest.csv\")"
   ]
  },
  {
   "cell_type": "code",
   "execution_count": 3,
   "metadata": {},
   "outputs": [
    {
     "data": {
      "text/html": [
       "<div>\n",
       "<style scoped>\n",
       "    .dataframe tbody tr th:only-of-type {\n",
       "        vertical-align: middle;\n",
       "    }\n",
       "\n",
       "    .dataframe tbody tr th {\n",
       "        vertical-align: top;\n",
       "    }\n",
       "\n",
       "    .dataframe thead th {\n",
       "        text-align: right;\n",
       "    }\n",
       "</style>\n",
       "<table border=\"1\" class=\"dataframe\">\n",
       "  <thead>\n",
       "    <tr style=\"text-align: right;\">\n",
       "      <th></th>\n",
       "      <th>host</th>\n",
       "      <th>avgRTT</th>\n",
       "      <th>packetLoss</th>\n",
       "      <th>latency</th>\n",
       "      <th>hopCount</th>\n",
       "      <th>bandwidth</th>\n",
       "      <th>yukOrani</th>\n",
       "      <th>psnr</th>\n",
       "      <th>ssim_first</th>\n",
       "      <th>ssim_second</th>\n",
       "      <th>type</th>\n",
       "      <th>server</th>\n",
       "    </tr>\n",
       "  </thead>\n",
       "  <tbody>\n",
       "    <tr>\n",
       "      <th>0</th>\n",
       "      <td>h1</td>\n",
       "      <td>1898.137</td>\n",
       "      <td>0.0</td>\n",
       "      <td>66</td>\n",
       "      <td>4</td>\n",
       "      <td>3000000</td>\n",
       "      <td>2011.425000</td>\n",
       "      <td>31.225948</td>\n",
       "      <td>0.985150</td>\n",
       "      <td>18.282783</td>\n",
       "      <td>3</td>\n",
       "      <td>h10</td>\n",
       "    </tr>\n",
       "    <tr>\n",
       "      <th>1</th>\n",
       "      <td>h2</td>\n",
       "      <td>2240.660</td>\n",
       "      <td>0.0</td>\n",
       "      <td>44</td>\n",
       "      <td>3</td>\n",
       "      <td>3000000</td>\n",
       "      <td>1859.161290</td>\n",
       "      <td>31.225948</td>\n",
       "      <td>0.985150</td>\n",
       "      <td>18.282674</td>\n",
       "      <td>3</td>\n",
       "      <td>h14</td>\n",
       "    </tr>\n",
       "    <tr>\n",
       "      <th>2</th>\n",
       "      <td>h3</td>\n",
       "      <td>2196.294</td>\n",
       "      <td>0.0</td>\n",
       "      <td>40</td>\n",
       "      <td>2</td>\n",
       "      <td>3000000</td>\n",
       "      <td>9084.620155</td>\n",
       "      <td>22.700112</td>\n",
       "      <td>0.956348</td>\n",
       "      <td>13.599976</td>\n",
       "      <td>3</td>\n",
       "      <td>h14</td>\n",
       "    </tr>\n",
       "    <tr>\n",
       "      <th>3</th>\n",
       "      <td>h4</td>\n",
       "      <td>1298.732</td>\n",
       "      <td>0.0</td>\n",
       "      <td>60</td>\n",
       "      <td>3</td>\n",
       "      <td>3000000</td>\n",
       "      <td>25815.963636</td>\n",
       "      <td>22.301604</td>\n",
       "      <td>0.960533</td>\n",
       "      <td>14.037636</td>\n",
       "      <td>3</td>\n",
       "      <td>h14</td>\n",
       "    </tr>\n",
       "    <tr>\n",
       "      <th>4</th>\n",
       "      <td>h5</td>\n",
       "      <td>338.105</td>\n",
       "      <td>0.0</td>\n",
       "      <td>92</td>\n",
       "      <td>4</td>\n",
       "      <td>3000000</td>\n",
       "      <td>37246.273632</td>\n",
       "      <td>22.510259</td>\n",
       "      <td>0.958593</td>\n",
       "      <td>13.829213</td>\n",
       "      <td>3</td>\n",
       "      <td>h10</td>\n",
       "    </tr>\n",
       "  </tbody>\n",
       "</table>\n",
       "</div>"
      ],
      "text/plain": [
       "  host    avgRTT  packetLoss  latency  hopCount  bandwidth      yukOrani  \\\n",
       "0   h1  1898.137         0.0       66         4    3000000   2011.425000   \n",
       "1   h2  2240.660         0.0       44         3    3000000   1859.161290   \n",
       "2   h3  2196.294         0.0       40         2    3000000   9084.620155   \n",
       "3   h4  1298.732         0.0       60         3    3000000  25815.963636   \n",
       "4   h5   338.105         0.0       92         4    3000000  37246.273632   \n",
       "\n",
       "        psnr  ssim_first  ssim_second  type server  \n",
       "0  31.225948    0.985150    18.282783     3    h10  \n",
       "1  31.225948    0.985150    18.282674     3    h14  \n",
       "2  22.700112    0.956348    13.599976     3    h14  \n",
       "3  22.301604    0.960533    14.037636     3    h14  \n",
       "4  22.510259    0.958593    13.829213     3    h10  "
      ]
     },
     "execution_count": 3,
     "metadata": {},
     "output_type": "execute_result"
    }
   ],
   "source": [
    "df=pd.DataFrame(df)\n",
    "df.head()"
   ]
  },
  {
   "cell_type": "code",
   "execution_count": 4,
   "metadata": {},
   "outputs": [
    {
     "data": {
      "text/html": [
       "<div>\n",
       "<style scoped>\n",
       "    .dataframe tbody tr th:only-of-type {\n",
       "        vertical-align: middle;\n",
       "    }\n",
       "\n",
       "    .dataframe tbody tr th {\n",
       "        vertical-align: top;\n",
       "    }\n",
       "\n",
       "    .dataframe thead th {\n",
       "        text-align: right;\n",
       "    }\n",
       "</style>\n",
       "<table border=\"1\" class=\"dataframe\">\n",
       "  <thead>\n",
       "    <tr style=\"text-align: right;\">\n",
       "      <th></th>\n",
       "      <th>count</th>\n",
       "      <th>mean</th>\n",
       "      <th>std</th>\n",
       "      <th>min</th>\n",
       "      <th>25%</th>\n",
       "      <th>50%</th>\n",
       "      <th>75%</th>\n",
       "      <th>max</th>\n",
       "    </tr>\n",
       "  </thead>\n",
       "  <tbody>\n",
       "    <tr>\n",
       "      <th>avgRTT</th>\n",
       "      <td>287.0</td>\n",
       "      <td>1.212885e+03</td>\n",
       "      <td>1.098559e+03</td>\n",
       "      <td>1.529400e+02</td>\n",
       "      <td>3.211545e+02</td>\n",
       "      <td>5.699740e+02</td>\n",
       "      <td>2.196664e+03</td>\n",
       "      <td>4.744949e+03</td>\n",
       "    </tr>\n",
       "    <tr>\n",
       "      <th>packetLoss</th>\n",
       "      <td>287.0</td>\n",
       "      <td>0.000000e+00</td>\n",
       "      <td>0.000000e+00</td>\n",
       "      <td>0.000000e+00</td>\n",
       "      <td>0.000000e+00</td>\n",
       "      <td>0.000000e+00</td>\n",
       "      <td>0.000000e+00</td>\n",
       "      <td>0.000000e+00</td>\n",
       "    </tr>\n",
       "    <tr>\n",
       "      <th>latency</th>\n",
       "      <td>287.0</td>\n",
       "      <td>7.430314e+01</td>\n",
       "      <td>3.435238e+01</td>\n",
       "      <td>1.300000e+01</td>\n",
       "      <td>5.250000e+01</td>\n",
       "      <td>7.400000e+01</td>\n",
       "      <td>9.000000e+01</td>\n",
       "      <td>3.580000e+02</td>\n",
       "    </tr>\n",
       "    <tr>\n",
       "      <th>hopCount</th>\n",
       "      <td>287.0</td>\n",
       "      <td>3.066202e+00</td>\n",
       "      <td>1.033938e+00</td>\n",
       "      <td>1.000000e+00</td>\n",
       "      <td>3.000000e+00</td>\n",
       "      <td>3.000000e+00</td>\n",
       "      <td>4.000000e+00</td>\n",
       "      <td>8.000000e+00</td>\n",
       "    </tr>\n",
       "    <tr>\n",
       "      <th>bandwidth</th>\n",
       "      <td>287.0</td>\n",
       "      <td>4.128920e+06</td>\n",
       "      <td>1.311901e+06</td>\n",
       "      <td>3.000000e+06</td>\n",
       "      <td>3.000000e+06</td>\n",
       "      <td>5.000000e+06</td>\n",
       "      <td>5.000000e+06</td>\n",
       "      <td>1.000000e+07</td>\n",
       "    </tr>\n",
       "    <tr>\n",
       "      <th>yukOrani</th>\n",
       "      <td>287.0</td>\n",
       "      <td>3.120538e+04</td>\n",
       "      <td>2.679657e+04</td>\n",
       "      <td>4.751573e+02</td>\n",
       "      <td>8.919753e+03</td>\n",
       "      <td>2.581596e+04</td>\n",
       "      <td>4.496144e+04</td>\n",
       "      <td>1.770201e+05</td>\n",
       "    </tr>\n",
       "    <tr>\n",
       "      <th>psnr</th>\n",
       "      <td>287.0</td>\n",
       "      <td>3.348263e+01</td>\n",
       "      <td>1.633370e+01</td>\n",
       "      <td>1.267172e+01</td>\n",
       "      <td>2.133116e+01</td>\n",
       "      <td>2.304355e+01</td>\n",
       "      <td>5.505260e+01</td>\n",
       "      <td>5.506194e+01</td>\n",
       "    </tr>\n",
       "    <tr>\n",
       "      <th>ssim_first</th>\n",
       "      <td>287.0</td>\n",
       "      <td>9.130560e-01</td>\n",
       "      <td>1.298427e-01</td>\n",
       "      <td>5.138590e-01</td>\n",
       "      <td>9.020465e-01</td>\n",
       "      <td>9.608250e-01</td>\n",
       "      <td>9.997650e-01</td>\n",
       "      <td>9.997650e-01</td>\n",
       "    </tr>\n",
       "    <tr>\n",
       "      <th>ssim_second</th>\n",
       "      <td>287.0</td>\n",
       "      <td>1.996755e+01</td>\n",
       "      <td>1.245596e+01</td>\n",
       "      <td>3.132379e+00</td>\n",
       "      <td>1.008981e+01</td>\n",
       "      <td>1.406988e+01</td>\n",
       "      <td>3.628266e+01</td>\n",
       "      <td>3.628266e+01</td>\n",
       "    </tr>\n",
       "    <tr>\n",
       "      <th>type</th>\n",
       "      <td>287.0</td>\n",
       "      <td>3.000000e+00</td>\n",
       "      <td>0.000000e+00</td>\n",
       "      <td>3.000000e+00</td>\n",
       "      <td>3.000000e+00</td>\n",
       "      <td>3.000000e+00</td>\n",
       "      <td>3.000000e+00</td>\n",
       "      <td>3.000000e+00</td>\n",
       "    </tr>\n",
       "  </tbody>\n",
       "</table>\n",
       "</div>"
      ],
      "text/plain": [
       "             count          mean           std           min           25%  \\\n",
       "avgRTT       287.0  1.212885e+03  1.098559e+03  1.529400e+02  3.211545e+02   \n",
       "packetLoss   287.0  0.000000e+00  0.000000e+00  0.000000e+00  0.000000e+00   \n",
       "latency      287.0  7.430314e+01  3.435238e+01  1.300000e+01  5.250000e+01   \n",
       "hopCount     287.0  3.066202e+00  1.033938e+00  1.000000e+00  3.000000e+00   \n",
       "bandwidth    287.0  4.128920e+06  1.311901e+06  3.000000e+06  3.000000e+06   \n",
       "yukOrani     287.0  3.120538e+04  2.679657e+04  4.751573e+02  8.919753e+03   \n",
       "psnr         287.0  3.348263e+01  1.633370e+01  1.267172e+01  2.133116e+01   \n",
       "ssim_first   287.0  9.130560e-01  1.298427e-01  5.138590e-01  9.020465e-01   \n",
       "ssim_second  287.0  1.996755e+01  1.245596e+01  3.132379e+00  1.008981e+01   \n",
       "type         287.0  3.000000e+00  0.000000e+00  3.000000e+00  3.000000e+00   \n",
       "\n",
       "                      50%           75%           max  \n",
       "avgRTT       5.699740e+02  2.196664e+03  4.744949e+03  \n",
       "packetLoss   0.000000e+00  0.000000e+00  0.000000e+00  \n",
       "latency      7.400000e+01  9.000000e+01  3.580000e+02  \n",
       "hopCount     3.000000e+00  4.000000e+00  8.000000e+00  \n",
       "bandwidth    5.000000e+06  5.000000e+06  1.000000e+07  \n",
       "yukOrani     2.581596e+04  4.496144e+04  1.770201e+05  \n",
       "psnr         2.304355e+01  5.505260e+01  5.506194e+01  \n",
       "ssim_first   9.608250e-01  9.997650e-01  9.997650e-01  \n",
       "ssim_second  1.406988e+01  3.628266e+01  3.628266e+01  \n",
       "type         3.000000e+00  3.000000e+00  3.000000e+00  "
      ]
     },
     "execution_count": 4,
     "metadata": {},
     "output_type": "execute_result"
    }
   ],
   "source": [
    "df.dropna(inplace=True)\n",
    "df.describe().T"
   ]
  },
  {
   "cell_type": "code",
   "execution_count": 5,
   "metadata": {},
   "outputs": [
    {
     "data": {
      "image/png": "[encoded data removed]",
      "text/plain": [
       "<Figure size 1440x1440 with 1 Axes>"
      ]
     },
     "metadata": {
      "needs_background": "light"
     },
     "output_type": "display_data"
    },
    {
     "data": {
      "image/png": "[encoded data removed]",
      "text/plain": [
       "<Figure size 1440x1440 with 1 Axes>"
      ]
     },
     "metadata": {
      "needs_background": "light"
     },
     "output_type": "display_data"
    },
    {
     "data": {
      "image/png": "[encoded data removed]",
      "text/plain": [
       "<Figure size 1440x1440 with 1 Axes>"
      ]
     },
     "metadata": {
      "needs_background": "light"
     },
     "output_type": "display_data"
    },
    {
     "data": {
      "image/png": "[encoded data removed]",
      "text/plain": [
       "<Figure size 1440x1440 with 1 Axes>"
      ]
     },
     "metadata": {
      "needs_background": "light"
     },
     "output_type": "display_data"
    },
    {
     "data": {
      "image/png": "[encoded data removed]",
      "text/plain": [
       "<Figure size 1440x1440 with 1 Axes>"
      ]
     },
     "metadata": {
      "needs_background": "light"
     },
     "output_type": "display_data"
    },
    {
     "data": {
      "image/png": "[encoded data removed]",
      "text/plain": [
       "<Figure size 1440x1440 with 1 Axes>"
      ]
     },
     "metadata": {
      "needs_background": "light"
     },
     "output_type": "display_data"
    }
   ],
   "source": [
    "sayisal_veriler=[\"avgRTT\",\"packetLoss\",\"latency\",\"hopCount\",\"bandwidth\",\"yukOrani\"]\n",
    "for i,deger in enumerate(sayisal_veriler):\n",
    "    plt.figure(figsize=(20,20))\n",
    "    ax=plt.subplot(4,3,i+1)\n",
    "    sns.scatterplot(x=deger,y=\"psnr\",data=df)\n",
    "    plt.show()"
   ]
  },
  {
   "cell_type": "code",
   "execution_count": 6,
   "metadata": {},
   "outputs": [],
   "source": [
    "# sns.displot(df)"
   ]
  },
  {
   "cell_type": "code",
   "execution_count": 7,
   "metadata": {},
   "outputs": [
    {
     "data": {
      "text/plain": [
       "0      0.985150\n",
       "1      0.985150\n",
       "2      0.956348\n",
       "3      0.960533\n",
       "4      0.958593\n",
       "         ...   \n",
       "283    0.999765\n",
       "284    0.999765\n",
       "285    0.999765\n",
       "286    0.999765\n",
       "287    0.999765\n",
       "Name: ssim_first, Length: 287, dtype: float64"
      ]
     },
     "execution_count": 7,
     "metadata": {},
     "output_type": "execute_result"
    }
   ],
   "source": [
    "y=df[\"ssim_first\"]\n",
    "x=df.drop([\"host\",\"ssim_first\",\"ssim_second\",\"type\",\"psnr\",\"server\"],axis=\"columns\")\n",
    "y\n"
   ]
  },
  {
   "cell_type": "code",
   "execution_count": 8,
   "metadata": {},
   "outputs": [
    {
     "data": {
      "image/png": "[encoded data removed]",
      "text/plain": [
       "<Figure size 576x396 with 2 Axes>"
      ]
     },
     "metadata": {},
     "output_type": "display_data"
    },
    {
     "data": {
      "text/plain": [
       "<AxesSubplot:title={'center':'Pearson Ranking of 6 Features'}>"
      ]
     },
     "execution_count": 8,
     "metadata": {},
     "output_type": "execute_result"
    }
   ],
   "source": [
    "from yellowbrick.features import Rank2D\n",
    "visualizer=Rank2D(algorithm=\"pearson\")\n",
    "visualizer.fit(x,y)\n",
    "visualizer.transform(x)\n",
    "visualizer.show()"
   ]
  },
  {
   "cell_type": "code",
   "execution_count": 9,
   "metadata": {},
   "outputs": [
    {
     "data": {
      "text/html": [
       "<div>\n",
       "<style scoped>\n",
       "    .dataframe tbody tr th:only-of-type {\n",
       "        vertical-align: middle;\n",
       "    }\n",
       "\n",
       "    .dataframe tbody tr th {\n",
       "        vertical-align: top;\n",
       "    }\n",
       "\n",
       "    .dataframe thead th {\n",
       "        text-align: right;\n",
       "    }\n",
       "</style>\n",
       "<table border=\"1\" class=\"dataframe\">\n",
       "  <thead>\n",
       "    <tr style=\"text-align: right;\">\n",
       "      <th></th>\n",
       "      <th>count</th>\n",
       "      <th>mean</th>\n",
       "      <th>std</th>\n",
       "      <th>min</th>\n",
       "      <th>25%</th>\n",
       "      <th>50%</th>\n",
       "      <th>75%</th>\n",
       "      <th>max</th>\n",
       "    </tr>\n",
       "  </thead>\n",
       "  <tbody>\n",
       "    <tr>\n",
       "      <th>avgRTT</th>\n",
       "      <td>287.0</td>\n",
       "      <td>1.212885e+03</td>\n",
       "      <td>1.098559e+03</td>\n",
       "      <td>1.529400e+02</td>\n",
       "      <td>3.211545e+02</td>\n",
       "      <td>5.699740e+02</td>\n",
       "      <td>2.196664e+03</td>\n",
       "      <td>4.744949e+03</td>\n",
       "    </tr>\n",
       "    <tr>\n",
       "      <th>packetLoss</th>\n",
       "      <td>287.0</td>\n",
       "      <td>0.000000e+00</td>\n",
       "      <td>0.000000e+00</td>\n",
       "      <td>0.000000e+00</td>\n",
       "      <td>0.000000e+00</td>\n",
       "      <td>0.000000e+00</td>\n",
       "      <td>0.000000e+00</td>\n",
       "      <td>0.000000e+00</td>\n",
       "    </tr>\n",
       "    <tr>\n",
       "      <th>latency</th>\n",
       "      <td>287.0</td>\n",
       "      <td>7.430314e+01</td>\n",
       "      <td>3.435238e+01</td>\n",
       "      <td>1.300000e+01</td>\n",
       "      <td>5.250000e+01</td>\n",
       "      <td>7.400000e+01</td>\n",
       "      <td>9.000000e+01</td>\n",
       "      <td>3.580000e+02</td>\n",
       "    </tr>\n",
       "    <tr>\n",
       "      <th>hopCount</th>\n",
       "      <td>287.0</td>\n",
       "      <td>3.066202e+00</td>\n",
       "      <td>1.033938e+00</td>\n",
       "      <td>1.000000e+00</td>\n",
       "      <td>3.000000e+00</td>\n",
       "      <td>3.000000e+00</td>\n",
       "      <td>4.000000e+00</td>\n",
       "      <td>8.000000e+00</td>\n",
       "    </tr>\n",
       "    <tr>\n",
       "      <th>bandwidth</th>\n",
       "      <td>287.0</td>\n",
       "      <td>4.128920e+06</td>\n",
       "      <td>1.311901e+06</td>\n",
       "      <td>3.000000e+06</td>\n",
       "      <td>3.000000e+06</td>\n",
       "      <td>5.000000e+06</td>\n",
       "      <td>5.000000e+06</td>\n",
       "      <td>1.000000e+07</td>\n",
       "    </tr>\n",
       "    <tr>\n",
       "      <th>yukOrani</th>\n",
       "      <td>287.0</td>\n",
       "      <td>3.120538e+04</td>\n",
       "      <td>2.679657e+04</td>\n",
       "      <td>4.751573e+02</td>\n",
       "      <td>8.919753e+03</td>\n",
       "      <td>2.581596e+04</td>\n",
       "      <td>4.496144e+04</td>\n",
       "      <td>1.770201e+05</td>\n",
       "    </tr>\n",
       "  </tbody>\n",
       "</table>\n",
       "</div>"
      ],
      "text/plain": [
       "            count          mean           std           min           25%  \\\n",
       "avgRTT      287.0  1.212885e+03  1.098559e+03  1.529400e+02  3.211545e+02   \n",
       "packetLoss  287.0  0.000000e+00  0.000000e+00  0.000000e+00  0.000000e+00   \n",
       "latency     287.0  7.430314e+01  3.435238e+01  1.300000e+01  5.250000e+01   \n",
       "hopCount    287.0  3.066202e+00  1.033938e+00  1.000000e+00  3.000000e+00   \n",
       "bandwidth   287.0  4.128920e+06  1.311901e+06  3.000000e+06  3.000000e+06   \n",
       "yukOrani    287.0  3.120538e+04  2.679657e+04  4.751573e+02  8.919753e+03   \n",
       "\n",
       "                     50%           75%           max  \n",
       "avgRTT      5.699740e+02  2.196664e+03  4.744949e+03  \n",
       "packetLoss  0.000000e+00  0.000000e+00  0.000000e+00  \n",
       "latency     7.400000e+01  9.000000e+01  3.580000e+02  \n",
       "hopCount    3.000000e+00  4.000000e+00  8.000000e+00  \n",
       "bandwidth   5.000000e+06  5.000000e+06  1.000000e+07  \n",
       "yukOrani    2.581596e+04  4.496144e+04  1.770201e+05  "
      ]
     },
     "execution_count": 9,
     "metadata": {},
     "output_type": "execute_result"
    }
   ],
   "source": [
    "x.describe().T"
   ]
  },
  {
   "cell_type": "code",
   "execution_count": 10,
   "metadata": {},
   "outputs": [],
   "source": [
    "from sklearn.model_selection import train_test_split\n",
    "XTrain,XTest,yTrain,yTest=train_test_split(x,y,test_size=0.4, random_state=42)"
   ]
  },
  {
   "cell_type": "code",
   "execution_count": 11,
   "metadata": {},
   "outputs": [
    {
     "name": "stdout",
     "output_type": "stream",
     "text": [
      "0.6101268431639972\n"
     ]
    }
   ],
   "source": [
    "from sklearn.linear_model import LinearRegression\n",
    "LogModel=LinearRegression()\n",
    "LogModel.fit(XTrain,yTrain)\n",
    "tahmin=LogModel.predict(XTest)\n",
    "from sklearn.metrics import r2_score\n",
    "print(r2_score(yTest,tahmin))"
   ]
  },
  {
   "cell_type": "code",
   "execution_count": 12,
   "metadata": {},
   "outputs": [
    {
     "name": "stdout",
     "output_type": "stream",
     "text": [
      "max_depth : 1 --> score r2 : eğitim:0.4556675149482664 test: 0.41769561170454794\n",
      "max_depth : 2 --> score r2 : eğitim:0.7717527245034788 test: 0.6964523361673416\n",
      "max_depth : 3 --> score r2 : eğitim:0.8736266496497183 test: 0.7637697060836077\n",
      "max_depth : 4 --> score r2 : eğitim:0.9266015650365726 test: 0.7831684486467929\n",
      "max_depth : 5 --> score r2 : eğitim:0.9515428568184325 test: 0.7928337536593459\n",
      "max_depth : 6 --> score r2 : eğitim:0.9639799647710608 test: 0.7977287036889328\n",
      "max_depth : 7 --> score r2 : eğitim:0.967869265622545 test: 0.7935688077908628\n",
      "max_depth : 8 --> score r2 : eğitim:0.9723964298206813 test: 0.8002087908337903\n",
      "max_depth : 9 --> score r2 : eğitim:0.97353004477702 test: 0.7967941320118344\n",
      "max_depth : 10 --> score r2 : eğitim:0.9728091409641909 test: 0.8066450161873244\n",
      "max_depth : 11 --> score r2 : eğitim:0.9704685972925432 test: 0.7883392395871461\n",
      "max_depth : 12 --> score r2 : eğitim:0.9738354433434108 test: 0.7974852075037939\n",
      "max_depth : 13 --> score r2 : eğitim:0.9730484168619686 test: 0.7832568212038709\n",
      "max_depth : 14 --> score r2 : eğitim:0.9743385444138983 test: 0.7975271046244142\n",
      "max_depth : 15 --> score r2 : eğitim:0.9718685825992278 test: 0.8034331008024069\n",
      "max_depth : 16 --> score r2 : eğitim:0.9745917704052213 test: 0.7921487555094031\n",
      "max_depth : 17 --> score r2 : eğitim:0.9685378326181919 test: 0.7917957304806982\n",
      "max_depth : 18 --> score r2 : eğitim:0.9708315132053494 test: 0.7967358137112401\n",
      "max_depth : 19 --> score r2 : eğitim:0.973694975066644 test: 0.7991907215201727\n"
     ]
    }
   ],
   "source": [
    "from sklearn.ensemble import RandomForestRegressor\n",
    "for i in range(1,20,1):\n",
    "    rand=RandomForestRegressor(max_depth=i,)\n",
    "    rand.fit(XTrain,yTrain)\n",
    "    tahminRand=rand.predict(XTest)\n",
    "    print(f\"max_depth : {i} --> score r2 : eğitim:{r2_score(yTrain,rand.predict(XTrain))} test: {r2_score(yTest,tahminRand)}\")"
   ]
  },
  {
   "cell_type": "code",
   "execution_count": 13,
   "metadata": {},
   "outputs": [
    {
     "name": "stdout",
     "output_type": "stream",
     "text": [
      "n_neigbors : 1 --> score r2 : eğitim:1.0 test: 0.7682269186926272\n"
     ]
    },
    {
     "name": "stdout",
     "output_type": "stream",
     "text": [
      "n_neigbors : 2 --> score r2 : eğitim:0.9421110237645797 test: 0.7826820702827838\n",
      "n_neigbors : 3 --> score r2 : eğitim:0.911092770035594 test: 0.7966698625164412\n",
      "n_neigbors : 4 --> score r2 : eğitim:0.8861520675114527 test: 0.7877564735333066\n",
      "n_neigbors : 5 --> score r2 : eğitim:0.8699487415615698 test: 0.7907390174948893\n",
      "n_neigbors : 6 --> score r2 : eğitim:0.8564678790825366 test: 0.8044245220427438\n",
      "n_neigbors : 7 --> score r2 : eğitim:0.8428940684064975 test: 0.7980872160873287\n",
      "n_neigbors : 8 --> score r2 : eğitim:0.8280325454464799 test: 0.8009133979631223\n",
      "n_neigbors : 9 --> score r2 : eğitim:0.8068621281828541 test: 0.7898885459727938\n",
      "n_neigbors : 10 --> score r2 : eğitim:0.7935766877720152 test: 0.7808377027870794\n",
      "n_neigbors : 11 --> score r2 : eğitim:0.7754331847420322 test: 0.7838505044093157\n",
      "n_neigbors : 12 --> score r2 : eğitim:0.7632219822523892 test: 0.7831817994722341\n",
      "n_neigbors : 13 --> score r2 : eğitim:0.7622985982471565 test: 0.772685492613097\n",
      "n_neigbors : 14 --> score r2 : eğitim:0.7567314454343437 test: 0.7678048071312613\n",
      "n_neigbors : 15 --> score r2 : eğitim:0.7537317174522882 test: 0.76622724780282\n",
      "n_neigbors : 16 --> score r2 : eğitim:0.7511791507688819 test: 0.7638727067099984\n",
      "n_neigbors : 17 --> score r2 : eğitim:0.75036782501181 test: 0.7621589713110601\n",
      "n_neigbors : 18 --> score r2 : eğitim:0.7483581978338998 test: 0.7533401944034694\n",
      "n_neigbors : 19 --> score r2 : eğitim:0.7450217371026177 test: 0.749166784525642\n"
     ]
    }
   ],
   "source": [
    "from sklearn.neighbors import KNeighborsRegressor\n",
    "for i in range(1,20,1):\n",
    "    KNN=KNeighborsRegressor(n_neighbors=i)\n",
    "    KNN.fit(XTrain,yTrain)\n",
    "    tahminKNN=KNN.predict(XTest)\n",
    "    print(f\"n_neigbors : {i} --> score r2 : eğitim:{r2_score(yTrain,KNN.predict(XTrain))} test: {r2_score(yTest,tahminKNN)}\")"
   ]
  },
  {
   "cell_type": "code",
   "execution_count": 14,
   "metadata": {},
   "outputs": [
    {
     "name": "stdout",
     "output_type": "stream",
     "text": [
      "max_depth : 1 --> score r2 : eğitim:0.4170624164697422 test: 0.33833181285363223\n",
      "max_depth : 2 --> score r2 : eğitim:0.7077311263151833 test: 0.6166403009965513\n",
      "max_depth : 3 --> score r2 : eğitim:0.8276444768084776 test: 0.6862790464608919\n",
      "max_depth : 4 --> score r2 : eğitim:0.9076956029030733 test: 0.7232031218534899\n"
     ]
    },
    {
     "name": "stdout",
     "output_type": "stream",
     "text": [
      "max_depth : 5 --> score r2 : eğitim:0.9460987482772625 test: 0.7508193604467955\n",
      "max_depth : 6 --> score r2 : eğitim:0.9748010255400577 test: 0.7145757212429049\n",
      "max_depth : 7 --> score r2 : eğitim:0.9900654050272356 test: 0.6735711102529702\n",
      "max_depth : 8 --> score r2 : eğitim:0.9982015052558671 test: 0.7132852936139678\n",
      "max_depth : 9 --> score r2 : eğitim:0.9998733581252383 test: 0.6888107841111466\n",
      "max_depth : 10 --> score r2 : eğitim:0.9999963856494125 test: 0.7129287008962927\n",
      "max_depth : 11 --> score r2 : eğitim:0.9999990040313548 test: 0.6895898016494579\n",
      "max_depth : 12 --> score r2 : eğitim:1.0 test: 0.711065999645851\n",
      "max_depth : 13 --> score r2 : eğitim:1.0 test: 0.7272431889816413\n",
      "max_depth : 14 --> score r2 : eğitim:1.0 test: 0.7131285767366649\n",
      "max_depth : 15 --> score r2 : eğitim:1.0 test: 0.6888557857856483\n",
      "max_depth : 16 --> score r2 : eğitim:1.0 test: 0.6929486454292006\n",
      "max_depth : 17 --> score r2 : eğitim:1.0 test: 0.6791365506017417\n",
      "max_depth : 18 --> score r2 : eğitim:1.0 test: 0.7229075855973335\n",
      "max_depth : 19 --> score r2 : eğitim:1.0 test: 0.7204708733622756\n"
     ]
    }
   ],
   "source": [
    "from sklearn.tree import DecisionTreeRegressor\n",
    "for i in range(1,20,1):\n",
    "    DT=DecisionTreeRegressor(max_depth=i)\n",
    "    DT.fit(XTrain,yTrain)\n",
    "    tahminDT=DT.predict(XTest)\n",
    "    print(f\"max_depth : {i} --> score r2 : eğitim:{r2_score(yTrain,DT.predict(XTrain))} test: {r2_score(yTest,tahminDT)}\")"
   ]
  },
  {
   "cell_type": "code",
   "execution_count": 15,
   "metadata": {},
   "outputs": [
    {
     "name": "stdout",
     "output_type": "stream",
     "text": [
      "max_depth : 1 --> score r2 : eğitim:0.7361360826377574 test: 0.6654024924245122\n",
      "max_depth : 2 --> score r2 : eğitim:0.9199758824508039 test: 0.7772612217877246\n",
      "max_depth : 3 --> score r2 : eğitim:0.9862214043372287 test: 0.7782425917932668\n",
      "max_depth : 4 --> score r2 : eğitim:0.9985505436563857 test: 0.763786514975455\n",
      "max_depth : 5 --> score r2 : eğitim:0.9998774771542305 test: 0.760290865804083\n",
      "max_depth : 6 --> score r2 : eğitim:0.9999943264146197 test: 0.7625852735309673\n",
      "max_depth : 7 --> score r2 : eğitim:0.9999999578308142 test: 0.734467779503726\n",
      "max_depth : 8 --> score r2 : eğitim:0.9999999987637115 test: 0.7183616952282406\n",
      "max_depth : 9 --> score r2 : eğitim:0.999999999280162 test: 0.7312235668754976\n"
     ]
    }
   ],
   "source": [
    "from sklearn.ensemble import GradientBoostingRegressor\n",
    "for i in range(1,10,1):\n",
    "    gbr=GradientBoostingRegressor(max_depth=i,loss='squared_error')\n",
    "    gbr.fit(XTrain,yTrain)\n",
    "    tahminGbr=gbr.predict(XTest)\n",
    "    print(f\"max_depth : {i} --> score r2 : eğitim:{r2_score(yTrain,gbr.predict(XTrain))} test: {r2_score(yTest,tahminGbr)}\")"
   ]
  },
  {
   "cell_type": "code",
   "execution_count": 16,
   "metadata": {},
   "outputs": [
    {
     "data": {
      "text/plain": [
       "array([0.91177542, 0.93915005, 0.99241789, 0.99547542, 0.95731516,\n",
       "       0.89579421, 0.99385784, 0.964674  , 0.99241789, 0.93915005,\n",
       "       0.99695816, 0.89856942, 0.99385784, 0.81745695, 0.76044632,\n",
       "       0.92799253, 0.95084532, 0.95300058, 0.67723837, 0.66415768,\n",
       "       0.95495721, 0.93915005, 0.99385784, 0.99385784, 0.96862879,\n",
       "       0.96577095, 0.98447637, 0.99448089, 0.99695816, 0.86489247,\n",
       "       0.97502695, 0.99547542, 0.93999605, 0.99547532, 0.95794021,\n",
       "       0.97335668, 0.97484205, 0.97163363, 0.97484205, 0.91544426,\n",
       "       0.97583395, 0.96615547, 0.81745695, 0.966016  , 0.99695816,\n",
       "       0.964674  , 0.96119921, 0.99227342, 0.71382011, 0.99241789,\n",
       "       0.96577095, 0.97587442, 0.97335668, 0.95445484, 0.964674  ,\n",
       "       0.96977637, 0.98447637, 0.95780684, 0.99695816, 0.966016  ,\n",
       "       0.99385784, 0.88839353, 0.95801721, 0.71382011, 0.96839816,\n",
       "       0.93999605, 0.71382011, 0.95526237, 0.81745695, 0.95794021,\n",
       "       0.96862879, 0.66415768, 0.81745695, 0.96577095, 0.90036995,\n",
       "       0.66415768, 0.95801995, 0.99695816, 0.96119921, 0.97163363,\n",
       "       0.97797926, 0.99227342, 0.99361016, 0.96839816, 0.96577095,\n",
       "       0.95300058, 0.81745695, 0.99361016, 0.97423168, 0.99547542,\n",
       "       0.95236884, 0.89579421, 0.66415768, 0.96617511, 0.76044632,\n",
       "       0.99241789, 0.81745695, 0.98339626, 0.98447637, 0.964674  ,\n",
       "       0.966016  , 0.96617042, 0.95526237, 0.97484205, 0.99355111,\n",
       "       0.96577095, 0.81745695, 0.65959632, 0.88839353, 0.99241789,\n",
       "       0.96119921, 0.65959632, 0.66415768, 0.99695816, 0.88253326])"
      ]
     },
     "execution_count": 16,
     "metadata": {},
     "output_type": "execute_result"
    }
   ],
   "source": [
    "tahminKNN"
   ]
  },
  {
   "cell_type": "code",
   "execution_count": 17,
   "metadata": {},
   "outputs": [
    {
     "data": {
      "text/plain": [
       "9      0.953867\n",
       "256    0.960707\n",
       "145    0.999765\n",
       "214    0.999196\n",
       "231    0.958559\n",
       "         ...   \n",
       "181    0.922047\n",
       "272    0.536660\n",
       "280    0.579837\n",
       "176    0.999739\n",
       "69     0.960238\n",
       "Name: ssim_first, Length: 115, dtype: float64"
      ]
     },
     "execution_count": 17,
     "metadata": {},
     "output_type": "execute_result"
    }
   ],
   "source": [
    "yTest"
   ]
  },
  {
   "cell_type": "code",
   "execution_count": 18,
   "metadata": {},
   "outputs": [
    {
     "data": {
      "text/plain": [
       "127    0.999765\n",
       "2      0.956348\n",
       "105    0.999765\n",
       "77     0.999765\n",
       "116    0.891909\n",
       "         ...   \n",
       "189    0.942673\n",
       "71     0.999765\n",
       "107    0.999756\n",
       "271    0.534366\n",
       "103    0.999765\n",
       "Name: ssim_first, Length: 172, dtype: float64"
      ]
     },
     "execution_count": 18,
     "metadata": {},
     "output_type": "execute_result"
    }
   ],
   "source": [
    "yTrain"
   ]
  },
  {
   "cell_type": "code",
   "execution_count": 19,
   "metadata": {},
   "outputs": [],
   "source": [
    "from sklearn.preprocessing import MinMaxScaler\n",
    "scaler=MinMaxScaler()\n",
    "XTrain[sayisal_veriler]=scaler.fit_transform(XTrain[sayisal_veriler])\n",
    "XTest[sayisal_veriler]=scaler.transform(XTest[sayisal_veriler])"
   ]
  },
  {
   "cell_type": "code",
   "execution_count": 20,
   "metadata": {},
   "outputs": [
    {
     "name": "stdout",
     "output_type": "stream",
     "text": [
      "0.6101268431640106\n"
     ]
    }
   ],
   "source": [
    "from sklearn.linear_model import LinearRegression\n",
    "LogModel=LinearRegression()\n",
    "LogModel.fit(XTrain,yTrain)\n",
    "tahmin=LogModel.predict(XTest)\n",
    "from sklearn.metrics import r2_score\n",
    "print(r2_score(yTest,tahmin))"
   ]
  },
  {
   "cell_type": "code",
   "execution_count": 21,
   "metadata": {},
   "outputs": [
    {
     "name": "stdout",
     "output_type": "stream",
     "text": [
      "n_neigbors : 1 --> score r2 : eğitim:1.0 test: 0.5756016044358461\n",
      "n_neigbors : 2 --> score r2 : eğitim:0.9195352875948059 test: 0.7552654876099867\n",
      "n_neigbors : 3 --> score r2 : eğitim:0.8653325239368217 test: 0.7375834560504717\n",
      "n_neigbors : 4 --> score r2 : eğitim:0.8197126380466637 test: 0.7013091374375011\n",
      "n_neigbors : 5 --> score r2 : eğitim:0.8006444765536115 test: 0.683499439314574\n",
      "n_neigbors : 6 --> score r2 : eğitim:0.7797843596389133 test: 0.7152919690408804\n",
      "n_neigbors : 7 --> score r2 : eğitim:0.7739567232988614 test: 0.7053554685777239\n",
      "n_neigbors : 8 --> score r2 : eğitim:0.7506945200471465 test: 0.6964552426653907\n",
      "n_neigbors : 9 --> score r2 : eğitim:0.7307892663224924 test: 0.6881948317020707\n",
      "n_neigbors : 10 --> score r2 : eğitim:0.7128013360308233 test: 0.6839188029499284\n",
      "n_neigbors : 11 --> score r2 : eğitim:0.6896498654753318 test: 0.6597824877602256\n",
      "n_neigbors : 12 --> score r2 : eğitim:0.6569956828440189 test: 0.6656199214367844\n",
      "n_neigbors : 13 --> score r2 : eğitim:0.6542816420345273 test: 0.6535942516214548\n",
      "n_neigbors : 14 --> score r2 : eğitim:0.6325256230262746 test: 0.6419159431383463\n",
      "n_neigbors : 15 --> score r2 : eğitim:0.6161347072003487 test: 0.6155245728192569\n",
      "n_neigbors : 16 --> score r2 : eğitim:0.6008361644024347 test: 0.5918054050456811\n",
      "n_neigbors : 17 --> score r2 : eğitim:0.5913812395445349 test: 0.5703012965383092\n",
      "n_neigbors : 18 --> score r2 : eğitim:0.5853393917385641 test: 0.5490685199060197\n",
      "n_neigbors : 19 --> score r2 : eğitim:0.5684265195987389 test: 0.5319637845406749\n"
     ]
    }
   ],
   "source": [
    "from sklearn.neighbors import KNeighborsRegressor\n",
    "for i in range(1,20,1):\n",
    "    KNN=KNeighborsRegressor(n_neighbors=i)\n",
    "    KNN.fit(XTrain,yTrain)\n",
    "    tahminKNN=KNN.predict(XTest)\n",
    "    print(f\"n_neigbors : {i} --> score r2 : eğitim:{r2_score(yTrain,KNN.predict(XTrain))} test: {r2_score(yTest,tahminKNN)}\")"
   ]
  },
  {
   "cell_type": "code",
   "execution_count": 22,
   "metadata": {},
   "outputs": [
    {
     "name": "stdout",
     "output_type": "stream",
     "text": [
      "max_depth : 1 --> score r2 : eğitim:0.3874254710650973 test: 0.35185572060823533\n",
      "max_depth : 2 --> score r2 : eğitim:0.6013927001683943 test: 0.5370962689966593\n",
      "max_depth : 3 --> score r2 : eğitim:0.7528984900407416 test: 0.6652549026991985\n",
      "max_depth : 4 --> score r2 : eğitim:0.8411206362248024 test: 0.7206328917814472\n",
      "max_depth : 5 --> score r2 : eğitim:0.9048455553643331 test: 0.7691801360682557\n",
      "max_depth : 6 --> score r2 : eğitim:0.9339992593194604 test: 0.7647488923279077\n",
      "max_depth : 7 --> score r2 : eğitim:0.9527826100503558 test: 0.771524302644798\n",
      "max_depth : 8 --> score r2 : eğitim:0.9615327887894974 test: 0.7881862393472572\n",
      "max_depth : 9 --> score r2 : eğitim:0.9654514137983471 test: 0.7892640992135224\n",
      "max_depth : 10 --> score r2 : eğitim:0.9691418420558925 test: 0.7811895319678201\n",
      "max_depth : 11 --> score r2 : eğitim:0.9672669341405504 test: 0.7872287900300488\n",
      "max_depth : 12 --> score r2 : eğitim:0.964220937811588 test: 0.7787204068242857\n",
      "max_depth : 13 --> score r2 : eğitim:0.9673933263153066 test: 0.7892872549696273\n",
      "max_depth : 14 --> score r2 : eğitim:0.9664103386216749 test: 0.7888173780523466\n",
      "max_depth : 15 --> score r2 : eğitim:0.9666685784857125 test: 0.7879363740659963\n",
      "max_depth : 16 --> score r2 : eğitim:0.9665644166309738 test: 0.7881991925896814\n",
      "max_depth : 17 --> score r2 : eğitim:0.9661277154645508 test: 0.7880451951686744\n",
      "max_depth : 18 --> score r2 : eğitim:0.9661277154645508 test: 0.7880451951686744\n",
      "max_depth : 19 --> score r2 : eğitim:0.9661277154645508 test: 0.7880451951686744\n"
     ]
    }
   ],
   "source": [
    "from sklearn.ensemble import RandomForestRegressor\n",
    "for i in range(1,20,1):\n",
    "    rand=RandomForestRegressor(max_depth=i,bootstrap=True,criterion=\"friedman_mse\",max_features='log2',max_leaf_nodes=None,n_estimators=100,n_jobs=1,random_state=42)\n",
    "    rand.fit(XTrain,yTrain)\n",
    "    tahminRand=rand.predict(XTest)\n",
    "    print(f\"max_depth : {i} --> score r2 : eğitim:{r2_score(yTrain,rand.predict(XTrain))} test: {r2_score(yTest,tahminRand)}\")"
   ]
  },
  {
   "cell_type": "code",
   "execution_count": 23,
   "metadata": {},
   "outputs": [
    {
     "name": "stdout",
     "output_type": "stream",
     "text": [
      "max_depth : 1 --> score r2 : eğitim:0.4170624164697422 test: 0.33833181285363223\n",
      "max_depth : 2 --> score r2 : eğitim:0.7077311263151833 test: 0.6166403009965514\n",
      "max_depth : 3 --> score r2 : eğitim:0.8276444768084776 test: 0.6862790464608919\n",
      "max_depth : 4 --> score r2 : eğitim:0.9076956029030733 test: 0.6757736052182979\n",
      "max_depth : 5 --> score r2 : eğitim:0.9460987482772625 test: 0.724602031580255\n",
      "max_depth : 6 --> score r2 : eğitim:0.9748010255400577 test: 0.7145756820044222\n",
      "max_depth : 7 --> score r2 : eğitim:0.9900654050272356 test: 0.6869668063039767\n",
      "max_depth : 8 --> score r2 : eğitim:0.9982015052558671 test: 0.7279197371467796\n",
      "max_depth : 9 --> score r2 : eğitim:0.9998733581252383 test: 0.7379850853716066\n",
      "max_depth : 10 --> score r2 : eğitim:0.9999963856494125 test: 0.7130809001158008\n",
      "max_depth : 11 --> score r2 : eğitim:0.9999990040313548 test: 0.6723019623526487\n",
      "max_depth : 12 --> score r2 : eğitim:1.0 test: 0.6925629845071305\n",
      "max_depth : 13 --> score r2 : eğitim:1.0 test: 0.7378454161838283\n",
      "max_depth : 14 --> score r2 : eğitim:1.0 test: 0.7108579554184604\n",
      "max_depth : 15 --> score r2 : eğitim:1.0 test: 0.7112890255749886\n",
      "max_depth : 16 --> score r2 : eğitim:1.0 test: 0.7360214708943343\n",
      "max_depth : 17 --> score r2 : eğitim:1.0 test: 0.7219001008807084\n",
      "max_depth : 18 --> score r2 : eğitim:1.0 test: 0.6732902963729486\n",
      "max_depth : 19 --> score r2 : eğitim:1.0 test: 0.712229746565898\n"
     ]
    }
   ],
   "source": [
    "from sklearn.tree import DecisionTreeRegressor\n",
    "for i in range(1,20,1):\n",
    "    DT=DecisionTreeRegressor(max_depth=i)\n",
    "    DT.fit(XTrain,yTrain)\n",
    "    tahminDT=DT.predict(XTest)\n",
    "    print(f\"max_depth : {i} --> score r2 : eğitim:{r2_score(yTrain,DT.predict(XTrain))} test: {r2_score(yTest,tahminDT)}\")"
   ]
  },
  {
   "cell_type": "code",
   "execution_count": 24,
   "metadata": {},
   "outputs": [
    {
     "name": "stdout",
     "output_type": "stream",
     "text": [
      "max_depth : 1 --> score r2 : eğitim:0.7361360826377578 test: 0.6654024924245124\n",
      "max_depth : 2 --> score r2 : eğitim:0.9199758824508039 test: 0.7775036955607032\n",
      "max_depth : 3 --> score r2 : eğitim:0.9862214043372287 test: 0.7786849595402543\n",
      "max_depth : 4 --> score r2 : eğitim:0.9985505436563857 test: 0.7637422559305004\n",
      "max_depth : 5 --> score r2 : eğitim:0.9998774771542305 test: 0.7431523679320647\n",
      "max_depth : 6 --> score r2 : eğitim:0.9999943264146197 test: 0.7587672260308662\n",
      "max_depth : 7 --> score r2 : eğitim:0.9999999578308142 test: 0.7361176450673584\n",
      "max_depth : 8 --> score r2 : eğitim:0.9999999987637115 test: 0.7349666995639552\n",
      "max_depth : 9 --> score r2 : eğitim:0.999999999280162 test: 0.7285055078483995\n"
     ]
    }
   ],
   "source": [
    "from sklearn.ensemble import GradientBoostingRegressor\n",
    "for i in range(1,10,1):\n",
    "    gbr=GradientBoostingRegressor(max_depth=i,loss='squared_error')\n",
    "    gbr.fit(XTrain,yTrain)\n",
    "    tahminGbr=gbr.predict(XTest)\n",
    "    print(f\"max_depth : {i} --> score r2 : eğitim:{r2_score(yTrain,gbr.predict(XTrain))} test: {r2_score(yTest,tahminGbr)}\")"
   ]
  },
  {
   "cell_type": "code",
   "execution_count": null,
   "metadata": {},
   "outputs": [],
   "source": []
  }
 ],
 "metadata": {
  "kernelspec": {
   "display_name": "Python 3",
   "language": "python",
   "name": "python3"
  },
  "language_info": {
   "codemirror_mode": {
    "name": "ipython",
    "version": 3
   },
   "file_extension": ".py",
   "mimetype": "text/x-python",
   "name": "python",
   "nbconvert_exporter": "python",
   "pygments_lexer": "ipython3",
   "version": "3.10.12"
  }
 },
 "nbformat": 4,
 "nbformat_minor": 2
}
