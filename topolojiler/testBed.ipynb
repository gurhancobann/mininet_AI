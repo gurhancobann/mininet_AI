{
 "cells": [
  {
   "cell_type": "code",
   "execution_count": 69,
   "metadata": {},
   "outputs": [],
   "source": [
    "import pandas as pd\n",
    "import numpy as num_paths\n",
    "import matplotlib.pyplot as psnrResault\n",
    "import seaborn as sns\n",
    "import warnings\n",
    "warnings.filterwarnings(\"ignore\")\n",
    "from matplotlib import pyplot as plt"
   ]
  },
  {
   "cell_type": "code",
   "execution_count": 70,
   "metadata": {},
   "outputs": [],
   "source": [
    "df=pd.read_csv(\"dataTest.csv\")"
   ]
  },
  {
   "cell_type": "code",
   "execution_count": 71,
   "metadata": {},
   "outputs": [
    {
     "data": {
      "text/html": [
       "<div>\n",
       "<style scoped>\n",
       "    .dataframe tbody tr th:only-of-type {\n",
       "        vertical-align: middle;\n",
       "    }\n",
       "\n",
       "    .dataframe tbody tr th {\n",
       "        vertical-align: top;\n",
       "    }\n",
       "\n",
       "    .dataframe thead th {\n",
       "        text-align: right;\n",
       "    }\n",
       "</style>\n",
       "<table border=\"1\" class=\"dataframe\">\n",
       "  <thead>\n",
       "    <tr style=\"text-align: right;\">\n",
       "      <th></th>\n",
       "      <th>host</th>\n",
       "      <th>avgRTT</th>\n",
       "      <th>packetLoss</th>\n",
       "      <th>latency</th>\n",
       "      <th>hopCount</th>\n",
       "      <th>bandwidth</th>\n",
       "      <th>yukOrani</th>\n",
       "      <th>psnr</th>\n",
       "      <th>ssim_first</th>\n",
       "      <th>ssim_second</th>\n",
       "      <th>type</th>\n",
       "      <th>server</th>\n",
       "    </tr>\n",
       "  </thead>\n",
       "  <tbody>\n",
       "    <tr>\n",
       "      <th>0</th>\n",
       "      <td>h1</td>\n",
       "      <td>1898.137</td>\n",
       "      <td>0.0</td>\n",
       "      <td>66</td>\n",
       "      <td>4</td>\n",
       "      <td>3000000</td>\n",
       "      <td>2011.425000</td>\n",
       "      <td>31.225948</td>\n",
       "      <td>0.985150</td>\n",
       "      <td>18.282783</td>\n",
       "      <td>3</td>\n",
       "      <td>h10</td>\n",
       "    </tr>\n",
       "    <tr>\n",
       "      <th>1</th>\n",
       "      <td>h2</td>\n",
       "      <td>2240.660</td>\n",
       "      <td>0.0</td>\n",
       "      <td>44</td>\n",
       "      <td>3</td>\n",
       "      <td>3000000</td>\n",
       "      <td>1859.161290</td>\n",
       "      <td>31.225948</td>\n",
       "      <td>0.985150</td>\n",
       "      <td>18.282674</td>\n",
       "      <td>3</td>\n",
       "      <td>h14</td>\n",
       "    </tr>\n",
       "    <tr>\n",
       "      <th>2</th>\n",
       "      <td>h3</td>\n",
       "      <td>2196.294</td>\n",
       "      <td>0.0</td>\n",
       "      <td>40</td>\n",
       "      <td>2</td>\n",
       "      <td>3000000</td>\n",
       "      <td>9084.620155</td>\n",
       "      <td>22.700112</td>\n",
       "      <td>0.956348</td>\n",
       "      <td>13.599976</td>\n",
       "      <td>3</td>\n",
       "      <td>h14</td>\n",
       "    </tr>\n",
       "    <tr>\n",
       "      <th>3</th>\n",
       "      <td>h4</td>\n",
       "      <td>1298.732</td>\n",
       "      <td>0.0</td>\n",
       "      <td>60</td>\n",
       "      <td>3</td>\n",
       "      <td>3000000</td>\n",
       "      <td>25815.963636</td>\n",
       "      <td>22.301604</td>\n",
       "      <td>0.960533</td>\n",
       "      <td>14.037636</td>\n",
       "      <td>3</td>\n",
       "      <td>h14</td>\n",
       "    </tr>\n",
       "    <tr>\n",
       "      <th>4</th>\n",
       "      <td>h5</td>\n",
       "      <td>338.105</td>\n",
       "      <td>0.0</td>\n",
       "      <td>92</td>\n",
       "      <td>4</td>\n",
       "      <td>3000000</td>\n",
       "      <td>37246.273632</td>\n",
       "      <td>22.510259</td>\n",
       "      <td>0.958593</td>\n",
       "      <td>13.829213</td>\n",
       "      <td>3</td>\n",
       "      <td>h10</td>\n",
       "    </tr>\n",
       "  </tbody>\n",
       "</table>\n",
       "</div>"
      ],
      "text/plain": [
       "  host    avgRTT  packetLoss  latency  hopCount  bandwidth      yukOrani  \\\n",
       "0   h1  1898.137         0.0       66         4    3000000   2011.425000   \n",
       "1   h2  2240.660         0.0       44         3    3000000   1859.161290   \n",
       "2   h3  2196.294         0.0       40         2    3000000   9084.620155   \n",
       "3   h4  1298.732         0.0       60         3    3000000  25815.963636   \n",
       "4   h5   338.105         0.0       92         4    3000000  37246.273632   \n",
       "\n",
       "        psnr  ssim_first  ssim_second  type server  \n",
       "0  31.225948    0.985150    18.282783     3    h10  \n",
       "1  31.225948    0.985150    18.282674     3    h14  \n",
       "2  22.700112    0.956348    13.599976     3    h14  \n",
       "3  22.301604    0.960533    14.037636     3    h14  \n",
       "4  22.510259    0.958593    13.829213     3    h10  "
      ]
     },
     "execution_count": 71,
     "metadata": {},
     "output_type": "execute_result"
    }
   ],
   "source": [
    "df=pd.DataFrame(df)\n",
    "df.head()"
   ]
  },
  {
   "cell_type": "code",
   "execution_count": 72,
   "metadata": {},
   "outputs": [
    {
     "data": {
      "text/html": [
       "<div>\n",
       "<style scoped>\n",
       "    .dataframe tbody tr th:only-of-type {\n",
       "        vertical-align: middle;\n",
       "    }\n",
       "\n",
       "    .dataframe tbody tr th {\n",
       "        vertical-align: top;\n",
       "    }\n",
       "\n",
       "    .dataframe thead th {\n",
       "        text-align: right;\n",
       "    }\n",
       "</style>\n",
       "<table border=\"1\" class=\"dataframe\">\n",
       "  <thead>\n",
       "    <tr style=\"text-align: right;\">\n",
       "      <th></th>\n",
       "      <th>count</th>\n",
       "      <th>mean</th>\n",
       "      <th>std</th>\n",
       "      <th>min</th>\n",
       "      <th>25%</th>\n",
       "      <th>50%</th>\n",
       "      <th>75%</th>\n",
       "      <th>max</th>\n",
       "    </tr>\n",
       "  </thead>\n",
       "  <tbody>\n",
       "    <tr>\n",
       "      <th>avgRTT</th>\n",
       "      <td>390.0</td>\n",
       "      <td>9.805737e+02</td>\n",
       "      <td>1.031326e+03</td>\n",
       "      <td>1.529400e+02</td>\n",
       "      <td>3.066162e+02</td>\n",
       "      <td>3.990735e+02</td>\n",
       "      <td>1.686185e+03</td>\n",
       "      <td>4.744949e+03</td>\n",
       "    </tr>\n",
       "    <tr>\n",
       "      <th>packetLoss</th>\n",
       "      <td>390.0</td>\n",
       "      <td>6.267806e-01</td>\n",
       "      <td>3.321362e+00</td>\n",
       "      <td>0.000000e+00</td>\n",
       "      <td>0.000000e+00</td>\n",
       "      <td>0.000000e+00</td>\n",
       "      <td>0.000000e+00</td>\n",
       "      <td>3.333333e+01</td>\n",
       "    </tr>\n",
       "    <tr>\n",
       "      <th>latency</th>\n",
       "      <td>390.0</td>\n",
       "      <td>7.891538e+01</td>\n",
       "      <td>6.443686e+01</td>\n",
       "      <td>1.300000e+01</td>\n",
       "      <td>5.400000e+01</td>\n",
       "      <td>7.500000e+01</td>\n",
       "      <td>9.100000e+01</td>\n",
       "      <td>1.035000e+03</td>\n",
       "    </tr>\n",
       "    <tr>\n",
       "      <th>hopCount</th>\n",
       "      <td>390.0</td>\n",
       "      <td>3.107692e+00</td>\n",
       "      <td>1.040907e+00</td>\n",
       "      <td>1.000000e+00</td>\n",
       "      <td>3.000000e+00</td>\n",
       "      <td>3.000000e+00</td>\n",
       "      <td>4.000000e+00</td>\n",
       "      <td>8.000000e+00</td>\n",
       "    </tr>\n",
       "    <tr>\n",
       "      <th>bandwidth</th>\n",
       "      <td>390.0</td>\n",
       "      <td>5.679487e+06</td>\n",
       "      <td>2.825215e+06</td>\n",
       "      <td>3.000000e+06</td>\n",
       "      <td>3.000000e+06</td>\n",
       "      <td>5.000000e+06</td>\n",
       "      <td>1.000000e+07</td>\n",
       "      <td>1.000000e+07</td>\n",
       "    </tr>\n",
       "    <tr>\n",
       "      <th>yukOrani</th>\n",
       "      <td>390.0</td>\n",
       "      <td>2.916015e+04</td>\n",
       "      <td>2.528603e+04</td>\n",
       "      <td>2.274049e+02</td>\n",
       "      <td>8.587295e+03</td>\n",
       "      <td>2.466657e+04</td>\n",
       "      <td>4.359985e+04</td>\n",
       "      <td>1.770201e+05</td>\n",
       "    </tr>\n",
       "    <tr>\n",
       "      <th>psnr</th>\n",
       "      <td>390.0</td>\n",
       "      <td>3.519972e+01</td>\n",
       "      <td>1.674665e+01</td>\n",
       "      <td>1.267172e+01</td>\n",
       "      <td>2.098130e+01</td>\n",
       "      <td>2.935489e+01</td>\n",
       "      <td>5.505260e+01</td>\n",
       "      <td>5.506194e+01</td>\n",
       "    </tr>\n",
       "    <tr>\n",
       "      <th>ssim_first</th>\n",
       "      <td>390.0</td>\n",
       "      <td>9.118329e-01</td>\n",
       "      <td>1.323608e-01</td>\n",
       "      <td>5.138590e-01</td>\n",
       "      <td>8.912813e-01</td>\n",
       "      <td>9.838145e-01</td>\n",
       "      <td>9.997650e-01</td>\n",
       "      <td>9.997650e-01</td>\n",
       "    </tr>\n",
       "    <tr>\n",
       "      <th>ssim_second</th>\n",
       "      <td>390.0</td>\n",
       "      <td>2.111762e+01</td>\n",
       "      <td>1.284589e+01</td>\n",
       "      <td>3.132379e+00</td>\n",
       "      <td>9.636969e+00</td>\n",
       "      <td>1.790873e+01</td>\n",
       "      <td>3.628266e+01</td>\n",
       "      <td>3.628266e+01</td>\n",
       "    </tr>\n",
       "    <tr>\n",
       "      <th>type</th>\n",
       "      <td>390.0</td>\n",
       "      <td>3.000000e+00</td>\n",
       "      <td>0.000000e+00</td>\n",
       "      <td>3.000000e+00</td>\n",
       "      <td>3.000000e+00</td>\n",
       "      <td>3.000000e+00</td>\n",
       "      <td>3.000000e+00</td>\n",
       "      <td>3.000000e+00</td>\n",
       "    </tr>\n",
       "  </tbody>\n",
       "</table>\n",
       "</div>"
      ],
      "text/plain": [
       "             count          mean           std           min           25%  \\\n",
       "avgRTT       390.0  9.805737e+02  1.031326e+03  1.529400e+02  3.066162e+02   \n",
       "packetLoss   390.0  6.267806e-01  3.321362e+00  0.000000e+00  0.000000e+00   \n",
       "latency      390.0  7.891538e+01  6.443686e+01  1.300000e+01  5.400000e+01   \n",
       "hopCount     390.0  3.107692e+00  1.040907e+00  1.000000e+00  3.000000e+00   \n",
       "bandwidth    390.0  5.679487e+06  2.825215e+06  3.000000e+06  3.000000e+06   \n",
       "yukOrani     390.0  2.916015e+04  2.528603e+04  2.274049e+02  8.587295e+03   \n",
       "psnr         390.0  3.519972e+01  1.674665e+01  1.267172e+01  2.098130e+01   \n",
       "ssim_first   390.0  9.118329e-01  1.323608e-01  5.138590e-01  8.912813e-01   \n",
       "ssim_second  390.0  2.111762e+01  1.284589e+01  3.132379e+00  9.636969e+00   \n",
       "type         390.0  3.000000e+00  0.000000e+00  3.000000e+00  3.000000e+00   \n",
       "\n",
       "                      50%           75%           max  \n",
       "avgRTT       3.990735e+02  1.686185e+03  4.744949e+03  \n",
       "packetLoss   0.000000e+00  0.000000e+00  3.333333e+01  \n",
       "latency      7.500000e+01  9.100000e+01  1.035000e+03  \n",
       "hopCount     3.000000e+00  4.000000e+00  8.000000e+00  \n",
       "bandwidth    5.000000e+06  1.000000e+07  1.000000e+07  \n",
       "yukOrani     2.466657e+04  4.359985e+04  1.770201e+05  \n",
       "psnr         2.935489e+01  5.505260e+01  5.506194e+01  \n",
       "ssim_first   9.838145e-01  9.997650e-01  9.997650e-01  \n",
       "ssim_second  1.790873e+01  3.628266e+01  3.628266e+01  \n",
       "type         3.000000e+00  3.000000e+00  3.000000e+00  "
      ]
     },
     "execution_count": 72,
     "metadata": {},
     "output_type": "execute_result"
    }
   ],
   "source": [
    "df.dropna(inplace=True)\n",
    "df.describe().T"
   ]
  },
  {
   "cell_type": "code",
   "execution_count": 73,
   "metadata": {},
   "outputs": [
    {
     "data": {
      "image/png": "[encoded data removed]",
      "text/plain": [
       "<Figure size 1440x1440 with 1 Axes>"
      ]
     },
     "metadata": {},
     "output_type": "display_data"
    },
    {
     "data": {
      "image/png": "[encoded data removed]",
      "text/plain": [
       "<Figure size 1440x1440 with 1 Axes>"
      ]
     },
     "metadata": {},
     "output_type": "display_data"
    },
    {
     "data": {
      "image/png": "[encoded data removed]",
      "text/plain": [
       "<Figure size 1440x1440 with 1 Axes>"
      ]
     },
     "metadata": {},
     "output_type": "display_data"
    },
    {
     "data": {
      "image/png": "[encoded data removed]",
      "text/plain": [
       "<Figure size 1440x1440 with 1 Axes>"
      ]
     },
     "metadata": {},
     "output_type": "display_data"
    },
    {
     "data": {
      "image/png": "[encoded data removed]",
      "text/plain": [
       "<Figure size 1440x1440 with 1 Axes>"
      ]
     },
     "metadata": {},
     "output_type": "display_data"
    },
    {
     "data": {
      "image/png": "[encoded data removed]",
      "text/plain": [
       "<Figure size 1440x1440 with 1 Axes>"
      ]
     },
     "metadata": {},
     "output_type": "display_data"
    }
   ],
   "source": [
    "sayisal_veriler=[\"avgRTT\",\"packetLoss\",\"latency\",\"hopCount\",\"bandwidth\",\"yukOrani\"]\n",
    "for i,deger in enumerate(sayisal_veriler):\n",
    "    plt.figure(figsize=(20,20))\n",
    "    ax=plt.subplot(4,3,i+1)\n",
    "    sns.scatterplot(x=deger,y=\"psnr\",data=df)\n",
    "    plt.show()"
   ]
  },
  {
   "cell_type": "code",
   "execution_count": 74,
   "metadata": {},
   "outputs": [],
   "source": [
    "# sns.displot(df)"
   ]
  },
  {
   "cell_type": "code",
   "execution_count": 75,
   "metadata": {},
   "outputs": [
    {
     "data": {
      "text/plain": [
       "0      0.985150\n",
       "1      0.985150\n",
       "2      0.956348\n",
       "3      0.960533\n",
       "4      0.958593\n",
       "         ...   \n",
       "387    0.712466\n",
       "388    0.710734\n",
       "389    0.719343\n",
       "390    0.685168\n",
       "391    0.707810\n",
       "Name: ssim_first, Length: 390, dtype: float64"
      ]
     },
     "execution_count": 75,
     "metadata": {},
     "output_type": "execute_result"
    }
   ],
   "source": [
    "y=df[\"ssim_first\"]\n",
    "x=df.drop([\"host\",\"ssim_first\",\"ssim_second\",\"type\",\"psnr\",\"server\"],axis=\"columns\")\n",
    "y\n"
   ]
  },
  {
   "cell_type": "code",
   "execution_count": 76,
   "metadata": {},
   "outputs": [
    {
     "data": {
      "image/png": "[encoded data removed]",
      "text/plain": [
       "<Figure size 576x396 with 2 Axes>"
      ]
     },
     "metadata": {},
     "output_type": "display_data"
    },
    {
     "data": {
      "text/plain": [
       "<AxesSubplot:title={'center':'Pearson Ranking of 6 Features'}>"
      ]
     },
     "execution_count": 76,
     "metadata": {},
     "output_type": "execute_result"
    }
   ],
   "source": [
    "from yellowbrick.features import Rank2D\n",
    "visualizer=Rank2D(algorithm=\"pearson\")\n",
    "visualizer.fit(x,y)\n",
    "visualizer.transform(x)\n",
    "visualizer.show()"
   ]
  },
  {
   "cell_type": "code",
   "execution_count": 77,
   "metadata": {},
   "outputs": [
    {
     "data": {
      "text/html": [
       "<div>\n",
       "<style scoped>\n",
       "    .dataframe tbody tr th:only-of-type {\n",
       "        vertical-align: middle;\n",
       "    }\n",
       "\n",
       "    .dataframe tbody tr th {\n",
       "        vertical-align: top;\n",
       "    }\n",
       "\n",
       "    .dataframe thead th {\n",
       "        text-align: right;\n",
       "    }\n",
       "</style>\n",
       "<table border=\"1\" class=\"dataframe\">\n",
       "  <thead>\n",
       "    <tr style=\"text-align: right;\">\n",
       "      <th></th>\n",
       "      <th>count</th>\n",
       "      <th>mean</th>\n",
       "      <th>std</th>\n",
       "      <th>min</th>\n",
       "      <th>25%</th>\n",
       "      <th>50%</th>\n",
       "      <th>75%</th>\n",
       "      <th>max</th>\n",
       "    </tr>\n",
       "  </thead>\n",
       "  <tbody>\n",
       "    <tr>\n",
       "      <th>avgRTT</th>\n",
       "      <td>390.0</td>\n",
       "      <td>9.805737e+02</td>\n",
       "      <td>1.031326e+03</td>\n",
       "      <td>1.529400e+02</td>\n",
       "      <td>3.066162e+02</td>\n",
       "      <td>3.990735e+02</td>\n",
       "      <td>1.686185e+03</td>\n",
       "      <td>4.744949e+03</td>\n",
       "    </tr>\n",
       "    <tr>\n",
       "      <th>packetLoss</th>\n",
       "      <td>390.0</td>\n",
       "      <td>6.267806e-01</td>\n",
       "      <td>3.321362e+00</td>\n",
       "      <td>0.000000e+00</td>\n",
       "      <td>0.000000e+00</td>\n",
       "      <td>0.000000e+00</td>\n",
       "      <td>0.000000e+00</td>\n",
       "      <td>3.333333e+01</td>\n",
       "    </tr>\n",
       "    <tr>\n",
       "      <th>latency</th>\n",
       "      <td>390.0</td>\n",
       "      <td>7.891538e+01</td>\n",
       "      <td>6.443686e+01</td>\n",
       "      <td>1.300000e+01</td>\n",
       "      <td>5.400000e+01</td>\n",
       "      <td>7.500000e+01</td>\n",
       "      <td>9.100000e+01</td>\n",
       "      <td>1.035000e+03</td>\n",
       "    </tr>\n",
       "    <tr>\n",
       "      <th>hopCount</th>\n",
       "      <td>390.0</td>\n",
       "      <td>3.107692e+00</td>\n",
       "      <td>1.040907e+00</td>\n",
       "      <td>1.000000e+00</td>\n",
       "      <td>3.000000e+00</td>\n",
       "      <td>3.000000e+00</td>\n",
       "      <td>4.000000e+00</td>\n",
       "      <td>8.000000e+00</td>\n",
       "    </tr>\n",
       "    <tr>\n",
       "      <th>bandwidth</th>\n",
       "      <td>390.0</td>\n",
       "      <td>5.679487e+06</td>\n",
       "      <td>2.825215e+06</td>\n",
       "      <td>3.000000e+06</td>\n",
       "      <td>3.000000e+06</td>\n",
       "      <td>5.000000e+06</td>\n",
       "      <td>1.000000e+07</td>\n",
       "      <td>1.000000e+07</td>\n",
       "    </tr>\n",
       "    <tr>\n",
       "      <th>yukOrani</th>\n",
       "      <td>390.0</td>\n",
       "      <td>2.916015e+04</td>\n",
       "      <td>2.528603e+04</td>\n",
       "      <td>2.274049e+02</td>\n",
       "      <td>8.587295e+03</td>\n",
       "      <td>2.466657e+04</td>\n",
       "      <td>4.359985e+04</td>\n",
       "      <td>1.770201e+05</td>\n",
       "    </tr>\n",
       "  </tbody>\n",
       "</table>\n",
       "</div>"
      ],
      "text/plain": [
       "            count          mean           std           min           25%  \\\n",
       "avgRTT      390.0  9.805737e+02  1.031326e+03  1.529400e+02  3.066162e+02   \n",
       "packetLoss  390.0  6.267806e-01  3.321362e+00  0.000000e+00  0.000000e+00   \n",
       "latency     390.0  7.891538e+01  6.443686e+01  1.300000e+01  5.400000e+01   \n",
       "hopCount    390.0  3.107692e+00  1.040907e+00  1.000000e+00  3.000000e+00   \n",
       "bandwidth   390.0  5.679487e+06  2.825215e+06  3.000000e+06  3.000000e+06   \n",
       "yukOrani    390.0  2.916015e+04  2.528603e+04  2.274049e+02  8.587295e+03   \n",
       "\n",
       "                     50%           75%           max  \n",
       "avgRTT      3.990735e+02  1.686185e+03  4.744949e+03  \n",
       "packetLoss  0.000000e+00  0.000000e+00  3.333333e+01  \n",
       "latency     7.500000e+01  9.100000e+01  1.035000e+03  \n",
       "hopCount    3.000000e+00  4.000000e+00  8.000000e+00  \n",
       "bandwidth   5.000000e+06  1.000000e+07  1.000000e+07  \n",
       "yukOrani    2.466657e+04  4.359985e+04  1.770201e+05  "
      ]
     },
     "execution_count": 77,
     "metadata": {},
     "output_type": "execute_result"
    }
   ],
   "source": [
    "x.describe().T"
   ]
  },
  {
   "cell_type": "code",
   "execution_count": 78,
   "metadata": {},
   "outputs": [],
   "source": [
    "from sklearn.model_selection import train_test_split\n",
    "XTrain,XTest,yTrain,yTest=train_test_split(x,y,test_size=0.5, random_state=42)"
   ]
  },
  {
   "cell_type": "code",
   "execution_count": 79,
   "metadata": {},
   "outputs": [
    {
     "name": "stdout",
     "output_type": "stream",
     "text": [
      "0.33598153110511453\n"
     ]
    }
   ],
   "source": [
    "from sklearn.linear_model import LinearRegression\n",
    "LogModel=LinearRegression()\n",
    "LogModel.fit(XTrain,yTrain)\n",
    "tahmin=LogModel.predict(XTest)\n",
    "from sklearn.metrics import r2_score\n",
    "print(r2_score(yTest,tahmin))"
   ]
  },
  {
   "cell_type": "code",
   "execution_count": 80,
   "metadata": {},
   "outputs": [
    {
     "name": "stdout",
     "output_type": "stream",
     "text": [
      "max_depth : 1 --> score r2 : eğitim:0.30278429449444777 test: 0.20135944300263675\n",
      "max_depth : 2 --> score r2 : eğitim:0.5742249430239534 test: 0.5353830778111566\n",
      "max_depth : 3 --> score r2 : eğitim:0.6608180972602078 test: 0.596986967870437\n",
      "max_depth : 4 --> score r2 : eğitim:0.7566273795851328 test: 0.6616865216095478\n",
      "max_depth : 5 --> score r2 : eğitim:0.8133157431804933 test: 0.6742461624224727\n",
      "max_depth : 6 --> score r2 : eğitim:0.8620346927570245 test: 0.6896116848452585\n",
      "max_depth : 7 --> score r2 : eğitim:0.9010293303138593 test: 0.6831330748407076\n",
      "max_depth : 8 --> score r2 : eğitim:0.9229001057979851 test: 0.6689544674819599\n",
      "max_depth : 9 --> score r2 : eğitim:0.9418013034249431 test: 0.6628981856209525\n",
      "max_depth : 10 --> score r2 : eğitim:0.945377008136531 test: 0.6591379483936306\n",
      "max_depth : 11 --> score r2 : eğitim:0.9488608980431776 test: 0.661628477818694\n",
      "max_depth : 12 --> score r2 : eğitim:0.9537686309103448 test: 0.671918406304679\n",
      "max_depth : 13 --> score r2 : eğitim:0.9514267297293866 test: 0.6771440312275172\n",
      "max_depth : 14 --> score r2 : eğitim:0.9532990960581249 test: 0.6690743441642686\n",
      "max_depth : 15 --> score r2 : eğitim:0.9538489546164194 test: 0.6749900697888032\n",
      "max_depth : 16 --> score r2 : eğitim:0.9498493371464864 test: 0.6659545588421265\n",
      "max_depth : 17 --> score r2 : eğitim:0.9521516698345786 test: 0.6751879520263359\n",
      "max_depth : 18 --> score r2 : eğitim:0.9502702199303286 test: 0.6780721725901916\n",
      "max_depth : 19 --> score r2 : eğitim:0.9539197746279509 test: 0.6727310445125212\n"
     ]
    }
   ],
   "source": [
    "from sklearn.ensemble import RandomForestRegressor\n",
    "for i in range(1,20,1):\n",
    "    rand=RandomForestRegressor(max_depth=i,)\n",
    "    rand.fit(XTrain,yTrain)\n",
    "    tahminRand=rand.predict(XTest)\n",
    "    print(f\"max_depth : {i} --> score r2 : eğitim:{r2_score(yTrain,rand.predict(XTrain))} test: {r2_score(yTest,tahminRand)}\")"
   ]
  },
  {
   "cell_type": "code",
   "execution_count": 81,
   "metadata": {},
   "outputs": [
    {
     "name": "stdout",
     "output_type": "stream",
     "text": [
      "n_neigbors : 1 --> score r2 : eğitim:1.0 test: 0.06991186291494655\n",
      "n_neigbors : 2 --> score r2 : eğitim:0.816372899307038 test: 0.43359519210708664\n",
      "n_neigbors : 3 --> score r2 : eğitim:0.7506823982214057 test: 0.5751734692500629\n",
      "n_neigbors : 4 --> score r2 : eğitim:0.709816199163898 test: 0.5442498158802231\n",
      "n_neigbors : 5 --> score r2 : eğitim:0.6773437708315495 test: 0.5704335068773736\n",
      "n_neigbors : 6 --> score r2 : eğitim:0.657440147683725 test: 0.5612958779040214\n",
      "n_neigbors : 7 --> score r2 : eğitim:0.6400978667254056 test: 0.5713720338605136\n",
      "n_neigbors : 8 --> score r2 : eğitim:0.6138484521420388 test: 0.5572090868067607\n",
      "n_neigbors : 9 --> score r2 : eğitim:0.6172306095010229 test: 0.5633040092362054\n",
      "n_neigbors : 10 --> score r2 : eğitim:0.6108041034637706 test: 0.5416293451570785\n",
      "n_neigbors : 11 --> score r2 : eğitim:0.60851903959884 test: 0.5355844322987064\n",
      "n_neigbors : 12 --> score r2 : eğitim:0.6075397282933772 test: 0.5344272234894154\n",
      "n_neigbors : 13 --> score r2 : eğitim:0.6009300587551135 test: 0.5507682954073643\n",
      "n_neigbors : 14 --> score r2 : eğitim:0.6037650269438765 test: 0.5575942442810617\n",
      "n_neigbors : 15 --> score r2 : eğitim:0.6015489734490014 test: 0.5438142614426549\n",
      "n_neigbors : 16 --> score r2 : eğitim:0.5928093487399639 test: 0.5371266914953263\n",
      "n_neigbors : 17 --> score r2 : eğitim:0.5919720014970267 test: 0.5329561341916212\n",
      "n_neigbors : 18 --> score r2 : eğitim:0.5893784034015606 test: 0.5241964086317339\n",
      "n_neigbors : 19 --> score r2 : eğitim:0.5856612970730499 test: 0.5352888195103251\n"
     ]
    }
   ],
   "source": [
    "from sklearn.neighbors import KNeighborsRegressor\n",
    "for i in range(1,20,1):\n",
    "    KNN=KNeighborsRegressor(n_neighbors=i)\n",
    "    KNN.fit(XTrain,yTrain)\n",
    "    tahminKNN=KNN.predict(XTest)\n",
    "    print(f\"n_neigbors : {i} --> score r2 : eğitim:{r2_score(yTrain,KNN.predict(XTrain))} test: {r2_score(yTest,tahminKNN)}\")"
   ]
  },
  {
   "cell_type": "code",
   "execution_count": 82,
   "metadata": {},
   "outputs": [
    {
     "name": "stdout",
     "output_type": "stream",
     "text": [
      "max_depth : 1 --> score r2 : eğitim:0.21949711600233823 test: 0.04272608480584317\n"
     ]
    },
    {
     "name": "stdout",
     "output_type": "stream",
     "text": [
      "max_depth : 2 --> score r2 : eğitim:0.477837026944238 test: 0.4027238899038611\n",
      "max_depth : 3 --> score r2 : eğitim:0.5607665380986808 test: 0.48386523959248007\n",
      "max_depth : 4 --> score r2 : eğitim:0.7274082839996084 test: 0.5764027496618609\n",
      "max_depth : 5 --> score r2 : eğitim:0.772416962306308 test: 0.6099198620427333\n",
      "max_depth : 6 --> score r2 : eğitim:0.8305084269911769 test: 0.5974278703007114\n",
      "max_depth : 7 --> score r2 : eğitim:0.884062999104158 test: 0.6360776909499006\n",
      "max_depth : 8 --> score r2 : eğitim:0.9219440666444365 test: 0.6285260739309066\n",
      "max_depth : 9 --> score r2 : eğitim:0.9343995513547069 test: 0.5924684084818244\n",
      "max_depth : 10 --> score r2 : eğitim:0.9567218467680975 test: 0.5429289159035025\n",
      "max_depth : 11 --> score r2 : eğitim:0.9945846937050683 test: 0.47838671430875446\n",
      "max_depth : 12 --> score r2 : eğitim:0.9969475670001128 test: 0.42629562541787835\n",
      "max_depth : 13 --> score r2 : eğitim:0.9982484156275072 test: 0.5011236408267923\n",
      "max_depth : 14 --> score r2 : eğitim:0.9991081273322223 test: 0.5152194132542729\n",
      "max_depth : 15 --> score r2 : eğitim:0.9999763712828977 test: 0.4551620478351416\n",
      "max_depth : 16 --> score r2 : eğitim:0.9999848262042241 test: 0.4936752731087951\n",
      "max_depth : 17 --> score r2 : eğitim:0.9999967304139571 test: 0.49270419688293354\n",
      "max_depth : 18 --> score r2 : eğitim:0.9999998004796014 test: 0.515953991894232\n",
      "max_depth : 19 --> score r2 : eğitim:0.9999999821000746 test: 0.4422427153918521\n"
     ]
    }
   ],
   "source": [
    "from sklearn.tree import DecisionTreeRegressor\n",
    "for i in range(1,20,1):\n",
    "    DT=DecisionTreeRegressor(max_depth=i)\n",
    "    DT.fit(XTrain,yTrain)\n",
    "    tahminDT=DT.predict(XTest)\n",
    "    print(f\"max_depth : {i} --> score r2 : eğitim:{r2_score(yTrain,DT.predict(XTrain))} test: {r2_score(yTest,tahminDT)}\")"
   ]
  },
  {
   "cell_type": "code",
   "execution_count": 83,
   "metadata": {},
   "outputs": [
    {
     "name": "stdout",
     "output_type": "stream",
     "text": [
      "max_depth : 1 --> score r2 : eğitim:0.5994924331413487 test: 0.43891961657673495\n",
      "max_depth : 2 --> score r2 : eğitim:0.8668959700614527 test: 0.5739298632236111\n",
      "max_depth : 3 --> score r2 : eğitim:0.9549220948452075 test: 0.5823290200732925\n",
      "max_depth : 4 --> score r2 : eğitim:0.9893904137999898 test: 0.6021224783630181\n",
      "max_depth : 5 --> score r2 : eğitim:0.9983291266642021 test: 0.6267703924431421\n",
      "max_depth : 6 --> score r2 : eğitim:0.9996098251441012 test: 0.6451126032084642\n",
      "max_depth : 7 --> score r2 : eğitim:0.9999553379664212 test: 0.6381603659092404\n",
      "max_depth : 8 --> score r2 : eğitim:0.9999908333549467 test: 0.6376128435511332\n",
      "max_depth : 9 --> score r2 : eğitim:0.9999993292469639 test: 0.6463374703941538\n"
     ]
    }
   ],
   "source": [
    "from sklearn.ensemble import GradientBoostingRegressor\n",
    "for i in range(1,10,1):\n",
    "    gbr=GradientBoostingRegressor(max_depth=i,loss='squared_error')\n",
    "    gbr.fit(XTrain,yTrain)\n",
    "    tahminGbr=gbr.predict(XTest)\n",
    "    print(f\"max_depth : {i} --> score r2 : eğitim:{r2_score(yTrain,gbr.predict(XTrain))} test: {r2_score(yTest,tahminGbr)}\")"
   ]
  },
  {
   "cell_type": "code",
   "execution_count": 84,
   "metadata": {},
   "outputs": [
    {
     "data": {
      "text/plain": [
       "array([0.95795567, 0.9405768 , 0.97245984, 0.94673966, 0.90317096,\n",
       "       0.90822084, 0.94825307, 0.54039668, 0.97024607, 0.92945787,\n",
       "       0.97298441, 1.00312719, 0.99634438, 0.9182715 , 0.55120508,\n",
       "       0.54473633, 0.99820057, 0.95708513, 0.85598756, 0.97394804,\n",
       "       0.98468262, 0.97987582, 0.70444091, 0.89125168, 0.98635816,\n",
       "       0.88529483, 1.00157339, 0.97853751, 0.97918708, 1.00536228,\n",
       "       0.70809731, 0.91162497, 0.9657342 , 0.96045739, 0.90534218,\n",
       "       0.97581687, 0.99896471, 0.98485264, 1.00782855, 0.8783179 ,\n",
       "       0.99441147, 0.99997253, 1.00262548, 0.99708456, 0.95563414,\n",
       "       0.98331354, 0.96063277, 0.66633417, 1.00070736, 0.85263096,\n",
       "       0.88763562, 0.70813967, 0.77167449, 0.96252221, 0.98443367,\n",
       "       0.99151102, 1.00053835, 0.99901394, 0.97185142, 0.88461525,\n",
       "       0.94072127, 0.99506753, 0.99973603, 0.96564623, 0.91275148,\n",
       "       0.9828964 , 0.96373153, 0.58539032, 0.94265458, 0.96150123,\n",
       "       0.71412298, 0.7085153 , 0.99781579, 0.95634629, 0.95532354,\n",
       "       0.98016073, 0.9996364 , 1.00620802, 0.99299026, 0.99898171,\n",
       "       0.96709962, 0.99730186, 0.88723987, 0.96411943, 0.68072826,\n",
       "       0.96202432, 0.97930046, 0.98023939, 0.83785974, 0.68882724,\n",
       "       0.71102722, 0.5508425 , 0.88680215, 1.00033266, 0.98658852,\n",
       "       0.99234043, 0.95243578, 0.9878929 , 0.96759583, 0.98057966,\n",
       "       0.98449812, 0.91208108, 0.88785768, 1.0025038 , 0.99890496,\n",
       "       1.00041556, 0.99910377, 0.66479304, 0.8840425 , 0.99471811,\n",
       "       0.9978619 , 0.76739206, 0.99936156, 0.97157083, 0.98862193,\n",
       "       0.98462439, 0.96400127, 0.89388445, 0.97987894, 0.94834718,\n",
       "       0.99375118, 0.99712102, 1.00208294, 0.54952221, 0.86396849,\n",
       "       0.74912014, 1.00140271, 1.00103713, 0.99678337, 0.6535498 ,\n",
       "       0.9567975 , 0.9412003 , 1.00476136, 0.94738552, 0.94854134,\n",
       "       1.00315866, 0.90249354, 0.67744333, 0.83698636, 0.92543659,\n",
       "       0.68583983, 0.88497834, 0.71238441, 0.92558413, 0.99520588,\n",
       "       1.00006406, 0.96192602, 0.53928632, 0.99993315, 0.69857319,\n",
       "       0.67945863, 1.00154216, 0.99998881, 0.88695724, 0.76465029,\n",
       "       0.99976715, 0.99992158, 0.88205429, 0.99974696, 0.99319878,\n",
       "       0.99807464, 0.99780537, 0.89919427, 0.94249103, 0.94128044,\n",
       "       0.85872623, 0.99939091, 0.99757679, 0.89060718, 0.99926969,\n",
       "       0.94791225, 0.97238643, 0.96139227, 0.59399373, 1.01405353,\n",
       "       0.90591233, 0.99272007, 0.66339782, 0.85559369, 0.99348773,\n",
       "       0.9933783 , 0.97151855, 0.99376015, 1.00097008, 0.5931291 ,\n",
       "       0.91752244, 0.94815293, 0.88724047, 0.94615068, 1.00077056,\n",
       "       0.72228147, 0.98970922, 0.98269225, 0.83014678, 0.9638832 ])"
      ]
     },
     "execution_count": 84,
     "metadata": {},
     "output_type": "execute_result"
    }
   ],
   "source": [
    "tahminGbr"
   ]
  },
  {
   "cell_type": "code",
   "execution_count": 85,
   "metadata": {},
   "outputs": [
    {
     "data": {
      "text/plain": [
       "9      0.953867\n",
       "42     0.769184\n",
       "33     0.961455\n",
       "312    0.997327\n",
       "273    0.916340\n",
       "         ...   \n",
       "251    0.620637\n",
       "295    0.999765\n",
       "184    0.999523\n",
       "196    0.921715\n",
       "276    0.956484\n",
       "Name: ssim_first, Length: 195, dtype: float64"
      ]
     },
     "execution_count": 85,
     "metadata": {},
     "output_type": "execute_result"
    }
   ],
   "source": [
    "yTest"
   ]
  },
  {
   "cell_type": "code",
   "execution_count": 86,
   "metadata": {},
   "outputs": [
    {
     "data": {
      "text/plain": [
       "204    0.891072\n",
       "275    0.954504\n",
       "130    0.982197\n",
       "38     0.931159\n",
       "11     0.955942\n",
       "         ...   \n",
       "71     0.999765\n",
       "107    0.999756\n",
       "271    0.534366\n",
       "350    0.999765\n",
       "103    0.999765\n",
       "Name: ssim_first, Length: 195, dtype: float64"
      ]
     },
     "execution_count": 86,
     "metadata": {},
     "output_type": "execute_result"
    }
   ],
   "source": [
    "yTrain"
   ]
  },
  {
   "cell_type": "code",
   "execution_count": 87,
   "metadata": {},
   "outputs": [],
   "source": [
    "from sklearn.preprocessing import MinMaxScaler\n",
    "scaler=MinMaxScaler()\n",
    "XTrain[sayisal_veriler]=scaler.fit_transform(XTrain[sayisal_veriler])\n",
    "XTest[sayisal_veriler]=scaler.transform(XTest[sayisal_veriler])"
   ]
  },
  {
   "cell_type": "code",
   "execution_count": 88,
   "metadata": {},
   "outputs": [
    {
     "name": "stdout",
     "output_type": "stream",
     "text": [
      "0.33598153110765383\n"
     ]
    }
   ],
   "source": [
    "from sklearn.linear_model import LinearRegression\n",
    "LogModel=LinearRegression()\n",
    "LogModel.fit(XTrain,yTrain)\n",
    "tahmin=LogModel.predict(XTest)\n",
    "from sklearn.metrics import r2_score\n",
    "print(r2_score(yTest,tahmin))"
   ]
  },
  {
   "cell_type": "code",
   "execution_count": 89,
   "metadata": {},
   "outputs": [
    {
     "name": "stdout",
     "output_type": "stream",
     "text": [
      "n_neigbors : 1 --> score r2 : eğitim:1.0 test: 0.3043546371458288\n",
      "n_neigbors : 2 --> score r2 : eğitim:0.8459223057820711 test: 0.5404598343948677\n",
      "n_neigbors : 3 --> score r2 : eğitim:0.7990491574606172 test: 0.5855306741695647\n",
      "n_neigbors : 4 --> score r2 : eğitim:0.7506431857126953 test: 0.6291448499128232\n",
      "n_neigbors : 5 --> score r2 : eğitim:0.7191770355779254 test: 0.5945122147041718\n",
      "n_neigbors : 6 --> score r2 : eğitim:0.6979060576818654 test: 0.5827872024733132\n"
     ]
    },
    {
     "name": "stdout",
     "output_type": "stream",
     "text": [
      "n_neigbors : 7 --> score r2 : eğitim:0.685531454196181 test: 0.5837117385622357\n",
      "n_neigbors : 8 --> score r2 : eğitim:0.6631839259318559 test: 0.5767864329769739\n",
      "n_neigbors : 9 --> score r2 : eğitim:0.6520072438243298 test: 0.566744830054263\n",
      "n_neigbors : 10 --> score r2 : eğitim:0.6232804729734664 test: 0.5670230648259194\n",
      "n_neigbors : 11 --> score r2 : eğitim:0.6155644633024597 test: 0.5441266734770376\n",
      "n_neigbors : 12 --> score r2 : eğitim:0.6082947635853693 test: 0.5372751467003821\n",
      "n_neigbors : 13 --> score r2 : eğitim:0.5960309591888009 test: 0.5370666032946336\n",
      "n_neigbors : 14 --> score r2 : eğitim:0.5935604784269116 test: 0.5289963621203443\n",
      "n_neigbors : 15 --> score r2 : eğitim:0.5782039599751703 test: 0.5243566006532139\n",
      "n_neigbors : 16 --> score r2 : eğitim:0.569136823668204 test: 0.517393819981186\n",
      "n_neigbors : 17 --> score r2 : eğitim:0.5487807098487965 test: 0.49187388825233835\n",
      "n_neigbors : 18 --> score r2 : eğitim:0.5273047230433594 test: 0.48326835656522094\n",
      "n_neigbors : 19 --> score r2 : eğitim:0.5058491788127645 test: 0.47234998910712056\n"
     ]
    }
   ],
   "source": [
    "from sklearn.neighbors import KNeighborsRegressor\n",
    "for i in range(1,20,1):\n",
    "    KNN=KNeighborsRegressor(n_neighbors=i)\n",
    "    KNN.fit(XTrain,yTrain)\n",
    "    tahminKNN=KNN.predict(XTest)\n",
    "    print(f\"n_neigbors : {i} --> score r2 : eğitim:{r2_score(yTrain,KNN.predict(XTrain))} test: {r2_score(yTest,tahminKNN)}\")"
   ]
  },
  {
   "cell_type": "code",
   "execution_count": 90,
   "metadata": {},
   "outputs": [
    {
     "name": "stdout",
     "output_type": "stream",
     "text": [
      "max_depth : 1 --> score r2 : eğitim:0.2782567584807346 test: 0.21945911666181306\n",
      "max_depth : 2 --> score r2 : eğitim:0.48607969416587216 test: 0.40562759909802937\n",
      "max_depth : 3 --> score r2 : eğitim:0.6243874299587779 test: 0.5122813985369064\n",
      "max_depth : 4 --> score r2 : eğitim:0.7076898642179992 test: 0.5696341666022282\n",
      "max_depth : 5 --> score r2 : eğitim:0.7828236228286695 test: 0.6006008738964075\n",
      "max_depth : 6 --> score r2 : eğitim:0.8376836044716722 test: 0.6216307061138195\n",
      "max_depth : 7 --> score r2 : eğitim:0.8772465037510631 test: 0.632806459438183\n",
      "max_depth : 8 --> score r2 : eğitim:0.9089726218336691 test: 0.6381665367868085\n",
      "max_depth : 9 --> score r2 : eğitim:0.9284592591719358 test: 0.6362191082351211\n",
      "max_depth : 10 --> score r2 : eğitim:0.937104807249329 test: 0.6279054717583121\n",
      "max_depth : 11 --> score r2 : eğitim:0.9476636484440881 test: 0.6353558682130632\n",
      "max_depth : 12 --> score r2 : eğitim:0.9493631091981185 test: 0.6365794966680642\n",
      "max_depth : 13 --> score r2 : eğitim:0.9527067524076613 test: 0.6289434935636566\n",
      "max_depth : 14 --> score r2 : eğitim:0.9534397859156356 test: 0.6262669547702002\n",
      "max_depth : 15 --> score r2 : eğitim:0.9537995176160404 test: 0.6214109951911955\n",
      "max_depth : 16 --> score r2 : eğitim:0.9544678106656169 test: 0.6228190110011946\n",
      "max_depth : 17 --> score r2 : eğitim:0.9538832616070121 test: 0.626104221493813\n",
      "max_depth : 18 --> score r2 : eğitim:0.9541777958570118 test: 0.6280817634046214\n",
      "max_depth : 19 --> score r2 : eğitim:0.9545473660129827 test: 0.6283632141324235\n"
     ]
    }
   ],
   "source": [
    "from sklearn.ensemble import RandomForestRegressor\n",
    "for i in range(1,20,1):\n",
    "    rand=RandomForestRegressor(max_depth=i,bootstrap=True,criterion=\"friedman_mse\",max_features='log2',max_leaf_nodes=None,n_estimators=100,n_jobs=1,random_state=42)\n",
    "    rand.fit(XTrain,yTrain)\n",
    "    tahminRand=rand.predict(XTest)\n",
    "    print(f\"max_depth : {i} --> score r2 : eğitim:{r2_score(yTrain,rand.predict(XTrain))} test: {r2_score(yTest,tahminRand)}\")"
   ]
  },
  {
   "cell_type": "code",
   "execution_count": 91,
   "metadata": {},
   "outputs": [
    {
     "name": "stdout",
     "output_type": "stream",
     "text": [
      "max_depth : 1 --> score r2 : eğitim:0.21949711600233823 test: 0.04272608480584317\n",
      "max_depth : 2 --> score r2 : eğitim:0.47783702694423813 test: 0.402723889903861\n",
      "max_depth : 3 --> score r2 : eğitim:0.5607665380986808 test: 0.483921909896705\n",
      "max_depth : 4 --> score r2 : eğitim:0.7274082839996086 test: 0.5772715867078204\n",
      "max_depth : 5 --> score r2 : eğitim:0.772416962306308 test: 0.6100489992640249\n",
      "max_depth : 6 --> score r2 : eğitim:0.8305084269911769 test: 0.5882784989092587\n",
      "max_depth : 7 --> score r2 : eğitim:0.884062999104158 test: 0.6167931506087787\n",
      "max_depth : 8 --> score r2 : eğitim:0.9219440666444365 test: 0.5921212863287391\n",
      "max_depth : 9 --> score r2 : eğitim:0.9343995513547069 test: 0.5934089729905285\n",
      "max_depth : 10 --> score r2 : eğitim:0.9567218467680975 test: 0.574713404148778\n",
      "max_depth : 11 --> score r2 : eğitim:0.9945846937050683 test: 0.44693222860792126\n",
      "max_depth : 12 --> score r2 : eğitim:0.9969475670001128 test: 0.45375364534885687\n",
      "max_depth : 13 --> score r2 : eğitim:0.9982484156275072 test: 0.4509123677354515\n",
      "max_depth : 14 --> score r2 : eğitim:0.9991081273322223 test: 0.44419551479136465\n",
      "max_depth : 15 --> score r2 : eğitim:0.9999763712828977 test: 0.43739369237612036\n",
      "max_depth : 16 --> score r2 : eğitim:0.9999909324921532 test: 0.4769197128336221\n",
      "max_depth : 17 --> score r2 : eğitim:0.9999945210232922 test: 0.47792419787103446\n",
      "max_depth : 18 --> score r2 : eğitim:0.9999998004796014 test: 0.47178093921106334\n",
      "max_depth : 19 --> score r2 : eğitim:0.9999999821000746 test: 0.4603747285850941\n"
     ]
    }
   ],
   "source": [
    "from sklearn.tree import DecisionTreeRegressor\n",
    "for i in range(1,20,1):\n",
    "    DT=DecisionTreeRegressor(max_depth=i)\n",
    "    DT.fit(XTrain,yTrain)\n",
    "    tahminDT=DT.predict(XTest)\n",
    "    print(f\"max_depth : {i} --> score r2 : eğitim:{r2_score(yTrain,DT.predict(XTrain))} test: {r2_score(yTest,tahminDT)}\")"
   ]
  },
  {
   "cell_type": "code",
   "execution_count": 92,
   "metadata": {},
   "outputs": [
    {
     "name": "stdout",
     "output_type": "stream",
     "text": [
      "max_depth : 1 --> score r2 : eğitim:0.5994924331413487 test: 0.43891961657673506\n",
      "max_depth : 2 --> score r2 : eğitim:0.8668959700614527 test: 0.5757536391550129\n",
      "max_depth : 3 --> score r2 : eğitim:0.9549220948452075 test: 0.5792385752645112\n",
      "max_depth : 4 --> score r2 : eğitim:0.9893904137999898 test: 0.597593856588938\n",
      "max_depth : 5 --> score r2 : eğitim:0.9983291266642021 test: 0.6222423233436416\n",
      "max_depth : 6 --> score r2 : eğitim:0.9996098251441013 test: 0.6480699226907558\n",
      "max_depth : 7 --> score r2 : eğitim:0.9999553379664212 test: 0.6362704176053429\n",
      "max_depth : 8 --> score r2 : eğitim:0.9999908333549467 test: 0.6354707276539686\n",
      "max_depth : 9 --> score r2 : eğitim:0.9999993292469639 test: 0.6337064966757117\n"
     ]
    }
   ],
   "source": [
    "from sklearn.ensemble import GradientBoostingRegressor\n",
    "for i in range(1,10,1):\n",
    "    gbr=GradientBoostingRegressor(max_depth=i,loss='squared_error')\n",
    "    gbr.fit(XTrain,yTrain)\n",
    "    tahminGbr=gbr.predict(XTest)\n",
    "    print(f\"max_depth : {i} --> score r2 : eğitim:{r2_score(yTrain,gbr.predict(XTrain))} test: {r2_score(yTest,tahminGbr)}\")"
   ]
  },
  {
   "cell_type": "code",
   "execution_count": null,
   "metadata": {},
   "outputs": [],
   "source": []
  }
 ],
 "metadata": {
  "kernelspec": {
   "display_name": "Python 3",
   "language": "python",
   "name": "python3"
  },
  "language_info": {
   "codemirror_mode": {
    "name": "ipython",
    "version": 3
   },
   "file_extension": ".py",
   "mimetype": "text/x-python",
   "name": "python",
   "nbconvert_exporter": "python",
   "pygments_lexer": "ipython3",
   "version": "3.10.12"
  }
 },
 "nbformat": 4,
 "nbformat_minor": 2
}
