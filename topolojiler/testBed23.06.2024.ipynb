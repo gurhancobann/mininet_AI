{
 "cells": [
  {
   "cell_type": "code",
   "execution_count": 1,
   "metadata": {},
   "outputs": [
    {
     "name": "stderr",
     "output_type": "stream",
     "text": [
      "/home/gurhancoban/.local/lib/python3.10/site-packages/pandas/core/arrays/masked.py:62: UserWarning: Pandas requires version '1.3.4' or newer of 'bottleneck' (version '1.3.2' currently installed).\n",
      "  from pandas.core import (\n",
      "/usr/lib/python3/dist-packages/scipy/__init__.py:146: UserWarning: A NumPy version >=1.17.3 and <1.25.0 is required for this version of SciPy (detected version 1.26.2\n",
      "  warnings.warn(f\"A NumPy version >={np_minversion} and <{np_maxversion}\"\n"
     ]
    }
   ],
   "source": [
    "import pandas as pd\n",
    "import numpy as num_paths\n",
    "import matplotlib.pyplot as psnrResault\n",
    "import seaborn as sns\n",
    "import warnings\n",
    "warnings.filterwarnings(\"ignore\")\n",
    "from matplotlib import pyplot as plt"
   ]
  },
  {
   "cell_type": "code",
   "execution_count": 2,
   "metadata": {},
   "outputs": [],
   "source": [
    "df=pd.read_csv(\"dataTest23.06.2024.csv\")"
   ]
  },
  {
   "cell_type": "code",
   "execution_count": 3,
   "metadata": {},
   "outputs": [
    {
     "data": {
      "text/html": [
       "<div>\n",
       "<style scoped>\n",
       "    .dataframe tbody tr th:only-of-type {\n",
       "        vertical-align: middle;\n",
       "    }\n",
       "\n",
       "    .dataframe tbody tr th {\n",
       "        vertical-align: top;\n",
       "    }\n",
       "\n",
       "    .dataframe thead th {\n",
       "        text-align: right;\n",
       "    }\n",
       "</style>\n",
       "<table border=\"1\" class=\"dataframe\">\n",
       "  <thead>\n",
       "    <tr style=\"text-align: right;\">\n",
       "      <th></th>\n",
       "      <th>host</th>\n",
       "      <th>avgRTT</th>\n",
       "      <th>packetLoss</th>\n",
       "      <th>latency</th>\n",
       "      <th>hopCount</th>\n",
       "      <th>bandwidth</th>\n",
       "      <th>yukOrani</th>\n",
       "      <th>gelenPaket</th>\n",
       "      <th>gidenPaket</th>\n",
       "      <th>psnr</th>\n",
       "      <th>ssim_first</th>\n",
       "      <th>ssim_second</th>\n",
       "      <th>type</th>\n",
       "      <th>server</th>\n",
       "    </tr>\n",
       "  </thead>\n",
       "  <tbody>\n",
       "    <tr>\n",
       "      <th>0</th>\n",
       "      <td>h4</td>\n",
       "      <td>348.468</td>\n",
       "      <td>0.0</td>\n",
       "      <td>12</td>\n",
       "      <td>3</td>\n",
       "      <td>10000000</td>\n",
       "      <td>5601.534091</td>\n",
       "      <td>5154</td>\n",
       "      <td>487781</td>\n",
       "      <td>15.309531</td>\n",
       "      <td>0.653652</td>\n",
       "      <td>4.604874</td>\n",
       "      <td>3</td>\n",
       "      <td>h14</td>\n",
       "    </tr>\n",
       "    <tr>\n",
       "      <th>1</th>\n",
       "      <td>h3</td>\n",
       "      <td>473.868</td>\n",
       "      <td>0.0</td>\n",
       "      <td>66</td>\n",
       "      <td>4</td>\n",
       "      <td>10000000</td>\n",
       "      <td>4883.722772</td>\n",
       "      <td>4776</td>\n",
       "      <td>488480</td>\n",
       "      <td>28.723997</td>\n",
       "      <td>0.979157</td>\n",
       "      <td>16.810389</td>\n",
       "      <td>3</td>\n",
       "      <td>h10</td>\n",
       "    </tr>\n",
       "    <tr>\n",
       "      <th>2</th>\n",
       "      <td>h2</td>\n",
       "      <td>413.748</td>\n",
       "      <td>0.0</td>\n",
       "      <td>93</td>\n",
       "      <td>5</td>\n",
       "      <td>10000000</td>\n",
       "      <td>10977.043478</td>\n",
       "      <td>1015116</td>\n",
       "      <td>499716</td>\n",
       "      <td>27.242306</td>\n",
       "      <td>0.972034</td>\n",
       "      <td>15.533657</td>\n",
       "      <td>3</td>\n",
       "      <td>h10</td>\n",
       "    </tr>\n",
       "    <tr>\n",
       "      <th>3</th>\n",
       "      <td>h5</td>\n",
       "      <td>309.534</td>\n",
       "      <td>0.0</td>\n",
       "      <td>84</td>\n",
       "      <td>4</td>\n",
       "      <td>10000000</td>\n",
       "      <td>27046.735632</td>\n",
       "      <td>4192194</td>\n",
       "      <td>513938</td>\n",
       "      <td>9.995411</td>\n",
       "      <td>0.557415</td>\n",
       "      <td>3.540036</td>\n",
       "      <td>3</td>\n",
       "      <td>h10</td>\n",
       "    </tr>\n",
       "    <tr>\n",
       "      <th>4</th>\n",
       "      <td>h9</td>\n",
       "      <td>457.268</td>\n",
       "      <td>0.0</td>\n",
       "      <td>73</td>\n",
       "      <td>3</td>\n",
       "      <td>10000000</td>\n",
       "      <td>38507.761905</td>\n",
       "      <td>7507644</td>\n",
       "      <td>578986</td>\n",
       "      <td>31.829885</td>\n",
       "      <td>0.987984</td>\n",
       "      <td>19.202539</td>\n",
       "      <td>3</td>\n",
       "      <td>h14</td>\n",
       "    </tr>\n",
       "  </tbody>\n",
       "</table>\n",
       "</div>"
      ],
      "text/plain": [
       "  host   avgRTT  packetLoss  latency  hopCount  bandwidth      yukOrani  \\\n",
       "0   h4  348.468         0.0       12         3   10000000   5601.534091   \n",
       "1   h3  473.868         0.0       66         4   10000000   4883.722772   \n",
       "2   h2  413.748         0.0       93         5   10000000  10977.043478   \n",
       "3   h5  309.534         0.0       84         4   10000000  27046.735632   \n",
       "4   h9  457.268         0.0       73         3   10000000  38507.761905   \n",
       "\n",
       "   gelenPaket  gidenPaket       psnr  ssim_first  ssim_second  type server  \n",
       "0        5154      487781  15.309531    0.653652     4.604874     3    h14  \n",
       "1        4776      488480  28.723997    0.979157    16.810389     3    h10  \n",
       "2     1015116      499716  27.242306    0.972034    15.533657     3    h10  \n",
       "3     4192194      513938   9.995411    0.557415     3.540036     3    h10  \n",
       "4     7507644      578986  31.829885    0.987984    19.202539     3    h14  "
      ]
     },
     "execution_count": 3,
     "metadata": {},
     "output_type": "execute_result"
    }
   ],
   "source": [
    "df=pd.DataFrame(df)\n",
    "df.head()"
   ]
  },
  {
   "cell_type": "code",
   "execution_count": 4,
   "metadata": {},
   "outputs": [
    {
     "data": {
      "text/html": [
       "<div>\n",
       "<style scoped>\n",
       "    .dataframe tbody tr th:only-of-type {\n",
       "        vertical-align: middle;\n",
       "    }\n",
       "\n",
       "    .dataframe tbody tr th {\n",
       "        vertical-align: top;\n",
       "    }\n",
       "\n",
       "    .dataframe thead th {\n",
       "        text-align: right;\n",
       "    }\n",
       "</style>\n",
       "<table border=\"1\" class=\"dataframe\">\n",
       "  <thead>\n",
       "    <tr style=\"text-align: right;\">\n",
       "      <th></th>\n",
       "      <th>host</th>\n",
       "      <th>avgRTT</th>\n",
       "      <th>packetLoss</th>\n",
       "      <th>latency</th>\n",
       "      <th>hopCount</th>\n",
       "      <th>bandwidth</th>\n",
       "      <th>yukOrani</th>\n",
       "      <th>gelenPaket</th>\n",
       "      <th>gidenPaket</th>\n",
       "      <th>psnr</th>\n",
       "      <th>ssim_first</th>\n",
       "      <th>ssim_second</th>\n",
       "      <th>type</th>\n",
       "      <th>server</th>\n",
       "      <th>mos</th>\n",
       "    </tr>\n",
       "  </thead>\n",
       "  <tbody>\n",
       "    <tr>\n",
       "      <th>0</th>\n",
       "      <td>h4</td>\n",
       "      <td>348.468</td>\n",
       "      <td>0.0</td>\n",
       "      <td>12</td>\n",
       "      <td>3</td>\n",
       "      <td>10000000</td>\n",
       "      <td>5601.534091</td>\n",
       "      <td>5154</td>\n",
       "      <td>487781</td>\n",
       "      <td>15.309531</td>\n",
       "      <td>0.653652</td>\n",
       "      <td>4.604874</td>\n",
       "      <td>3</td>\n",
       "      <td>h14</td>\n",
       "      <td>2</td>\n",
       "    </tr>\n",
       "    <tr>\n",
       "      <th>1</th>\n",
       "      <td>h3</td>\n",
       "      <td>473.868</td>\n",
       "      <td>0.0</td>\n",
       "      <td>66</td>\n",
       "      <td>4</td>\n",
       "      <td>10000000</td>\n",
       "      <td>4883.722772</td>\n",
       "      <td>4776</td>\n",
       "      <td>488480</td>\n",
       "      <td>28.723997</td>\n",
       "      <td>0.979157</td>\n",
       "      <td>16.810389</td>\n",
       "      <td>3</td>\n",
       "      <td>h10</td>\n",
       "      <td>4</td>\n",
       "    </tr>\n",
       "    <tr>\n",
       "      <th>2</th>\n",
       "      <td>h2</td>\n",
       "      <td>413.748</td>\n",
       "      <td>0.0</td>\n",
       "      <td>93</td>\n",
       "      <td>5</td>\n",
       "      <td>10000000</td>\n",
       "      <td>10977.043478</td>\n",
       "      <td>1015116</td>\n",
       "      <td>499716</td>\n",
       "      <td>27.242306</td>\n",
       "      <td>0.972034</td>\n",
       "      <td>15.533657</td>\n",
       "      <td>3</td>\n",
       "      <td>h10</td>\n",
       "      <td>4</td>\n",
       "    </tr>\n",
       "    <tr>\n",
       "      <th>3</th>\n",
       "      <td>h5</td>\n",
       "      <td>309.534</td>\n",
       "      <td>0.0</td>\n",
       "      <td>84</td>\n",
       "      <td>4</td>\n",
       "      <td>10000000</td>\n",
       "      <td>27046.735632</td>\n",
       "      <td>4192194</td>\n",
       "      <td>513938</td>\n",
       "      <td>9.995411</td>\n",
       "      <td>0.557415</td>\n",
       "      <td>3.540036</td>\n",
       "      <td>3</td>\n",
       "      <td>h10</td>\n",
       "      <td>2</td>\n",
       "    </tr>\n",
       "    <tr>\n",
       "      <th>4</th>\n",
       "      <td>h9</td>\n",
       "      <td>457.268</td>\n",
       "      <td>0.0</td>\n",
       "      <td>73</td>\n",
       "      <td>3</td>\n",
       "      <td>10000000</td>\n",
       "      <td>38507.761905</td>\n",
       "      <td>7507644</td>\n",
       "      <td>578986</td>\n",
       "      <td>31.829885</td>\n",
       "      <td>0.987984</td>\n",
       "      <td>19.202539</td>\n",
       "      <td>3</td>\n",
       "      <td>h14</td>\n",
       "      <td>4</td>\n",
       "    </tr>\n",
       "    <tr>\n",
       "      <th>...</th>\n",
       "      <td>...</td>\n",
       "      <td>...</td>\n",
       "      <td>...</td>\n",
       "      <td>...</td>\n",
       "      <td>...</td>\n",
       "      <td>...</td>\n",
       "      <td>...</td>\n",
       "      <td>...</td>\n",
       "      <td>...</td>\n",
       "      <td>...</td>\n",
       "      <td>...</td>\n",
       "      <td>...</td>\n",
       "      <td>...</td>\n",
       "      <td>...</td>\n",
       "      <td>...</td>\n",
       "    </tr>\n",
       "    <tr>\n",
       "      <th>292</th>\n",
       "      <td>h6</td>\n",
       "      <td>269.324</td>\n",
       "      <td>0.0</td>\n",
       "      <td>80</td>\n",
       "      <td>3</td>\n",
       "      <td>10000000</td>\n",
       "      <td>76386.929487</td>\n",
       "      <td>23451374</td>\n",
       "      <td>381348</td>\n",
       "      <td>25.645795</td>\n",
       "      <td>0.964061</td>\n",
       "      <td>14.444376</td>\n",
       "      <td>3</td>\n",
       "      <td>h10</td>\n",
       "      <td>4</td>\n",
       "    </tr>\n",
       "    <tr>\n",
       "      <th>293</th>\n",
       "      <td>h5</td>\n",
       "      <td>310.955</td>\n",
       "      <td>0.0</td>\n",
       "      <td>105</td>\n",
       "      <td>4</td>\n",
       "      <td>10000000</td>\n",
       "      <td>96595.465517</td>\n",
       "      <td>33184470</td>\n",
       "      <td>430752</td>\n",
       "      <td>25.425160</td>\n",
       "      <td>0.960937</td>\n",
       "      <td>14.082377</td>\n",
       "      <td>3</td>\n",
       "      <td>h10</td>\n",
       "      <td>4</td>\n",
       "    </tr>\n",
       "    <tr>\n",
       "      <th>294</th>\n",
       "      <td>h4</td>\n",
       "      <td>264.101</td>\n",
       "      <td>0.0</td>\n",
       "      <td>71</td>\n",
       "      <td>3</td>\n",
       "      <td>10000000</td>\n",
       "      <td>110800.239583</td>\n",
       "      <td>41986474</td>\n",
       "      <td>560818</td>\n",
       "      <td>25.874444</td>\n",
       "      <td>0.965325</td>\n",
       "      <td>14.599895</td>\n",
       "      <td>3</td>\n",
       "      <td>h14</td>\n",
       "      <td>4</td>\n",
       "    </tr>\n",
       "    <tr>\n",
       "      <th>295</th>\n",
       "      <td>h3</td>\n",
       "      <td>207.838</td>\n",
       "      <td>0.0</td>\n",
       "      <td>50</td>\n",
       "      <td>2</td>\n",
       "      <td>10000000</td>\n",
       "      <td>119186.509524</td>\n",
       "      <td>49436082</td>\n",
       "      <td>622252</td>\n",
       "      <td>25.895230</td>\n",
       "      <td>0.964135</td>\n",
       "      <td>14.453322</td>\n",
       "      <td>3</td>\n",
       "      <td>h14</td>\n",
       "      <td>4</td>\n",
       "    </tr>\n",
       "    <tr>\n",
       "      <th>296</th>\n",
       "      <td>h2</td>\n",
       "      <td>256.748</td>\n",
       "      <td>0.0</td>\n",
       "      <td>74</td>\n",
       "      <td>3</td>\n",
       "      <td>10000000</td>\n",
       "      <td>131153.824561</td>\n",
       "      <td>59087176</td>\n",
       "      <td>718968</td>\n",
       "      <td>21.923044</td>\n",
       "      <td>0.940821</td>\n",
       "      <td>12.278318</td>\n",
       "      <td>3</td>\n",
       "      <td>h14</td>\n",
       "      <td>3</td>\n",
       "    </tr>\n",
       "  </tbody>\n",
       "</table>\n",
       "<p>297 rows × 15 columns</p>\n",
       "</div>"
      ],
      "text/plain": [
       "    host   avgRTT  packetLoss  latency  hopCount  bandwidth       yukOrani  \\\n",
       "0     h4  348.468         0.0       12         3   10000000    5601.534091   \n",
       "1     h3  473.868         0.0       66         4   10000000    4883.722772   \n",
       "2     h2  413.748         0.0       93         5   10000000   10977.043478   \n",
       "3     h5  309.534         0.0       84         4   10000000   27046.735632   \n",
       "4     h9  457.268         0.0       73         3   10000000   38507.761905   \n",
       "..   ...      ...         ...      ...       ...        ...            ...   \n",
       "292   h6  269.324         0.0       80         3   10000000   76386.929487   \n",
       "293   h5  310.955         0.0      105         4   10000000   96595.465517   \n",
       "294   h4  264.101         0.0       71         3   10000000  110800.239583   \n",
       "295   h3  207.838         0.0       50         2   10000000  119186.509524   \n",
       "296   h2  256.748         0.0       74         3   10000000  131153.824561   \n",
       "\n",
       "     gelenPaket  gidenPaket       psnr  ssim_first  ssim_second  type server  \\\n",
       "0          5154      487781  15.309531    0.653652     4.604874     3    h14   \n",
       "1          4776      488480  28.723997    0.979157    16.810389     3    h10   \n",
       "2       1015116      499716  27.242306    0.972034    15.533657     3    h10   \n",
       "3       4192194      513938   9.995411    0.557415     3.540036     3    h10   \n",
       "4       7507644      578986  31.829885    0.987984    19.202539     3    h14   \n",
       "..          ...         ...        ...         ...          ...   ...    ...   \n",
       "292    23451374      381348  25.645795    0.964061    14.444376     3    h10   \n",
       "293    33184470      430752  25.425160    0.960937    14.082377     3    h10   \n",
       "294    41986474      560818  25.874444    0.965325    14.599895     3    h14   \n",
       "295    49436082      622252  25.895230    0.964135    14.453322     3    h14   \n",
       "296    59087176      718968  21.923044    0.940821    12.278318     3    h14   \n",
       "\n",
       "     mos  \n",
       "0      2  \n",
       "1      4  \n",
       "2      4  \n",
       "3      2  \n",
       "4      4  \n",
       "..   ...  \n",
       "292    4  \n",
       "293    4  \n",
       "294    4  \n",
       "295    4  \n",
       "296    3  \n",
       "\n",
       "[297 rows x 15 columns]"
      ]
     },
     "execution_count": 4,
     "metadata": {},
     "output_type": "execute_result"
    }
   ],
   "source": [
    "df[\"mos\"]=6\n",
    "df.shape[0]\n",
    "for i in range(0,df.shape[0],1):\n",
    "    if df.ssim_first[i]>=0.99:\n",
    "        df.mos[i]=5\n",
    "    elif df.ssim_first[i]>=0.95 and df.ssim_first[i]<0.99:\n",
    "        df.mos[i]=4\n",
    "    elif df.ssim_first[i]>=0.88 and df.ssim_first[i]<0.95:\n",
    "        df.mos[i]=3\n",
    "    elif df.ssim_first[i]>=0.5 and df.ssim_first[i]<0.88:\n",
    "        df.mos[i]=2\n",
    "    elif df.ssim_first[i]<0.5:\n",
    "        df.mos[i]=1\n",
    "\n",
    "df"
   ]
  },
  {
   "cell_type": "code",
   "execution_count": 5,
   "metadata": {},
   "outputs": [
    {
     "data": {
      "text/html": [
       "<div>\n",
       "<style scoped>\n",
       "    .dataframe tbody tr th:only-of-type {\n",
       "        vertical-align: middle;\n",
       "    }\n",
       "\n",
       "    .dataframe tbody tr th {\n",
       "        vertical-align: top;\n",
       "    }\n",
       "\n",
       "    .dataframe thead th {\n",
       "        text-align: right;\n",
       "    }\n",
       "</style>\n",
       "<table border=\"1\" class=\"dataframe\">\n",
       "  <thead>\n",
       "    <tr style=\"text-align: right;\">\n",
       "      <th></th>\n",
       "      <th>count</th>\n",
       "      <th>mean</th>\n",
       "      <th>std</th>\n",
       "      <th>min</th>\n",
       "      <th>25%</th>\n",
       "      <th>50%</th>\n",
       "      <th>75%</th>\n",
       "      <th>max</th>\n",
       "    </tr>\n",
       "  </thead>\n",
       "  <tbody>\n",
       "    <tr>\n",
       "      <th>avgRTT</th>\n",
       "      <td>289.0</td>\n",
       "      <td>3.385141e+02</td>\n",
       "      <td>1.582703e+02</td>\n",
       "      <td>1.536090e+02</td>\n",
       "      <td>2.347400e+02</td>\n",
       "      <td>3.047750e+02</td>\n",
       "      <td>3.801970e+02</td>\n",
       "      <td>1.425112e+03</td>\n",
       "    </tr>\n",
       "    <tr>\n",
       "      <th>packetLoss</th>\n",
       "      <td>289.0</td>\n",
       "      <td>0.000000e+00</td>\n",
       "      <td>0.000000e+00</td>\n",
       "      <td>0.000000e+00</td>\n",
       "      <td>0.000000e+00</td>\n",
       "      <td>0.000000e+00</td>\n",
       "      <td>0.000000e+00</td>\n",
       "      <td>0.000000e+00</td>\n",
       "    </tr>\n",
       "    <tr>\n",
       "      <th>latency</th>\n",
       "      <td>289.0</td>\n",
       "      <td>6.712457e+01</td>\n",
       "      <td>2.527484e+01</td>\n",
       "      <td>1.200000e+01</td>\n",
       "      <td>4.900000e+01</td>\n",
       "      <td>6.700000e+01</td>\n",
       "      <td>8.300000e+01</td>\n",
       "      <td>1.890000e+02</td>\n",
       "    </tr>\n",
       "    <tr>\n",
       "      <th>hopCount</th>\n",
       "      <td>289.0</td>\n",
       "      <td>2.809689e+00</td>\n",
       "      <td>9.364028e-01</td>\n",
       "      <td>1.000000e+00</td>\n",
       "      <td>2.000000e+00</td>\n",
       "      <td>3.000000e+00</td>\n",
       "      <td>3.000000e+00</td>\n",
       "      <td>6.000000e+00</td>\n",
       "    </tr>\n",
       "    <tr>\n",
       "      <th>bandwidth</th>\n",
       "      <td>289.0</td>\n",
       "      <td>1.000000e+07</td>\n",
       "      <td>0.000000e+00</td>\n",
       "      <td>1.000000e+07</td>\n",
       "      <td>1.000000e+07</td>\n",
       "      <td>1.000000e+07</td>\n",
       "      <td>1.000000e+07</td>\n",
       "      <td>1.000000e+07</td>\n",
       "    </tr>\n",
       "    <tr>\n",
       "      <th>yukOrani</th>\n",
       "      <td>289.0</td>\n",
       "      <td>6.960336e+04</td>\n",
       "      <td>5.732625e+04</td>\n",
       "      <td>3.240444e+02</td>\n",
       "      <td>2.606163e+04</td>\n",
       "      <td>5.635800e+04</td>\n",
       "      <td>1.109323e+05</td>\n",
       "      <td>3.201290e+05</td>\n",
       "    </tr>\n",
       "    <tr>\n",
       "      <th>gelenPaket</th>\n",
       "      <td>289.0</td>\n",
       "      <td>2.001517e+07</td>\n",
       "      <td>1.963052e+07</td>\n",
       "      <td>4.650000e+03</td>\n",
       "      <td>4.185090e+06</td>\n",
       "      <td>1.068209e+07</td>\n",
       "      <td>3.318217e+07</td>\n",
       "      <td>5.909153e+07</td>\n",
       "    </tr>\n",
       "    <tr>\n",
       "      <th>gidenPaket</th>\n",
       "      <td>289.0</td>\n",
       "      <td>4.382810e+06</td>\n",
       "      <td>1.094884e+07</td>\n",
       "      <td>2.409400e+04</td>\n",
       "      <td>3.009330e+05</td>\n",
       "      <td>1.171479e+06</td>\n",
       "      <td>3.085164e+06</td>\n",
       "      <td>8.691527e+07</td>\n",
       "    </tr>\n",
       "    <tr>\n",
       "      <th>psnr</th>\n",
       "      <td>289.0</td>\n",
       "      <td>2.793372e+01</td>\n",
       "      <td>5.209534e+00</td>\n",
       "      <td>9.995411e+00</td>\n",
       "      <td>2.534232e+01</td>\n",
       "      <td>2.619444e+01</td>\n",
       "      <td>3.246248e+01</td>\n",
       "      <td>3.708230e+01</td>\n",
       "    </tr>\n",
       "    <tr>\n",
       "      <th>ssim_first</th>\n",
       "      <td>289.0</td>\n",
       "      <td>9.646887e-01</td>\n",
       "      <td>5.861279e-02</td>\n",
       "      <td>4.731760e-01</td>\n",
       "      <td>9.626610e-01</td>\n",
       "      <td>9.707690e-01</td>\n",
       "      <td>9.903020e-01</td>\n",
       "      <td>9.961950e-01</td>\n",
       "    </tr>\n",
       "    <tr>\n",
       "      <th>ssim_second</th>\n",
       "      <td>289.0</td>\n",
       "      <td>1.657813e+01</td>\n",
       "      <td>4.067153e+00</td>\n",
       "      <td>2.783343e+00</td>\n",
       "      <td>1.427840e+01</td>\n",
       "      <td>1.534154e+01</td>\n",
       "      <td>2.013310e+01</td>\n",
       "      <td>2.419659e+01</td>\n",
       "    </tr>\n",
       "    <tr>\n",
       "      <th>type</th>\n",
       "      <td>289.0</td>\n",
       "      <td>3.000000e+00</td>\n",
       "      <td>0.000000e+00</td>\n",
       "      <td>3.000000e+00</td>\n",
       "      <td>3.000000e+00</td>\n",
       "      <td>3.000000e+00</td>\n",
       "      <td>3.000000e+00</td>\n",
       "      <td>3.000000e+00</td>\n",
       "    </tr>\n",
       "    <tr>\n",
       "      <th>mos</th>\n",
       "      <td>289.0</td>\n",
       "      <td>4.076125e+00</td>\n",
       "      <td>7.029829e-01</td>\n",
       "      <td>1.000000e+00</td>\n",
       "      <td>4.000000e+00</td>\n",
       "      <td>4.000000e+00</td>\n",
       "      <td>5.000000e+00</td>\n",
       "      <td>5.000000e+00</td>\n",
       "    </tr>\n",
       "  </tbody>\n",
       "</table>\n",
       "</div>"
      ],
      "text/plain": [
       "             count          mean           std           min           25%  \\\n",
       "avgRTT       289.0  3.385141e+02  1.582703e+02  1.536090e+02  2.347400e+02   \n",
       "packetLoss   289.0  0.000000e+00  0.000000e+00  0.000000e+00  0.000000e+00   \n",
       "latency      289.0  6.712457e+01  2.527484e+01  1.200000e+01  4.900000e+01   \n",
       "hopCount     289.0  2.809689e+00  9.364028e-01  1.000000e+00  2.000000e+00   \n",
       "bandwidth    289.0  1.000000e+07  0.000000e+00  1.000000e+07  1.000000e+07   \n",
       "yukOrani     289.0  6.960336e+04  5.732625e+04  3.240444e+02  2.606163e+04   \n",
       "gelenPaket   289.0  2.001517e+07  1.963052e+07  4.650000e+03  4.185090e+06   \n",
       "gidenPaket   289.0  4.382810e+06  1.094884e+07  2.409400e+04  3.009330e+05   \n",
       "psnr         289.0  2.793372e+01  5.209534e+00  9.995411e+00  2.534232e+01   \n",
       "ssim_first   289.0  9.646887e-01  5.861279e-02  4.731760e-01  9.626610e-01   \n",
       "ssim_second  289.0  1.657813e+01  4.067153e+00  2.783343e+00  1.427840e+01   \n",
       "type         289.0  3.000000e+00  0.000000e+00  3.000000e+00  3.000000e+00   \n",
       "mos          289.0  4.076125e+00  7.029829e-01  1.000000e+00  4.000000e+00   \n",
       "\n",
       "                      50%           75%           max  \n",
       "avgRTT       3.047750e+02  3.801970e+02  1.425112e+03  \n",
       "packetLoss   0.000000e+00  0.000000e+00  0.000000e+00  \n",
       "latency      6.700000e+01  8.300000e+01  1.890000e+02  \n",
       "hopCount     3.000000e+00  3.000000e+00  6.000000e+00  \n",
       "bandwidth    1.000000e+07  1.000000e+07  1.000000e+07  \n",
       "yukOrani     5.635800e+04  1.109323e+05  3.201290e+05  \n",
       "gelenPaket   1.068209e+07  3.318217e+07  5.909153e+07  \n",
       "gidenPaket   1.171479e+06  3.085164e+06  8.691527e+07  \n",
       "psnr         2.619444e+01  3.246248e+01  3.708230e+01  \n",
       "ssim_first   9.707690e-01  9.903020e-01  9.961950e-01  \n",
       "ssim_second  1.534154e+01  2.013310e+01  2.419659e+01  \n",
       "type         3.000000e+00  3.000000e+00  3.000000e+00  \n",
       "mos          4.000000e+00  5.000000e+00  5.000000e+00  "
      ]
     },
     "execution_count": 5,
     "metadata": {},
     "output_type": "execute_result"
    }
   ],
   "source": [
    "df.dropna(inplace=True)\n",
    "df.describe().T"
   ]
  },
  {
   "cell_type": "code",
   "execution_count": 6,
   "metadata": {},
   "outputs": [
    {
     "data": {
      "image/png": "[encoded data removed]",
      "text/plain": [
       "<Figure size 1440x1440 with 1 Axes>"
      ]
     },
     "metadata": {
      "needs_background": "light"
     },
     "output_type": "display_data"
    },
    {
     "data": {
      "image/png": "[encoded data removed]",
      "text/plain": [
       "<Figure size 1440x1440 with 1 Axes>"
      ]
     },
     "metadata": {
      "needs_background": "light"
     },
     "output_type": "display_data"
    },
    {
     "data": {
      "image/png": "[encoded data removed]",
      "text/plain": [
       "<Figure size 1440x1440 with 1 Axes>"
      ]
     },
     "metadata": {
      "needs_background": "light"
     },
     "output_type": "display_data"
    },
    {
     "data": {
      "image/png": "[encoded data removed]",
      "text/plain": [
       "<Figure size 1440x1440 with 1 Axes>"
      ]
     },
     "metadata": {
      "needs_background": "light"
     },
     "output_type": "display_data"
    },
    {
     "data": {
      "image/png": "[encoded data removed]",
      "text/plain": [
       "<Figure size 1440x1440 with 1 Axes>"
      ]
     },
     "metadata": {
      "needs_background": "light"
     },
     "output_type": "display_data"
    },
    {
     "data": {
      "image/png": "[encoded data removed]",
      "text/plain": [
       "<Figure size 1440x1440 with 1 Axes>"
      ]
     },
     "metadata": {
      "needs_background": "light"
     },
     "output_type": "display_data"
    }
   ],
   "source": [
    "sayisal_veriler=[\"avgRTT\",\"packetLoss\",\"latency\",\"hopCount\",\"bandwidth\",\"yukOrani\"]\n",
    "for i,deger in enumerate(sayisal_veriler):\n",
    "    plt.figure(figsize=(20,20))\n",
    "    ax=plt.subplot(4,3,i+1)\n",
    "    sns.scatterplot(x=deger,y=\"psnr\",data=df)\n",
    "    plt.show()"
   ]
  },
  {
   "cell_type": "code",
   "execution_count": 7,
   "metadata": {},
   "outputs": [],
   "source": [
    "# sns.displot(df)"
   ]
  },
  {
   "cell_type": "code",
   "execution_count": 8,
   "metadata": {},
   "outputs": [
    {
     "data": {
      "text/plain": [
       "mos\n",
       "4    173\n",
       "5     73\n",
       "3     37\n",
       "2      4\n",
       "1      2\n",
       "Name: count, dtype: int64"
      ]
     },
     "execution_count": 8,
     "metadata": {},
     "output_type": "execute_result"
    }
   ],
   "source": [
    "df[\"mos\"].value_counts()"
   ]
  },
  {
   "cell_type": "code",
   "execution_count": 9,
   "metadata": {},
   "outputs": [
    {
     "data": {
      "text/plain": [
       "0      2\n",
       "1      4\n",
       "2      4\n",
       "3      2\n",
       "4      4\n",
       "      ..\n",
       "292    4\n",
       "293    4\n",
       "294    4\n",
       "295    4\n",
       "296    3\n",
       "Name: mos, Length: 289, dtype: int64"
      ]
     },
     "execution_count": 9,
     "metadata": {},
     "output_type": "execute_result"
    }
   ],
   "source": [
    "y=df[\"mos\"]\n",
    "x=df.drop([\"mos\",\"host\",\"ssim_first\",\"ssim_second\",\"type\",\"psnr\",\"server\",\"packetLoss\"],axis=\"columns\")\n",
    "y\n"
   ]
  },
  {
   "cell_type": "code",
   "execution_count": 10,
   "metadata": {},
   "outputs": [
    {
     "data": {
      "image/png": "[encoded data removed]",
      "text/plain": [
       "<Figure size 576x396 with 2 Axes>"
      ]
     },
     "metadata": {},
     "output_type": "display_data"
    },
    {
     "data": {
      "text/plain": [
       "<AxesSubplot:title={'center':'Pearson Ranking of 7 Features'}>"
      ]
     },
     "execution_count": 10,
     "metadata": {},
     "output_type": "execute_result"
    }
   ],
   "source": [
    "from yellowbrick.features import Rank2D\n",
    "visualizer=Rank2D(algorithm=\"pearson\")\n",
    "visualizer.fit(x,y)\n",
    "visualizer.transform(x)\n",
    "visualizer.show()"
   ]
  },
  {
   "cell_type": "code",
   "execution_count": 11,
   "metadata": {},
   "outputs": [
    {
     "data": {
      "text/html": [
       "<div>\n",
       "<style scoped>\n",
       "    .dataframe tbody tr th:only-of-type {\n",
       "        vertical-align: middle;\n",
       "    }\n",
       "\n",
       "    .dataframe tbody tr th {\n",
       "        vertical-align: top;\n",
       "    }\n",
       "\n",
       "    .dataframe thead th {\n",
       "        text-align: right;\n",
       "    }\n",
       "</style>\n",
       "<table border=\"1\" class=\"dataframe\">\n",
       "  <thead>\n",
       "    <tr style=\"text-align: right;\">\n",
       "      <th></th>\n",
       "      <th>count</th>\n",
       "      <th>mean</th>\n",
       "      <th>std</th>\n",
       "      <th>min</th>\n",
       "      <th>25%</th>\n",
       "      <th>50%</th>\n",
       "      <th>75%</th>\n",
       "      <th>max</th>\n",
       "    </tr>\n",
       "  </thead>\n",
       "  <tbody>\n",
       "    <tr>\n",
       "      <th>avgRTT</th>\n",
       "      <td>289.0</td>\n",
       "      <td>3.385141e+02</td>\n",
       "      <td>1.582703e+02</td>\n",
       "      <td>1.536090e+02</td>\n",
       "      <td>2.347400e+02</td>\n",
       "      <td>3.047750e+02</td>\n",
       "      <td>3.801970e+02</td>\n",
       "      <td>1.425112e+03</td>\n",
       "    </tr>\n",
       "    <tr>\n",
       "      <th>latency</th>\n",
       "      <td>289.0</td>\n",
       "      <td>6.712457e+01</td>\n",
       "      <td>2.527484e+01</td>\n",
       "      <td>1.200000e+01</td>\n",
       "      <td>4.900000e+01</td>\n",
       "      <td>6.700000e+01</td>\n",
       "      <td>8.300000e+01</td>\n",
       "      <td>1.890000e+02</td>\n",
       "    </tr>\n",
       "    <tr>\n",
       "      <th>hopCount</th>\n",
       "      <td>289.0</td>\n",
       "      <td>2.809689e+00</td>\n",
       "      <td>9.364028e-01</td>\n",
       "      <td>1.000000e+00</td>\n",
       "      <td>2.000000e+00</td>\n",
       "      <td>3.000000e+00</td>\n",
       "      <td>3.000000e+00</td>\n",
       "      <td>6.000000e+00</td>\n",
       "    </tr>\n",
       "    <tr>\n",
       "      <th>bandwidth</th>\n",
       "      <td>289.0</td>\n",
       "      <td>1.000000e+07</td>\n",
       "      <td>0.000000e+00</td>\n",
       "      <td>1.000000e+07</td>\n",
       "      <td>1.000000e+07</td>\n",
       "      <td>1.000000e+07</td>\n",
       "      <td>1.000000e+07</td>\n",
       "      <td>1.000000e+07</td>\n",
       "    </tr>\n",
       "    <tr>\n",
       "      <th>yukOrani</th>\n",
       "      <td>289.0</td>\n",
       "      <td>6.960336e+04</td>\n",
       "      <td>5.732625e+04</td>\n",
       "      <td>3.240444e+02</td>\n",
       "      <td>2.606163e+04</td>\n",
       "      <td>5.635800e+04</td>\n",
       "      <td>1.109323e+05</td>\n",
       "      <td>3.201290e+05</td>\n",
       "    </tr>\n",
       "    <tr>\n",
       "      <th>gelenPaket</th>\n",
       "      <td>289.0</td>\n",
       "      <td>2.001517e+07</td>\n",
       "      <td>1.963052e+07</td>\n",
       "      <td>4.650000e+03</td>\n",
       "      <td>4.185090e+06</td>\n",
       "      <td>1.068209e+07</td>\n",
       "      <td>3.318217e+07</td>\n",
       "      <td>5.909153e+07</td>\n",
       "    </tr>\n",
       "    <tr>\n",
       "      <th>gidenPaket</th>\n",
       "      <td>289.0</td>\n",
       "      <td>4.382810e+06</td>\n",
       "      <td>1.094884e+07</td>\n",
       "      <td>2.409400e+04</td>\n",
       "      <td>3.009330e+05</td>\n",
       "      <td>1.171479e+06</td>\n",
       "      <td>3.085164e+06</td>\n",
       "      <td>8.691527e+07</td>\n",
       "    </tr>\n",
       "  </tbody>\n",
       "</table>\n",
       "</div>"
      ],
      "text/plain": [
       "            count          mean           std           min           25%  \\\n",
       "avgRTT      289.0  3.385141e+02  1.582703e+02  1.536090e+02  2.347400e+02   \n",
       "latency     289.0  6.712457e+01  2.527484e+01  1.200000e+01  4.900000e+01   \n",
       "hopCount    289.0  2.809689e+00  9.364028e-01  1.000000e+00  2.000000e+00   \n",
       "bandwidth   289.0  1.000000e+07  0.000000e+00  1.000000e+07  1.000000e+07   \n",
       "yukOrani    289.0  6.960336e+04  5.732625e+04  3.240444e+02  2.606163e+04   \n",
       "gelenPaket  289.0  2.001517e+07  1.963052e+07  4.650000e+03  4.185090e+06   \n",
       "gidenPaket  289.0  4.382810e+06  1.094884e+07  2.409400e+04  3.009330e+05   \n",
       "\n",
       "                     50%           75%           max  \n",
       "avgRTT      3.047750e+02  3.801970e+02  1.425112e+03  \n",
       "latency     6.700000e+01  8.300000e+01  1.890000e+02  \n",
       "hopCount    3.000000e+00  3.000000e+00  6.000000e+00  \n",
       "bandwidth   1.000000e+07  1.000000e+07  1.000000e+07  \n",
       "yukOrani    5.635800e+04  1.109323e+05  3.201290e+05  \n",
       "gelenPaket  1.068209e+07  3.318217e+07  5.909153e+07  \n",
       "gidenPaket  1.171479e+06  3.085164e+06  8.691527e+07  "
      ]
     },
     "execution_count": 11,
     "metadata": {},
     "output_type": "execute_result"
    }
   ],
   "source": [
    "x.describe().T"
   ]
  },
  {
   "cell_type": "code",
   "execution_count": 12,
   "metadata": {},
   "outputs": [],
   "source": [
    "from sklearn.model_selection import train_test_split\n",
    "XTrain,XTest,yTrain,yTest=train_test_split(x,y,test_size=0.10, random_state=42)"
   ]
  },
  {
   "cell_type": "code",
   "execution_count": 13,
   "metadata": {},
   "outputs": [
    {
     "data": {
      "text/plain": [
       "mos\n",
       "4    18\n",
       "5     9\n",
       "1     1\n",
       "3     1\n",
       "Name: count, dtype: int64"
      ]
     },
     "execution_count": 13,
     "metadata": {},
     "output_type": "execute_result"
    }
   ],
   "source": [
    "yTest.value_counts()"
   ]
  },
  {
   "cell_type": "code",
   "execution_count": 14,
   "metadata": {},
   "outputs": [
    {
     "name": "stdout",
     "output_type": "stream",
     "text": [
      "0.20911355460353664\n"
     ]
    }
   ],
   "source": [
    "from sklearn.linear_model import LinearRegression\n",
    "LinModel=LinearRegression()\n",
    "LinModel.fit(XTrain,yTrain)\n",
    "tahmin=LinModel.predict(XTest)\n",
    "from sklearn.metrics import r2_score\n",
    "print(r2_score(yTest,tahmin))"
   ]
  },
  {
   "cell_type": "code",
   "execution_count": 15,
   "metadata": {},
   "outputs": [
    {
     "name": "stdout",
     "output_type": "stream",
     "text": [
      "max_depth : 1 --> score r2 : eğitim:0.3831474180149045 test: 0.33603198706648196\n",
      "max_depth : 2 --> score r2 : eğitim:0.49666962201744647 test: 0.37580933542783146\n",
      "max_depth : 3 --> score r2 : eğitim:0.5954794411302631 test: 0.48807930876923467\n",
      "max_depth : 4 --> score r2 : eğitim:0.6833456732391265 test: 0.4486777499373593\n",
      "max_depth : 5 --> score r2 : eğitim:0.7644242023461354 test: 0.47602691441460543\n",
      "max_depth : 6 --> score r2 : eğitim:0.8285724976647371 test: 0.44878293509954625\n",
      "max_depth : 7 --> score r2 : eğitim:0.8656410785116209 test: 0.44466050103091004\n",
      "max_depth : 8 --> score r2 : eğitim:0.8896544494505864 test: 0.45045528701753357\n",
      "max_depth : 9 --> score r2 : eğitim:0.9086179039954239 test: 0.49069203975635023\n",
      "max_depth : 10 --> score r2 : eğitim:0.9079684043222029 test: 0.42820754181266363\n",
      "max_depth : 11 --> score r2 : eğitim:0.9045169381111384 test: 0.4696411866007125\n",
      "max_depth : 12 --> score r2 : eğitim:0.9139681331652179 test: 0.45741888375545403\n",
      "max_depth : 13 --> score r2 : eğitim:0.9162981866098193 test: 0.486666920152091\n",
      "max_depth : 14 --> score r2 : eğitim:0.9140032908012791 test: 0.5172712927756651\n",
      "max_depth : 15 --> score r2 : eğitim:0.9123057961565925 test: 0.4713344106463877\n",
      "max_depth : 16 --> score r2 : eğitim:0.9144246375461799 test: 0.48402604562737617\n",
      "max_depth : 17 --> score r2 : eğitim:0.9156475117195989 test: 0.4681807984790872\n",
      "max_depth : 18 --> score r2 : eğitim:0.9101207661978827 test: 0.440608745247148\n",
      "max_depth : 19 --> score r2 : eğitim:0.9022532054267176 test: 0.4457416349809882\n"
     ]
    }
   ],
   "source": [
    "from sklearn.ensemble import RandomForestRegressor\n",
    "for i in range(1,20,1):\n",
    "    rand=RandomForestRegressor(max_depth=i,)\n",
    "    rand.fit(XTrain,yTrain)\n",
    "    tahminRand=rand.predict(XTest)\n",
    "    print(f\"max_depth : {i} --> score r2 : eğitim:{r2_score(yTrain,rand.predict(XTrain))} test: {r2_score(yTest,tahminRand)}\")"
   ]
  },
  {
   "cell_type": "code",
   "execution_count": 16,
   "metadata": {},
   "outputs": [
    {
     "name": "stdout",
     "output_type": "stream",
     "text": [
      "n_neigbors : 1 --> score r2 : eğitim:1.0 test: 0.283269961977186\n",
      "n_neigbors : 2 --> score r2 : eğitim:0.782062028499581 test: 0.33840304182509473\n",
      "n_neigbors : 3 --> score r2 : eğitim:0.692375620474717 test: 0.3629066328686099\n",
      "n_neigbors : 4 --> score r2 : eğitim:0.6519046288534973 test: 0.3315114068441062\n",
      "n_neigbors : 5 --> score r2 : eğitim:0.6406445003259755 test: 0.2965019011406841\n",
      "n_neigbors : 6 --> score r2 : eğitim:0.6183843338542044 test: 0.3108365019011403\n",
      "n_neigbors : 7 --> score r2 : eğitim:0.5980584652599981 test: 0.3204004035074104\n",
      "n_neigbors : 8 --> score r2 : eğitim:0.5819071900903419 test: 0.3401259505703419\n",
      "n_neigbors : 9 --> score r2 : eğitim:0.5667149976754356 test: 0.35269680326714514\n",
      "n_neigbors : 10 --> score r2 : eğitim:0.5589581198969297 test: 0.3565969581749048\n",
      "n_neigbors : 11 --> score r2 : eğitim:0.5473801234679082 test: 0.36528611381705023\n",
      "n_neigbors : 12 --> score r2 : eğitim:0.5438885611885519 test: 0.37592416561047726\n",
      "n_neigbors : 13 --> score r2 : eğitim:0.5360400054448671 test: 0.38799019056404227\n",
      "n_neigbors : 14 --> score r2 : eğitim:0.5329076960019363 test: 0.3924109567781482\n",
      "n_neigbors : 15 --> score r2 : eğitim:0.5210028320208073 test: 0.39255597803126285\n",
      "n_neigbors : 16 --> score r2 : eğitim:0.5180581750023284 test: 0.3704922172053229\n",
      "n_neigbors : 17 --> score r2 : eğitim:0.5153582363866113 test: 0.34660623363637555\n",
      "n_neigbors : 18 --> score r2 : eğitim:0.5131522817716974 test: 0.3494636905600147\n",
      "n_neigbors : 19 --> score r2 : eğitim:0.5106625108970275 test: 0.35138451491947753\n"
     ]
    }
   ],
   "source": [
    "from sklearn.neighbors import KNeighborsRegressor\n",
    "for i in range(1,20,1):\n",
    "    KNN=KNeighborsRegressor(n_neighbors=i)\n",
    "    KNN.fit(XTrain,yTrain)\n",
    "    tahminKNN=KNN.predict(XTest)\n",
    "    print(f\"n_neigbors : {i} --> score r2 : eğitim:{r2_score(yTrain,KNN.predict(XTrain))} test: {r2_score(yTest,tahminKNN)}\")"
   ]
  },
  {
   "cell_type": "code",
   "execution_count": 17,
   "metadata": {},
   "outputs": [
    {
     "name": "stdout",
     "output_type": "stream",
     "text": [
      "max_depth : 1 --> score r2 : eğitim:0.3300008465921256 test: 0.26680175702494413\n",
      "max_depth : 2 --> score r2 : eğitim:0.43680523075380906 test: 0.35815270510477326\n",
      "max_depth : 3 --> score r2 : eğitim:0.5719460143909899 test: 0.3427263184500422\n",
      "max_depth : 4 --> score r2 : eğitim:0.6439562749280454 test: 0.3230217867738082\n",
      "max_depth : 5 --> score r2 : eğitim:0.7394821722777266 test: 0.09107124901645947\n",
      "max_depth : 6 --> score r2 : eğitim:0.8616193915812058 test: 0.2323593228944888\n",
      "max_depth : 7 --> score r2 : eğitim:0.920258060635754 test: 0.19922725282914866\n",
      "max_depth : 8 --> score r2 : eğitim:0.9513209773058893 test: -0.05780262634898525\n",
      "max_depth : 9 --> score r2 : eğitim:0.9814349135388531 test: 0.059291825095056594\n",
      "max_depth : 10 --> score r2 : eğitim:0.9946188155185082 test: 0.06273764258555092\n",
      "max_depth : 11 --> score r2 : eğitim:1.0 test: 0.17300380228136847\n",
      "max_depth : 12 --> score r2 : eğitim:1.0 test: 0.17300380228136847\n",
      "max_depth : 13 --> score r2 : eğitim:1.0 test: 0.0076045627376422065\n",
      "max_depth : 14 --> score r2 : eğitim:1.0 test: 0.17300380228136847\n",
      "max_depth : 15 --> score r2 : eğitim:1.0 test: 0.0076045627376422065\n",
      "max_depth : 16 --> score r2 : eğitim:1.0 test: 0.0076045627376422065\n",
      "max_depth : 17 --> score r2 : eğitim:1.0 test: 0.0076045627376422065\n",
      "max_depth : 18 --> score r2 : eğitim:1.0 test: 0.17300380228136847\n",
      "max_depth : 19 --> score r2 : eğitim:1.0 test: 0.0076045627376422065\n"
     ]
    }
   ],
   "source": [
    "from sklearn.tree import DecisionTreeRegressor\n",
    "for i in range(1,20,1):\n",
    "    DT=DecisionTreeRegressor(max_depth=i)\n",
    "    DT.fit(XTrain,yTrain)\n",
    "    tahminDT=DT.predict(XTest)\n",
    "    print(f\"max_depth : {i} --> score r2 : eğitim:{r2_score(yTrain,DT.predict(XTrain))} test: {r2_score(yTest,tahminDT)}\")"
   ]
  },
  {
   "cell_type": "code",
   "execution_count": 18,
   "metadata": {},
   "outputs": [
    {
     "name": "stdout",
     "output_type": "stream",
     "text": [
      "max_depth : 1 --> score r2 : eğitim:0.5664208878695428 test: 0.4151078488679719\n",
      "max_depth : 2 --> score r2 : eğitim:0.7763080673968779 test: 0.5592178598495584\n",
      "max_depth : 3 --> score r2 : eğitim:0.8947284932042756 test: 0.48738546059125554\n",
      "max_depth : 4 --> score r2 : eğitim:0.967012331131277 test: 0.44540296560452464\n",
      "max_depth : 5 --> score r2 : eğitim:0.9895002279087558 test: 0.2798394283230393\n",
      "max_depth : 6 --> score r2 : eğitim:0.9992277250516166 test: 0.307866767102589\n",
      "max_depth : 7 --> score r2 : eğitim:0.9999421499133097 test: 0.24029848635583806\n",
      "max_depth : 8 --> score r2 : eğitim:0.9999988542443604 test: 0.18537173975437293\n",
      "max_depth : 9 --> score r2 : eğitim:0.9999999920602766 test: 0.15817553077419866\n"
     ]
    }
   ],
   "source": [
    "from sklearn.ensemble import GradientBoostingRegressor\n",
    "for i in range(1,10,1):\n",
    "    gbr=GradientBoostingRegressor(max_depth=i,loss='squared_error')\n",
    "    gbr.fit(XTrain,yTrain)\n",
    "    tahminGbr=gbr.predict(XTest)\n",
    "    print(f\"max_depth : {i} --> score r2 : eğitim:{r2_score(yTrain,gbr.predict(XTrain))} test: {r2_score(yTest,tahminGbr)}\")"
   ]
  },
  {
   "cell_type": "code",
   "execution_count": 19,
   "metadata": {},
   "outputs": [
    {
     "name": "stdout",
     "output_type": "stream",
     "text": [
      "0.6426427053835069\n"
     ]
    }
   ],
   "source": [
    "from xgboost import XGBRegressor\n",
    "xgb=XGBRegressor()\n",
    "xgb.fit(XTrain,yTrain)\n",
    "tahminXGB=xgb.predict(XTest)\n",
    "print(r2_score(yTest,tahminXGB))"
   ]
  },
  {
   "cell_type": "code",
   "execution_count": 20,
   "metadata": {},
   "outputs": [
    {
     "name": "stdout",
     "output_type": "stream",
     "text": [
      "ransac -> 0.527581178707224\n"
     ]
    }
   ],
   "source": [
    "from sklearn.linear_model import RANSACRegressor\n",
    "ransac=RandomForestRegressor(random_state=42)\n",
    "ransac.fit(XTrain,yTrain)\n",
    "tahminRansac=ransac.predict(XTest)\n",
    "print(f\"ransac -> {r2_score(yTest,tahminRansac)}\")"
   ]
  },
  {
   "cell_type": "code",
   "execution_count": 21,
   "metadata": {},
   "outputs": [
    {
     "name": "stdout",
     "output_type": "stream",
     "text": [
      "max_depth : 1 --> score r2 : eğitim:0.3100351392648555 test: 0.1847915240223431\n",
      "max_depth : 2 --> score r2 : eğitim:0.40956558473442173 test: 0.28242510640491403\n",
      "max_depth : 3 --> score r2 : eğitim:0.49882391151448535 test: 0.3477052485128346\n",
      "max_depth : 4 --> score r2 : eğitim:0.6022781859621065 test: 0.39896333607594336\n",
      "max_depth : 5 --> score r2 : eğitim:0.7096155196867108 test: 0.42398501356789875\n",
      "max_depth : 6 --> score r2 : eğitim:0.7955756078773528 test: 0.444782694218973\n",
      "max_depth : 7 --> score r2 : eğitim:0.8524025252744751 test: 0.4458976611448182\n",
      "max_depth : 8 --> score r2 : eğitim:0.9185651000198005 test: 0.4007285849255965\n",
      "max_depth : 9 --> score r2 : eğitim:0.9541836530284099 test: 0.38158314009575167\n"
     ]
    }
   ],
   "source": [
    "from sklearn.ensemble import ExtraTreesRegressor\n",
    "for i in range(1,10,1):\n",
    "    exTree=ExtraTreesRegressor(max_depth=i)\n",
    "    exTree.fit(XTrain,yTrain)\n",
    "    tahminExTree=exTree.predict(XTest)\n",
    "    print(f\"max_depth : {i} --> score r2 : eğitim:{r2_score(yTrain,exTree.predict(XTrain))} test: {r2_score(yTest,tahminExTree)}\")"
   ]
  },
  {
   "cell_type": "code",
   "execution_count": 22,
   "metadata": {},
   "outputs": [
    {
     "data": {
      "text/plain": [
       "array([4.99331264, 3.99986584, 3.99992797, 3.28517352, 3.99843015,\n",
       "       5.01055823, 4.76923521, 3.99999075, 3.99995595, 3.01434136,\n",
       "       4.99922799, 4.89541946, 5.00769   , 3.97988537, 4.99686866,\n",
       "       5.04910391, 3.99679993, 5.00010306, 3.99999987, 3.99967919,\n",
       "       4.06069552, 3.72096042, 3.99999711, 3.99997479, 4.00000261,\n",
       "       3.99998843, 5.0101423 , 2.99988633, 3.00636514])"
      ]
     },
     "execution_count": 22,
     "metadata": {},
     "output_type": "execute_result"
    }
   ],
   "source": [
    "tahminGbr"
   ]
  },
  {
   "cell_type": "code",
   "execution_count": 23,
   "metadata": {},
   "outputs": [
    {
     "data": {
      "text/plain": [
       "46     5\n",
       "159    4\n",
       "282    4\n",
       "43     4\n",
       "184    4\n",
       "10     5\n",
       "47     5\n",
       "174    4\n",
       "78     4\n",
       "198    4\n",
       "225    5\n",
       "34     5\n",
       "118    5\n",
       "219    4\n",
       "57     5\n",
       "227    4\n",
       "5      1\n",
       "229    4\n",
       "242    4\n",
       "76     4\n",
       "276    4\n",
       "85     5\n",
       "115    4\n",
       "279    4\n",
       "74     4\n",
       "295    4\n",
       "142    5\n",
       "149    4\n",
       "113    3\n",
       "Name: mos, dtype: int64"
      ]
     },
     "execution_count": 23,
     "metadata": {},
     "output_type": "execute_result"
    }
   ],
   "source": [
    "yTest"
   ]
  },
  {
   "cell_type": "code",
   "execution_count": 24,
   "metadata": {},
   "outputs": [
    {
     "data": {
      "text/plain": [
       "61     5\n",
       "102    4\n",
       "188    3\n",
       "156    4\n",
       "241    5\n",
       "      ..\n",
       "191    5\n",
       "72     4\n",
       "108    4\n",
       "278    4\n",
       "103    4\n",
       "Name: mos, Length: 260, dtype: int64"
      ]
     },
     "execution_count": 24,
     "metadata": {},
     "output_type": "execute_result"
    }
   ],
   "source": [
    "yTrain"
   ]
  },
  {
   "cell_type": "code",
   "execution_count": 25,
   "metadata": {},
   "outputs": [
    {
     "ename": "KeyError",
     "evalue": "\"['packetLoss'] not in index\"",
     "output_type": "error",
     "traceback": [
      "\u001b[0;31m---------------------------------------------------------------------------\u001b[0m",
      "\u001b[0;31mKeyError\u001b[0m                                  Traceback (most recent call last)",
      "\u001b[0;32m/tmp/ipykernel_11127/1028746296.py\u001b[0m in \u001b[0;36m<module>\u001b[0;34m\u001b[0m\n\u001b[1;32m      1\u001b[0m \u001b[0;32mfrom\u001b[0m \u001b[0msklearn\u001b[0m\u001b[0;34m.\u001b[0m\u001b[0mpreprocessing\u001b[0m \u001b[0;32mimport\u001b[0m \u001b[0mMinMaxScaler\u001b[0m\u001b[0;34m\u001b[0m\u001b[0;34m\u001b[0m\u001b[0m\n\u001b[1;32m      2\u001b[0m \u001b[0mscaler\u001b[0m\u001b[0;34m=\u001b[0m\u001b[0mMinMaxScaler\u001b[0m\u001b[0;34m(\u001b[0m\u001b[0;34m)\u001b[0m\u001b[0;34m\u001b[0m\u001b[0;34m\u001b[0m\u001b[0m\n\u001b[0;32m----> 3\u001b[0;31m \u001b[0mXTrain\u001b[0m\u001b[0;34m[\u001b[0m\u001b[0msayisal_veriler\u001b[0m\u001b[0;34m]\u001b[0m\u001b[0;34m=\u001b[0m\u001b[0mscaler\u001b[0m\u001b[0;34m.\u001b[0m\u001b[0mfit_transform\u001b[0m\u001b[0;34m(\u001b[0m\u001b[0mXTrain\u001b[0m\u001b[0;34m[\u001b[0m\u001b[0msayisal_veriler\u001b[0m\u001b[0;34m]\u001b[0m\u001b[0;34m)\u001b[0m\u001b[0;34m\u001b[0m\u001b[0;34m\u001b[0m\u001b[0m\n\u001b[0m\u001b[1;32m      4\u001b[0m \u001b[0mXTest\u001b[0m\u001b[0;34m[\u001b[0m\u001b[0msayisal_veriler\u001b[0m\u001b[0;34m]\u001b[0m\u001b[0;34m=\u001b[0m\u001b[0mscaler\u001b[0m\u001b[0;34m.\u001b[0m\u001b[0mtransform\u001b[0m\u001b[0;34m(\u001b[0m\u001b[0mXTest\u001b[0m\u001b[0;34m[\u001b[0m\u001b[0msayisal_veriler\u001b[0m\u001b[0;34m]\u001b[0m\u001b[0;34m)\u001b[0m\u001b[0;34m\u001b[0m\u001b[0;34m\u001b[0m\u001b[0m\n",
      "\u001b[0;32m~/.local/lib/python3.10/site-packages/pandas/core/frame.py\u001b[0m in \u001b[0;36m__getitem__\u001b[0;34m(self, key)\u001b[0m\n\u001b[1;32m   3897\u001b[0m             \u001b[0;32mif\u001b[0m \u001b[0mis_iterator\u001b[0m\u001b[0;34m(\u001b[0m\u001b[0mkey\u001b[0m\u001b[0;34m)\u001b[0m\u001b[0;34m:\u001b[0m\u001b[0;34m\u001b[0m\u001b[0;34m\u001b[0m\u001b[0m\n\u001b[1;32m   3898\u001b[0m                 \u001b[0mkey\u001b[0m \u001b[0;34m=\u001b[0m \u001b[0mlist\u001b[0m\u001b[0;34m(\u001b[0m\u001b[0mkey\u001b[0m\u001b[0;34m)\u001b[0m\u001b[0;34m\u001b[0m\u001b[0;34m\u001b[0m\u001b[0m\n\u001b[0;32m-> 3899\u001b[0;31m             \u001b[0mindexer\u001b[0m \u001b[0;34m=\u001b[0m \u001b[0mself\u001b[0m\u001b[0;34m.\u001b[0m\u001b[0mcolumns\u001b[0m\u001b[0;34m.\u001b[0m\u001b[0m_get_indexer_strict\u001b[0m\u001b[0;34m(\u001b[0m\u001b[0mkey\u001b[0m\u001b[0;34m,\u001b[0m \u001b[0;34m\"columns\"\u001b[0m\u001b[0;34m)\u001b[0m\u001b[0;34m[\u001b[0m\u001b[0;36m1\u001b[0m\u001b[0;34m]\u001b[0m\u001b[0;34m\u001b[0m\u001b[0;34m\u001b[0m\u001b[0m\n\u001b[0m\u001b[1;32m   3900\u001b[0m \u001b[0;34m\u001b[0m\u001b[0m\n\u001b[1;32m   3901\u001b[0m         \u001b[0;31m# take() does not accept boolean indexers\u001b[0m\u001b[0;34m\u001b[0m\u001b[0;34m\u001b[0m\u001b[0m\n",
      "\u001b[0;32m~/.local/lib/python3.10/site-packages/pandas/core/indexes/base.py\u001b[0m in \u001b[0;36m_get_indexer_strict\u001b[0;34m(self, key, axis_name)\u001b[0m\n\u001b[1;32m   6113\u001b[0m             \u001b[0mkeyarr\u001b[0m\u001b[0;34m,\u001b[0m \u001b[0mindexer\u001b[0m\u001b[0;34m,\u001b[0m \u001b[0mnew_indexer\u001b[0m \u001b[0;34m=\u001b[0m \u001b[0mself\u001b[0m\u001b[0;34m.\u001b[0m\u001b[0m_reindex_non_unique\u001b[0m\u001b[0;34m(\u001b[0m\u001b[0mkeyarr\u001b[0m\u001b[0;34m)\u001b[0m\u001b[0;34m\u001b[0m\u001b[0;34m\u001b[0m\u001b[0m\n\u001b[1;32m   6114\u001b[0m \u001b[0;34m\u001b[0m\u001b[0m\n\u001b[0;32m-> 6115\u001b[0;31m         \u001b[0mself\u001b[0m\u001b[0;34m.\u001b[0m\u001b[0m_raise_if_missing\u001b[0m\u001b[0;34m(\u001b[0m\u001b[0mkeyarr\u001b[0m\u001b[0;34m,\u001b[0m \u001b[0mindexer\u001b[0m\u001b[0;34m,\u001b[0m \u001b[0maxis_name\u001b[0m\u001b[0;34m)\u001b[0m\u001b[0;34m\u001b[0m\u001b[0;34m\u001b[0m\u001b[0m\n\u001b[0m\u001b[1;32m   6116\u001b[0m \u001b[0;34m\u001b[0m\u001b[0m\n\u001b[1;32m   6117\u001b[0m         \u001b[0mkeyarr\u001b[0m \u001b[0;34m=\u001b[0m \u001b[0mself\u001b[0m\u001b[0;34m.\u001b[0m\u001b[0mtake\u001b[0m\u001b[0;34m(\u001b[0m\u001b[0mindexer\u001b[0m\u001b[0;34m)\u001b[0m\u001b[0;34m\u001b[0m\u001b[0;34m\u001b[0m\u001b[0m\n",
      "\u001b[0;32m~/.local/lib/python3.10/site-packages/pandas/core/indexes/base.py\u001b[0m in \u001b[0;36m_raise_if_missing\u001b[0;34m(self, key, indexer, axis_name)\u001b[0m\n\u001b[1;32m   6177\u001b[0m \u001b[0;34m\u001b[0m\u001b[0m\n\u001b[1;32m   6178\u001b[0m             \u001b[0mnot_found\u001b[0m \u001b[0;34m=\u001b[0m \u001b[0mlist\u001b[0m\u001b[0;34m(\u001b[0m\u001b[0mensure_index\u001b[0m\u001b[0;34m(\u001b[0m\u001b[0mkey\u001b[0m\u001b[0;34m)\u001b[0m\u001b[0;34m[\u001b[0m\u001b[0mmissing_mask\u001b[0m\u001b[0;34m.\u001b[0m\u001b[0mnonzero\u001b[0m\u001b[0;34m(\u001b[0m\u001b[0;34m)\u001b[0m\u001b[0;34m[\u001b[0m\u001b[0;36m0\u001b[0m\u001b[0;34m]\u001b[0m\u001b[0;34m]\u001b[0m\u001b[0;34m.\u001b[0m\u001b[0munique\u001b[0m\u001b[0;34m(\u001b[0m\u001b[0;34m)\u001b[0m\u001b[0;34m)\u001b[0m\u001b[0;34m\u001b[0m\u001b[0;34m\u001b[0m\u001b[0m\n\u001b[0;32m-> 6179\u001b[0;31m             \u001b[0;32mraise\u001b[0m \u001b[0mKeyError\u001b[0m\u001b[0;34m(\u001b[0m\u001b[0;34mf\"{not_found} not in index\"\u001b[0m\u001b[0;34m)\u001b[0m\u001b[0;34m\u001b[0m\u001b[0;34m\u001b[0m\u001b[0m\n\u001b[0m\u001b[1;32m   6180\u001b[0m \u001b[0;34m\u001b[0m\u001b[0m\n\u001b[1;32m   6181\u001b[0m     \u001b[0;34m@\u001b[0m\u001b[0moverload\u001b[0m\u001b[0;34m\u001b[0m\u001b[0;34m\u001b[0m\u001b[0m\n",
      "\u001b[0;31mKeyError\u001b[0m: \"['packetLoss'] not in index\""
     ]
    }
   ],
   "source": [
    "from sklearn.preprocessing import MinMaxScaler\n",
    "scaler=MinMaxScaler()\n",
    "XTrain[sayisal_veriler]=scaler.fit_transform(XTrain[sayisal_veriler])\n",
    "XTest[sayisal_veriler]=scaler.transform(XTest[sayisal_veriler])"
   ]
  },
  {
   "cell_type": "code",
   "execution_count": null,
   "metadata": {},
   "outputs": [
    {
     "name": "stdout",
     "output_type": "stream",
     "text": [
      "-4.642549972693122\n"
     ]
    }
   ],
   "source": [
    "from sklearn.linear_model import LinearRegression\n",
    "LogModel=LinearRegression()\n",
    "LogModel.fit(XTrain,yTrain)\n",
    "tahmin=LogModel.predict(XTest)\n",
    "from sklearn.metrics import r2_score\n",
    "print(r2_score(yTest,tahmin))"
   ]
  },
  {
   "cell_type": "code",
   "execution_count": null,
   "metadata": {},
   "outputs": [
    {
     "name": "stdout",
     "output_type": "stream",
     "text": [
      "n_neigbors : 1 --> score r2 : eğitim:1.0 test: -71.4195313685805\n",
      "n_neigbors : 2 --> score r2 : eğitim:0.5408173794694464 test: -30.180746540462962\n",
      "n_neigbors : 3 --> score r2 : eğitim:0.38098304140622574 test: -12.35957091007418\n",
      "n_neigbors : 4 --> score r2 : eğitim:0.3281552469486244 test: -9.492854763586301\n",
      "n_neigbors : 5 --> score r2 : eğitim:0.2724046958868013 test: -7.497837930339246\n",
      "n_neigbors : 6 --> score r2 : eğitim:0.23108394497407914 test: -4.9427443097501085\n",
      "n_neigbors : 7 --> score r2 : eğitim:0.19209244775566126 test: -3.456755754337749\n",
      "n_neigbors : 8 --> score r2 : eğitim:0.17602631125580537 test: -2.5576503781062625\n",
      "n_neigbors : 9 --> score r2 : eğitim:0.1710088829317742 test: -1.8517249772630833\n",
      "n_neigbors : 10 --> score r2 : eğitim:0.161902013384302 test: -1.29895426405142\n",
      "n_neigbors : 11 --> score r2 : eğitim:0.15543368650474965 test: -0.9510317016514858\n",
      "n_neigbors : 12 --> score r2 : eğitim:0.1437638012141057 test: -0.7309591890051519\n",
      "n_neigbors : 13 --> score r2 : eğitim:0.12850132585035712 test: -0.7311777743421926\n",
      "n_neigbors : 14 --> score r2 : eğitim:0.11979296888219737 test: -0.549367933978147\n",
      "n_neigbors : 15 --> score r2 : eğitim:0.10990345381586997 test: -0.45688733919966884\n",
      "n_neigbors : 16 --> score r2 : eğitim:0.10426330877743384 test: -1.0744147458834266\n",
      "n_neigbors : 17 --> score r2 : eğitim:0.09998588593433955 test: -0.9614450978379496\n",
      "n_neigbors : 18 --> score r2 : eğitim:0.09216496127190987 test: -1.5250486487813237\n",
      "n_neigbors : 19 --> score r2 : eğitim:0.08527983803520112 test: -1.328269909347731\n"
     ]
    }
   ],
   "source": [
    "from sklearn.neighbors import KNeighborsRegressor\n",
    "for i in range(1,20,1):\n",
    "    KNN=KNeighborsRegressor(n_neighbors=i)\n",
    "    KNN.fit(XTrain,yTrain)\n",
    "    tahminKNN=KNN.predict(XTest)\n",
    "    print(f\"n_neigbors : {i} --> score r2 : eğitim:{r2_score(yTrain,KNN.predict(XTrain))} test: {r2_score(yTest,tahminKNN)}\")"
   ]
  },
  {
   "cell_type": "code",
   "execution_count": null,
   "metadata": {},
   "outputs": [
    {
     "name": "stdout",
     "output_type": "stream",
     "text": [
      "max_depth : 1 --> score r2 : eğitim:0.11064440698553679 test: -0.9106493394064936\n",
      "max_depth : 2 --> score r2 : eğitim:0.3096475043477387 test: -2.5628808061754627\n",
      "max_depth : 3 --> score r2 : eğitim:0.519910586117451 test: -4.368034996632447\n",
      "max_depth : 4 --> score r2 : eğitim:0.6688130935161649 test: -9.106353582307468\n",
      "max_depth : 5 --> score r2 : eğitim:0.7728111715877166 test: -8.516749120595469\n",
      "max_depth : 6 --> score r2 : eğitim:0.8164965810486424 test: -7.56924805780395\n",
      "max_depth : 7 --> score r2 : eğitim:0.8287055299351374 test: -7.168315973295311\n",
      "max_depth : 8 --> score r2 : eğitim:0.8379512271295804 test: -13.43677374330953\n",
      "max_depth : 9 --> score r2 : eğitim:0.8404991309431038 test: -10.848339395190308\n",
      "max_depth : 10 --> score r2 : eğitim:0.8342687130109395 test: -9.247283975873103\n",
      "max_depth : 11 --> score r2 : eğitim:0.8334497439097873 test: -8.47899860081651\n",
      "max_depth : 12 --> score r2 : eğitim:0.8336238361783528 test: -9.034320291977089\n",
      "max_depth : 13 --> score r2 : eğitim:0.839840751157367 test: -8.175973956870118\n",
      "max_depth : 14 --> score r2 : eğitim:0.8324627932205917 test: -8.544663141445414\n",
      "max_depth : 15 --> score r2 : eğitim:0.8305379869048655 test: -9.968650359461858\n",
      "max_depth : 16 --> score r2 : eğitim:0.8304785262529314 test: -9.973392489589216\n",
      "max_depth : 17 --> score r2 : eğitim:0.830503722392291 test: -9.972866460490712\n",
      "max_depth : 18 --> score r2 : eğitim:0.8313596410201511 test: -9.97360684051022\n",
      "max_depth : 19 --> score r2 : eğitim:0.8313596410201511 test: -9.97360684051022\n"
     ]
    }
   ],
   "source": [
    "from sklearn.ensemble import RandomForestRegressor\n",
    "for i in range(1,20,1):\n",
    "    rand=RandomForestRegressor(max_depth=i,bootstrap=True,criterion=\"friedman_mse\",max_features='log2',max_leaf_nodes=None,n_estimators=100,n_jobs=1,random_state=42)\n",
    "    rand.fit(XTrain,yTrain)\n",
    "    tahminRand=rand.predict(XTest)\n",
    "    print(f\"max_depth : {i} --> score r2 : eğitim:{r2_score(yTrain,rand.predict(XTrain))} test: {r2_score(yTest,tahminRand)}\")"
   ]
  },
  {
   "cell_type": "code",
   "execution_count": null,
   "metadata": {},
   "outputs": [
    {
     "name": "stdout",
     "output_type": "stream",
     "text": [
      "max_depth : 1 --> score r2 : eğitim:0.10061124789406062 test: -0.498523431015212\n",
      "max_depth : 2 --> score r2 : eğitim:0.19853967411969042 test: -3.4609577066576245\n",
      "max_depth : 3 --> score r2 : eğitim:0.47647685872718815 test: -34.026308787957454\n",
      "max_depth : 4 --> score r2 : eğitim:0.7240636388469759 test: -74.40562190798799\n",
      "max_depth : 5 --> score r2 : eğitim:0.9795529020264285 test: -71.84859497418822\n",
      "max_depth : 6 --> score r2 : eğitim:0.9833826811387384 test: -72.23760624774027\n",
      "max_depth : 7 --> score r2 : eğitim:0.987429990338354 test: -71.81432255107657\n",
      "max_depth : 8 --> score r2 : eğitim:0.9962372899385743 test: -0.8874550010499995\n",
      "max_depth : 9 --> score r2 : eğitim:0.9985824148972497 test: -72.3241338088478\n",
      "max_depth : 10 --> score r2 : eğitim:0.9994861256924849 test: -72.25017967653562\n",
      "max_depth : 11 --> score r2 : eğitim:0.9999807542844047 test: -72.25910849711639\n",
      "max_depth : 12 --> score r2 : eğitim:0.9999971943186402 test: -72.73617135538156\n",
      "max_depth : 13 --> score r2 : eğitim:0.9999998990012602 test: -72.26818943892593\n",
      "max_depth : 14 --> score r2 : eğitim:0.9999999927581003 test: -72.71264723030876\n",
      "max_depth : 15 --> score r2 : eğitim:1.0 test: -72.71605161838656\n",
      "max_depth : 16 --> score r2 : eğitim:1.0 test: -0.6914898604039577\n",
      "max_depth : 17 --> score r2 : eğitim:1.0 test: -0.20445400516754475\n",
      "max_depth : 18 --> score r2 : eğitim:1.0 test: -72.72909071173102\n",
      "max_depth : 19 --> score r2 : eğitim:1.0 test: -72.2600262647198\n"
     ]
    }
   ],
   "source": [
    "from sklearn.tree import DecisionTreeRegressor\n",
    "for i in range(1,20,1):\n",
    "    DT=DecisionTreeRegressor(max_depth=i)\n",
    "    DT.fit(XTrain,yTrain)\n",
    "    tahminDT=DT.predict(XTest)\n",
    "    print(f\"max_depth : {i} --> score r2 : eğitim:{r2_score(yTrain,DT.predict(XTrain))} test: {r2_score(yTest,tahminDT)}\")"
   ]
  },
  {
   "cell_type": "code",
   "execution_count": null,
   "metadata": {},
   "outputs": [
    {
     "name": "stdout",
     "output_type": "stream",
     "text": [
      "max_depth : 1 --> score r2 : eğitim:0.33883339404507307 test: -2.377428860412824\n",
      "max_depth : 2 --> score r2 : eğitim:0.9562457199999259 test: -17.661178948117293\n",
      "max_depth : 3 --> score r2 : eğitim:0.987890892239113 test: -23.594518654870196\n",
      "max_depth : 4 --> score r2 : eğitim:0.9989850375313967 test: -29.953745493628936\n",
      "max_depth : 5 --> score r2 : eğitim:0.9998685829132781 test: -42.365264581535754\n",
      "max_depth : 6 --> score r2 : eğitim:0.9999693439964115 test: -49.80191283096458\n",
      "max_depth : 7 --> score r2 : eğitim:0.9999989030738063 test: -33.286911678722895\n",
      "max_depth : 8 --> score r2 : eğitim:0.9999998522010303 test: -56.287910237405455\n",
      "max_depth : 9 --> score r2 : eğitim:0.9999999948824845 test: -58.865711456639865\n"
     ]
    }
   ],
   "source": [
    "from sklearn.ensemble import GradientBoostingRegressor\n",
    "for i in range(1,10,1):\n",
    "    gbr=GradientBoostingRegressor(max_depth=i,loss='squared_error')\n",
    "    gbr.fit(XTrain,yTrain)\n",
    "    tahminGbr=gbr.predict(XTest)\n",
    "    print(f\"max_depth : {i} --> score r2 : eğitim:{r2_score(yTrain,gbr.predict(XTrain))} test: {r2_score(yTest,tahminGbr)}\")"
   ]
  },
  {
   "cell_type": "code",
   "execution_count": null,
   "metadata": {},
   "outputs": [],
   "source": []
  }
 ],
 "metadata": {
  "kernelspec": {
   "display_name": "Python 3",
   "language": "python",
   "name": "python3"
  },
  "language_info": {
   "codemirror_mode": {
    "name": "ipython",
    "version": 3
   },
   "file_extension": ".py",
   "mimetype": "text/x-python",
   "name": "python",
   "nbconvert_exporter": "python",
   "pygments_lexer": "ipython3",
   "version": "3.10.12"
  }
 },
 "nbformat": 4,
 "nbformat_minor": 2
}
