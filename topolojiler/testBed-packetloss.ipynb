{
 "cells": [
  {
   "cell_type": "code",
   "execution_count": 1,
   "metadata": {},
   "outputs": [],
   "source": [
    "import pandas as pd\n",
    "import numpy as num_paths\n",
    "import matplotlib.pyplot as psnrResault\n",
    "import seaborn as sns\n",
    "import warnings\n",
    "warnings.filterwarnings(\"ignore\")\n",
    "from matplotlib import pyplot as plt"
   ]
  },
  {
   "cell_type": "code",
   "execution_count": 2,
   "metadata": {},
   "outputs": [],
   "source": [
    "df=pd.read_csv(\"dataTest.csv\")"
   ]
  },
  {
   "cell_type": "code",
   "execution_count": 3,
   "metadata": {},
   "outputs": [
    {
     "data": {
      "text/html": [
       "<div>\n",
       "<style scoped>\n",
       "    .dataframe tbody tr th:only-of-type {\n",
       "        vertical-align: middle;\n",
       "    }\n",
       "\n",
       "    .dataframe tbody tr th {\n",
       "        vertical-align: top;\n",
       "    }\n",
       "\n",
       "    .dataframe thead th {\n",
       "        text-align: right;\n",
       "    }\n",
       "</style>\n",
       "<table border=\"1\" class=\"dataframe\">\n",
       "  <thead>\n",
       "    <tr style=\"text-align: right;\">\n",
       "      <th></th>\n",
       "      <th>host</th>\n",
       "      <th>avgRTT</th>\n",
       "      <th>packetLoss</th>\n",
       "      <th>latency</th>\n",
       "      <th>hopCount</th>\n",
       "      <th>bandwidth</th>\n",
       "      <th>yukOrani</th>\n",
       "      <th>psnr</th>\n",
       "      <th>ssim_first</th>\n",
       "      <th>ssim_second</th>\n",
       "      <th>type</th>\n",
       "      <th>server</th>\n",
       "    </tr>\n",
       "  </thead>\n",
       "  <tbody>\n",
       "    <tr>\n",
       "      <th>0</th>\n",
       "      <td>h1</td>\n",
       "      <td>1898.137</td>\n",
       "      <td>0.0</td>\n",
       "      <td>66</td>\n",
       "      <td>4</td>\n",
       "      <td>3000000</td>\n",
       "      <td>2011.425000</td>\n",
       "      <td>31.225948</td>\n",
       "      <td>0.985150</td>\n",
       "      <td>18.282783</td>\n",
       "      <td>3</td>\n",
       "      <td>h10</td>\n",
       "    </tr>\n",
       "    <tr>\n",
       "      <th>1</th>\n",
       "      <td>h2</td>\n",
       "      <td>2240.660</td>\n",
       "      <td>0.0</td>\n",
       "      <td>44</td>\n",
       "      <td>3</td>\n",
       "      <td>3000000</td>\n",
       "      <td>1859.161290</td>\n",
       "      <td>31.225948</td>\n",
       "      <td>0.985150</td>\n",
       "      <td>18.282674</td>\n",
       "      <td>3</td>\n",
       "      <td>h14</td>\n",
       "    </tr>\n",
       "    <tr>\n",
       "      <th>2</th>\n",
       "      <td>h3</td>\n",
       "      <td>2196.294</td>\n",
       "      <td>0.0</td>\n",
       "      <td>40</td>\n",
       "      <td>2</td>\n",
       "      <td>3000000</td>\n",
       "      <td>9084.620155</td>\n",
       "      <td>22.700112</td>\n",
       "      <td>0.956348</td>\n",
       "      <td>13.599976</td>\n",
       "      <td>3</td>\n",
       "      <td>h14</td>\n",
       "    </tr>\n",
       "    <tr>\n",
       "      <th>3</th>\n",
       "      <td>h4</td>\n",
       "      <td>1298.732</td>\n",
       "      <td>0.0</td>\n",
       "      <td>60</td>\n",
       "      <td>3</td>\n",
       "      <td>3000000</td>\n",
       "      <td>25815.963636</td>\n",
       "      <td>22.301604</td>\n",
       "      <td>0.960533</td>\n",
       "      <td>14.037636</td>\n",
       "      <td>3</td>\n",
       "      <td>h14</td>\n",
       "    </tr>\n",
       "    <tr>\n",
       "      <th>4</th>\n",
       "      <td>h5</td>\n",
       "      <td>338.105</td>\n",
       "      <td>0.0</td>\n",
       "      <td>92</td>\n",
       "      <td>4</td>\n",
       "      <td>3000000</td>\n",
       "      <td>37246.273632</td>\n",
       "      <td>22.510259</td>\n",
       "      <td>0.958593</td>\n",
       "      <td>13.829213</td>\n",
       "      <td>3</td>\n",
       "      <td>h10</td>\n",
       "    </tr>\n",
       "  </tbody>\n",
       "</table>\n",
       "</div>"
      ],
      "text/plain": [
       "  host    avgRTT  packetLoss  latency  hopCount  bandwidth      yukOrani  \\\n",
       "0   h1  1898.137         0.0       66         4    3000000   2011.425000   \n",
       "1   h2  2240.660         0.0       44         3    3000000   1859.161290   \n",
       "2   h3  2196.294         0.0       40         2    3000000   9084.620155   \n",
       "3   h4  1298.732         0.0       60         3    3000000  25815.963636   \n",
       "4   h5   338.105         0.0       92         4    3000000  37246.273632   \n",
       "\n",
       "        psnr  ssim_first  ssim_second  type server  \n",
       "0  31.225948    0.985150    18.282783     3    h10  \n",
       "1  31.225948    0.985150    18.282674     3    h14  \n",
       "2  22.700112    0.956348    13.599976     3    h14  \n",
       "3  22.301604    0.960533    14.037636     3    h14  \n",
       "4  22.510259    0.958593    13.829213     3    h10  "
      ]
     },
     "execution_count": 3,
     "metadata": {},
     "output_type": "execute_result"
    }
   ],
   "source": [
    "df=pd.DataFrame(df)\n",
    "df.head()"
   ]
  },
  {
   "cell_type": "code",
   "execution_count": 4,
   "metadata": {},
   "outputs": [
    {
     "data": {
      "text/html": [
       "<div>\n",
       "<style scoped>\n",
       "    .dataframe tbody tr th:only-of-type {\n",
       "        vertical-align: middle;\n",
       "    }\n",
       "\n",
       "    .dataframe tbody tr th {\n",
       "        vertical-align: top;\n",
       "    }\n",
       "\n",
       "    .dataframe thead th {\n",
       "        text-align: right;\n",
       "    }\n",
       "</style>\n",
       "<table border=\"1\" class=\"dataframe\">\n",
       "  <thead>\n",
       "    <tr style=\"text-align: right;\">\n",
       "      <th></th>\n",
       "      <th>count</th>\n",
       "      <th>mean</th>\n",
       "      <th>std</th>\n",
       "      <th>min</th>\n",
       "      <th>25%</th>\n",
       "      <th>50%</th>\n",
       "      <th>75%</th>\n",
       "      <th>max</th>\n",
       "    </tr>\n",
       "  </thead>\n",
       "  <tbody>\n",
       "    <tr>\n",
       "      <th>avgRTT</th>\n",
       "      <td>360.0</td>\n",
       "      <td>1.029936e+03</td>\n",
       "      <td>1.046241e+03</td>\n",
       "      <td>1.529400e+02</td>\n",
       "      <td>3.096350e+02</td>\n",
       "      <td>4.235220e+02</td>\n",
       "      <td>1.859842e+03</td>\n",
       "      <td>4.744949e+03</td>\n",
       "    </tr>\n",
       "    <tr>\n",
       "      <th>packetLoss</th>\n",
       "      <td>360.0</td>\n",
       "      <td>0.000000e+00</td>\n",
       "      <td>0.000000e+00</td>\n",
       "      <td>0.000000e+00</td>\n",
       "      <td>0.000000e+00</td>\n",
       "      <td>0.000000e+00</td>\n",
       "      <td>0.000000e+00</td>\n",
       "      <td>0.000000e+00</td>\n",
       "    </tr>\n",
       "    <tr>\n",
       "      <th>latency</th>\n",
       "      <td>360.0</td>\n",
       "      <td>7.866389e+01</td>\n",
       "      <td>6.671225e+01</td>\n",
       "      <td>1.300000e+01</td>\n",
       "      <td>5.275000e+01</td>\n",
       "      <td>7.450000e+01</td>\n",
       "      <td>9.125000e+01</td>\n",
       "      <td>1.035000e+03</td>\n",
       "    </tr>\n",
       "    <tr>\n",
       "      <th>hopCount</th>\n",
       "      <td>360.0</td>\n",
       "      <td>3.108333e+00</td>\n",
       "      <td>1.051296e+00</td>\n",
       "      <td>1.000000e+00</td>\n",
       "      <td>3.000000e+00</td>\n",
       "      <td>3.000000e+00</td>\n",
       "      <td>4.000000e+00</td>\n",
       "      <td>8.000000e+00</td>\n",
       "    </tr>\n",
       "    <tr>\n",
       "      <th>bandwidth</th>\n",
       "      <td>360.0</td>\n",
       "      <td>5.319444e+06</td>\n",
       "      <td>2.637983e+06</td>\n",
       "      <td>3.000000e+06</td>\n",
       "      <td>3.000000e+06</td>\n",
       "      <td>5.000000e+06</td>\n",
       "      <td>5.000000e+06</td>\n",
       "      <td>1.000000e+07</td>\n",
       "    </tr>\n",
       "    <tr>\n",
       "      <th>yukOrani</th>\n",
       "      <td>360.0</td>\n",
       "      <td>3.063770e+04</td>\n",
       "      <td>2.560854e+04</td>\n",
       "      <td>4.751573e+02</td>\n",
       "      <td>9.132790e+03</td>\n",
       "      <td>2.588607e+04</td>\n",
       "      <td>4.449114e+04</td>\n",
       "      <td>1.770201e+05</td>\n",
       "    </tr>\n",
       "    <tr>\n",
       "      <th>psnr</th>\n",
       "      <td>360.0</td>\n",
       "      <td>3.678594e+01</td>\n",
       "      <td>1.646139e+01</td>\n",
       "      <td>1.267172e+01</td>\n",
       "      <td>2.194262e+01</td>\n",
       "      <td>3.122953e+01</td>\n",
       "      <td>5.505260e+01</td>\n",
       "      <td>5.506194e+01</td>\n",
       "    </tr>\n",
       "    <tr>\n",
       "      <th>ssim_first</th>\n",
       "      <td>360.0</td>\n",
       "      <td>9.290974e-01</td>\n",
       "      <td>1.225030e-01</td>\n",
       "      <td>5.138590e-01</td>\n",
       "      <td>9.421713e-01</td>\n",
       "      <td>9.852710e-01</td>\n",
       "      <td>9.997650e-01</td>\n",
       "      <td>9.997650e-01</td>\n",
       "    </tr>\n",
       "    <tr>\n",
       "      <th>ssim_second</th>\n",
       "      <td>360.0</td>\n",
       "      <td>2.243359e+01</td>\n",
       "      <td>1.249835e+01</td>\n",
       "      <td>3.132379e+00</td>\n",
       "      <td>1.237905e+01</td>\n",
       "      <td>1.831822e+01</td>\n",
       "      <td>3.628266e+01</td>\n",
       "      <td>3.628266e+01</td>\n",
       "    </tr>\n",
       "    <tr>\n",
       "      <th>type</th>\n",
       "      <td>360.0</td>\n",
       "      <td>3.000000e+00</td>\n",
       "      <td>0.000000e+00</td>\n",
       "      <td>3.000000e+00</td>\n",
       "      <td>3.000000e+00</td>\n",
       "      <td>3.000000e+00</td>\n",
       "      <td>3.000000e+00</td>\n",
       "      <td>3.000000e+00</td>\n",
       "    </tr>\n",
       "  </tbody>\n",
       "</table>\n",
       "</div>"
      ],
      "text/plain": [
       "             count          mean           std           min           25%  \\\n",
       "avgRTT       360.0  1.029936e+03  1.046241e+03  1.529400e+02  3.096350e+02   \n",
       "packetLoss   360.0  0.000000e+00  0.000000e+00  0.000000e+00  0.000000e+00   \n",
       "latency      360.0  7.866389e+01  6.671225e+01  1.300000e+01  5.275000e+01   \n",
       "hopCount     360.0  3.108333e+00  1.051296e+00  1.000000e+00  3.000000e+00   \n",
       "bandwidth    360.0  5.319444e+06  2.637983e+06  3.000000e+06  3.000000e+06   \n",
       "yukOrani     360.0  3.063770e+04  2.560854e+04  4.751573e+02  9.132790e+03   \n",
       "psnr         360.0  3.678594e+01  1.646139e+01  1.267172e+01  2.194262e+01   \n",
       "ssim_first   360.0  9.290974e-01  1.225030e-01  5.138590e-01  9.421713e-01   \n",
       "ssim_second  360.0  2.243359e+01  1.249835e+01  3.132379e+00  1.237905e+01   \n",
       "type         360.0  3.000000e+00  0.000000e+00  3.000000e+00  3.000000e+00   \n",
       "\n",
       "                      50%           75%           max  \n",
       "avgRTT       4.235220e+02  1.859842e+03  4.744949e+03  \n",
       "packetLoss   0.000000e+00  0.000000e+00  0.000000e+00  \n",
       "latency      7.450000e+01  9.125000e+01  1.035000e+03  \n",
       "hopCount     3.000000e+00  4.000000e+00  8.000000e+00  \n",
       "bandwidth    5.000000e+06  5.000000e+06  1.000000e+07  \n",
       "yukOrani     2.588607e+04  4.449114e+04  1.770201e+05  \n",
       "psnr         3.122953e+01  5.505260e+01  5.506194e+01  \n",
       "ssim_first   9.852710e-01  9.997650e-01  9.997650e-01  \n",
       "ssim_second  1.831822e+01  3.628266e+01  3.628266e+01  \n",
       "type         3.000000e+00  3.000000e+00  3.000000e+00  "
      ]
     },
     "execution_count": 4,
     "metadata": {},
     "output_type": "execute_result"
    }
   ],
   "source": [
    "df.dropna(inplace=True)\n",
    "df.describe().T"
   ]
  },
  {
   "cell_type": "code",
   "execution_count": 5,
   "metadata": {},
   "outputs": [
    {
     "data": {
      "image/png": "[encoded data removed]",
      "text/plain": [
       "<Figure size 2000x2000 with 1 Axes>"
      ]
     },
     "metadata": {},
     "output_type": "display_data"
    },
    {
     "data": {
      "image/png": "[encoded data removed]",
      "text/plain": [
       "<Figure size 2000x2000 with 1 Axes>"
      ]
     },
     "metadata": {},
     "output_type": "display_data"
    },
    {
     "data": {
      "image/png": "[encoded data removed]",
      "text/plain": [
       "<Figure size 2000x2000 with 1 Axes>"
      ]
     },
     "metadata": {},
     "output_type": "display_data"
    },
    {
     "data": {
      "image/png": "[encoded data removed]",
      "text/plain": [
       "<Figure size 2000x2000 with 1 Axes>"
      ]
     },
     "metadata": {},
     "output_type": "display_data"
    },
    {
     "data": {
      "image/png": "[encoded data removed]",
      "text/plain": [
       "<Figure size 2000x2000 with 1 Axes>"
      ]
     },
     "metadata": {},
     "output_type": "display_data"
    },
    {
     "data": {
      "image/png": "[encoded data removed]",
      "text/plain": [
       "<Figure size 2000x2000 with 1 Axes>"
      ]
     },
     "metadata": {},
     "output_type": "display_data"
    }
   ],
   "source": [
    "sayisal_veriler=[\"avgRTT\",\"packetLoss\",\"latency\",\"hopCount\",\"bandwidth\",\"yukOrani\"]\n",
    "for i,deger in enumerate(sayisal_veriler):\n",
    "    plt.figure(figsize=(20,20))\n",
    "    ax=plt.subplot(4,3,i+1)\n",
    "    sns.scatterplot(x=deger,y=\"psnr\",data=df)\n",
    "    plt.show()"
   ]
  },
  {
   "cell_type": "code",
   "execution_count": 6,
   "metadata": {},
   "outputs": [],
   "source": [
    "# sns.displot(df)"
   ]
  },
  {
   "cell_type": "code",
   "execution_count": 7,
   "metadata": {},
   "outputs": [
    {
     "data": {
      "text/plain": [
       "0      0.985150\n",
       "1      0.985150\n",
       "2      0.956348\n",
       "3      0.960533\n",
       "4      0.958593\n",
       "         ...   \n",
       "357    0.999764\n",
       "358    0.999765\n",
       "359    0.999765\n",
       "360    0.999765\n",
       "361    0.999765\n",
       "Name: ssim_first, Length: 360, dtype: float64"
      ]
     },
     "execution_count": 7,
     "metadata": {},
     "output_type": "execute_result"
    }
   ],
   "source": [
    "y=df[\"ssim_first\"]\n",
    "x=df.drop([\"host\",\"ssim_first\",\"ssim_second\",\"type\",\"psnr\",\"server\",\"packetLoss\"],axis=\"columns\")\n",
    "y\n"
   ]
  },
  {
   "cell_type": "code",
   "execution_count": 8,
   "metadata": {},
   "outputs": [
    {
     "data": {
      "image/png": "[encoded data removed]",
      "text/plain": [
       "<Figure size 800x550 with 2 Axes>"
      ]
     },
     "metadata": {},
     "output_type": "display_data"
    },
    {
     "data": {
      "text/plain": [
       "<AxesSubplot:title={'center':'Pearson Ranking of 5 Features'}>"
      ]
     },
     "execution_count": 8,
     "metadata": {},
     "output_type": "execute_result"
    }
   ],
   "source": [
    "from yellowbrick.features import Rank2D\n",
    "visualizer=Rank2D(algorithm=\"pearson\")\n",
    "visualizer.fit(x,y)\n",
    "visualizer.transform(x)\n",
    "visualizer.show()"
   ]
  },
  {
   "cell_type": "code",
   "execution_count": 9,
   "metadata": {},
   "outputs": [
    {
     "data": {
      "text/html": [
       "<div>\n",
       "<style scoped>\n",
       "    .dataframe tbody tr th:only-of-type {\n",
       "        vertical-align: middle;\n",
       "    }\n",
       "\n",
       "    .dataframe tbody tr th {\n",
       "        vertical-align: top;\n",
       "    }\n",
       "\n",
       "    .dataframe thead th {\n",
       "        text-align: right;\n",
       "    }\n",
       "</style>\n",
       "<table border=\"1\" class=\"dataframe\">\n",
       "  <thead>\n",
       "    <tr style=\"text-align: right;\">\n",
       "      <th></th>\n",
       "      <th>count</th>\n",
       "      <th>mean</th>\n",
       "      <th>std</th>\n",
       "      <th>min</th>\n",
       "      <th>25%</th>\n",
       "      <th>50%</th>\n",
       "      <th>75%</th>\n",
       "      <th>max</th>\n",
       "    </tr>\n",
       "  </thead>\n",
       "  <tbody>\n",
       "    <tr>\n",
       "      <th>avgRTT</th>\n",
       "      <td>360.0</td>\n",
       "      <td>1.029936e+03</td>\n",
       "      <td>1.046241e+03</td>\n",
       "      <td>1.529400e+02</td>\n",
       "      <td>3.096350e+02</td>\n",
       "      <td>4.235220e+02</td>\n",
       "      <td>1.859842e+03</td>\n",
       "      <td>4.744949e+03</td>\n",
       "    </tr>\n",
       "    <tr>\n",
       "      <th>latency</th>\n",
       "      <td>360.0</td>\n",
       "      <td>7.866389e+01</td>\n",
       "      <td>6.671225e+01</td>\n",
       "      <td>1.300000e+01</td>\n",
       "      <td>5.275000e+01</td>\n",
       "      <td>7.450000e+01</td>\n",
       "      <td>9.125000e+01</td>\n",
       "      <td>1.035000e+03</td>\n",
       "    </tr>\n",
       "    <tr>\n",
       "      <th>hopCount</th>\n",
       "      <td>360.0</td>\n",
       "      <td>3.108333e+00</td>\n",
       "      <td>1.051296e+00</td>\n",
       "      <td>1.000000e+00</td>\n",
       "      <td>3.000000e+00</td>\n",
       "      <td>3.000000e+00</td>\n",
       "      <td>4.000000e+00</td>\n",
       "      <td>8.000000e+00</td>\n",
       "    </tr>\n",
       "    <tr>\n",
       "      <th>bandwidth</th>\n",
       "      <td>360.0</td>\n",
       "      <td>5.319444e+06</td>\n",
       "      <td>2.637983e+06</td>\n",
       "      <td>3.000000e+06</td>\n",
       "      <td>3.000000e+06</td>\n",
       "      <td>5.000000e+06</td>\n",
       "      <td>5.000000e+06</td>\n",
       "      <td>1.000000e+07</td>\n",
       "    </tr>\n",
       "    <tr>\n",
       "      <th>yukOrani</th>\n",
       "      <td>360.0</td>\n",
       "      <td>3.063770e+04</td>\n",
       "      <td>2.560854e+04</td>\n",
       "      <td>4.751573e+02</td>\n",
       "      <td>9.132790e+03</td>\n",
       "      <td>2.588607e+04</td>\n",
       "      <td>4.449114e+04</td>\n",
       "      <td>1.770201e+05</td>\n",
       "    </tr>\n",
       "  </tbody>\n",
       "</table>\n",
       "</div>"
      ],
      "text/plain": [
       "           count          mean           std           min           25%  \\\n",
       "avgRTT     360.0  1.029936e+03  1.046241e+03  1.529400e+02  3.096350e+02   \n",
       "latency    360.0  7.866389e+01  6.671225e+01  1.300000e+01  5.275000e+01   \n",
       "hopCount   360.0  3.108333e+00  1.051296e+00  1.000000e+00  3.000000e+00   \n",
       "bandwidth  360.0  5.319444e+06  2.637983e+06  3.000000e+06  3.000000e+06   \n",
       "yukOrani   360.0  3.063770e+04  2.560854e+04  4.751573e+02  9.132790e+03   \n",
       "\n",
       "                    50%           75%           max  \n",
       "avgRTT     4.235220e+02  1.859842e+03  4.744949e+03  \n",
       "latency    7.450000e+01  9.125000e+01  1.035000e+03  \n",
       "hopCount   3.000000e+00  4.000000e+00  8.000000e+00  \n",
       "bandwidth  5.000000e+06  5.000000e+06  1.000000e+07  \n",
       "yukOrani   2.588607e+04  4.449114e+04  1.770201e+05  "
      ]
     },
     "execution_count": 9,
     "metadata": {},
     "output_type": "execute_result"
    }
   ],
   "source": [
    "x.describe().T"
   ]
  },
  {
   "cell_type": "code",
   "execution_count": 10,
   "metadata": {},
   "outputs": [],
   "source": [
    "from sklearn.model_selection import train_test_split\n",
    "XTrain,XTest,yTrain,yTest=train_test_split(x,y,test_size=0.5, random_state=42)"
   ]
  },
  {
   "cell_type": "code",
   "execution_count": 11,
   "metadata": {},
   "outputs": [
    {
     "name": "stdout",
     "output_type": "stream",
     "text": [
      "0.5342339512941789\n"
     ]
    }
   ],
   "source": [
    "from sklearn.linear_model import LinearRegression\n",
    "LogModel=LinearRegression()\n",
    "LogModel.fit(XTrain,yTrain)\n",
    "tahmin=LogModel.predict(XTest)\n",
    "from sklearn.metrics import r2_score\n",
    "print(r2_score(yTest,tahmin))"
   ]
  },
  {
   "cell_type": "code",
   "execution_count": 12,
   "metadata": {},
   "outputs": [
    {
     "name": "stdout",
     "output_type": "stream",
     "text": [
      "max_depth : 1 --> score r2 : eğitim:0.4855850460664213 test: 0.29031776407288423\n",
      "max_depth : 2 --> score r2 : eğitim:0.7512320199032528 test: 0.6266363046179775\n",
      "max_depth : 3 --> score r2 : eğitim:0.8299999892610358 test: 0.7438341444881791\n",
      "max_depth : 4 --> score r2 : eğitim:0.9066541835420019 test: 0.7833607131852324\n",
      "max_depth : 5 --> score r2 : eğitim:0.9433533472829345 test: 0.789664372395634\n",
      "max_depth : 6 --> score r2 : eğitim:0.9598172126317612 test: 0.787261156658531\n",
      "max_depth : 7 --> score r2 : eğitim:0.9625970222312623 test: 0.7858507622003243\n",
      "max_depth : 8 --> score r2 : eğitim:0.9656354901050327 test: 0.8066429990468008\n",
      "max_depth : 9 --> score r2 : eğitim:0.9686409792621195 test: 0.790360391514537\n",
      "max_depth : 10 --> score r2 : eğitim:0.9679567965163749 test: 0.8005762267502994\n",
      "max_depth : 11 --> score r2 : eğitim:0.9678988292076797 test: 0.7958253133534023\n",
      "max_depth : 12 --> score r2 : eğitim:0.968032565563465 test: 0.7893995575467726\n",
      "max_depth : 13 --> score r2 : eğitim:0.9691889438482102 test: 0.8099564506450615\n",
      "max_depth : 14 --> score r2 : eğitim:0.9615359882706138 test: 0.7990252333613028\n",
      "max_depth : 15 --> score r2 : eğitim:0.9644975608187616 test: 0.7952920248822851\n",
      "max_depth : 16 --> score r2 : eğitim:0.9700623390312539 test: 0.7938959124583824\n",
      "max_depth : 17 --> score r2 : eğitim:0.9686218013427583 test: 0.7964511503069407\n",
      "max_depth : 18 --> score r2 : eğitim:0.9671345876956979 test: 0.7933843995088335\n",
      "max_depth : 19 --> score r2 : eğitim:0.9639384741919069 test: 0.7890709805281081\n"
     ]
    }
   ],
   "source": [
    "from sklearn.ensemble import RandomForestRegressor\n",
    "for i in range(1,20,1):\n",
    "    rand=RandomForestRegressor(max_depth=i,)\n",
    "    rand.fit(XTrain,yTrain)\n",
    "    tahminRand=rand.predict(XTest)\n",
    "    print(f\"max_depth : {i} --> score r2 : eğitim:{r2_score(yTrain,rand.predict(XTrain))} test: {r2_score(yTest,tahminRand)}\")"
   ]
  },
  {
   "cell_type": "code",
   "execution_count": 13,
   "metadata": {},
   "outputs": [
    {
     "name": "stdout",
     "output_type": "stream",
     "text": [
      "n_neigbors : 1 --> score r2 : eğitim:1.0 test: 0.5971472526475909\n",
      "n_neigbors : 2 --> score r2 : eğitim:0.8849114733489526 test: 0.6854973139144933\n",
      "n_neigbors : 3 --> score r2 : eğitim:0.8658014869658786 test: 0.7234929616218332\n",
      "n_neigbors : 4 --> score r2 : eğitim:0.8371411414142838 test: 0.729176952879127\n",
      "n_neigbors : 5 --> score r2 : eğitim:0.8214980561821349 test: 0.7198685976814057\n",
      "n_neigbors : 6 --> score r2 : eğitim:0.7916661043271016 test: 0.6888975084761142\n",
      "n_neigbors : 7 --> score r2 : eğitim:0.7929860466467693 test: 0.6965003855412801\n",
      "n_neigbors : 8 --> score r2 : eğitim:0.7907332458865561 test: 0.6917349516549869\n",
      "n_neigbors : 9 --> score r2 : eğitim:0.7906397086487276 test: 0.6942835166820305\n",
      "n_neigbors : 10 --> score r2 : eğitim:0.78681243689903 test: 0.7087503946826177\n",
      "n_neigbors : 11 --> score r2 : eğitim:0.7892619110191463 test: 0.7020129143922293\n",
      "n_neigbors : 12 --> score r2 : eğitim:0.7822709952422544 test: 0.7100012787102232\n",
      "n_neigbors : 13 --> score r2 : eğitim:0.7819254524282876 test: 0.72300836123832\n",
      "n_neigbors : 14 --> score r2 : eğitim:0.7802687056433132 test: 0.7244779391740332\n",
      "n_neigbors : 15 --> score r2 : eğitim:0.7806821005187141 test: 0.7166485771272679\n",
      "n_neigbors : 16 --> score r2 : eğitim:0.774267338732296 test: 0.7186842802962711\n",
      "n_neigbors : 17 --> score r2 : eğitim:0.7716420849664295 test: 0.7177289111881999\n",
      "n_neigbors : 18 --> score r2 : eğitim:0.774483312735731 test: 0.7259690570570392\n",
      "n_neigbors : 19 --> score r2 : eğitim:0.7662954991993303 test: 0.7175299885607712\n"
     ]
    }
   ],
   "source": [
    "from sklearn.neighbors import KNeighborsRegressor\n",
    "for i in range(1,20,1):\n",
    "    KNN=KNeighborsRegressor(n_neighbors=i)\n",
    "    KNN.fit(XTrain,yTrain)\n",
    "    tahminKNN=KNN.predict(XTest)\n",
    "    print(f\"n_neigbors : {i} --> score r2 : eğitim:{r2_score(yTrain,KNN.predict(XTrain))} test: {r2_score(yTest,tahminKNN)}\")"
   ]
  },
  {
   "cell_type": "code",
   "execution_count": 14,
   "metadata": {},
   "outputs": [
    {
     "name": "stdout",
     "output_type": "stream",
     "text": [
      "max_depth : 1 --> score r2 : eğitim:0.40995936960595214 test: 0.1083993975395211\n",
      "max_depth : 2 --> score r2 : eğitim:0.7161743072843078 test: 0.5869665297024721\n",
      "max_depth : 3 --> score r2 : eğitim:0.7979486563097207 test: 0.7156091276570054\n",
      "max_depth : 4 --> score r2 : eğitim:0.9227405212573188 test: 0.7743012391980656\n",
      "max_depth : 5 --> score r2 : eğitim:0.9615683947868278 test: 0.7444323066036574\n",
      "max_depth : 6 --> score r2 : eğitim:0.9819624919458777 test: 0.6315374883876812\n",
      "max_depth : 7 --> score r2 : eğitim:0.9957473662605042 test: 0.7013878499210877\n",
      "max_depth : 8 --> score r2 : eğitim:0.9993942289096709 test: 0.7125503090367817\n",
      "max_depth : 9 --> score r2 : eğitim:0.999968379835217 test: 0.762602025121945\n",
      "max_depth : 10 --> score r2 : eğitim:0.9999950732633835 test: 0.6055499797735228\n",
      "max_depth : 11 --> score r2 : eğitim:0.9999988259460474 test: 0.7326244522830601\n",
      "max_depth : 12 --> score r2 : eğitim:0.9999997015482193 test: 0.7359452827708413\n",
      "max_depth : 13 --> score r2 : eğitim:0.9999997705725178 test: 0.6522898910451675\n",
      "max_depth : 14 --> score r2 : eğitim:0.9999999997867377 test: 0.7684241120567357\n",
      "max_depth : 15 --> score r2 : eğitim:1.0 test: 0.5616850101474654\n",
      "max_depth : 16 --> score r2 : eğitim:1.0 test: 0.7396116926920113\n",
      "max_depth : 17 --> score r2 : eğitim:1.0 test: 0.6888176947732849\n",
      "max_depth : 18 --> score r2 : eğitim:1.0 test: 0.7603317660530841\n",
      "max_depth : 19 --> score r2 : eğitim:1.0 test: 0.7303879915042564\n"
     ]
    }
   ],
   "source": [
    "from sklearn.tree import DecisionTreeRegressor\n",
    "for i in range(1,20,1):\n",
    "    DT=DecisionTreeRegressor(max_depth=i)\n",
    "    DT.fit(XTrain,yTrain)\n",
    "    tahminDT=DT.predict(XTest)\n",
    "    print(f\"max_depth : {i} --> score r2 : eğitim:{r2_score(yTrain,DT.predict(XTrain))} test: {r2_score(yTest,tahminDT)}\")"
   ]
  },
  {
   "cell_type": "code",
   "execution_count": 15,
   "metadata": {},
   "outputs": [
    {
     "name": "stdout",
     "output_type": "stream",
     "text": [
      "max_depth : 1 --> score r2 : eğitim:0.7036947591762954 test: 0.5374961809914345\n",
      "max_depth : 2 --> score r2 : eğitim:0.924254626480148 test: 0.6918673715881261\n",
      "max_depth : 3 --> score r2 : eğitim:0.9808636251342951 test: 0.6961436958733762\n",
      "max_depth : 4 --> score r2 : eğitim:0.9975348493104046 test: 0.7697462611537776\n",
      "max_depth : 5 --> score r2 : eğitim:0.9997626834788024 test: 0.7632663185550013\n",
      "max_depth : 6 --> score r2 : eğitim:0.9999889534258114 test: 0.7767345378778474\n",
      "max_depth : 7 --> score r2 : eğitim:0.9999992485162029 test: 0.795707814933456\n",
      "max_depth : 8 --> score r2 : eğitim:0.9999999896551907 test: 0.7421499213577705\n",
      "max_depth : 9 --> score r2 : eğitim:0.9999999989966657 test: 0.7441099684350506\n"
     ]
    }
   ],
   "source": [
    "from sklearn.ensemble import GradientBoostingRegressor\n",
    "for i in range(1,10,1):\n",
    "    gbr=GradientBoostingRegressor(max_depth=i,loss='squared_error')\n",
    "    gbr.fit(XTrain,yTrain)\n",
    "    tahminGbr=gbr.predict(XTest)\n",
    "    print(f\"max_depth : {i} --> score r2 : eğitim:{r2_score(yTrain,gbr.predict(XTrain))} test: {r2_score(yTest,tahminGbr)}\")"
   ]
  },
  {
   "cell_type": "code",
   "execution_count": 16,
   "metadata": {},
   "outputs": [
    {
     "name": "stdout",
     "output_type": "stream",
     "text": [
      "0.026583607626005312\n",
      "0.13149493328895379\n",
      "0.3738825170468947\n",
      "0.6970739991558099\n",
      "0.6393255460550685\n",
      "0.5099524868145848\n",
      "0.660127136955162\n",
      "0.6210575850373437\n",
      "0.6632024184514533\n"
     ]
    }
   ],
   "source": [
    "from sklearn.tree import ExtraTreeRegressor\n",
    "for i in range(1,10,1):\n",
    "    extraTree=ExtraTreeRegressor(max_depth=i)\n",
    "    extraTree.fit(XTrain,yTrain)\n",
    "    tahminExtra=extraTree.predict(XTest)\n",
    "    print(r2_score(yTest,tahminExtra))"
   ]
  },
  {
   "cell_type": "code",
   "execution_count": 17,
   "metadata": {},
   "outputs": [
    {
     "name": "stdout",
     "output_type": "stream",
     "text": [
      "-0.22087940549133478\n"
     ]
    }
   ],
   "source": [
    "from sklearn.linear_model import RANSACRegressor\n",
    "ransacReg=RANSACRegressor(random_state=42,)\n",
    "ransacReg.fit(XTrain,yTrain)\n",
    "print(r2_score(yTest,ransacReg.predict(XTest)))"
   ]
  },
  {
   "cell_type": "code",
   "execution_count": 18,
   "metadata": {},
   "outputs": [
    {
     "data": {
      "text/plain": [
       "225    0.784194\n",
       "42     0.769184\n",
       "286    0.999765\n",
       "303    0.999764\n",
       "56     0.729143\n",
       "         ...   \n",
       "254    0.983920\n",
       "130    0.982197\n",
       "38     0.931159\n",
       "11     0.955942\n",
       "235    0.653499\n",
       "Name: ssim_first, Length: 180, dtype: float64"
      ]
     },
     "execution_count": 18,
     "metadata": {},
     "output_type": "execute_result"
    }
   ],
   "source": [
    "yTest"
   ]
  },
  {
   "cell_type": "code",
   "execution_count": 19,
   "metadata": {},
   "outputs": [
    {
     "data": {
      "text/plain": [
       "342    0.999765\n",
       "113    0.999765\n",
       "180    0.963987\n",
       "234    0.656911\n",
       "224    0.960831\n",
       "         ...   \n",
       "71     0.999765\n",
       "107    0.999756\n",
       "271    0.534366\n",
       "350    0.999765\n",
       "103    0.999765\n",
       "Name: ssim_first, Length: 180, dtype: float64"
      ]
     },
     "execution_count": 19,
     "metadata": {},
     "output_type": "execute_result"
    }
   ],
   "source": [
    "yTrain"
   ]
  },
  {
   "cell_type": "code",
   "execution_count": 20,
   "metadata": {},
   "outputs": [],
   "source": [
    "sayisal_veriler=[\"avgRTT\",\"latency\",\"hopCount\",\"bandwidth\",\"yukOrani\"]\n",
    "from sklearn.preprocessing import MinMaxScaler\n",
    "scaler=MinMaxScaler()\n",
    "XTrain[sayisal_veriler]=scaler.fit_transform(XTrain[sayisal_veriler])\n",
    "XTest[sayisal_veriler]=scaler.transform(XTest[sayisal_veriler])"
   ]
  },
  {
   "cell_type": "code",
   "execution_count": 21,
   "metadata": {},
   "outputs": [
    {
     "name": "stdout",
     "output_type": "stream",
     "text": [
      "0.5342339512942025\n"
     ]
    }
   ],
   "source": [
    "from sklearn.linear_model import LinearRegression\n",
    "LogModel=LinearRegression()\n",
    "LogModel.fit(XTrain,yTrain)\n",
    "tahmin=LogModel.predict(XTest)\n",
    "from sklearn.metrics import r2_score\n",
    "print(r2_score(yTest,tahmin))"
   ]
  },
  {
   "cell_type": "code",
   "execution_count": 22,
   "metadata": {},
   "outputs": [
    {
     "name": "stdout",
     "output_type": "stream",
     "text": [
      "n_neigbors : 1 --> score r2 : eğitim:1.0 test: 0.3831444306473385\n",
      "n_neigbors : 2 --> score r2 : eğitim:0.8994263519922199 test: 0.5740730843372912\n",
      "n_neigbors : 3 --> score r2 : eğitim:0.8696658330307775 test: 0.6445185207753714\n",
      "n_neigbors : 4 --> score r2 : eğitim:0.8233627872914859 test: 0.6227926788574991\n",
      "n_neigbors : 5 --> score r2 : eğitim:0.7929143060078698 test: 0.6430031613607793\n",
      "n_neigbors : 6 --> score r2 : eğitim:0.7747358073523276 test: 0.6348368730291812\n",
      "n_neigbors : 7 --> score r2 : eğitim:0.7624969193049943 test: 0.6287130066331234\n",
      "n_neigbors : 8 --> score r2 : eğitim:0.7472896231046839 test: 0.6257226527489669\n",
      "n_neigbors : 9 --> score r2 : eğitim:0.7334003484652909 test: 0.6163759120267944\n",
      "n_neigbors : 10 --> score r2 : eğitim:0.7210109729759093 test: 0.6237402430500147\n",
      "n_neigbors : 11 --> score r2 : eğitim:0.7019076196145919 test: 0.6154929348871612\n",
      "n_neigbors : 12 --> score r2 : eğitim:0.6859618915464738 test: 0.6127097203979984\n",
      "n_neigbors : 13 --> score r2 : eğitim:0.6778600487377494 test: 0.5893926355116179\n",
      "n_neigbors : 14 --> score r2 : eğitim:0.662976630736777 test: 0.5920655019882606\n",
      "n_neigbors : 15 --> score r2 : eğitim:0.6409342242230367 test: 0.5929247297496149\n",
      "n_neigbors : 16 --> score r2 : eğitim:0.631723884330897 test: 0.5945194689518138\n",
      "n_neigbors : 17 --> score r2 : eğitim:0.6187272408526572 test: 0.5801181580214253\n",
      "n_neigbors : 18 --> score r2 : eğitim:0.6201151394535911 test: 0.5709914054759146\n",
      "n_neigbors : 19 --> score r2 : eğitim:0.6129717810463948 test: 0.5640432001303035\n"
     ]
    }
   ],
   "source": [
    "from sklearn.neighbors import KNeighborsRegressor\n",
    "for i in range(1,20,1):\n",
    "    KNN=KNeighborsRegressor(n_neighbors=i)\n",
    "    KNN.fit(XTrain,yTrain)\n",
    "    tahminKNN=KNN.predict(XTest)\n",
    "    print(f\"n_neigbors : {i} --> score r2 : eğitim:{r2_score(yTrain,KNN.predict(XTrain))} test: {r2_score(yTest,tahminKNN)}\")"
   ]
  },
  {
   "cell_type": "code",
   "execution_count": 27,
   "metadata": {},
   "outputs": [
    {
     "name": "stdout",
     "output_type": "stream",
     "text": [
      "max_depth : 1 --> score r2 : eğitim:0.4667616961024311 test: 0.25433266573751867\n",
      "max_depth : 2 --> score r2 : eğitim:0.7549922510487476 test: 0.6368918834043723\n",
      "max_depth : 3 --> score r2 : eğitim:0.8228159104707832 test: 0.7282608625692067\n",
      "max_depth : 4 --> score r2 : eğitim:0.9047723980313602 test: 0.7883489918239008\n",
      "max_depth : 5 --> score r2 : eğitim:0.9422456110167567 test: 0.7917178142108134\n",
      "max_depth : 6 --> score r2 : eğitim:0.9601009715955152 test: 0.788844744780739\n",
      "max_depth : 7 --> score r2 : eğitim:0.9642976400580062 test: 0.8129916065221808\n",
      "max_depth : 8 --> score r2 : eğitim:0.9701878384335442 test: 0.7943475632325551\n",
      "max_depth : 9 --> score r2 : eğitim:0.9646855505761126 test: 0.8019111168709814\n",
      "max_depth : 10 --> score r2 : eğitim:0.9657864615982262 test: 0.8114214413551875\n",
      "max_depth : 11 --> score r2 : eğitim:0.9714537888180073 test: 0.795567073147932\n",
      "max_depth : 12 --> score r2 : eğitim:0.9693788892289616 test: 0.8047199193951756\n",
      "max_depth : 13 --> score r2 : eğitim:0.9697044038374123 test: 0.7889596479085976\n",
      "max_depth : 14 --> score r2 : eğitim:0.9676492382416726 test: 0.8096929280807112\n",
      "max_depth : 15 --> score r2 : eğitim:0.9677838728740564 test: 0.7998503515495285\n",
      "max_depth : 16 --> score r2 : eğitim:0.9670853545360943 test: 0.8019029613665399\n",
      "max_depth : 17 --> score r2 : eğitim:0.9638248996943115 test: 0.791473842749514\n",
      "max_depth : 18 --> score r2 : eğitim:0.9683488090060113 test: 0.773676291349715\n",
      "max_depth : 19 --> score r2 : eğitim:0.968589776158197 test: 0.7937698184466784\n"
     ]
    }
   ],
   "source": [
    "from sklearn.ensemble import RandomForestRegressor\n",
    "for i in range(1,20,1):\n",
    "    rand=RandomForestRegressor(max_depth=i)\n",
    "    rand.fit(XTrain,yTrain)\n",
    "    tahminRand=rand.predict(XTest)\n",
    "    print(f\"max_depth : {i} --> score r2 : eğitim:{r2_score(yTrain,rand.predict(XTrain))} test: {r2_score(yTest,tahminRand)}\")"
   ]
  },
  {
   "cell_type": "code",
   "execution_count": 24,
   "metadata": {},
   "outputs": [
    {
     "name": "stdout",
     "output_type": "stream",
     "text": [
      "max_depth : 1 --> score r2 : eğitim:0.40995936960595214 test: 0.10839939753952044\n",
      "max_depth : 2 --> score r2 : eğitim:0.7161743072843078 test: 0.5869665297024722\n",
      "max_depth : 3 --> score r2 : eğitim:0.7979486563097207 test: 0.7156091276570051\n",
      "max_depth : 4 --> score r2 : eğitim:0.9227405212573188 test: 0.7743012391980656\n",
      "max_depth : 5 --> score r2 : eğitim:0.9615683947868278 test: 0.6978154041373767\n",
      "max_depth : 6 --> score r2 : eğitim:0.9819624919458777 test: 0.6697500509501313\n",
      "max_depth : 7 --> score r2 : eğitim:0.9957473662605042 test: 0.7144371295088991\n",
      "max_depth : 8 --> score r2 : eğitim:0.9993942289096709 test: 0.6086545041792317\n",
      "max_depth : 9 --> score r2 : eğitim:0.999968379835217 test: 0.6987862732687746\n",
      "max_depth : 10 --> score r2 : eğitim:0.9999950732633835 test: 0.7636496462009961\n",
      "max_depth : 11 --> score r2 : eğitim:0.9999988259460474 test: 0.7683280449042552\n",
      "max_depth : 12 --> score r2 : eğitim:0.9999997015482193 test: 0.6783836453640149\n",
      "max_depth : 13 --> score r2 : eğitim:0.9999997705725178 test: 0.7003598949850423\n",
      "max_depth : 14 --> score r2 : eğitim:0.9999999997867377 test: 0.7480955460505884\n",
      "max_depth : 15 --> score r2 : eğitim:1.0 test: 0.6183381819226262\n",
      "max_depth : 16 --> score r2 : eğitim:1.0 test: 0.760893989816138\n",
      "max_depth : 17 --> score r2 : eğitim:1.0 test: 0.7591761305250528\n",
      "max_depth : 18 --> score r2 : eğitim:1.0 test: 0.6644288952164457\n",
      "max_depth : 19 --> score r2 : eğitim:1.0 test: 0.7221968198335815\n"
     ]
    }
   ],
   "source": [
    "from sklearn.tree import DecisionTreeRegressor\n",
    "for i in range(1,20,1):\n",
    "    DT=DecisionTreeRegressor(max_depth=i)\n",
    "    DT.fit(XTrain,yTrain)\n",
    "    tahminDT=DT.predict(XTest)\n",
    "    print(f\"max_depth : {i} --> score r2 : eğitim:{r2_score(yTrain,DT.predict(XTrain))} test: {r2_score(yTest,tahminDT)}\")"
   ]
  },
  {
   "cell_type": "code",
   "execution_count": 25,
   "metadata": {},
   "outputs": [
    {
     "name": "stdout",
     "output_type": "stream",
     "text": [
      "max_depth : 1 --> score r2 : eğitim:0.7036947591762954 test: 0.5374961809914345\n",
      "max_depth : 2 --> score r2 : eğitim:0.9242546264801479 test: 0.6916279663517855\n",
      "max_depth : 3 --> score r2 : eğitim:0.9808636251342951 test: 0.6986448577791425\n",
      "max_depth : 4 --> score r2 : eğitim:0.9975348493104046 test: 0.7693155979322648\n",
      "max_depth : 5 --> score r2 : eğitim:0.9997626834788024 test: 0.7606123894196818\n",
      "max_depth : 6 --> score r2 : eğitim:0.9999889534258114 test: 0.7838967170902658\n",
      "max_depth : 7 --> score r2 : eğitim:0.9999992485162029 test: 0.775571942672747\n",
      "max_depth : 8 --> score r2 : eğitim:0.9999999896551907 test: 0.7798898282405055\n",
      "max_depth : 9 --> score r2 : eğitim:0.9999999989966657 test: 0.7560471878713932\n"
     ]
    }
   ],
   "source": [
    "from sklearn.ensemble import GradientBoostingRegressor\n",
    "for i in range(1,10,1):\n",
    "    gbr=GradientBoostingRegressor(max_depth=i,loss='squared_error')\n",
    "    gbr.fit(XTrain,yTrain)\n",
    "    tahminGbr=gbr.predict(XTest)\n",
    "    print(f\"max_depth : {i} --> score r2 : eğitim:{r2_score(yTrain,gbr.predict(XTrain))} test: {r2_score(yTest,tahminGbr)}\")"
   ]
  },
  {
   "cell_type": "code",
   "execution_count": null,
   "metadata": {},
   "outputs": [],
   "source": []
  }
 ],
 "metadata": {
  "kernelspec": {
   "display_name": "Python 3",
   "language": "python",
   "name": "python3"
  },
  "language_info": {
   "codemirror_mode": {
    "name": "ipython",
    "version": 3
   },
   "file_extension": ".py",
   "mimetype": "text/x-python",
   "name": "python",
   "nbconvert_exporter": "python",
   "pygments_lexer": "ipython3",
   "version": "3.9.13"
  }
 },
 "nbformat": 4,
 "nbformat_minor": 2
}
