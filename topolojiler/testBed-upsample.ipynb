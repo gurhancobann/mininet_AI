{
 "cells": [
  {
   "cell_type": "code",
   "execution_count": 121,
   "metadata": {},
   "outputs": [],
   "source": [
    "import pandas as pd\n",
    "import numpy as num_paths\n",
    "import matplotlib.pyplot as psnrResault\n",
    "import seaborn as sns\n",
    "import warnings\n",
    "warnings.filterwarnings(\"ignore\")\n",
    "from matplotlib import pyplot as plt"
   ]
  },
  {
   "cell_type": "code",
   "execution_count": 122,
   "metadata": {},
   "outputs": [],
   "source": [
    "df=pd.read_csv(\"dataTest.csv\")"
   ]
  },
  {
   "cell_type": "code",
   "execution_count": 123,
   "metadata": {},
   "outputs": [
    {
     "data": {
      "text/html": [
       "<div>\n",
       "<style scoped>\n",
       "    .dataframe tbody tr th:only-of-type {\n",
       "        vertical-align: middle;\n",
       "    }\n",
       "\n",
       "    .dataframe tbody tr th {\n",
       "        vertical-align: top;\n",
       "    }\n",
       "\n",
       "    .dataframe thead th {\n",
       "        text-align: right;\n",
       "    }\n",
       "</style>\n",
       "<table border=\"1\" class=\"dataframe\">\n",
       "  <thead>\n",
       "    <tr style=\"text-align: right;\">\n",
       "      <th></th>\n",
       "      <th>host</th>\n",
       "      <th>avgRTT</th>\n",
       "      <th>packetLoss</th>\n",
       "      <th>latency</th>\n",
       "      <th>hopCount</th>\n",
       "      <th>bandwidth</th>\n",
       "      <th>yukOrani</th>\n",
       "      <th>psnr</th>\n",
       "      <th>ssim_first</th>\n",
       "      <th>ssim_second</th>\n",
       "      <th>type</th>\n",
       "      <th>server</th>\n",
       "    </tr>\n",
       "  </thead>\n",
       "  <tbody>\n",
       "    <tr>\n",
       "      <th>0</th>\n",
       "      <td>h1</td>\n",
       "      <td>1898.137</td>\n",
       "      <td>0.0</td>\n",
       "      <td>66</td>\n",
       "      <td>4</td>\n",
       "      <td>3000000</td>\n",
       "      <td>2011.425000</td>\n",
       "      <td>31.225948</td>\n",
       "      <td>0.985150</td>\n",
       "      <td>18.282783</td>\n",
       "      <td>3</td>\n",
       "      <td>h10</td>\n",
       "    </tr>\n",
       "    <tr>\n",
       "      <th>1</th>\n",
       "      <td>h2</td>\n",
       "      <td>2240.660</td>\n",
       "      <td>0.0</td>\n",
       "      <td>44</td>\n",
       "      <td>3</td>\n",
       "      <td>3000000</td>\n",
       "      <td>1859.161290</td>\n",
       "      <td>31.225948</td>\n",
       "      <td>0.985150</td>\n",
       "      <td>18.282674</td>\n",
       "      <td>3</td>\n",
       "      <td>h14</td>\n",
       "    </tr>\n",
       "    <tr>\n",
       "      <th>2</th>\n",
       "      <td>h3</td>\n",
       "      <td>2196.294</td>\n",
       "      <td>0.0</td>\n",
       "      <td>40</td>\n",
       "      <td>2</td>\n",
       "      <td>3000000</td>\n",
       "      <td>9084.620155</td>\n",
       "      <td>22.700112</td>\n",
       "      <td>0.956348</td>\n",
       "      <td>13.599976</td>\n",
       "      <td>3</td>\n",
       "      <td>h14</td>\n",
       "    </tr>\n",
       "    <tr>\n",
       "      <th>3</th>\n",
       "      <td>h4</td>\n",
       "      <td>1298.732</td>\n",
       "      <td>0.0</td>\n",
       "      <td>60</td>\n",
       "      <td>3</td>\n",
       "      <td>3000000</td>\n",
       "      <td>25815.963636</td>\n",
       "      <td>22.301604</td>\n",
       "      <td>0.960533</td>\n",
       "      <td>14.037636</td>\n",
       "      <td>3</td>\n",
       "      <td>h14</td>\n",
       "    </tr>\n",
       "    <tr>\n",
       "      <th>4</th>\n",
       "      <td>h5</td>\n",
       "      <td>338.105</td>\n",
       "      <td>0.0</td>\n",
       "      <td>92</td>\n",
       "      <td>4</td>\n",
       "      <td>3000000</td>\n",
       "      <td>37246.273632</td>\n",
       "      <td>22.510259</td>\n",
       "      <td>0.958593</td>\n",
       "      <td>13.829213</td>\n",
       "      <td>3</td>\n",
       "      <td>h10</td>\n",
       "    </tr>\n",
       "  </tbody>\n",
       "</table>\n",
       "</div>"
      ],
      "text/plain": [
       "  host    avgRTT  packetLoss  latency  hopCount  bandwidth      yukOrani  \\\n",
       "0   h1  1898.137         0.0       66         4    3000000   2011.425000   \n",
       "1   h2  2240.660         0.0       44         3    3000000   1859.161290   \n",
       "2   h3  2196.294         0.0       40         2    3000000   9084.620155   \n",
       "3   h4  1298.732         0.0       60         3    3000000  25815.963636   \n",
       "4   h5   338.105         0.0       92         4    3000000  37246.273632   \n",
       "\n",
       "        psnr  ssim_first  ssim_second  type server  \n",
       "0  31.225948    0.985150    18.282783     3    h10  \n",
       "1  31.225948    0.985150    18.282674     3    h14  \n",
       "2  22.700112    0.956348    13.599976     3    h14  \n",
       "3  22.301604    0.960533    14.037636     3    h14  \n",
       "4  22.510259    0.958593    13.829213     3    h10  "
      ]
     },
     "execution_count": 123,
     "metadata": {},
     "output_type": "execute_result"
    }
   ],
   "source": [
    "df.head()"
   ]
  },
  {
   "cell_type": "code",
   "execution_count": 124,
   "metadata": {},
   "outputs": [
    {
     "data": {
      "text/plain": [
       "5    177\n",
       "4     85\n",
       "2     62\n",
       "3     38\n",
       "Name: vMOSLabel, dtype: int64"
      ]
     },
     "execution_count": 124,
     "metadata": {},
     "output_type": "execute_result"
    }
   ],
   "source": [
    "df[\"vMOSLabel\"]=6\n",
    "for i in range(0,df.shape[0],1):\n",
    "    if(df.ssim_first[i]>=0.99):\n",
    "        df.vMOSLabel[i]=5\n",
    "    elif(df.ssim_first[i]>=0.95 and df.ssim_first[i]<0.99):\n",
    "        df.vMOSLabel[i]=4\n",
    "    elif(df.ssim_first[i]>=0.88 and df.ssim_first[i]<0.95):\n",
    "        df.vMOSLabel[i]=3\n",
    "    elif(df.ssim_first[i]>=0.5 and df.ssim_first[i]<0.88):\n",
    "        df.vMOSLabel[i]=2\n",
    "    elif(df.ssim_first[i]<0.5):\n",
    "        df.vMOSLabel[i]=1\n",
    "\n",
    "df[\"vMOSLabel\"].value_counts()"
   ]
  },
  {
   "cell_type": "code",
   "execution_count": 125,
   "metadata": {},
   "outputs": [
    {
     "data": {
      "text/html": [
       "<div>\n",
       "<style scoped>\n",
       "    .dataframe tbody tr th:only-of-type {\n",
       "        vertical-align: middle;\n",
       "    }\n",
       "\n",
       "    .dataframe tbody tr th {\n",
       "        vertical-align: top;\n",
       "    }\n",
       "\n",
       "    .dataframe thead th {\n",
       "        text-align: right;\n",
       "    }\n",
       "</style>\n",
       "<table border=\"1\" class=\"dataframe\">\n",
       "  <thead>\n",
       "    <tr style=\"text-align: right;\">\n",
       "      <th></th>\n",
       "      <th>count</th>\n",
       "      <th>mean</th>\n",
       "      <th>std</th>\n",
       "      <th>min</th>\n",
       "      <th>25%</th>\n",
       "      <th>50%</th>\n",
       "      <th>75%</th>\n",
       "      <th>max</th>\n",
       "    </tr>\n",
       "  </thead>\n",
       "  <tbody>\n",
       "    <tr>\n",
       "      <th>avgRTT</th>\n",
       "      <td>360.0</td>\n",
       "      <td>1.029936e+03</td>\n",
       "      <td>1.046241e+03</td>\n",
       "      <td>1.529400e+02</td>\n",
       "      <td>3.096350e+02</td>\n",
       "      <td>4.235220e+02</td>\n",
       "      <td>1.859842e+03</td>\n",
       "      <td>4.744949e+03</td>\n",
       "    </tr>\n",
       "    <tr>\n",
       "      <th>packetLoss</th>\n",
       "      <td>360.0</td>\n",
       "      <td>0.000000e+00</td>\n",
       "      <td>0.000000e+00</td>\n",
       "      <td>0.000000e+00</td>\n",
       "      <td>0.000000e+00</td>\n",
       "      <td>0.000000e+00</td>\n",
       "      <td>0.000000e+00</td>\n",
       "      <td>0.000000e+00</td>\n",
       "    </tr>\n",
       "    <tr>\n",
       "      <th>latency</th>\n",
       "      <td>360.0</td>\n",
       "      <td>7.866389e+01</td>\n",
       "      <td>6.671225e+01</td>\n",
       "      <td>1.300000e+01</td>\n",
       "      <td>5.275000e+01</td>\n",
       "      <td>7.450000e+01</td>\n",
       "      <td>9.125000e+01</td>\n",
       "      <td>1.035000e+03</td>\n",
       "    </tr>\n",
       "    <tr>\n",
       "      <th>hopCount</th>\n",
       "      <td>360.0</td>\n",
       "      <td>3.108333e+00</td>\n",
       "      <td>1.051296e+00</td>\n",
       "      <td>1.000000e+00</td>\n",
       "      <td>3.000000e+00</td>\n",
       "      <td>3.000000e+00</td>\n",
       "      <td>4.000000e+00</td>\n",
       "      <td>8.000000e+00</td>\n",
       "    </tr>\n",
       "    <tr>\n",
       "      <th>bandwidth</th>\n",
       "      <td>360.0</td>\n",
       "      <td>5.319444e+06</td>\n",
       "      <td>2.637983e+06</td>\n",
       "      <td>3.000000e+06</td>\n",
       "      <td>3.000000e+06</td>\n",
       "      <td>5.000000e+06</td>\n",
       "      <td>5.000000e+06</td>\n",
       "      <td>1.000000e+07</td>\n",
       "    </tr>\n",
       "    <tr>\n",
       "      <th>yukOrani</th>\n",
       "      <td>360.0</td>\n",
       "      <td>3.063770e+04</td>\n",
       "      <td>2.560854e+04</td>\n",
       "      <td>4.751573e+02</td>\n",
       "      <td>9.132790e+03</td>\n",
       "      <td>2.588607e+04</td>\n",
       "      <td>4.449114e+04</td>\n",
       "      <td>1.770201e+05</td>\n",
       "    </tr>\n",
       "    <tr>\n",
       "      <th>psnr</th>\n",
       "      <td>360.0</td>\n",
       "      <td>3.678594e+01</td>\n",
       "      <td>1.646139e+01</td>\n",
       "      <td>1.267172e+01</td>\n",
       "      <td>2.194262e+01</td>\n",
       "      <td>3.122953e+01</td>\n",
       "      <td>5.505260e+01</td>\n",
       "      <td>5.506194e+01</td>\n",
       "    </tr>\n",
       "    <tr>\n",
       "      <th>ssim_first</th>\n",
       "      <td>360.0</td>\n",
       "      <td>9.290974e-01</td>\n",
       "      <td>1.225030e-01</td>\n",
       "      <td>5.138590e-01</td>\n",
       "      <td>9.421713e-01</td>\n",
       "      <td>9.852710e-01</td>\n",
       "      <td>9.997650e-01</td>\n",
       "      <td>9.997650e-01</td>\n",
       "    </tr>\n",
       "    <tr>\n",
       "      <th>ssim_second</th>\n",
       "      <td>360.0</td>\n",
       "      <td>2.243359e+01</td>\n",
       "      <td>1.249835e+01</td>\n",
       "      <td>3.132379e+00</td>\n",
       "      <td>1.237905e+01</td>\n",
       "      <td>1.831822e+01</td>\n",
       "      <td>3.628266e+01</td>\n",
       "      <td>3.628266e+01</td>\n",
       "    </tr>\n",
       "    <tr>\n",
       "      <th>type</th>\n",
       "      <td>360.0</td>\n",
       "      <td>3.000000e+00</td>\n",
       "      <td>0.000000e+00</td>\n",
       "      <td>3.000000e+00</td>\n",
       "      <td>3.000000e+00</td>\n",
       "      <td>3.000000e+00</td>\n",
       "      <td>3.000000e+00</td>\n",
       "      <td>3.000000e+00</td>\n",
       "    </tr>\n",
       "    <tr>\n",
       "      <th>vMOSLabel</th>\n",
       "      <td>360.0</td>\n",
       "      <td>4.036111e+00</td>\n",
       "      <td>1.132614e+00</td>\n",
       "      <td>2.000000e+00</td>\n",
       "      <td>3.000000e+00</td>\n",
       "      <td>4.000000e+00</td>\n",
       "      <td>5.000000e+00</td>\n",
       "      <td>5.000000e+00</td>\n",
       "    </tr>\n",
       "  </tbody>\n",
       "</table>\n",
       "</div>"
      ],
      "text/plain": [
       "             count          mean           std           min           25%  \\\n",
       "avgRTT       360.0  1.029936e+03  1.046241e+03  1.529400e+02  3.096350e+02   \n",
       "packetLoss   360.0  0.000000e+00  0.000000e+00  0.000000e+00  0.000000e+00   \n",
       "latency      360.0  7.866389e+01  6.671225e+01  1.300000e+01  5.275000e+01   \n",
       "hopCount     360.0  3.108333e+00  1.051296e+00  1.000000e+00  3.000000e+00   \n",
       "bandwidth    360.0  5.319444e+06  2.637983e+06  3.000000e+06  3.000000e+06   \n",
       "yukOrani     360.0  3.063770e+04  2.560854e+04  4.751573e+02  9.132790e+03   \n",
       "psnr         360.0  3.678594e+01  1.646139e+01  1.267172e+01  2.194262e+01   \n",
       "ssim_first   360.0  9.290974e-01  1.225030e-01  5.138590e-01  9.421713e-01   \n",
       "ssim_second  360.0  2.243359e+01  1.249835e+01  3.132379e+00  1.237905e+01   \n",
       "type         360.0  3.000000e+00  0.000000e+00  3.000000e+00  3.000000e+00   \n",
       "vMOSLabel    360.0  4.036111e+00  1.132614e+00  2.000000e+00  3.000000e+00   \n",
       "\n",
       "                      50%           75%           max  \n",
       "avgRTT       4.235220e+02  1.859842e+03  4.744949e+03  \n",
       "packetLoss   0.000000e+00  0.000000e+00  0.000000e+00  \n",
       "latency      7.450000e+01  9.125000e+01  1.035000e+03  \n",
       "hopCount     3.000000e+00  4.000000e+00  8.000000e+00  \n",
       "bandwidth    5.000000e+06  5.000000e+06  1.000000e+07  \n",
       "yukOrani     2.588607e+04  4.449114e+04  1.770201e+05  \n",
       "psnr         3.122953e+01  5.505260e+01  5.506194e+01  \n",
       "ssim_first   9.852710e-01  9.997650e-01  9.997650e-01  \n",
       "ssim_second  1.831822e+01  3.628266e+01  3.628266e+01  \n",
       "type         3.000000e+00  3.000000e+00  3.000000e+00  \n",
       "vMOSLabel    4.000000e+00  5.000000e+00  5.000000e+00  "
      ]
     },
     "execution_count": 125,
     "metadata": {},
     "output_type": "execute_result"
    }
   ],
   "source": [
    "df.dropna(inplace=True)\n",
    "df.describe().T"
   ]
  },
  {
   "cell_type": "code",
   "execution_count": 126,
   "metadata": {},
   "outputs": [
    {
     "data": {
      "image/png": "[encoded data removed]",
      "text/plain": [
       "<Figure size 2000x2000 with 1 Axes>"
      ]
     },
     "metadata": {},
     "output_type": "display_data"
    },
    {
     "data": {
      "image/png": "[encoded data removed]",
      "text/plain": [
       "<Figure size 2000x2000 with 1 Axes>"
      ]
     },
     "metadata": {},
     "output_type": "display_data"
    },
    {
     "data": {
      "image/png": "[encoded data removed]",
      "text/plain": [
       "<Figure size 2000x2000 with 1 Axes>"
      ]
     },
     "metadata": {},
     "output_type": "display_data"
    },
    {
     "data": {
      "image/png": "[encoded data removed]",
      "text/plain": [
       "<Figure size 2000x2000 with 1 Axes>"
      ]
     },
     "metadata": {},
     "output_type": "display_data"
    },
    {
     "data": {
      "image/png": "[encoded data removed]",
      "text/plain": [
       "<Figure size 2000x2000 with 1 Axes>"
      ]
     },
     "metadata": {},
     "output_type": "display_data"
    },
    {
     "data": {
      "image/png": "[encoded data removed]",
      "text/plain": [
       "<Figure size 2000x2000 with 1 Axes>"
      ]
     },
     "metadata": {},
     "output_type": "display_data"
    }
   ],
   "source": [
    "sayisal_veriler=[\"avgRTT\",\"packetLoss\",\"latency\",\"hopCount\",\"bandwidth\",\"yukOrani\"]\n",
    "for i,deger in enumerate(sayisal_veriler):\n",
    "    plt.figure(figsize=(20,20))\n",
    "    ax=plt.subplot(4,3,i+1)\n",
    "    sns.scatterplot(x=deger,y=\"psnr\",data=df)\n",
    "    plt.show()"
   ]
  },
  {
   "cell_type": "code",
   "execution_count": 127,
   "metadata": {},
   "outputs": [],
   "source": [
    "# sns.displot(df)"
   ]
  },
  {
   "cell_type": "code",
   "execution_count": 128,
   "metadata": {},
   "outputs": [],
   "source": [
    "y=df[\"vMOSLabel\"]\n",
    "x=df.drop([\"host\",\"ssim_second\",\"type\",\"psnr\",\"server\",\"packetLoss\",\"vMOSLabel\"],axis=\"columns\")\n"
   ]
  },
  {
   "cell_type": "code",
   "execution_count": 129,
   "metadata": {},
   "outputs": [
    {
     "data": {
      "image/png": "[encoded data removed]",
      "text/plain": [
       "<Figure size 800x550 with 2 Axes>"
      ]
     },
     "metadata": {},
     "output_type": "display_data"
    },
    {
     "data": {
      "text/plain": [
       "<AxesSubplot:title={'center':'Pearson Ranking of 6 Features'}>"
      ]
     },
     "execution_count": 129,
     "metadata": {},
     "output_type": "execute_result"
    }
   ],
   "source": [
    "from yellowbrick.features import Rank2D\n",
    "visualizer=Rank2D(algorithm=\"pearson\")\n",
    "visualizer.fit(x,y)\n",
    "visualizer.transform(x)\n",
    "visualizer.show()"
   ]
  },
  {
   "cell_type": "code",
   "execution_count": 130,
   "metadata": {},
   "outputs": [
    {
     "data": {
      "text/html": [
       "<div>\n",
       "<style scoped>\n",
       "    .dataframe tbody tr th:only-of-type {\n",
       "        vertical-align: middle;\n",
       "    }\n",
       "\n",
       "    .dataframe tbody tr th {\n",
       "        vertical-align: top;\n",
       "    }\n",
       "\n",
       "    .dataframe thead th {\n",
       "        text-align: right;\n",
       "    }\n",
       "</style>\n",
       "<table border=\"1\" class=\"dataframe\">\n",
       "  <thead>\n",
       "    <tr style=\"text-align: right;\">\n",
       "      <th></th>\n",
       "      <th>count</th>\n",
       "      <th>mean</th>\n",
       "      <th>std</th>\n",
       "      <th>min</th>\n",
       "      <th>25%</th>\n",
       "      <th>50%</th>\n",
       "      <th>75%</th>\n",
       "      <th>max</th>\n",
       "    </tr>\n",
       "  </thead>\n",
       "  <tbody>\n",
       "    <tr>\n",
       "      <th>avgRTT</th>\n",
       "      <td>360.0</td>\n",
       "      <td>1.029936e+03</td>\n",
       "      <td>1.046241e+03</td>\n",
       "      <td>1.529400e+02</td>\n",
       "      <td>3.096350e+02</td>\n",
       "      <td>4.235220e+02</td>\n",
       "      <td>1.859842e+03</td>\n",
       "      <td>4.744949e+03</td>\n",
       "    </tr>\n",
       "    <tr>\n",
       "      <th>latency</th>\n",
       "      <td>360.0</td>\n",
       "      <td>7.866389e+01</td>\n",
       "      <td>6.671225e+01</td>\n",
       "      <td>1.300000e+01</td>\n",
       "      <td>5.275000e+01</td>\n",
       "      <td>7.450000e+01</td>\n",
       "      <td>9.125000e+01</td>\n",
       "      <td>1.035000e+03</td>\n",
       "    </tr>\n",
       "    <tr>\n",
       "      <th>hopCount</th>\n",
       "      <td>360.0</td>\n",
       "      <td>3.108333e+00</td>\n",
       "      <td>1.051296e+00</td>\n",
       "      <td>1.000000e+00</td>\n",
       "      <td>3.000000e+00</td>\n",
       "      <td>3.000000e+00</td>\n",
       "      <td>4.000000e+00</td>\n",
       "      <td>8.000000e+00</td>\n",
       "    </tr>\n",
       "    <tr>\n",
       "      <th>bandwidth</th>\n",
       "      <td>360.0</td>\n",
       "      <td>5.319444e+06</td>\n",
       "      <td>2.637983e+06</td>\n",
       "      <td>3.000000e+06</td>\n",
       "      <td>3.000000e+06</td>\n",
       "      <td>5.000000e+06</td>\n",
       "      <td>5.000000e+06</td>\n",
       "      <td>1.000000e+07</td>\n",
       "    </tr>\n",
       "    <tr>\n",
       "      <th>yukOrani</th>\n",
       "      <td>360.0</td>\n",
       "      <td>3.063770e+04</td>\n",
       "      <td>2.560854e+04</td>\n",
       "      <td>4.751573e+02</td>\n",
       "      <td>9.132790e+03</td>\n",
       "      <td>2.588607e+04</td>\n",
       "      <td>4.449114e+04</td>\n",
       "      <td>1.770201e+05</td>\n",
       "    </tr>\n",
       "    <tr>\n",
       "      <th>ssim_first</th>\n",
       "      <td>360.0</td>\n",
       "      <td>9.290974e-01</td>\n",
       "      <td>1.225030e-01</td>\n",
       "      <td>5.138590e-01</td>\n",
       "      <td>9.421713e-01</td>\n",
       "      <td>9.852710e-01</td>\n",
       "      <td>9.997650e-01</td>\n",
       "      <td>9.997650e-01</td>\n",
       "    </tr>\n",
       "  </tbody>\n",
       "</table>\n",
       "</div>"
      ],
      "text/plain": [
       "            count          mean           std           min           25%  \\\n",
       "avgRTT      360.0  1.029936e+03  1.046241e+03  1.529400e+02  3.096350e+02   \n",
       "latency     360.0  7.866389e+01  6.671225e+01  1.300000e+01  5.275000e+01   \n",
       "hopCount    360.0  3.108333e+00  1.051296e+00  1.000000e+00  3.000000e+00   \n",
       "bandwidth   360.0  5.319444e+06  2.637983e+06  3.000000e+06  3.000000e+06   \n",
       "yukOrani    360.0  3.063770e+04  2.560854e+04  4.751573e+02  9.132790e+03   \n",
       "ssim_first  360.0  9.290974e-01  1.225030e-01  5.138590e-01  9.421713e-01   \n",
       "\n",
       "                     50%           75%           max  \n",
       "avgRTT      4.235220e+02  1.859842e+03  4.744949e+03  \n",
       "latency     7.450000e+01  9.125000e+01  1.035000e+03  \n",
       "hopCount    3.000000e+00  4.000000e+00  8.000000e+00  \n",
       "bandwidth   5.000000e+06  5.000000e+06  1.000000e+07  \n",
       "yukOrani    2.588607e+04  4.449114e+04  1.770201e+05  \n",
       "ssim_first  9.852710e-01  9.997650e-01  9.997650e-01  "
      ]
     },
     "execution_count": 130,
     "metadata": {},
     "output_type": "execute_result"
    }
   ],
   "source": [
    "x.describe().T"
   ]
  },
  {
   "cell_type": "code",
   "execution_count": 131,
   "metadata": {},
   "outputs": [],
   "source": [
    "from sklearn.model_selection import train_test_split\n",
    "XTrain,XTest,yTrain,yTest=train_test_split(x,y,test_size=0.5, random_state=42)"
   ]
  },
  {
   "cell_type": "code",
   "execution_count": 132,
   "metadata": {},
   "outputs": [
    {
     "data": {
      "text/plain": [
       "2    59\n",
       "4    48\n",
       "5    43\n",
       "3    41\n",
       "Name: vMOSLabel, dtype: int64"
      ]
     },
     "execution_count": 132,
     "metadata": {},
     "output_type": "execute_result"
    }
   ],
   "source": [
    "from imblearn.combine import SMOTEENN\n",
    "sme=SMOTEENN(random_state=42)\n",
    "#X_res,y_res=sme.fit_resample(X,y)\n",
    "XUpSample, yUpsample=sme.fit_resample(XTrain,yTrain)\n",
    "yUpsample.value_counts()"
   ]
  },
  {
   "cell_type": "code",
   "execution_count": 133,
   "metadata": {},
   "outputs": [
    {
     "data": {
      "text/html": [
       "<div>\n",
       "<style scoped>\n",
       "    .dataframe tbody tr th:only-of-type {\n",
       "        vertical-align: middle;\n",
       "    }\n",
       "\n",
       "    .dataframe tbody tr th {\n",
       "        vertical-align: top;\n",
       "    }\n",
       "\n",
       "    .dataframe thead th {\n",
       "        text-align: right;\n",
       "    }\n",
       "</style>\n",
       "<table border=\"1\" class=\"dataframe\">\n",
       "  <thead>\n",
       "    <tr style=\"text-align: right;\">\n",
       "      <th></th>\n",
       "      <th>count</th>\n",
       "      <th>mean</th>\n",
       "      <th>std</th>\n",
       "      <th>min</th>\n",
       "      <th>25%</th>\n",
       "      <th>50%</th>\n",
       "      <th>75%</th>\n",
       "      <th>max</th>\n",
       "    </tr>\n",
       "  </thead>\n",
       "  <tbody>\n",
       "    <tr>\n",
       "      <th>avgRTT</th>\n",
       "      <td>191.0</td>\n",
       "      <td>1.674607e+03</td>\n",
       "      <td>1.187377e+03</td>\n",
       "      <td>1.547300e+02</td>\n",
       "      <td>4.015979e+02</td>\n",
       "      <td>1.784639e+03</td>\n",
       "      <td>2.418850e+03</td>\n",
       "      <td>4.744949e+03</td>\n",
       "    </tr>\n",
       "    <tr>\n",
       "      <th>latency</th>\n",
       "      <td>191.0</td>\n",
       "      <td>8.157068e+01</td>\n",
       "      <td>8.299502e+01</td>\n",
       "      <td>1.700000e+01</td>\n",
       "      <td>6.100000e+01</td>\n",
       "      <td>7.200000e+01</td>\n",
       "      <td>8.800000e+01</td>\n",
       "      <td>1.035000e+03</td>\n",
       "    </tr>\n",
       "    <tr>\n",
       "      <th>hopCount</th>\n",
       "      <td>191.0</td>\n",
       "      <td>2.827225e+00</td>\n",
       "      <td>9.439515e-01</td>\n",
       "      <td>1.000000e+00</td>\n",
       "      <td>2.000000e+00</td>\n",
       "      <td>3.000000e+00</td>\n",
       "      <td>3.000000e+00</td>\n",
       "      <td>5.000000e+00</td>\n",
       "    </tr>\n",
       "    <tr>\n",
       "      <th>bandwidth</th>\n",
       "      <td>191.0</td>\n",
       "      <td>4.618467e+06</td>\n",
       "      <td>2.515954e+06</td>\n",
       "      <td>3.000000e+06</td>\n",
       "      <td>3.000000e+06</td>\n",
       "      <td>3.000000e+06</td>\n",
       "      <td>5.000000e+06</td>\n",
       "      <td>1.000000e+07</td>\n",
       "    </tr>\n",
       "    <tr>\n",
       "      <th>yukOrani</th>\n",
       "      <td>191.0</td>\n",
       "      <td>3.785968e+04</td>\n",
       "      <td>2.717447e+04</td>\n",
       "      <td>4.751573e+02</td>\n",
       "      <td>9.670701e+03</td>\n",
       "      <td>4.275350e+04</td>\n",
       "      <td>5.561589e+04</td>\n",
       "      <td>1.046566e+05</td>\n",
       "    </tr>\n",
       "    <tr>\n",
       "      <th>ssim_first</th>\n",
       "      <td>191.0</td>\n",
       "      <td>8.583385e-01</td>\n",
       "      <td>1.633348e-01</td>\n",
       "      <td>5.238390e-01</td>\n",
       "      <td>6.715943e-01</td>\n",
       "      <td>9.479190e-01</td>\n",
       "      <td>9.850224e-01</td>\n",
       "      <td>9.997650e-01</td>\n",
       "    </tr>\n",
       "  </tbody>\n",
       "</table>\n",
       "</div>"
      ],
      "text/plain": [
       "            count          mean           std           min           25%  \\\n",
       "avgRTT      191.0  1.674607e+03  1.187377e+03  1.547300e+02  4.015979e+02   \n",
       "latency     191.0  8.157068e+01  8.299502e+01  1.700000e+01  6.100000e+01   \n",
       "hopCount    191.0  2.827225e+00  9.439515e-01  1.000000e+00  2.000000e+00   \n",
       "bandwidth   191.0  4.618467e+06  2.515954e+06  3.000000e+06  3.000000e+06   \n",
       "yukOrani    191.0  3.785968e+04  2.717447e+04  4.751573e+02  9.670701e+03   \n",
       "ssim_first  191.0  8.583385e-01  1.633348e-01  5.238390e-01  6.715943e-01   \n",
       "\n",
       "                     50%           75%           max  \n",
       "avgRTT      1.784639e+03  2.418850e+03  4.744949e+03  \n",
       "latency     7.200000e+01  8.800000e+01  1.035000e+03  \n",
       "hopCount    3.000000e+00  3.000000e+00  5.000000e+00  \n",
       "bandwidth   3.000000e+06  5.000000e+06  1.000000e+07  \n",
       "yukOrani    4.275350e+04  5.561589e+04  1.046566e+05  \n",
       "ssim_first  9.479190e-01  9.850224e-01  9.997650e-01  "
      ]
     },
     "execution_count": 133,
     "metadata": {},
     "output_type": "execute_result"
    }
   ],
   "source": [
    "XUpSample.describe().T"
   ]
  },
  {
   "cell_type": "code",
   "execution_count": 134,
   "metadata": {},
   "outputs": [],
   "source": [
    "XTrain=XUpSample.drop(\"ssim_first\",axis=1)"
   ]
  },
  {
   "cell_type": "code",
   "execution_count": 135,
   "metadata": {},
   "outputs": [],
   "source": [
    "yTrain=yUpsample"
   ]
  },
  {
   "cell_type": "code",
   "execution_count": 136,
   "metadata": {},
   "outputs": [
    {
     "data": {
      "text/html": [
       "<div>\n",
       "<style scoped>\n",
       "    .dataframe tbody tr th:only-of-type {\n",
       "        vertical-align: middle;\n",
       "    }\n",
       "\n",
       "    .dataframe tbody tr th {\n",
       "        vertical-align: top;\n",
       "    }\n",
       "\n",
       "    .dataframe thead th {\n",
       "        text-align: right;\n",
       "    }\n",
       "</style>\n",
       "<table border=\"1\" class=\"dataframe\">\n",
       "  <thead>\n",
       "    <tr style=\"text-align: right;\">\n",
       "      <th></th>\n",
       "      <th>avgRTT</th>\n",
       "      <th>latency</th>\n",
       "      <th>hopCount</th>\n",
       "      <th>bandwidth</th>\n",
       "      <th>yukOrani</th>\n",
       "      <th>ssim_first</th>\n",
       "    </tr>\n",
       "  </thead>\n",
       "  <tbody>\n",
       "    <tr>\n",
       "      <th>225</th>\n",
       "      <td>2395.146</td>\n",
       "      <td>95</td>\n",
       "      <td>4</td>\n",
       "      <td>3000000</td>\n",
       "      <td>39415.688442</td>\n",
       "      <td>0.784194</td>\n",
       "    </tr>\n",
       "    <tr>\n",
       "      <th>42</th>\n",
       "      <td>2061.652</td>\n",
       "      <td>75</td>\n",
       "      <td>3</td>\n",
       "      <td>3000000</td>\n",
       "      <td>34135.407407</td>\n",
       "      <td>0.769184</td>\n",
       "    </tr>\n",
       "    <tr>\n",
       "      <th>286</th>\n",
       "      <td>344.608</td>\n",
       "      <td>50</td>\n",
       "      <td>2</td>\n",
       "      <td>10000000</td>\n",
       "      <td>53430.495000</td>\n",
       "      <td>0.999765</td>\n",
       "    </tr>\n",
       "    <tr>\n",
       "      <th>303</th>\n",
       "      <td>304.346</td>\n",
       "      <td>105</td>\n",
       "      <td>4</td>\n",
       "      <td>10000000</td>\n",
       "      <td>44261.542857</td>\n",
       "      <td>0.999764</td>\n",
       "    </tr>\n",
       "    <tr>\n",
       "      <th>56</th>\n",
       "      <td>439.621</td>\n",
       "      <td>79</td>\n",
       "      <td>3</td>\n",
       "      <td>3000000</td>\n",
       "      <td>28239.216867</td>\n",
       "      <td>0.729143</td>\n",
       "    </tr>\n",
       "    <tr>\n",
       "      <th>...</th>\n",
       "      <td>...</td>\n",
       "      <td>...</td>\n",
       "      <td>...</td>\n",
       "      <td>...</td>\n",
       "      <td>...</td>\n",
       "      <td>...</td>\n",
       "    </tr>\n",
       "    <tr>\n",
       "      <th>254</th>\n",
       "      <td>2779.021</td>\n",
       "      <td>115</td>\n",
       "      <td>5</td>\n",
       "      <td>3000000</td>\n",
       "      <td>7678.291667</td>\n",
       "      <td>0.983920</td>\n",
       "    </tr>\n",
       "    <tr>\n",
       "      <th>130</th>\n",
       "      <td>742.619</td>\n",
       "      <td>48</td>\n",
       "      <td>2</td>\n",
       "      <td>5000000</td>\n",
       "      <td>44833.406699</td>\n",
       "      <td>0.982197</td>\n",
       "    </tr>\n",
       "    <tr>\n",
       "      <th>38</th>\n",
       "      <td>3806.569</td>\n",
       "      <td>30</td>\n",
       "      <td>3</td>\n",
       "      <td>3000000</td>\n",
       "      <td>604.585106</td>\n",
       "      <td>0.931159</td>\n",
       "    </tr>\n",
       "    <tr>\n",
       "      <th>11</th>\n",
       "      <td>312.704</td>\n",
       "      <td>45</td>\n",
       "      <td>4</td>\n",
       "      <td>3000000</td>\n",
       "      <td>46571.702929</td>\n",
       "      <td>0.955942</td>\n",
       "    </tr>\n",
       "    <tr>\n",
       "      <th>235</th>\n",
       "      <td>422.574</td>\n",
       "      <td>212</td>\n",
       "      <td>4</td>\n",
       "      <td>3000000</td>\n",
       "      <td>57989.747253</td>\n",
       "      <td>0.653499</td>\n",
       "    </tr>\n",
       "  </tbody>\n",
       "</table>\n",
       "<p>180 rows × 6 columns</p>\n",
       "</div>"
      ],
      "text/plain": [
       "       avgRTT  latency  hopCount  bandwidth      yukOrani  ssim_first\n",
       "225  2395.146       95         4    3000000  39415.688442    0.784194\n",
       "42   2061.652       75         3    3000000  34135.407407    0.769184\n",
       "286   344.608       50         2   10000000  53430.495000    0.999765\n",
       "303   304.346      105         4   10000000  44261.542857    0.999764\n",
       "56    439.621       79         3    3000000  28239.216867    0.729143\n",
       "..        ...      ...       ...        ...           ...         ...\n",
       "254  2779.021      115         5    3000000   7678.291667    0.983920\n",
       "130   742.619       48         2    5000000  44833.406699    0.982197\n",
       "38   3806.569       30         3    3000000    604.585106    0.931159\n",
       "11    312.704       45         4    3000000  46571.702929    0.955942\n",
       "235   422.574      212         4    3000000  57989.747253    0.653499\n",
       "\n",
       "[180 rows x 6 columns]"
      ]
     },
     "execution_count": 136,
     "metadata": {},
     "output_type": "execute_result"
    }
   ],
   "source": [
    "XTest"
   ]
  },
  {
   "cell_type": "code",
   "execution_count": 137,
   "metadata": {},
   "outputs": [],
   "source": [
    "XTest=XTest.drop(\"ssim_first\",axis=1)\n"
   ]
  },
  {
   "cell_type": "code",
   "execution_count": 138,
   "metadata": {},
   "outputs": [
    {
     "data": {
      "text/plain": [
       "5    92\n",
       "4    41\n",
       "2    28\n",
       "3    19\n",
       "Name: vMOSLabel, dtype: int64"
      ]
     },
     "execution_count": 138,
     "metadata": {},
     "output_type": "execute_result"
    }
   ],
   "source": [
    "yTest.value_counts()"
   ]
  },
  {
   "cell_type": "code",
   "execution_count": 139,
   "metadata": {},
   "outputs": [
    {
     "data": {
      "text/html": [
       "<div>\n",
       "<style scoped>\n",
       "    .dataframe tbody tr th:only-of-type {\n",
       "        vertical-align: middle;\n",
       "    }\n",
       "\n",
       "    .dataframe tbody tr th {\n",
       "        vertical-align: top;\n",
       "    }\n",
       "\n",
       "    .dataframe thead th {\n",
       "        text-align: right;\n",
       "    }\n",
       "</style>\n",
       "<table border=\"1\" class=\"dataframe\">\n",
       "  <thead>\n",
       "    <tr style=\"text-align: right;\">\n",
       "      <th></th>\n",
       "      <th>count</th>\n",
       "      <th>mean</th>\n",
       "      <th>std</th>\n",
       "      <th>min</th>\n",
       "      <th>25%</th>\n",
       "      <th>50%</th>\n",
       "      <th>75%</th>\n",
       "      <th>max</th>\n",
       "    </tr>\n",
       "  </thead>\n",
       "  <tbody>\n",
       "    <tr>\n",
       "      <th>avgRTT</th>\n",
       "      <td>191.0</td>\n",
       "      <td>1.674607e+03</td>\n",
       "      <td>1.187377e+03</td>\n",
       "      <td>1.547300e+02</td>\n",
       "      <td>4.015979e+02</td>\n",
       "      <td>1.784639e+03</td>\n",
       "      <td>2.418850e+03</td>\n",
       "      <td>4.744949e+03</td>\n",
       "    </tr>\n",
       "    <tr>\n",
       "      <th>latency</th>\n",
       "      <td>191.0</td>\n",
       "      <td>8.157068e+01</td>\n",
       "      <td>8.299502e+01</td>\n",
       "      <td>1.700000e+01</td>\n",
       "      <td>6.100000e+01</td>\n",
       "      <td>7.200000e+01</td>\n",
       "      <td>8.800000e+01</td>\n",
       "      <td>1.035000e+03</td>\n",
       "    </tr>\n",
       "    <tr>\n",
       "      <th>hopCount</th>\n",
       "      <td>191.0</td>\n",
       "      <td>2.827225e+00</td>\n",
       "      <td>9.439515e-01</td>\n",
       "      <td>1.000000e+00</td>\n",
       "      <td>2.000000e+00</td>\n",
       "      <td>3.000000e+00</td>\n",
       "      <td>3.000000e+00</td>\n",
       "      <td>5.000000e+00</td>\n",
       "    </tr>\n",
       "    <tr>\n",
       "      <th>bandwidth</th>\n",
       "      <td>191.0</td>\n",
       "      <td>4.618467e+06</td>\n",
       "      <td>2.515954e+06</td>\n",
       "      <td>3.000000e+06</td>\n",
       "      <td>3.000000e+06</td>\n",
       "      <td>3.000000e+06</td>\n",
       "      <td>5.000000e+06</td>\n",
       "      <td>1.000000e+07</td>\n",
       "    </tr>\n",
       "    <tr>\n",
       "      <th>yukOrani</th>\n",
       "      <td>191.0</td>\n",
       "      <td>3.785968e+04</td>\n",
       "      <td>2.717447e+04</td>\n",
       "      <td>4.751573e+02</td>\n",
       "      <td>9.670701e+03</td>\n",
       "      <td>4.275350e+04</td>\n",
       "      <td>5.561589e+04</td>\n",
       "      <td>1.046566e+05</td>\n",
       "    </tr>\n",
       "  </tbody>\n",
       "</table>\n",
       "</div>"
      ],
      "text/plain": [
       "           count          mean           std           min           25%  \\\n",
       "avgRTT     191.0  1.674607e+03  1.187377e+03  1.547300e+02  4.015979e+02   \n",
       "latency    191.0  8.157068e+01  8.299502e+01  1.700000e+01  6.100000e+01   \n",
       "hopCount   191.0  2.827225e+00  9.439515e-01  1.000000e+00  2.000000e+00   \n",
       "bandwidth  191.0  4.618467e+06  2.515954e+06  3.000000e+06  3.000000e+06   \n",
       "yukOrani   191.0  3.785968e+04  2.717447e+04  4.751573e+02  9.670701e+03   \n",
       "\n",
       "                    50%           75%           max  \n",
       "avgRTT     1.784639e+03  2.418850e+03  4.744949e+03  \n",
       "latency    7.200000e+01  8.800000e+01  1.035000e+03  \n",
       "hopCount   3.000000e+00  3.000000e+00  5.000000e+00  \n",
       "bandwidth  3.000000e+06  5.000000e+06  1.000000e+07  \n",
       "yukOrani   4.275350e+04  5.561589e+04  1.046566e+05  "
      ]
     },
     "execution_count": 139,
     "metadata": {},
     "output_type": "execute_result"
    }
   ],
   "source": [
    "XTrain.describe().T"
   ]
  },
  {
   "cell_type": "code",
   "execution_count": 140,
   "metadata": {},
   "outputs": [
    {
     "data": {
      "text/plain": [
       "count    191.000000\n",
       "mean       3.392670\n",
       "std        1.146045\n",
       "min        2.000000\n",
       "25%        2.000000\n",
       "50%        3.000000\n",
       "75%        4.000000\n",
       "max        5.000000\n",
       "Name: vMOSLabel, dtype: float64"
      ]
     },
     "execution_count": 140,
     "metadata": {},
     "output_type": "execute_result"
    }
   ],
   "source": [
    "yTrain.describe().T"
   ]
  },
  {
   "cell_type": "code",
   "execution_count": 141,
   "metadata": {},
   "outputs": [
    {
     "name": "stdout",
     "output_type": "stream",
     "text": [
      "0.5903541685707558\n"
     ]
    }
   ],
   "source": [
    "from sklearn.linear_model import LinearRegression\n",
    "LogModel=LinearRegression()\n",
    "LogModel.fit(XTrain,yTrain)\n",
    "tahmin=LogModel.predict(XTest)\n",
    "from sklearn.metrics import r2_score\n",
    "print(r2_score(yTest,tahmin))"
   ]
  },
  {
   "cell_type": "code",
   "execution_count": 142,
   "metadata": {},
   "outputs": [
    {
     "name": "stdout",
     "output_type": "stream",
     "text": [
      "max_depth : 1 --> score r2 : eğitim:0.6094249095356332 test: 0.13870901982527384\n",
      "max_depth : 2 --> score r2 : eğitim:0.8989672560760124 test: 0.5518666028409264\n",
      "max_depth : 3 --> score r2 : eğitim:0.9824858689483195 test: 0.7128613958940684\n",
      "max_depth : 4 --> score r2 : eğitim:0.9953601944409312 test: 0.7194023862886796\n",
      "max_depth : 5 --> score r2 : eğitim:0.9964651303605794 test: 0.7264414380784332\n",
      "max_depth : 6 --> score r2 : eğitim:0.996932875965089 test: 0.7268495144412939\n",
      "max_depth : 7 --> score r2 : eğitim:0.9965165260993623 test: 0.719614012195428\n",
      "max_depth : 8 --> score r2 : eğitim:0.9974902798757973 test: 0.7259682818498909\n",
      "max_depth : 9 --> score r2 : eğitim:0.9964536127895267 test: 0.7249402524403403\n",
      "max_depth : 10 --> score r2 : eğitim:0.9971200130077207 test: 0.7195941381646633\n",
      "max_depth : 11 --> score r2 : eğitim:0.9954898770560591 test: 0.7167024666884144\n",
      "max_depth : 12 --> score r2 : eğitim:0.9982648749580396 test: 0.7097424907781487\n",
      "max_depth : 13 --> score r2 : eğitim:0.9963041435884525 test: 0.7206302978595267\n",
      "max_depth : 14 --> score r2 : eğitim:0.9978316947801276 test: 0.7274385084439539\n",
      "max_depth : 15 --> score r2 : eğitim:0.9978749727257469 test: 0.7131070738500918\n",
      "max_depth : 16 --> score r2 : eğitim:0.9971348397113126 test: 0.7184712554264636\n",
      "max_depth : 17 --> score r2 : eğitim:0.99715407435381 test: 0.7342503324885199\n",
      "max_depth : 18 --> score r2 : eğitim:0.9979703444947969 test: 0.7171627311736218\n",
      "max_depth : 19 --> score r2 : eğitim:0.9974289694528365 test: 0.7173036561190436\n"
     ]
    }
   ],
   "source": [
    "from sklearn.ensemble import RandomForestRegressor\n",
    "for i in range(1,20,1):\n",
    "    rand=RandomForestRegressor(max_depth=i,)\n",
    "    rand.fit(XTrain,yTrain)\n",
    "    tahminRand=rand.predict(XTest)\n",
    "    print(f\"max_depth : {i} --> score r2 : eğitim:{r2_score(yTrain,rand.predict(XTrain))} test: {r2_score(yTest,tahminRand)}\")"
   ]
  },
  {
   "cell_type": "code",
   "execution_count": 143,
   "metadata": {},
   "outputs": [
    {
     "name": "stdout",
     "output_type": "stream",
     "text": [
      "n_neigbors : 1 --> score r2 : eğitim:1.0 test: 0.5934857343604929\n",
      "n_neigbors : 2 --> score r2 : eğitim:0.9959927828130245 test: 0.623974304283456\n",
      "n_neigbors : 3 --> score r2 : eğitim:0.9884235947931819 test: 0.6005119068530276\n",
      "n_neigbors : 4 --> score r2 : eğitim:0.991985565626049 test: 0.598284861107626\n",
      "n_neigbors : 5 --> score r2 : eğitim:0.9892606579389057 test: 0.5938470803743947\n",
      "n_neigbors : 6 --> score r2 : eğitim:0.9860860514341129 test: 0.5813153998644953\n",
      "n_neigbors : 7 --> score r2 : eğitim:0.9861791897020641 test: 0.5743122723983575\n",
      "n_neigbors : 8 --> score r2 : eğitim:0.9871643824479691 test: 0.5682903189380444\n",
      "n_neigbors : 9 --> score r2 : eğitim:0.9862468348397632 test: 0.5637081461778459\n",
      "n_neigbors : 10 --> score r2 : eğitim:0.9848126468613628 test: 0.5619582946475623\n",
      "n_neigbors : 11 --> score r2 : eğitim:0.9829444888322943 test: 0.5584710069803407\n",
      "n_neigbors : 12 --> score r2 : eğitim:0.9820510063500056 test: 0.5563473940428095\n",
      "n_neigbors : 13 --> score r2 : eğitim:0.9797505119664078 test: 0.5623223133390816\n",
      "n_neigbors : 14 --> score r2 : eğitim:0.9761202567633297 test: 0.5622827686192292\n",
      "n_neigbors : 15 --> score r2 : eğitim:0.970969937712133 test: 0.5584351710120199\n",
      "n_neigbors : 16 --> score r2 : eğitim:0.9645924793869587 test: 0.5504876759679809\n",
      "n_neigbors : 17 --> score r2 : eğitim:0.9569050829857445 test: 0.5387836993840118\n",
      "n_neigbors : 18 --> score r2 : eğitim:0.9511218446823236 test: 0.5269880304132897\n",
      "n_neigbors : 19 --> score r2 : eğitim:0.9448202863256089 test: 0.5141222383016626\n"
     ]
    }
   ],
   "source": [
    "from sklearn.neighbors import KNeighborsRegressor\n",
    "for i in range(1,20,1):\n",
    "    KNN=KNeighborsRegressor(n_neighbors=i)\n",
    "    KNN.fit(XTrain,yTrain)\n",
    "    tahminKNN=KNN.predict(XTest)\n",
    "    print(f\"n_neigbors : {i} --> score r2 : eğitim:{r2_score(yTrain,KNN.predict(XTrain))} test: {r2_score(yTest,tahminKNN)}\")"
   ]
  },
  {
   "cell_type": "code",
   "execution_count": 144,
   "metadata": {},
   "outputs": [
    {
     "name": "stdout",
     "output_type": "stream",
     "text": [
      "max_depth : 1 --> score r2 : eğitim:0.6141657482709595 test: 0.09356666979759398\n",
      "max_depth : 2 --> score r2 : eğitim:0.8791433355889362 test: 0.47190328980284446\n",
      "max_depth : 3 --> score r2 : eğitim:0.9698365833562208 test: 0.648361054017123\n",
      "max_depth : 4 --> score r2 : eğitim:0.996393504531722 test: 0.6627738325261601\n",
      "max_depth : 5 --> score r2 : eğitim:1.0 test: 0.6431708112719883\n",
      "max_depth : 6 --> score r2 : eğitim:1.0 test: 0.6567212867933052\n",
      "max_depth : 7 --> score r2 : eğitim:1.0 test: 0.6612381119670774\n",
      "max_depth : 8 --> score r2 : eğitim:1.0 test: 0.6567212867933052\n",
      "max_depth : 9 --> score r2 : eğitim:1.0 test: 0.6567212867933052\n",
      "max_depth : 10 --> score r2 : eğitim:1.0 test: 0.6431708112719883\n",
      "max_depth : 11 --> score r2 : eğitim:1.0 test: 0.6431708112719883\n",
      "max_depth : 12 --> score r2 : eğitim:1.0 test: 0.6431708112719883\n",
      "max_depth : 13 --> score r2 : eğitim:1.0 test: 0.6431708112719883\n",
      "max_depth : 14 --> score r2 : eğitim:1.0 test: 0.6567212867933052\n",
      "max_depth : 15 --> score r2 : eğitim:1.0 test: 0.6431708112719883\n",
      "max_depth : 16 --> score r2 : eğitim:1.0 test: 0.6431708112719883\n",
      "max_depth : 17 --> score r2 : eğitim:1.0 test: 0.6567212867933052\n",
      "max_depth : 18 --> score r2 : eğitim:1.0 test: 0.6567212867933052\n",
      "max_depth : 19 --> score r2 : eğitim:1.0 test: 0.6612381119670774\n"
     ]
    }
   ],
   "source": [
    "from sklearn.tree import DecisionTreeRegressor\n",
    "for i in range(1,20,1):\n",
    "    DT=DecisionTreeRegressor(max_depth=i)\n",
    "    DT.fit(XTrain,yTrain)\n",
    "    tahminDT=DT.predict(XTest)\n",
    "    print(f\"max_depth : {i} --> score r2 : eğitim:{r2_score(yTrain,DT.predict(XTrain))} test: {r2_score(yTest,tahminDT)}\")"
   ]
  },
  {
   "cell_type": "code",
   "execution_count": 145,
   "metadata": {},
   "outputs": [
    {
     "name": "stdout",
     "output_type": "stream",
     "text": [
      "max_depth : 1 --> score r2 : eğitim:0.9497447354491867 test: 0.6020123233922592\n",
      "max_depth : 2 --> score r2 : eğitim:0.9940936462355002 test: 0.7098452863076338\n",
      "max_depth : 3 --> score r2 : eğitim:0.9999983361204898 test: 0.7094307723949389\n",
      "max_depth : 4 --> score r2 : eğitim:0.9999999954983021 test: 0.6688829652488507\n",
      "max_depth : 5 --> score r2 : eğitim:0.9999999992944921 test: 0.6572967830353389\n",
      "max_depth : 6 --> score r2 : eğitim:0.9999999992944921 test: 0.6554452439018361\n",
      "max_depth : 7 --> score r2 : eğitim:0.9999999992944921 test: 0.6554626620340804\n",
      "max_depth : 8 --> score r2 : eğitim:0.9999999992944921 test: 0.6572122736260477\n",
      "max_depth : 9 --> score r2 : eğitim:0.9999999992944921 test: 0.6599507765044357\n"
     ]
    }
   ],
   "source": [
    "from sklearn.ensemble import GradientBoostingRegressor\n",
    "for i in range(1,10,1):\n",
    "    gbr=GradientBoostingRegressor(max_depth=i,loss='squared_error')\n",
    "    gbr.fit(XTrain,yTrain)\n",
    "    tahminGbr=gbr.predict(XTest)\n",
    "    print(f\"max_depth : {i} --> score r2 : eğitim:{r2_score(yTrain,gbr.predict(XTrain))} test: {r2_score(yTest,tahminGbr)}\")"
   ]
  },
  {
   "cell_type": "code",
   "execution_count": 146,
   "metadata": {},
   "outputs": [
    {
     "name": "stdout",
     "output_type": "stream",
     "text": [
      "-0.2041256022433564\n",
      "0.3603687643307798\n",
      "0.4447188813460683\n",
      "0.6246069653246168\n",
      "0.37930037024969065\n",
      "0.6070362098818098\n",
      "0.48056510501618543\n",
      "0.6431708112719883\n",
      "0.5121828812325915\n"
     ]
    }
   ],
   "source": [
    "from sklearn.tree import ExtraTreeRegressor\n",
    "for i in range(1,10,1):\n",
    "    extraTree=ExtraTreeRegressor(max_depth=i)\n",
    "    extraTree.fit(XTrain,yTrain)\n",
    "    tahminExtra=extraTree.predict(XTest)\n",
    "    print(r2_score(yTest,tahminExtra))"
   ]
  },
  {
   "cell_type": "code",
   "execution_count": 147,
   "metadata": {},
   "outputs": [
    {
     "name": "stdout",
     "output_type": "stream",
     "text": [
      "0.6803487867700669\n"
     ]
    }
   ],
   "source": [
    "from sklearn.linear_model import RANSACRegressor\n",
    "ransacReg=RANSACRegressor(random_state=42,)\n",
    "ransacReg.fit(XTrain,yTrain)\n",
    "print(r2_score(yTest,ransacReg.predict(XTest)))"
   ]
  },
  {
   "cell_type": "code",
   "execution_count": 148,
   "metadata": {},
   "outputs": [
    {
     "data": {
      "text/plain": [
       "225    2\n",
       "42     2\n",
       "286    5\n",
       "303    5\n",
       "56     2\n",
       "      ..\n",
       "254    4\n",
       "130    4\n",
       "38     3\n",
       "11     4\n",
       "235    2\n",
       "Name: vMOSLabel, Length: 180, dtype: int64"
      ]
     },
     "execution_count": 148,
     "metadata": {},
     "output_type": "execute_result"
    }
   ],
   "source": [
    "yTest"
   ]
  },
  {
   "cell_type": "code",
   "execution_count": 149,
   "metadata": {},
   "outputs": [
    {
     "data": {
      "text/plain": [
       "0      2\n",
       "1      2\n",
       "2      2\n",
       "3      2\n",
       "4      2\n",
       "      ..\n",
       "186    5\n",
       "187    5\n",
       "188    5\n",
       "189    5\n",
       "190    5\n",
       "Name: vMOSLabel, Length: 191, dtype: int64"
      ]
     },
     "execution_count": 149,
     "metadata": {},
     "output_type": "execute_result"
    }
   ],
   "source": [
    "yTrain"
   ]
  },
  {
   "cell_type": "code",
   "execution_count": 150,
   "metadata": {},
   "outputs": [],
   "source": [
    "sayisal_veriler=[\"avgRTT\",\"latency\",\"hopCount\",\"bandwidth\",\"yukOrani\"]\n",
    "from sklearn.preprocessing import MinMaxScaler\n",
    "scaler=MinMaxScaler()\n",
    "XTrain[sayisal_veriler]=scaler.fit_transform(XTrain[sayisal_veriler])\n",
    "XTest[sayisal_veriler]=scaler.transform(XTest[sayisal_veriler])"
   ]
  },
  {
   "cell_type": "code",
   "execution_count": 151,
   "metadata": {},
   "outputs": [
    {
     "name": "stdout",
     "output_type": "stream",
     "text": [
      "0.5903541685706253\n"
     ]
    }
   ],
   "source": [
    "from sklearn.linear_model import LinearRegression\n",
    "LogModel=LinearRegression()\n",
    "LogModel.fit(XTrain,yTrain)\n",
    "tahmin=LogModel.predict(XTest)\n",
    "from sklearn.metrics import r2_score\n",
    "print(r2_score(yTest,tahmin))"
   ]
  },
  {
   "cell_type": "code",
   "execution_count": 152,
   "metadata": {},
   "outputs": [
    {
     "name": "stdout",
     "output_type": "stream",
     "text": [
      "n_neigbors : 1 --> score r2 : eğitim:1.0 test: 0.6251035105768991\n",
      "n_neigbors : 2 --> score r2 : eğitim:1.0 test: 0.6363955735113298\n",
      "n_neigbors : 3 --> score r2 : eğitim:0.9986642609376748 test: 0.6677624149958596\n",
      "n_neigbors : 4 --> score r2 : eğitim:0.9937387231453508 test: 0.6578504930867481\n",
      "n_neigbors : 5 --> score r2 : eğitim:0.9876577710641155 test: 0.6298010087576222\n",
      "n_neigbors : 6 --> score r2 : eğitim:0.9833032617209354 test: 0.6163207949612307\n",
      "n_neigbors : 7 --> score r2 : eğitim:0.9804545937206706 test: 0.6303577765953688\n",
      "n_neigbors : 8 --> score r2 : eğitim:0.9774594033232629 test: 0.6444411683521116\n",
      "n_neigbors : 9 --> score r2 : eğitim:0.975610394158285 test: 0.6570001031620565\n",
      "n_neigbors : 10 --> score r2 : eğitim:0.9703065206445116 test: 0.6729818574188854\n",
      "n_neigbors : 11 --> score r2 : eğitim:0.9652266277163284 test: 0.6737433717457033\n",
      "n_neigbors : 12 --> score r2 : eğitim:0.9620705762093916 test: 0.670209028631653\n",
      "n_neigbors : 13 --> score r2 : eğitim:0.9560391676647777 test: 0.6588594288873986\n",
      "n_neigbors : 14 --> score r2 : eğitim:0.9495213304354975 test: 0.6504299945869795\n",
      "n_neigbors : 15 --> score r2 : eğitim:0.9432756144865914 test: 0.6470653183107076\n",
      "n_neigbors : 16 --> score r2 : eğitim:0.9357749526634357 test: 0.6338548593510829\n",
      "n_neigbors : 17 --> score r2 : eğitim:0.9259427439597365 test: 0.6238844366545659\n",
      "n_neigbors : 18 --> score r2 : eğitim:0.9189156917351502 test: 0.6144666661090341\n",
      "n_neigbors : 19 --> score r2 : eğitim:0.9084001212550643 test: 0.6058100357349132\n"
     ]
    }
   ],
   "source": [
    "from sklearn.neighbors import KNeighborsRegressor\n",
    "for i in range(1,20,1):\n",
    "    KNN=KNeighborsRegressor(n_neighbors=i)\n",
    "    KNN.fit(XTrain,yTrain)\n",
    "    tahminKNN=KNN.predict(XTest)\n",
    "    print(f\"n_neigbors : {i} --> score r2 : eğitim:{r2_score(yTrain,KNN.predict(XTrain))} test: {r2_score(yTest,tahminKNN)}\")"
   ]
  },
  {
   "cell_type": "code",
   "execution_count": 153,
   "metadata": {},
   "outputs": [
    {
     "name": "stdout",
     "output_type": "stream",
     "text": [
      "max_depth : 1 --> score r2 : eğitim:0.6094223823403567 test: 0.138553466930314\n",
      "max_depth : 2 --> score r2 : eğitim:0.9109745838259656 test: 0.5916686748025659\n",
      "max_depth : 3 --> score r2 : eğitim:0.9843569871532558 test: 0.7131287003953398\n",
      "max_depth : 4 --> score r2 : eğitim:0.9954366910157623 test: 0.7299558701337934\n",
      "max_depth : 5 --> score r2 : eğitim:0.9955325539191003 test: 0.7137431683019247\n",
      "max_depth : 6 --> score r2 : eğitim:0.9960011089198464 test: 0.7267980226343129\n",
      "max_depth : 7 --> score r2 : eğitim:0.9968302912051024 test: 0.7205444781812251\n",
      "max_depth : 8 --> score r2 : eğitim:0.9975255433870426 test: 0.7142258914456351\n",
      "max_depth : 9 --> score r2 : eğitim:0.9966082913729439 test: 0.7304232265187826\n",
      "max_depth : 10 --> score r2 : eğitim:0.998183528449144 test: 0.7250405259591981\n",
      "max_depth : 11 --> score r2 : eğitim:0.9969913813360188 test: 0.7306242252390154\n",
      "max_depth : 12 --> score r2 : eğitim:0.9972618684961396 test: 0.7236624425986802\n",
      "max_depth : 13 --> score r2 : eğitim:0.9965373636287345 test: 0.724759127750872\n",
      "max_depth : 14 --> score r2 : eğitim:0.9961799198556562 test: 0.7244465634488471\n",
      "max_depth : 15 --> score r2 : eğitim:0.9971781176569319 test: 0.7129426614137664\n",
      "max_depth : 16 --> score r2 : eğitim:0.9980504888385364 test: 0.7210521693307572\n",
      "max_depth : 17 --> score r2 : eğitim:0.9972049660120846 test: 0.7251498331284034\n",
      "max_depth : 18 --> score r2 : eğitim:0.99687717564619 test: 0.7200422072219017\n",
      "max_depth : 19 --> score r2 : eğitim:0.9964199521651561 test: 0.7261841860931972\n"
     ]
    }
   ],
   "source": [
    "from sklearn.ensemble import RandomForestRegressor\n",
    "for i in range(1,20,1):\n",
    "    rand=RandomForestRegressor(max_depth=i)\n",
    "    rand.fit(XTrain,yTrain)\n",
    "    tahminRand=rand.predict(XTest)\n",
    "    print(f\"max_depth : {i} --> score r2 : eğitim:{r2_score(yTrain,rand.predict(XTrain))} test: {r2_score(yTest,tahminRand)}\")"
   ]
  },
  {
   "cell_type": "code",
   "execution_count": 154,
   "metadata": {},
   "outputs": [
    {
     "name": "stdout",
     "output_type": "stream",
     "text": [
      "max_depth : 1 --> score r2 : eğitim:0.6141657482709595 test: 0.09356666979759398\n",
      "max_depth : 2 --> score r2 : eğitim:0.8791433355889362 test: 0.47190328980284446\n",
      "max_depth : 3 --> score r2 : eğitim:0.9698365833562208 test: 0.648361054017123\n",
      "max_depth : 4 --> score r2 : eğitim:0.996393504531722 test: 0.6627738325261601\n",
      "max_depth : 5 --> score r2 : eğitim:1.0 test: 0.6612381119670774\n",
      "max_depth : 6 --> score r2 : eğitim:1.0 test: 0.6431708112719883\n",
      "max_depth : 7 --> score r2 : eğitim:1.0 test: 0.6567212867933052\n",
      "max_depth : 8 --> score r2 : eğitim:1.0 test: 0.6567212867933052\n",
      "max_depth : 9 --> score r2 : eğitim:1.0 test: 0.6612381119670774\n",
      "max_depth : 10 --> score r2 : eğitim:1.0 test: 0.6567212867933052\n",
      "max_depth : 11 --> score r2 : eğitim:1.0 test: 0.6431708112719883\n",
      "max_depth : 12 --> score r2 : eğitim:1.0 test: 0.6612381119670774\n",
      "max_depth : 13 --> score r2 : eğitim:1.0 test: 0.6612381119670774\n",
      "max_depth : 14 --> score r2 : eğitim:1.0 test: 0.6431708112719883\n",
      "max_depth : 15 --> score r2 : eğitim:1.0 test: 0.6567212867933052\n",
      "max_depth : 16 --> score r2 : eğitim:1.0 test: 0.6431708112719883\n",
      "max_depth : 17 --> score r2 : eğitim:1.0 test: 0.6612381119670774\n",
      "max_depth : 18 --> score r2 : eğitim:1.0 test: 0.6431708112719883\n",
      "max_depth : 19 --> score r2 : eğitim:1.0 test: 0.6431708112719883\n"
     ]
    }
   ],
   "source": [
    "from sklearn.tree import DecisionTreeRegressor\n",
    "for i in range(1,20,1):\n",
    "    DT=DecisionTreeRegressor(max_depth=i)\n",
    "    DT.fit(XTrain,yTrain)\n",
    "    tahminDT=DT.predict(XTest)\n",
    "    print(f\"max_depth : {i} --> score r2 : eğitim:{r2_score(yTrain,DT.predict(XTrain))} test: {r2_score(yTest,tahminDT)}\")"
   ]
  },
  {
   "cell_type": "code",
   "execution_count": 155,
   "metadata": {},
   "outputs": [
    {
     "name": "stdout",
     "output_type": "stream",
     "text": [
      "max_depth : 1 --> score r2 : eğitim:0.9497447354491867 test: 0.6020123233922592\n",
      "max_depth : 2 --> score r2 : eğitim:0.9940936462355003 test: 0.7106366800357748\n",
      "max_depth : 3 --> score r2 : eğitim:0.9999983361204898 test: 0.7082630685376601\n",
      "max_depth : 4 --> score r2 : eğitim:0.9999999954983021 test: 0.669787657903159\n",
      "max_depth : 5 --> score r2 : eğitim:0.9999999992944921 test: 0.6563902428477641\n",
      "max_depth : 6 --> score r2 : eğitim:0.9999999992944921 test: 0.6569030273634182\n",
      "max_depth : 7 --> score r2 : eğitim:0.9999999992944921 test: 0.6578235604263518\n",
      "max_depth : 8 --> score r2 : eğitim:0.9999999992944921 test: 0.6582017559165214\n",
      "max_depth : 9 --> score r2 : eğitim:0.9999999992944921 test: 0.6596448135453352\n"
     ]
    }
   ],
   "source": [
    "from sklearn.ensemble import GradientBoostingRegressor\n",
    "for i in range(1,10,1):\n",
    "    gbr=GradientBoostingRegressor(max_depth=i,loss='squared_error')\n",
    "    gbr.fit(XTrain,yTrain)\n",
    "    tahminGbr=gbr.predict(XTest)\n",
    "    print(f\"max_depth : {i} --> score r2 : eğitim:{r2_score(yTrain,gbr.predict(XTrain))} test: {r2_score(yTest,tahminGbr)}\")"
   ]
  },
  {
   "cell_type": "code",
   "execution_count": null,
   "metadata": {},
   "outputs": [],
   "source": []
  }
 ],
 "metadata": {
  "kernelspec": {
   "display_name": "Python 3",
   "language": "python",
   "name": "python3"
  },
  "language_info": {
   "codemirror_mode": {
    "name": "ipython",
    "version": 3
   },
   "file_extension": ".py",
   "mimetype": "text/x-python",
   "name": "python",
   "nbconvert_exporter": "python",
   "pygments_lexer": "ipython3",
   "version": "3.9.13"
  }
 },
 "nbformat": 4,
 "nbformat_minor": 2
}
