{
 "cells": [
  {
   "cell_type": "code",
   "execution_count": 1,
   "metadata": {},
   "outputs": [],
   "source": [
    "from IPython.display import Image\n",
    "import time\n",
    "import pandas as pd\n",
    "import numpy as np\n",
    "import yellowbrick as yb\n",
    "import matplotlib.pyplot as plt\n",
    "import seaborn as sns\n",
    "from sklearn.model_selection import train_test_split\n",
    "from sklearn.metrics import classification_report, confusion_matrix\n",
    "from sklearn.utils import resample\n",
    "from sklearn.preprocessing import LabelEncoder\n",
    "from sklearn.ensemble import GradientBoostingClassifier\n",
    "from sklearn.tree import plot_tree\n",
    "from imblearn.over_sampling import RandomOverSampler"
   ]
  },
  {
   "cell_type": "code",
   "execution_count": 2,
   "metadata": {},
   "outputs": [
    {
     "name": "stdout",
     "output_type": "stream",
     "text": [
      "init\n"
     ]
    }
   ],
   "source": [
    "class timer:\n",
    "    def __init__(self):\n",
    "         print(\"init\")\n",
    "    def baslat(self):\n",
    "        self.baslangic = time.perf_counter()\n",
    "\n",
    "    def bitir(self):\n",
    "        self.bitis = time.perf_counter()\n",
    "        fark = (self.bitis-self.baslangic)*1000\n",
    "        print(f\"{fark} ms'de tamamlandı.\")\n",
    "\n",
    "timer = timer()"
   ]
  },
  {
   "cell_type": "code",
   "execution_count": 3,
   "metadata": {},
   "outputs": [],
   "source": [
    "data=pd.read_json(\"yoksa.json\")\n",
    "data.head()"
   ]
  },
  {
   "cell_type": "code",
   "execution_count": 4,
   "metadata": {},
   "outputs": [
    {
     "data": {
      "text/html": [
       "<div>\n",
       "<style scoped>\n",
       "    .dataframe tbody tr th:only-of-type {\n",
       "        vertical-align: middle;\n",
       "    }\n",
       "\n",
       "    .dataframe tbody tr th {\n",
       "        vertical-align: top;\n",
       "    }\n",
       "\n",
       "    .dataframe thead th {\n",
       "        text-align: right;\n",
       "    }\n",
       "</style>\n",
       "<table border=\"1\" class=\"dataframe\">\n",
       "  <thead>\n",
       "    <tr style=\"text-align: right;\">\n",
       "      <th></th>\n",
       "      <th>initialDelay</th>\n",
       "      <th>bufferingEvents</th>\n",
       "      <th>stallings</th>\n",
       "      <th>totalBufferingDuration</th>\n",
       "      <th>stallingRatio</th>\n",
       "      <th>VMOS</th>\n",
       "    </tr>\n",
       "  </thead>\n",
       "  <tbody>\n",
       "    <tr>\n",
       "      <th>0</th>\n",
       "      <td>3314</td>\n",
       "      <td>3</td>\n",
       "      <td>0</td>\n",
       "      <td>4506</td>\n",
       "      <td>0.105775</td>\n",
       "      <td>2.5</td>\n",
       "    </tr>\n",
       "    <tr>\n",
       "      <th>1</th>\n",
       "      <td>897</td>\n",
       "      <td>3</td>\n",
       "      <td>0</td>\n",
       "      <td>1369</td>\n",
       "      <td>0.193937</td>\n",
       "      <td>2.5</td>\n",
       "    </tr>\n",
       "    <tr>\n",
       "      <th>2</th>\n",
       "      <td>3172</td>\n",
       "      <td>0</td>\n",
       "      <td>0</td>\n",
       "      <td>0</td>\n",
       "      <td>0.000000</td>\n",
       "      <td>4.5</td>\n",
       "    </tr>\n",
       "    <tr>\n",
       "      <th>3</th>\n",
       "      <td>3933</td>\n",
       "      <td>1</td>\n",
       "      <td>1</td>\n",
       "      <td>1269</td>\n",
       "      <td>0.030397</td>\n",
       "      <td>4.5</td>\n",
       "    </tr>\n",
       "    <tr>\n",
       "      <th>4</th>\n",
       "      <td>1177</td>\n",
       "      <td>0</td>\n",
       "      <td>0</td>\n",
       "      <td>0</td>\n",
       "      <td>0.000000</td>\n",
       "      <td>4.5</td>\n",
       "    </tr>\n",
       "  </tbody>\n",
       "</table>\n",
       "</div>"
      ],
      "text/plain": [
       "   initialDelay  bufferingEvents  stallings  totalBufferingDuration  \\\n",
       "0          3314                3          0                    4506   \n",
       "1           897                3          0                    1369   \n",
       "2          3172                0          0                       0   \n",
       "3          3933                1          1                    1269   \n",
       "4          1177                0          0                       0   \n",
       "\n",
       "   stallingRatio  VMOS  \n",
       "0       0.105775   2.5  \n",
       "1       0.193937   2.5  \n",
       "2       0.000000   4.5  \n",
       "3       0.030397   4.5  \n",
       "4       0.000000   4.5  "
      ]
     },
     "execution_count": 4,
     "metadata": {},
     "output_type": "execute_result"
    }
   ],
   "source": [
    "data = data.drop([\"playingTime\", \"totalDuration\", \"lastPlayTime\", \"lastBufferingTime\",\"question1\", \"question3\",  \"question4\", \"question5\", \"question6\", \"date\", \"resolution\", \"question2\"], axis=1)\n",
    "data.head()"
   ]
  },
  {
   "cell_type": "code",
   "execution_count": null,
   "metadata": {},
   "outputs": [],
   "source": [
    "data.info()"
   ]
  },
  {
   "cell_type": "code",
   "execution_count": null,
   "metadata": {},
   "outputs": [],
   "source": [
    "data.describe().T"
   ]
  },
  {
   "cell_type": "code",
   "execution_count": null,
   "metadata": {},
   "outputs": [],
   "source": [
    "##%matplotlib --\n",
    "sns.histplot(data=data,x=\"VMOS\");"
   ]
  },
  {
   "cell_type": "code",
   "execution_count": 5,
   "metadata": {},
   "outputs": [
    {
     "data": {
      "text/html": [
       "<div>\n",
       "<style scoped>\n",
       "    .dataframe tbody tr th:only-of-type {\n",
       "        vertical-align: middle;\n",
       "    }\n",
       "\n",
       "    .dataframe tbody tr th {\n",
       "        vertical-align: top;\n",
       "    }\n",
       "\n",
       "    .dataframe thead th {\n",
       "        text-align: right;\n",
       "    }\n",
       "</style>\n",
       "<table border=\"1\" class=\"dataframe\">\n",
       "  <thead>\n",
       "    <tr style=\"text-align: right;\">\n",
       "      <th></th>\n",
       "      <th>initialDelay</th>\n",
       "      <th>bufferingEvents</th>\n",
       "      <th>stallings</th>\n",
       "      <th>totalBufferingDuration</th>\n",
       "      <th>stallingRatio</th>\n",
       "    </tr>\n",
       "  </thead>\n",
       "  <tbody>\n",
       "    <tr>\n",
       "      <th>0</th>\n",
       "      <td>3314</td>\n",
       "      <td>3</td>\n",
       "      <td>0</td>\n",
       "      <td>4506</td>\n",
       "      <td>0.105775</td>\n",
       "    </tr>\n",
       "    <tr>\n",
       "      <th>1</th>\n",
       "      <td>897</td>\n",
       "      <td>3</td>\n",
       "      <td>0</td>\n",
       "      <td>1369</td>\n",
       "      <td>0.193937</td>\n",
       "    </tr>\n",
       "    <tr>\n",
       "      <th>2</th>\n",
       "      <td>3172</td>\n",
       "      <td>0</td>\n",
       "      <td>0</td>\n",
       "      <td>0</td>\n",
       "      <td>0.000000</td>\n",
       "    </tr>\n",
       "    <tr>\n",
       "      <th>3</th>\n",
       "      <td>3933</td>\n",
       "      <td>1</td>\n",
       "      <td>1</td>\n",
       "      <td>1269</td>\n",
       "      <td>0.030397</td>\n",
       "    </tr>\n",
       "    <tr>\n",
       "      <th>4</th>\n",
       "      <td>1177</td>\n",
       "      <td>0</td>\n",
       "      <td>0</td>\n",
       "      <td>0</td>\n",
       "      <td>0.000000</td>\n",
       "    </tr>\n",
       "  </tbody>\n",
       "</table>\n",
       "</div>"
      ],
      "text/plain": [
       "   initialDelay  bufferingEvents  stallings  totalBufferingDuration  \\\n",
       "0          3314                3          0                    4506   \n",
       "1           897                3          0                    1369   \n",
       "2          3172                0          0                       0   \n",
       "3          3933                1          1                    1269   \n",
       "4          1177                0          0                       0   \n",
       "\n",
       "   stallingRatio  \n",
       "0       0.105775  \n",
       "1       0.193937  \n",
       "2       0.000000  \n",
       "3       0.030397  \n",
       "4       0.000000  "
      ]
     },
     "execution_count": 5,
     "metadata": {},
     "output_type": "execute_result"
    }
   ],
   "source": [
    "y=data[\"VMOS\"]#\"\n",
    "X=data.drop([\"VMOS\"],axis=1)\n",
    "X.head() "
   ]
  },
  {
   "cell_type": "code",
   "execution_count": 11,
   "metadata": {},
   "outputs": [
    {
     "data": {
      "image/png": "[encoded data removed]",
      "text/plain": [
       "<Figure size 800x550 with 1 Axes>"
      ]
     },
     "metadata": {},
     "output_type": "display_data"
    },
    {
     "data": {
      "text/plain": [
       "<Axes: xlabel='VMOS'>"
      ]
     },
     "execution_count": 11,
     "metadata": {},
     "output_type": "execute_result"
    }
   ],
   "source": [
    "from yellowbrick.target import BalancedBinningReference\n",
    "visualizer=BalancedBinningReference()\n",
    "visualizer.fit(y)\n",
    "visualizer.target=\"VMOS\"\n",
    "visualizer.show()"
   ]
  },
  {
   "cell_type": "code",
   "execution_count": 10,
   "metadata": {},
   "outputs": [],
   "source": [
    "veriler=[\"bufferingEvents\",\"stallings\",\"totalBufferingDuration\",\"stallingRatio\", \"initialDelay\"]#"
   ]
  },
  {
   "cell_type": "code",
   "execution_count": null,
   "metadata": {},
   "outputs": [],
   "source": [
    "for i,deger in enumerate(veriler):\n",
    "    plt.figure(figsize=(20,20))\n",
    "    ax=plt.subplot(4,3,i+1)\n",
    "    sns.boxplot(x=deger,data=data)\n",
    "    plt.show()"
   ]
  },
  {
   "cell_type": "code",
   "execution_count": null,
   "metadata": {},
   "outputs": [],
   "source": [
    "for i,deger in enumerate(veriler):\n",
    "    plt.figure(figsize=(20,20))\n",
    "    ax=plt.subplot(4,3,i+1)\n",
    "    sns.scatterplot(x=deger,y=\"VMOS\",data=data)\n",
    "    plt.show()"
   ]
  },
  {
   "cell_type": "code",
   "execution_count": null,
   "metadata": {},
   "outputs": [],
   "source": [
    "from yellowbrick.features import Rank2D\n",
    "visualizer.title=\"Pearson Skorları\"\n",
    "visualizer = Rank2D(algorithm='pearson')\n",
    "visualizer.fit(X,y)\n",
    "visualizer.transform(X)\n",
    "visualizer.show()"
   ]
  },
  {
   "cell_type": "code",
   "execution_count": 7,
   "metadata": {},
   "outputs": [],
   "source": [
    "ros = RandomOverSampler(random_state=0)\n",
    "lab_enc = LabelEncoder()\n",
    "y = lab_enc.fit_transform(y)\n",
    "X, y = ros.fit_resample(X, y)\n",
    "X_train,X_test, y_train,y_test=train_test_split(X, y, test_size=0.3, random_state=35, shuffle=True)"
   ]
  },
  {
   "cell_type": "markdown",
   "metadata": {},
   "source": [
    "# Regresyon"
   ]
  },
  {
   "cell_type": "markdown",
   "metadata": {},
   "source": [
    "### Lineer Regresyon\n"
   ]
  },
  {
   "cell_type": "code",
   "execution_count": 8,
   "metadata": {},
   "outputs": [],
   "source": [
    "from yellowbrick.regressor import PredictionError\n",
    "from sklearn.metrics import mean_squared_error, r2_score, mean_absolute_error"
   ]
  },
  {
   "cell_type": "code",
   "execution_count": 9,
   "metadata": {},
   "outputs": [
    {
     "name": "stdout",
     "output_type": "stream",
     "text": [
      "4.002299974672496 ms'de tamamlandı.\n",
      "<class 'pandas.core.frame.DataFrame'>\n",
      "RangeIndex: 909 entries, 0 to 908\n",
      "Data columns (total 5 columns):\n",
      " #   Column                  Non-Null Count  Dtype  \n",
      "---  ------                  --------------  -----  \n",
      " 0   initialDelay            909 non-null    int64  \n",
      " 1   bufferingEvents         909 non-null    int64  \n",
      " 2   stallings               909 non-null    int64  \n",
      " 3   totalBufferingDuration  909 non-null    int64  \n",
      " 4   stallingRatio           909 non-null    float64\n",
      "dtypes: float64(1), int64(4)\n",
      "memory usage: 35.6 KB\n"
     ]
    }
   ],
   "source": [
    "from sklearn.linear_model import LinearRegression\n",
    "timer.baslat()\n",
    "LR_model=LinearRegression()\n",
    "LR_model.fit(X_train,y_train)\n",
    "LR_tahmin=LR_model.predict(X_test)\n",
    "timer.bitir()\n",
    "X.info()"
   ]
  },
  {
   "cell_type": "code",
   "execution_count": null,
   "metadata": {},
   "outputs": [],
   "source": [
    "visualizer=PredictionError(LR_model)\n",
    "visualizer.title=\"LinearRegression Tahmin Hatası\"\n",
    "visualizer.fit(X_train,y_train)\n",
    "visualizer.score(X_train,y_train)\n",
    "visualizer.score(X_test,y_test)\n",
    "visualizer.show()"
   ]
  },
  {
   "cell_type": "code",
   "execution_count": null,
   "metadata": {},
   "outputs": [],
   "source": [
    "LR_mae_train = mean_absolute_error(y_train,LR_model.predict(X_train))\n",
    "LR_mse_train = mean_squared_error(y_train,LR_model.predict(X_train))\n",
    "LR_rmse_train= np.sqrt(LR_mse_train)\n",
    "LR_r2_score_train=r2_score(y_train,LR_model.predict(X_train))\n",
    "LR_mae_test = mean_absolute_error(y_test,LR_model.predict(X_test))\n",
    "LR_mse_test = mean_squared_error(y_test,LR_model.predict(X_test))\n",
    "LR_rmse_test= np.sqrt(LR_mse_test)\n",
    "LR_r2_score_test=r2_score(y_test,LR_model.predict(X_test))"
   ]
  },
  {
   "cell_type": "code",
   "execution_count": null,
   "metadata": {},
   "outputs": [],
   "source": [
    "print(\"Train Sonuçları\")\n",
    "print(\"MAE..............: %.4f\" %LR_mae_train)\n",
    "print(\"MSE..............: %.4f\" %LR_mse_train)\n",
    "print(\"RMSE.............: %.4f\" %LR_rmse_train)\n",
    "print(\"R^2..............: %.4f\" %LR_r2_score_train)\n",
    "\n",
    "print(\"Test Sonuçları\")\n",
    "print(\"MAE..............: %.4f\" %LR_mae_test)\n",
    "print(\"MSE..............: %.4f\" %LR_mse_test)\n",
    "print(\"RMSE.............: %.4f\" %LR_rmse_test)\n",
    "print(\"R^2..............: %.4f\" %LR_r2_score_test)"
   ]
  },
  {
   "cell_type": "markdown",
   "metadata": {},
   "source": [
    "### KNN Reggressor"
   ]
  },
  {
   "cell_type": "code",
   "execution_count": null,
   "metadata": {},
   "outputs": [],
   "source": [
    "score=np.zeros((5,2))\n",
    "from sklearn.neighbors import KNeighborsRegressor\n",
    "for i in range(1,5,1):\n",
    "    KN_Model=KNeighborsRegressor(n_neighbors=i)\n",
    "    KN_Model.fit(X_train,y_train)\n",
    "    score[i][0]=r2_score(y_train,KN_Model.predict(X_train))\n",
    "    score[i][1]=r2_score(y_test,KN_Model.predict(X_test))"
   ]
  },
  {
   "cell_type": "code",
   "execution_count": null,
   "metadata": {},
   "outputs": [],
   "source": [
    "score=pd.DataFrame(data=score,columns=[\"Train_r2\",\"Test_r2\"])\n",
    "score.drop(0,axis=0, inplace=True)\n",
    "score"
   ]
  },
  {
   "cell_type": "code",
   "execution_count": null,
   "metadata": {},
   "outputs": [],
   "source": [
    "plt.figure(figsize=(5,5))\n",
    "plt.ylabel(\"Train ve Test R^2 Skorları\")\n",
    "plt.xlabel(\"K değeri\")\n",
    "sns.lineplot(x=score.index,y=score[\"Train_r2\"],legend=\"auto\")\n",
    "sns.lineplot(x=score.index,y=score[\"Test_r2\"],legend=\"auto\")\n",
    "plt.legend(title=\"R^2 Skorları\",labels=['Train', 'Test'])\n",
    "plt.show()"
   ]
  },
  {
   "cell_type": "code",
   "execution_count": null,
   "metadata": {},
   "outputs": [],
   "source": [
    "from sklearn.neighbors import KNeighborsRegressor\n",
    "timer.baslat()\n",
    "KNN_Model=KNeighborsRegressor(n_neighbors=5)\n",
    "KNN_Model.fit(X_train,y_train)\n",
    "KNN_tahmin=KNN_Model.predict(X_test)\n",
    "timer.bitir()\n",
    "X.info()"
   ]
  },
  {
   "cell_type": "code",
   "execution_count": null,
   "metadata": {},
   "outputs": [],
   "source": [
    "visualizerKNN=PredictionError(KNN_Model)\n",
    "visualizerKNN.title=\"K-NN Regresyonu Tahmin Hatası\"\n",
    "visualizerKNN.fit(X_train,y_train)\n",
    "visualizerKNN.score(X_train,y_train)\n",
    "visualizerKNN.score(X_test,y_test)\n",
    "visualizerKNN.show()"
   ]
  },
  {
   "cell_type": "code",
   "execution_count": null,
   "metadata": {},
   "outputs": [],
   "source": [
    "KNN_mae_train = mean_absolute_error(y_train,KNN_Model.predict(X_train))\n",
    "KNN_mse_train = mean_squared_error(y_train,KNN_Model.predict(X_train))\n",
    "KNN_rmse_train= np.sqrt(KNN_mse_train)\n",
    "KNN_r2_score_train=r2_score(y_train,KNN_Model.predict(X_train))\n",
    "KNN_mae_test = mean_absolute_error(y_test,KNN_Model.predict(X_test))\n",
    "KNN_mse_test = mean_squared_error(y_test,KNN_Model.predict(X_test))\n",
    "KNN_rmse_test= np.sqrt(KNN_mse_test)\n",
    "KNN_r2_score_test=r2_score(y_test,KNN_Model.predict(X_test))"
   ]
  },
  {
   "cell_type": "code",
   "execution_count": null,
   "metadata": {},
   "outputs": [],
   "source": [
    "print(\"Train Sonuçları\")\n",
    "print(\"MAE..............: %.4f\" %KNN_mae_train)\n",
    "print(\"MSE..............: %.4f\" %KNN_mse_train)\n",
    "print(\"RMSE.............: %.4f\" %KNN_rmse_train)\n",
    "print(\"R^2..............: %.4f\" %KNN_r2_score_train)\n",
    "\n",
    "print(\"Test Sonuçları\")\n",
    "print(\"MAE..............: %.4f\" %KNN_mae_test)\n",
    "print(\"MSE..............: %.4f\" %KNN_mse_test)\n",
    "print(\"RMSE.............: %.4f\" %KNN_rmse_test)\n",
    "print(\"R^2..............: %.4f\" %KNN_r2_score_test)"
   ]
  },
  {
   "cell_type": "markdown",
   "metadata": {},
   "source": [
    "# Random Forest"
   ]
  },
  {
   "cell_type": "code",
   "execution_count": null,
   "metadata": {},
   "outputs": [],
   "source": [
    "from sklearn.ensemble import RandomForestRegressor\n",
    "RFR_Score=np.zeros((397,4))\n",
    "s=1\n",
    "for j in range(1,100,1):\n",
    "    for i in range(1,4,1):\n",
    "        RF_Model=RandomForestRegressor(n_estimators=j,max_depth=i, random_state=0)\n",
    "        RF_Model.fit(X_train,y_train)\n",
    "        RF_tahmin=RF_Model.predict(X_test)\n",
    "        RFR_Score[s][0]=j\n",
    "        RFR_Score[s][1]=i\n",
    "        RFR_Score[s][2]=r2_score(y_train,RF_Model.predict(X_train))\n",
    "        RFR_Score[s][3]=r2_score(y_test,RF_tahmin)\n",
    "        print(\"n_estimators =\",100,\"max_depth=\",i,\"->\",RFR_Score[s][2],RFR_Score[s][3])\n",
    "        s=s+1"
   ]
  },
  {
   "cell_type": "code",
   "execution_count": null,
   "metadata": {},
   "outputs": [],
   "source": [
    "RFR_Score=pd.DataFrame(data=RFR_Score,columns=[\"n_estimators\",\"max_depth\",\"train_score\",\"test_score\"])\n",
    "RFR_Score.drop(0,axis=0,inplace=True)\n",
    "RFR_Score"
   ]
  },
  {
   "cell_type": "code",
   "execution_count": null,
   "metadata": {},
   "outputs": [],
   "source": [
    "plt.figure(figsize=(5,5))\n",
    "plt.ylabel(\"Train ve Test R^2 Skorları\")\n",
    "plt.xlabel(\"n_estimators Değeri\")\n",
    "sns.lineplot(y=\"train_score\",x=RFR_Score.n_estimators[RFR_Score[\"max_depth\"]==3],data=RFR_Score)\n",
    "sns.lineplot(y=\"test_score\",x=RFR_Score.n_estimators[RFR_Score[\"max_depth\"]==3],data=RFR_Score)\n",
    "plt.legend(title=\"R^2 Skorları\",labels=['Train', 'Test'])\n",
    "plt.show()\n",
    "print(RFR_Score[RFR_Score[\"max_depth\"]==3])"
   ]
  },
  {
   "cell_type": "code",
   "execution_count": null,
   "metadata": {},
   "outputs": [],
   "source": [
    "from sklearn.ensemble import RandomForestRegressor\n",
    "timer.baslat()\n",
    "RFR_Model=RandomForestRegressor(n_estimators=100,max_depth=4)\n",
    "RFR_Model.fit(X_train,y_train)\n",
    "RFR_Tahmin=RFR_Model.predict(X_test)\n",
    "timer.bitir()"
   ]
  },
  {
   "cell_type": "code",
   "execution_count": null,
   "metadata": {},
   "outputs": [],
   "source": [
    "RFR_Model.feature_importances_"
   ]
  },
  {
   "cell_type": "code",
   "execution_count": null,
   "metadata": {},
   "outputs": [],
   "source": [
    "from sklearn.inspection import permutation_importance\n",
    "fig, ax = plt.subplots()\n",
    "plt.barh(veriler,RFR_Model.feature_importances_)\n",
    "plt.title(\"Özelliklerin ağırlıkları\")\n",
    "for i, v in enumerate(RFR_Model.feature_importances_):\n",
    "    ax.text(v, i, str(\"%.2f\" %v),\n",
    "            color = 'black')\n",
    "plt.show()"
   ]
  },
  {
   "cell_type": "code",
   "execution_count": null,
   "metadata": {},
   "outputs": [],
   "source": [
    "visualizerRFR=PredictionError(RFR_Model)\n",
    "visualizerRFR.title=\"Random Forest Regresyon için Tahmin Hatası\"\n",
    "visualizerRFR.fit(X_train,y_train)\n",
    "visualizerRFR.score(X_train,y_train)\n",
    "visualizerRFR.score(X_test,y_test)\n",
    "visualizerRFR.show()"
   ]
  },
  {
   "cell_type": "code",
   "execution_count": null,
   "metadata": {},
   "outputs": [],
   "source": [
    "RFR_mae_train = mean_absolute_error(y_train,RFR_Model.predict(X_train))\n",
    "RFR_mse_train = mean_squared_error(y_train,RFR_Model.predict(X_train))\n",
    "RFR_rmse_train= np.sqrt(RFR_mse_train)\n",
    "RFR_r2_score_train=r2_score(y_train,RFR_Model.predict(X_train))\n",
    "RFR_mae_test = mean_absolute_error(y_test,RFR_Model.predict(X_test))\n",
    "RFR_mse_test = mean_squared_error(y_test,RFR_Model.predict(X_test))\n",
    "RFR_rmse_test= np.sqrt(RFR_mse_test)\n",
    "RFR_r2_score_test=r2_score(y_test,RFR_Model.predict(X_test))"
   ]
  },
  {
   "cell_type": "code",
   "execution_count": null,
   "metadata": {},
   "outputs": [],
   "source": [
    "print(\"Train Sonuçları\")\n",
    "print(\"MAE..............: %.4f\" %RFR_mae_train)\n",
    "print(\"MSE..............: %.4f\" %RFR_mse_train)\n",
    "print(\"RMSE.............: %.4f\" %RFR_rmse_train)\n",
    "print(\"R^2..............: %.4f\" %RFR_r2_score_train)\n",
    "\n",
    "print(\"Test Sonuçları\")\n",
    "print(\"MAE..............: %.4f\" %RFR_mae_test)\n",
    "print(\"MSE..............: %.4f\" %RFR_mse_test)\n",
    "print(\"RMSE.............: %.4f\" %RFR_rmse_test)\n",
    "print(\"R^2..............: %.4f\" %RFR_r2_score_test)"
   ]
  },
  {
   "cell_type": "markdown",
   "metadata": {},
   "source": [
    "# Gradient Boosting Classifier"
   ]
  },
  {
   "cell_type": "code",
   "execution_count": null,
   "metadata": {},
   "outputs": [],
   "source": [
    "y=data[\"VMOS\"]\n",
    "X=data.drop([\"VMOS\"],axis=1) \n",
    "X.head()"
   ]
  },
  {
   "cell_type": "code",
   "execution_count": null,
   "metadata": {},
   "outputs": [],
   "source": [
    "ros = RandomOverSampler(random_state=0)\n",
    "lab_enc = LabelEncoder()\n",
    "y = lab_enc.fit_transform(y)\n",
    "X, y = ros.fit_resample(X, y)\n",
    "X_train, X_test, y_train, y_test=train_test_split(X, y, test_size=0.3, random_state=35, shuffle=True)"
   ]
  },
  {
   "cell_type": "code",
   "execution_count": null,
   "metadata": {},
   "outputs": [],
   "source": [
    "lr_list = [0.05, 0.075, 0.1, 0.25, 0.5, 0.75, 1]\n",
    "for learning_rate in lr_list:\n",
    "    gb_clf = GradientBoostingClassifier(n_estimators=20, learning_rate=learning_rate, max_features=2, max_depth=2, random_state=0)\n",
    "    gb_clf.fit(X_train, y_train)\n",
    "\n",
    "    print(\"Learning rate: \", learning_rate)\n",
    "    print(\"Accuracy score (training): {0:.3f}\".format(gb_clf.score(X_train, y_train)))\n",
    "    print(\"Accuracy score (validation): {0:.3f}\".format(gb_clf.score(X_test, y_test)))"
   ]
  },
  {
   "cell_type": "code",
   "execution_count": null,
   "metadata": {},
   "outputs": [],
   "source": [
    "GBC_Score=np.zeros((42,4))\n",
    "s=1\n",
    "for j in range(1,21,1):\n",
    "    for i in range(1,3,1):\n",
    "        GBC_Model=GradientBoostingClassifier(n_estimators=j, max_depth=i, learning_rate=0.75, max_features=2, random_state=0)\n",
    "        GBC_Model.fit(X_train,y_train)\n",
    "        GBC_tahmin=GBC_Model.predict(X_test)\n",
    "        GBC_Score[s][0]=j\n",
    "        GBC_Score[s][1]=i\n",
    "        GBC_Score[s][2]=r2_score(y_train,GBC_Model.predict(X_train))\n",
    "        GBC_Score[s][3]=r2_score(y_test,GBC_tahmin)\n",
    "        print(\"n_estimators =\",100,\"max_depth=\",i,\"->\",GBC_Score[s][2],GBC_Score[s][3])\n",
    "        s=s+1"
   ]
  },
  {
   "cell_type": "code",
   "execution_count": null,
   "metadata": {},
   "outputs": [],
   "source": [
    "GBC_Score=pd.DataFrame(data=RFR_Score,columns=[\"n_estimators\",\"max_depth\",\"train_score\",\"test_score\"])\n",
    "#GBC_Score.drop(0,axis=0,inplace=True)\n",
    "GBC_Score"
   ]
  },
  {
   "cell_type": "code",
   "execution_count": null,
   "metadata": {},
   "outputs": [],
   "source": [
    "print(\"Confusion Matrix:\")\n",
    "print(confusion_matrix(y_test, GBC_tahmin))\n",
    "\n",
    "print(\"Classification Report\")\n",
    "print(classification_report(y_test, GBC_tahmin))"
   ]
  },
  {
   "cell_type": "code",
   "execution_count": null,
   "metadata": {},
   "outputs": [],
   "source": [
    "plt.figure(figsize=(5,5))\n",
    "plt.ylabel(\"Train ve Test R^2 Skorları\")\n",
    "plt.xlabel(\"n_estimators Değeri\")\n",
    "sns.lineplot(y=\"train_score\",x=GBC_Score.n_estimators[GBC_Score[\"max_depth\"]==3],data=GBC_Score)\n",
    "sns.lineplot(y=\"test_score\",x=GBC_Score.n_estimators[GBC_Score[\"max_depth\"]==3],data=GBC_Score)\n",
    "plt.legend(title=\"R^2 Skorları\",labels=['Train', 'Test'])\n",
    "plt.show()\n",
    "print(GBC_Score[GBC_Score[\"max_depth\"]==3])"
   ]
  },
  {
   "cell_type": "code",
   "execution_count": null,
   "metadata": {},
   "outputs": [],
   "source": [
    "sub_tree_19 = GBC_Model.estimators_[19,0]\n",
    "plot_tree(sub_tree_19)"
   ]
  },
  {
   "cell_type": "code",
   "execution_count": null,
   "metadata": {},
   "outputs": [],
   "source": [
    "GBC_mae_train = mean_absolute_error(y_train,GBC_Model.predict(X_train))\n",
    "GBC_mse_train = mean_squared_error(y_train,GBC_Model.predict(X_train))\n",
    "GBC_rmse_train= np.sqrt(GBC_mse_train)\n",
    "GBC_r2_score_train=r2_score(y_train,GBC_Model.predict(X_train))\n",
    "GBC_mae_test = mean_absolute_error(y_test,GBC_Model.predict(X_test))\n",
    "GBC_mse_test = mean_squared_error(y_test,GBC_Model.predict(X_test))\n",
    "GBC_rmse_test= np.sqrt(GBC_mse_test)\n",
    "GBC_r2_score_test=r2_score(y_test,GBC_Model.predict(X_test))"
   ]
  },
  {
   "cell_type": "code",
   "execution_count": null,
   "metadata": {},
   "outputs": [],
   "source": [
    "print(\"Train Sonuçları\")\n",
    "print(\"MAE..............: %.4f\" %GBC_mae_train)\n",
    "print(\"MSE..............: %.4f\" %GBC_mse_train)\n",
    "print(\"RMSE.............: %.4f\" %GBC_rmse_train)\n",
    "print(\"R^2..............: %.4f\" %GBC_r2_score_train)\n",
    "\n",
    "print(\"Test Sonuçları\")\n",
    "print(\"MAE..............: %.4f\" %GBC_mae_test)\n",
    "print(\"MSE..............: %.4f\" %GBC_mse_test)\n",
    "print(\"RMSE.............: %.4f\" %GBC_rmse_test)\n",
    "print(\"R^2..............: %.4f\" %GBC_r2_score_test)"
   ]
  },
  {
   "cell_type": "code",
   "execution_count": null,
   "metadata": {},
   "outputs": [],
   "source": [
    "from sklearn import metrics\n",
    "confusion_matrix = metrics.confusion_matrix(y_test, GBC_tahmin)"
   ]
  },
  {
   "cell_type": "code",
   "execution_count": null,
   "metadata": {},
   "outputs": [],
   "source": [
    "cm_display = metrics.ConfusionMatrixDisplay(confusion_matrix = confusion_matrix, display_labels = [False, True])"
   ]
  },
  {
   "cell_type": "code",
   "execution_count": null,
   "metadata": {},
   "outputs": [],
   "source": [
    "cm_display.plot()\n",
    "plt.show()"
   ]
  }
 ],
 "metadata": {
  "kernelspec": {
   "display_name": ".venv",
   "language": "python",
   "name": "python3"
  },
  "language_info": {
   "codemirror_mode": {
    "name": "ipython",
    "version": 3
   },
   "file_extension": ".py",
   "mimetype": "text/x-python",
   "name": "python",
   "nbconvert_exporter": "python",
   "pygments_lexer": "ipython3",
   "version": "3.10.11"
  }
 },
 "nbformat": 4,
 "nbformat_minor": 2
}
